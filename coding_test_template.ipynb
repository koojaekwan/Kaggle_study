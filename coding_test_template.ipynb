{
  "nbformat": 4,
  "nbformat_minor": 0,
  "metadata": {
    "colab": {
      "name": "coding_test_template.ipynb",
      "private_outputs": true,
      "provenance": [],
      "collapsed_sections": [],
      "toc_visible": true,
      "authorship_tag": "ABX9TyOwm+n4K4pXmyyO6H5KDgdz",
      "include_colab_link": true
    },
    "kernelspec": {
      "name": "python3",
      "display_name": "Python 3"
    },
    "language_info": {
      "name": "python"
    }
  },
  "cells": [
    {
      "cell_type": "markdown",
      "metadata": {
        "id": "view-in-github",
        "colab_type": "text"
      },
      "source": [
        "<a href=\"https://colab.research.google.com/github/koojaekwan/Kaggle_study/blob/master/coding_test_template.ipynb\" target=\"_parent\"><img src=\"https://colab.research.google.com/assets/colab-badge.svg\" alt=\"Open In Colab\"/></a>"
      ]
    },
    {
      "cell_type": "code",
      "execution_count": null,
      "metadata": {
        "id": "oFM4OMBj4wST"
      },
      "outputs": [],
      "source": [
        "import pandas as pd\n",
        "import numpy as np\n",
        "\n",
        "import matplotlib.pyplot as plt\n",
        "import seaborn as sns"
      ]
    },
    {
      "cell_type": "code",
      "source": [
        "import os\n",
        "import warnings"
      ],
      "metadata": {
        "id": "iHYdPX9H5PL7"
      },
      "execution_count": null,
      "outputs": []
    },
    {
      "cell_type": "code",
      "source": [
        "from sklearn.model_selection import train_test_split\n",
        "from sklearn.metrics import confusion_matrix\n",
        "from sklearn.metrics import precision_score, recall_score, f1_score, accuracy_score\n",
        "\n",
        "from sklearn.ensemble import GradientBoostingClassifier\n",
        "from sklearn.ensemble import GradientBoostingRegressor"
      ],
      "metadata": {
        "id": "TstZiOwX5SDS"
      },
      "execution_count": null,
      "outputs": []
    },
    {
      "cell_type": "code",
      "source": [
        "warnings.filterwarnings(action='ignore')"
      ],
      "metadata": {
        "id": "JmnPlJm36vra"
      },
      "execution_count": null,
      "outputs": []
    },
    {
      "cell_type": "code",
      "source": [
        "os.getcwd()"
      ],
      "metadata": {
        "id": "V8yQs8S88CCI"
      },
      "execution_count": null,
      "outputs": []
    },
    {
      "cell_type": "code",
      "source": [
        "df = pd.read_csv('train.csv')"
      ],
      "metadata": {
        "id": "bJXSijvA8vQb"
      },
      "execution_count": null,
      "outputs": []
    },
    {
      "cell_type": "code",
      "source": [
        "df.head()"
      ],
      "metadata": {
        "id": "RPVd0OsL89w2"
      },
      "execution_count": null,
      "outputs": []
    },
    {
      "cell_type": "code",
      "source": [
        "df.shape"
      ],
      "metadata": {
        "id": "SePf1tXD9QYd"
      },
      "execution_count": null,
      "outputs": []
    },
    {
      "cell_type": "code",
      "source": [
        "df['datetime'] = pd.to_datetime(df['datetime'])"
      ],
      "metadata": {
        "id": "x93MlaiD9Snd"
      },
      "execution_count": null,
      "outputs": []
    },
    {
      "cell_type": "code",
      "source": [
        "# df['year'] = df['datetime'].dt.year"
      ],
      "metadata": {
        "id": "iHI8sy68_2l7"
      },
      "execution_count": null,
      "outputs": []
    },
    {
      "cell_type": "code",
      "source": [
        "df['season'] = \\\n",
        "df['season'].map({1:'spring',\n",
        "                  2:'summer',\n",
        "                  3:'fall',\n",
        "                  4:'winter'})"
      ],
      "metadata": {
        "id": "yPooCrHegpyH"
      },
      "execution_count": null,
      "outputs": []
    },
    {
      "cell_type": "code",
      "source": [
        "df.dtypes"
      ],
      "metadata": {
        "id": "gk9SZZLfAhjO"
      },
      "execution_count": null,
      "outputs": []
    },
    {
      "cell_type": "code",
      "source": [
        "X = df[[i for i in df.columns if i not in ['datetime','count']]]\n",
        "y = df['count']\n",
        "\n",
        "X = pd.get_dummies(X)"
      ],
      "metadata": {
        "id": "G9a8TCGPg06x"
      },
      "execution_count": null,
      "outputs": []
    },
    {
      "cell_type": "code",
      "source": [
        "X_train, X_val, y_train, y_val = train_test_split(X,y, test_size = 0.2, random_state=0)\n",
        "y_val = np.array(y_val)"
      ],
      "metadata": {
        "id": "uhS3vXOng7DI"
      },
      "execution_count": null,
      "outputs": []
    },
    {
      "cell_type": "code",
      "source": [
        "from tqdm import tqdm"
      ],
      "metadata": {
        "id": "0qnjG59Ik_-z"
      },
      "execution_count": null,
      "outputs": []
    },
    {
      "cell_type": "code",
      "source": [
        "mse_dict = {}\n",
        "for i in tqdm([10,20,30,40,50,60,70,80,90,100,300,500,700,1000,1300,1600,2000]):\n",
        "    gb = GradientBoostingRegressor(random_state=625, n_estimators=i, verbose=False)    \n",
        "    fit = gb.fit(X_train, y_train)\n",
        "\n",
        "    y_pred = fit.predict(X_val)\n",
        "    current_mse = np.sqrt(np.mean(y_pred-y_val)**2)\n",
        "\n",
        "    mse_dict[i] = current_mse"
      ],
      "metadata": {
        "id": "7O96_Q4ojy8n"
      },
      "execution_count": null,
      "outputs": []
    },
    {
      "cell_type": "code",
      "source": [
        "mse_dict"
      ],
      "metadata": {
        "id": "Op2X-QfLmLrV"
      },
      "execution_count": null,
      "outputs": []
    },
    {
      "cell_type": "code",
      "source": [
        "mse_dict"
      ],
      "metadata": {
        "id": "m57WybsmmBJA"
      },
      "execution_count": null,
      "outputs": []
    },
    {
      "cell_type": "code",
      "source": [
        "fig,ax = plt.subplots(1,1, figsize=(10,5))\n",
        "\n",
        "ax.plot(list(mse_dict.keys()), list(mse_dict.values()))\n",
        "plt.show()"
      ],
      "metadata": {
        "id": "9sqUJlSHlkU6"
      },
      "execution_count": null,
      "outputs": []
    }
  ]
}