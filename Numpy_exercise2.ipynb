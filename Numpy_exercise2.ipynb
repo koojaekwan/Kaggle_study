{
  "nbformat": 4,
  "nbformat_minor": 0,
  "metadata": {
    "colab": {
      "name": "Numpy_exercise2.ipynb",
      "provenance": [],
      "collapsed_sections": [],
      "toc_visible": true,
      "authorship_tag": "ABX9TyMotV2PdxwNUJUkdRM0+44y",
      "include_colab_link": true
    },
    "kernelspec": {
      "name": "python3",
      "display_name": "Python 3"
    }
  },
  "cells": [
    {
      "cell_type": "markdown",
      "metadata": {
        "id": "view-in-github",
        "colab_type": "text"
      },
      "source": [
        "<a href=\"https://colab.research.google.com/github/koojaekwan/Kaggle_study/blob/master/Numpy_exercise2.ipynb\" target=\"_parent\"><img src=\"https://colab.research.google.com/assets/colab-badge.svg\" alt=\"Open In Colab\"/></a>"
      ]
    },
    {
      "cell_type": "markdown",
      "metadata": {
        "id": "hMxHvAZVXprB"
      },
      "source": [
        "# Numpy exercise 100  \r\n",
        "\r\n",
        "* Refer - https://www.kaggle.com/python10pm/learn-numpy-the-hard-way-70-exercises-solutions\r\n",
        "\r\n"
      ]
    },
    {
      "cell_type": "code",
      "metadata": {
        "colab": {
          "base_uri": "https://localhost:8080/"
        },
        "id": "sdax_3v5Cgog",
        "outputId": "fe2caad5-d122-4292-d3ca-81f013ce5aa7"
      },
      "source": [
        "import os\r\n",
        "import numpy as np\r\n",
        "import pandas as pd\r\n",
        "from sklearn import datasets\r\n",
        "from scipy import stats\r\n",
        "\r\n",
        "from google.colab import drive\r\n",
        "\r\n",
        "drive.mount('./MyDrive')"
      ],
      "execution_count": 1,
      "outputs": [
        {
          "output_type": "stream",
          "text": [
            "Mounted at ./MyDrive\n"
          ],
          "name": "stdout"
        }
      ]
    },
    {
      "cell_type": "code",
      "metadata": {
        "colab": {
          "base_uri": "https://localhost:8080/",
          "height": 35
        },
        "id": "R51iMPZMMbEl",
        "outputId": "adf3c09b-dd5f-4e0b-f5d4-78843d59bf8a"
      },
      "source": [
        "os.chdir('/content/MyDrive/MyDrive')  # setwd like R\r\n",
        "os.getcwd()   # current working directory"
      ],
      "execution_count": 2,
      "outputs": [
        {
          "output_type": "execute_result",
          "data": {
            "application/vnd.google.colaboratory.intrinsic+json": {
              "type": "string"
            },
            "text/plain": [
              "'/content/MyDrive/MyDrive'"
            ]
          },
          "metadata": {
            "tags": []
          },
          "execution_count": 2
        }
      ]
    },
    {
      "cell_type": "code",
      "metadata": {
        "id": "wOU2WNl2Mg28",
        "colab": {
          "base_uri": "https://localhost:8080/"
        },
        "outputId": "f12d50aa-456c-4bcd-a232-6871d4157080"
      },
      "source": [
        "# Allow several prints in one cell\r\n",
        "from IPython.core.interactiveshell import InteractiveShell\r\n",
        "InteractiveShell.ast_node_interactivity = \"all\"\r\n",
        "\r\n",
        "# importing the core library\r\n",
        "import numpy as np\r\n",
        "\r\n",
        "# helper functions to list the datasets available\r\n",
        "def print_files():\r\n",
        "    import os\r\n",
        "    for dirname, _, filenames in os.walk('/content/MyDrive/MyDrive'):\r\n",
        "        for filename in filenames:\r\n",
        "            print(os.path.join(dirname, filename))\r\n",
        "\r\n",
        "print_files()"
      ],
      "execution_count": 3,
      "outputs": [
        {
          "output_type": "stream",
          "text": [
            "/content/MyDrive/MyDrive/train.csv\n",
            "/content/MyDrive/MyDrive/test.csv\n",
            "/content/MyDrive/MyDrive/머신러닝 도감(제이펍).gdoc\n",
            "/content/MyDrive/MyDrive/srr-mave-gqc - 2020년 10월 11일.gjam\n",
            "/content/MyDrive/MyDrive/trick99data.csv\n",
            "/content/MyDrive/MyDrive/trick83data.csv\n",
            "/content/MyDrive/MyDrive/trick78data1.csv\n",
            "/content/MyDrive/MyDrive/trick78data3.csv\n",
            "/content/MyDrive/MyDrive/trick78data2.csv\n",
            "/content/MyDrive/MyDrive/trick58data.csv\n",
            "/content/MyDrive/MyDrive/trick18data.csv.zip\n",
            "/content/MyDrive/MyDrive/trick8data3.csv\n",
            "/content/MyDrive/MyDrive/trick8data1.csv\n",
            "/content/MyDrive/MyDrive/trick8data2.csv\n",
            "/content/MyDrive/MyDrive/iris_new.csv\n",
            "/content/MyDrive/MyDrive/coding_test/group_call_HMS.csv\n",
            "/content/MyDrive/MyDrive/coding_test/first.pickle\n",
            "/content/MyDrive/MyDrive/coding_test/first2.pickle\n",
            "/content/MyDrive/MyDrive/coding_test/first3.pickle\n",
            "/content/MyDrive/MyDrive/coding_test/first4.pickle\n",
            "/content/MyDrive/MyDrive/coding_test/first5.pickle\n",
            "/content/MyDrive/MyDrive/coding_test/p_data.pickle\n",
            "/content/MyDrive/MyDrive/coding_test/final_dat.pickle\n",
            "/content/MyDrive/MyDrive/Colab Notebooks/jaekwankoo.ipynb\n",
            "/content/MyDrive/MyDrive/Colab Notebooks/chap1.ipynb\n",
            "/content/MyDrive/MyDrive/Colab Notebooks/chap2 기본 자료구조와 배열.ipynb\n",
            "/content/MyDrive/MyDrive/Colab Notebooks/recursive_function.ipynb\n",
            "/content/MyDrive/MyDrive/Colab Notebooks/pandas_exercise1.ipynb\n",
            "/content/MyDrive/MyDrive/Colab Notebooks/pandas_exercise2.ipynb\n",
            "/content/MyDrive/MyDrive/Colab Notebooks/pandas_exercise3.ipynb\n",
            "/content/MyDrive/MyDrive/Colab Notebooks/pandas_exercise4.ipynb\n",
            "/content/MyDrive/MyDrive/Colab Notebooks/pandas_exercise5.ipynb\n",
            "/content/MyDrive/MyDrive/Colab Notebooks/pandas_exercise6.ipynb\n",
            "/content/MyDrive/MyDrive/Colab Notebooks/Untitled\n",
            "/content/MyDrive/MyDrive/Colab Notebooks/Numpy_exercise2 (1).ipynb\n",
            "/content/MyDrive/MyDrive/Colab Notebooks/Numpy_exercise1.ipynb\n",
            "/content/MyDrive/MyDrive/Colab Notebooks/Numpy_exercise2.ipynb\n",
            "/content/MyDrive/MyDrive/archive.ics.uci.edu/ml/machine-learning-databases/iris/iris.data\n"
          ],
          "name": "stdout"
        }
      ]
    },
    {
      "cell_type": "code",
      "metadata": {
        "id": "u2tuNiffc3JN",
        "colab": {
          "base_uri": "https://localhost:8080/"
        },
        "outputId": "cc1735a7-01ca-4b45-84be-114331725904"
      },
      "source": [
        "with os.scandir('/content/MyDrive/MyDrive') as k: # 현재 폴더 내의 파일들(하위폴더 제외)\r\n",
        "    for i in k:\r\n",
        "        print(i)"
      ],
      "execution_count": 4,
      "outputs": [
        {
          "output_type": "stream",
          "text": [
            "<DirEntry 'train.csv'>\n",
            "<DirEntry 'test.csv'>\n",
            "<DirEntry '머신러닝 도감(제이펍).gdoc'>\n",
            "<DirEntry 'coding_test'>\n",
            "<DirEntry 'Colab Notebooks'>\n",
            "<DirEntry 'srr-mave-gqc - 2020년 10월 11일.gjam'>\n",
            "<DirEntry 'trick99data.csv'>\n",
            "<DirEntry 'trick83data.csv'>\n",
            "<DirEntry 'trick78data1.csv'>\n",
            "<DirEntry 'trick78data3.csv'>\n",
            "<DirEntry 'trick78data2.csv'>\n",
            "<DirEntry 'trick58data.csv'>\n",
            "<DirEntry 'trick18data.csv.zip'>\n",
            "<DirEntry 'trick8data3.csv'>\n",
            "<DirEntry 'trick8data1.csv'>\n",
            "<DirEntry 'trick8data2.csv'>\n",
            "<DirEntry 'archive.ics.uci.edu'>\n",
            "<DirEntry 'iris_new.csv'>\n"
          ],
          "name": "stdout"
        }
      ]
    },
    {
      "cell_type": "code",
      "metadata": {
        "id": "RZZBXYMte2SR",
        "colab": {
          "base_uri": "https://localhost:8080/"
        },
        "outputId": "896f3cf4-4447-411d-e147-bb30be9df8e9"
      },
      "source": [
        "os.listdir('/content/MyDrive/MyDrive')\r\n",
        "# os.scandir('/content/MyDrive/MyDrive')"
      ],
      "execution_count": 5,
      "outputs": [
        {
          "output_type": "execute_result",
          "data": {
            "text/plain": [
              "['train.csv',\n",
              " 'test.csv',\n",
              " '머신러닝 도감(제이펍).gdoc',\n",
              " 'coding_test',\n",
              " 'Colab Notebooks',\n",
              " 'srr-mave-gqc - 2020년 10월 11일.gjam',\n",
              " 'trick99data.csv',\n",
              " 'trick83data.csv',\n",
              " 'trick78data1.csv',\n",
              " 'trick78data3.csv',\n",
              " 'trick78data2.csv',\n",
              " 'trick58data.csv',\n",
              " 'trick18data.csv.zip',\n",
              " 'trick8data3.csv',\n",
              " 'trick8data1.csv',\n",
              " 'trick8data2.csv',\n",
              " 'archive.ics.uci.edu',\n",
              " 'iris_new.csv']"
            ]
          },
          "metadata": {
            "tags": []
          },
          "execution_count": 5
        }
      ]
    },
    {
      "cell_type": "code",
      "metadata": {
        "id": "RhlfJMn3fQ5g",
        "colab": {
          "base_uri": "https://localhost:8080/"
        },
        "outputId": "a8443d99-69b2-4580-908b-6cd635320dca"
      },
      "source": [
        "# os.walk 모든 파일/폴더 출력하기\r\n",
        "\r\n",
        "workDIr = os.path.abspath('/content/MyDrive/MyDrive')\r\n",
        "for dirpath, dirnames, filenames in os.walk(workDIr):\r\n",
        "    print(dirpath)\r\n",
        "\r\n",
        "    for dirname in dirnames:\r\n",
        "        print(\"\\t\", dirname)\r\n",
        "\r\n",
        "    for filename in filenames:\r\n",
        "        print(\"\\t\", filename)"
      ],
      "execution_count": 6,
      "outputs": [
        {
          "output_type": "stream",
          "text": [
            "/content/MyDrive/MyDrive\n",
            "\t coding_test\n",
            "\t Colab Notebooks\n",
            "\t archive.ics.uci.edu\n",
            "\t train.csv\n",
            "\t test.csv\n",
            "\t 머신러닝 도감(제이펍).gdoc\n",
            "\t srr-mave-gqc - 2020년 10월 11일.gjam\n",
            "\t trick99data.csv\n",
            "\t trick83data.csv\n",
            "\t trick78data1.csv\n",
            "\t trick78data3.csv\n",
            "\t trick78data2.csv\n",
            "\t trick58data.csv\n",
            "\t trick18data.csv.zip\n",
            "\t trick8data3.csv\n",
            "\t trick8data1.csv\n",
            "\t trick8data2.csv\n",
            "\t iris_new.csv\n",
            "/content/MyDrive/MyDrive/coding_test\n",
            "\t .ipynb_checkpoints\n",
            "\t group_call_HMS.csv\n",
            "\t first.pickle\n",
            "\t first2.pickle\n",
            "\t first3.pickle\n",
            "\t first4.pickle\n",
            "\t first5.pickle\n",
            "\t p_data.pickle\n",
            "\t final_dat.pickle\n",
            "/content/MyDrive/MyDrive/coding_test/.ipynb_checkpoints\n",
            "/content/MyDrive/MyDrive/Colab Notebooks\n",
            "\t jaekwankoo.ipynb\n",
            "\t chap1.ipynb\n",
            "\t chap2 기본 자료구조와 배열.ipynb\n",
            "\t recursive_function.ipynb\n",
            "\t pandas_exercise1.ipynb\n",
            "\t pandas_exercise2.ipynb\n",
            "\t pandas_exercise3.ipynb\n",
            "\t pandas_exercise4.ipynb\n",
            "\t pandas_exercise5.ipynb\n",
            "\t pandas_exercise6.ipynb\n",
            "\t Untitled\n",
            "\t Numpy_exercise2 (1).ipynb\n",
            "\t Numpy_exercise1.ipynb\n",
            "\t Numpy_exercise2.ipynb\n",
            "/content/MyDrive/MyDrive/archive.ics.uci.edu\n",
            "\t ml\n",
            "/content/MyDrive/MyDrive/archive.ics.uci.edu/ml\n",
            "\t machine-learning-databases\n",
            "/content/MyDrive/MyDrive/archive.ics.uci.edu/ml/machine-learning-databases\n",
            "\t iris\n",
            "/content/MyDrive/MyDrive/archive.ics.uci.edu/ml/machine-learning-databases/iris\n",
            "\t iris.data\n"
          ],
          "name": "stdout"
        }
      ]
    },
    {
      "cell_type": "code",
      "metadata": {
        "id": "0fF33EBLMi2R",
        "colab": {
          "base_uri": "https://localhost:8080/",
          "height": 411
        },
        "outputId": "71e4da3f-6097-4926-8f6a-dec9779e4ea2"
      },
      "source": [
        "iris = datasets.load_iris()\r\n",
        "df = pd.DataFrame(data = iris.data, columns = iris.feature_names)\r\n",
        "\r\n",
        "df"
      ],
      "execution_count": 7,
      "outputs": [
        {
          "output_type": "execute_result",
          "data": {
            "text/html": [
              "<div>\n",
              "<style scoped>\n",
              "    .dataframe tbody tr th:only-of-type {\n",
              "        vertical-align: middle;\n",
              "    }\n",
              "\n",
              "    .dataframe tbody tr th {\n",
              "        vertical-align: top;\n",
              "    }\n",
              "\n",
              "    .dataframe thead th {\n",
              "        text-align: right;\n",
              "    }\n",
              "</style>\n",
              "<table border=\"1\" class=\"dataframe\">\n",
              "  <thead>\n",
              "    <tr style=\"text-align: right;\">\n",
              "      <th></th>\n",
              "      <th>sepal length (cm)</th>\n",
              "      <th>sepal width (cm)</th>\n",
              "      <th>petal length (cm)</th>\n",
              "      <th>petal width (cm)</th>\n",
              "    </tr>\n",
              "  </thead>\n",
              "  <tbody>\n",
              "    <tr>\n",
              "      <th>0</th>\n",
              "      <td>5.1</td>\n",
              "      <td>3.5</td>\n",
              "      <td>1.4</td>\n",
              "      <td>0.2</td>\n",
              "    </tr>\n",
              "    <tr>\n",
              "      <th>1</th>\n",
              "      <td>4.9</td>\n",
              "      <td>3.0</td>\n",
              "      <td>1.4</td>\n",
              "      <td>0.2</td>\n",
              "    </tr>\n",
              "    <tr>\n",
              "      <th>2</th>\n",
              "      <td>4.7</td>\n",
              "      <td>3.2</td>\n",
              "      <td>1.3</td>\n",
              "      <td>0.2</td>\n",
              "    </tr>\n",
              "    <tr>\n",
              "      <th>3</th>\n",
              "      <td>4.6</td>\n",
              "      <td>3.1</td>\n",
              "      <td>1.5</td>\n",
              "      <td>0.2</td>\n",
              "    </tr>\n",
              "    <tr>\n",
              "      <th>4</th>\n",
              "      <td>5.0</td>\n",
              "      <td>3.6</td>\n",
              "      <td>1.4</td>\n",
              "      <td>0.2</td>\n",
              "    </tr>\n",
              "    <tr>\n",
              "      <th>...</th>\n",
              "      <td>...</td>\n",
              "      <td>...</td>\n",
              "      <td>...</td>\n",
              "      <td>...</td>\n",
              "    </tr>\n",
              "    <tr>\n",
              "      <th>145</th>\n",
              "      <td>6.7</td>\n",
              "      <td>3.0</td>\n",
              "      <td>5.2</td>\n",
              "      <td>2.3</td>\n",
              "    </tr>\n",
              "    <tr>\n",
              "      <th>146</th>\n",
              "      <td>6.3</td>\n",
              "      <td>2.5</td>\n",
              "      <td>5.0</td>\n",
              "      <td>1.9</td>\n",
              "    </tr>\n",
              "    <tr>\n",
              "      <th>147</th>\n",
              "      <td>6.5</td>\n",
              "      <td>3.0</td>\n",
              "      <td>5.2</td>\n",
              "      <td>2.0</td>\n",
              "    </tr>\n",
              "    <tr>\n",
              "      <th>148</th>\n",
              "      <td>6.2</td>\n",
              "      <td>3.4</td>\n",
              "      <td>5.4</td>\n",
              "      <td>2.3</td>\n",
              "    </tr>\n",
              "    <tr>\n",
              "      <th>149</th>\n",
              "      <td>5.9</td>\n",
              "      <td>3.0</td>\n",
              "      <td>5.1</td>\n",
              "      <td>1.8</td>\n",
              "    </tr>\n",
              "  </tbody>\n",
              "</table>\n",
              "<p>150 rows × 4 columns</p>\n",
              "</div>"
            ],
            "text/plain": [
              "     sepal length (cm)  sepal width (cm)  petal length (cm)  petal width (cm)\n",
              "0                  5.1               3.5                1.4               0.2\n",
              "1                  4.9               3.0                1.4               0.2\n",
              "2                  4.7               3.2                1.3               0.2\n",
              "3                  4.6               3.1                1.5               0.2\n",
              "4                  5.0               3.6                1.4               0.2\n",
              "..                 ...               ...                ...               ...\n",
              "145                6.7               3.0                5.2               2.3\n",
              "146                6.3               2.5                5.0               1.9\n",
              "147                6.5               3.0                5.2               2.0\n",
              "148                6.2               3.4                5.4               2.3\n",
              "149                5.9               3.0                5.1               1.8\n",
              "\n",
              "[150 rows x 4 columns]"
            ]
          },
          "metadata": {
            "tags": []
          },
          "execution_count": 7
        }
      ]
    },
    {
      "cell_type": "code",
      "metadata": {
        "id": "L1UndZCjNWhi",
        "colab": {
          "base_uri": "https://localhost:8080/",
          "height": 201
        },
        "outputId": "9194e8b0-9596-4c2b-a261-b733c8fb3695"
      },
      "source": [
        "pd.DataFrame(iris.target).head()"
      ],
      "execution_count": 8,
      "outputs": [
        {
          "output_type": "execute_result",
          "data": {
            "text/html": [
              "<div>\n",
              "<style scoped>\n",
              "    .dataframe tbody tr th:only-of-type {\n",
              "        vertical-align: middle;\n",
              "    }\n",
              "\n",
              "    .dataframe tbody tr th {\n",
              "        vertical-align: top;\n",
              "    }\n",
              "\n",
              "    .dataframe thead th {\n",
              "        text-align: right;\n",
              "    }\n",
              "</style>\n",
              "<table border=\"1\" class=\"dataframe\">\n",
              "  <thead>\n",
              "    <tr style=\"text-align: right;\">\n",
              "      <th></th>\n",
              "      <th>0</th>\n",
              "    </tr>\n",
              "  </thead>\n",
              "  <tbody>\n",
              "    <tr>\n",
              "      <th>0</th>\n",
              "      <td>0</td>\n",
              "    </tr>\n",
              "    <tr>\n",
              "      <th>1</th>\n",
              "      <td>0</td>\n",
              "    </tr>\n",
              "    <tr>\n",
              "      <th>2</th>\n",
              "      <td>0</td>\n",
              "    </tr>\n",
              "    <tr>\n",
              "      <th>3</th>\n",
              "      <td>0</td>\n",
              "    </tr>\n",
              "    <tr>\n",
              "      <th>4</th>\n",
              "      <td>0</td>\n",
              "    </tr>\n",
              "  </tbody>\n",
              "</table>\n",
              "</div>"
            ],
            "text/plain": [
              "   0\n",
              "0  0\n",
              "1  0\n",
              "2  0\n",
              "3  0\n",
              "4  0"
            ]
          },
          "metadata": {
            "tags": []
          },
          "execution_count": 8
        }
      ]
    },
    {
      "cell_type": "code",
      "metadata": {
        "id": "OTGcgCV-NBlc",
        "colab": {
          "base_uri": "https://localhost:8080/",
          "height": 411
        },
        "outputId": "03139087-630b-48e0-9bfd-a4a8bec0e4a1"
      },
      "source": [
        "df['target'] = pd.DataFrame(iris.target)[0].map({0:'setosa',1:'versicolor',2:'virginica'})\r\n",
        "df"
      ],
      "execution_count": 9,
      "outputs": [
        {
          "output_type": "execute_result",
          "data": {
            "text/html": [
              "<div>\n",
              "<style scoped>\n",
              "    .dataframe tbody tr th:only-of-type {\n",
              "        vertical-align: middle;\n",
              "    }\n",
              "\n",
              "    .dataframe tbody tr th {\n",
              "        vertical-align: top;\n",
              "    }\n",
              "\n",
              "    .dataframe thead th {\n",
              "        text-align: right;\n",
              "    }\n",
              "</style>\n",
              "<table border=\"1\" class=\"dataframe\">\n",
              "  <thead>\n",
              "    <tr style=\"text-align: right;\">\n",
              "      <th></th>\n",
              "      <th>sepal length (cm)</th>\n",
              "      <th>sepal width (cm)</th>\n",
              "      <th>petal length (cm)</th>\n",
              "      <th>petal width (cm)</th>\n",
              "      <th>target</th>\n",
              "    </tr>\n",
              "  </thead>\n",
              "  <tbody>\n",
              "    <tr>\n",
              "      <th>0</th>\n",
              "      <td>5.1</td>\n",
              "      <td>3.5</td>\n",
              "      <td>1.4</td>\n",
              "      <td>0.2</td>\n",
              "      <td>setosa</td>\n",
              "    </tr>\n",
              "    <tr>\n",
              "      <th>1</th>\n",
              "      <td>4.9</td>\n",
              "      <td>3.0</td>\n",
              "      <td>1.4</td>\n",
              "      <td>0.2</td>\n",
              "      <td>setosa</td>\n",
              "    </tr>\n",
              "    <tr>\n",
              "      <th>2</th>\n",
              "      <td>4.7</td>\n",
              "      <td>3.2</td>\n",
              "      <td>1.3</td>\n",
              "      <td>0.2</td>\n",
              "      <td>setosa</td>\n",
              "    </tr>\n",
              "    <tr>\n",
              "      <th>3</th>\n",
              "      <td>4.6</td>\n",
              "      <td>3.1</td>\n",
              "      <td>1.5</td>\n",
              "      <td>0.2</td>\n",
              "      <td>setosa</td>\n",
              "    </tr>\n",
              "    <tr>\n",
              "      <th>4</th>\n",
              "      <td>5.0</td>\n",
              "      <td>3.6</td>\n",
              "      <td>1.4</td>\n",
              "      <td>0.2</td>\n",
              "      <td>setosa</td>\n",
              "    </tr>\n",
              "    <tr>\n",
              "      <th>...</th>\n",
              "      <td>...</td>\n",
              "      <td>...</td>\n",
              "      <td>...</td>\n",
              "      <td>...</td>\n",
              "      <td>...</td>\n",
              "    </tr>\n",
              "    <tr>\n",
              "      <th>145</th>\n",
              "      <td>6.7</td>\n",
              "      <td>3.0</td>\n",
              "      <td>5.2</td>\n",
              "      <td>2.3</td>\n",
              "      <td>virginica</td>\n",
              "    </tr>\n",
              "    <tr>\n",
              "      <th>146</th>\n",
              "      <td>6.3</td>\n",
              "      <td>2.5</td>\n",
              "      <td>5.0</td>\n",
              "      <td>1.9</td>\n",
              "      <td>virginica</td>\n",
              "    </tr>\n",
              "    <tr>\n",
              "      <th>147</th>\n",
              "      <td>6.5</td>\n",
              "      <td>3.0</td>\n",
              "      <td>5.2</td>\n",
              "      <td>2.0</td>\n",
              "      <td>virginica</td>\n",
              "    </tr>\n",
              "    <tr>\n",
              "      <th>148</th>\n",
              "      <td>6.2</td>\n",
              "      <td>3.4</td>\n",
              "      <td>5.4</td>\n",
              "      <td>2.3</td>\n",
              "      <td>virginica</td>\n",
              "    </tr>\n",
              "    <tr>\n",
              "      <th>149</th>\n",
              "      <td>5.9</td>\n",
              "      <td>3.0</td>\n",
              "      <td>5.1</td>\n",
              "      <td>1.8</td>\n",
              "      <td>virginica</td>\n",
              "    </tr>\n",
              "  </tbody>\n",
              "</table>\n",
              "<p>150 rows × 5 columns</p>\n",
              "</div>"
            ],
            "text/plain": [
              "     sepal length (cm)  sepal width (cm)  ...  petal width (cm)     target\n",
              "0                  5.1               3.5  ...               0.2     setosa\n",
              "1                  4.9               3.0  ...               0.2     setosa\n",
              "2                  4.7               3.2  ...               0.2     setosa\n",
              "3                  4.6               3.1  ...               0.2     setosa\n",
              "4                  5.0               3.6  ...               0.2     setosa\n",
              "..                 ...               ...  ...               ...        ...\n",
              "145                6.7               3.0  ...               2.3  virginica\n",
              "146                6.3               2.5  ...               1.9  virginica\n",
              "147                6.5               3.0  ...               2.0  virginica\n",
              "148                6.2               3.4  ...               2.3  virginica\n",
              "149                5.9               3.0  ...               1.8  virginica\n",
              "\n",
              "[150 rows x 5 columns]"
            ]
          },
          "metadata": {
            "tags": []
          },
          "execution_count": 9
        }
      ]
    },
    {
      "cell_type": "code",
      "metadata": {
        "id": "fILUY65VNO4Q"
      },
      "source": [
        "df.to_csv('iris_new.csv')"
      ],
      "execution_count": 10,
      "outputs": []
    },
    {
      "cell_type": "code",
      "metadata": {
        "id": "KVhkUPOmN085",
        "colab": {
          "base_uri": "https://localhost:8080/"
        },
        "outputId": "1a228c6a-d035-40e1-bcb0-09e40cad2833"
      },
      "source": [
        "# usecols=[0]은 index를 말함\r\n",
        "iris = np.genfromtxt('iris_new.csv', delimiter=',',skip_header=1,usecols=[5],dtype='str') \r\n",
        "iris"
      ],
      "execution_count": 11,
      "outputs": [
        {
          "output_type": "execute_result",
          "data": {
            "text/plain": [
              "array(['setosa', 'setosa', 'setosa', 'setosa', 'setosa', 'setosa',\n",
              "       'setosa', 'setosa', 'setosa', 'setosa', 'setosa', 'setosa',\n",
              "       'setosa', 'setosa', 'setosa', 'setosa', 'setosa', 'setosa',\n",
              "       'setosa', 'setosa', 'setosa', 'setosa', 'setosa', 'setosa',\n",
              "       'setosa', 'setosa', 'setosa', 'setosa', 'setosa', 'setosa',\n",
              "       'setosa', 'setosa', 'setosa', 'setosa', 'setosa', 'setosa',\n",
              "       'setosa', 'setosa', 'setosa', 'setosa', 'setosa', 'setosa',\n",
              "       'setosa', 'setosa', 'setosa', 'setosa', 'setosa', 'setosa',\n",
              "       'setosa', 'setosa', 'versicolor', 'versicolor', 'versicolor',\n",
              "       'versicolor', 'versicolor', 'versicolor', 'versicolor',\n",
              "       'versicolor', 'versicolor', 'versicolor', 'versicolor',\n",
              "       'versicolor', 'versicolor', 'versicolor', 'versicolor',\n",
              "       'versicolor', 'versicolor', 'versicolor', 'versicolor',\n",
              "       'versicolor', 'versicolor', 'versicolor', 'versicolor',\n",
              "       'versicolor', 'versicolor', 'versicolor', 'versicolor',\n",
              "       'versicolor', 'versicolor', 'versicolor', 'versicolor',\n",
              "       'versicolor', 'versicolor', 'versicolor', 'versicolor',\n",
              "       'versicolor', 'versicolor', 'versicolor', 'versicolor',\n",
              "       'versicolor', 'versicolor', 'versicolor', 'versicolor',\n",
              "       'versicolor', 'versicolor', 'versicolor', 'versicolor',\n",
              "       'versicolor', 'versicolor', 'versicolor', 'virginica', 'virginica',\n",
              "       'virginica', 'virginica', 'virginica', 'virginica', 'virginica',\n",
              "       'virginica', 'virginica', 'virginica', 'virginica', 'virginica',\n",
              "       'virginica', 'virginica', 'virginica', 'virginica', 'virginica',\n",
              "       'virginica', 'virginica', 'virginica', 'virginica', 'virginica',\n",
              "       'virginica', 'virginica', 'virginica', 'virginica', 'virginica',\n",
              "       'virginica', 'virginica', 'virginica', 'virginica', 'virginica',\n",
              "       'virginica', 'virginica', 'virginica', 'virginica', 'virginica',\n",
              "       'virginica', 'virginica', 'virginica', 'virginica', 'virginica',\n",
              "       'virginica', 'virginica', 'virginica', 'virginica', 'virginica',\n",
              "       'virginica', 'virginica', 'virginica'], dtype='<U10')"
            ]
          },
          "metadata": {
            "tags": []
          },
          "execution_count": 11
        }
      ]
    },
    {
      "cell_type": "code",
      "metadata": {
        "id": "cvSy29yGOnEt",
        "colab": {
          "base_uri": "https://localhost:8080/"
        },
        "outputId": "3108e827-c09e-46c1-8478-c44c087d0425"
      },
      "source": [
        "df.target.values # series to array / 현재는 values method는 지양\r\n",
        "df.target.to_numpy # to_numpy or array사용을 권장\r\n",
        "df.target.array"
      ],
      "execution_count": 12,
      "outputs": [
        {
          "output_type": "execute_result",
          "data": {
            "text/plain": [
              "array(['setosa', 'setosa', 'setosa', 'setosa', 'setosa', 'setosa',\n",
              "       'setosa', 'setosa', 'setosa', 'setosa', 'setosa', 'setosa',\n",
              "       'setosa', 'setosa', 'setosa', 'setosa', 'setosa', 'setosa',\n",
              "       'setosa', 'setosa', 'setosa', 'setosa', 'setosa', 'setosa',\n",
              "       'setosa', 'setosa', 'setosa', 'setosa', 'setosa', 'setosa',\n",
              "       'setosa', 'setosa', 'setosa', 'setosa', 'setosa', 'setosa',\n",
              "       'setosa', 'setosa', 'setosa', 'setosa', 'setosa', 'setosa',\n",
              "       'setosa', 'setosa', 'setosa', 'setosa', 'setosa', 'setosa',\n",
              "       'setosa', 'setosa', 'versicolor', 'versicolor', 'versicolor',\n",
              "       'versicolor', 'versicolor', 'versicolor', 'versicolor',\n",
              "       'versicolor', 'versicolor', 'versicolor', 'versicolor',\n",
              "       'versicolor', 'versicolor', 'versicolor', 'versicolor',\n",
              "       'versicolor', 'versicolor', 'versicolor', 'versicolor',\n",
              "       'versicolor', 'versicolor', 'versicolor', 'versicolor',\n",
              "       'versicolor', 'versicolor', 'versicolor', 'versicolor',\n",
              "       'versicolor', 'versicolor', 'versicolor', 'versicolor',\n",
              "       'versicolor', 'versicolor', 'versicolor', 'versicolor',\n",
              "       'versicolor', 'versicolor', 'versicolor', 'versicolor',\n",
              "       'versicolor', 'versicolor', 'versicolor', 'versicolor',\n",
              "       'versicolor', 'versicolor', 'versicolor', 'versicolor',\n",
              "       'versicolor', 'versicolor', 'versicolor', 'virginica', 'virginica',\n",
              "       'virginica', 'virginica', 'virginica', 'virginica', 'virginica',\n",
              "       'virginica', 'virginica', 'virginica', 'virginica', 'virginica',\n",
              "       'virginica', 'virginica', 'virginica', 'virginica', 'virginica',\n",
              "       'virginica', 'virginica', 'virginica', 'virginica', 'virginica',\n",
              "       'virginica', 'virginica', 'virginica', 'virginica', 'virginica',\n",
              "       'virginica', 'virginica', 'virginica', 'virginica', 'virginica',\n",
              "       'virginica', 'virginica', 'virginica', 'virginica', 'virginica',\n",
              "       'virginica', 'virginica', 'virginica', 'virginica', 'virginica',\n",
              "       'virginica', 'virginica', 'virginica', 'virginica', 'virginica',\n",
              "       'virginica', 'virginica', 'virginica'], dtype=object)"
            ]
          },
          "metadata": {
            "tags": []
          },
          "execution_count": 12
        },
        {
          "output_type": "execute_result",
          "data": {
            "text/plain": [
              "<bound method IndexOpsMixin.to_numpy of 0         setosa\n",
              "1         setosa\n",
              "2         setosa\n",
              "3         setosa\n",
              "4         setosa\n",
              "         ...    \n",
              "145    virginica\n",
              "146    virginica\n",
              "147    virginica\n",
              "148    virginica\n",
              "149    virginica\n",
              "Name: target, Length: 150, dtype: object>"
            ]
          },
          "metadata": {
            "tags": []
          },
          "execution_count": 12
        },
        {
          "output_type": "execute_result",
          "data": {
            "text/plain": [
              "<PandasArray>\n",
              "[   'setosa',    'setosa',    'setosa',    'setosa',    'setosa',    'setosa',\n",
              "    'setosa',    'setosa',    'setosa',    'setosa',\n",
              " ...\n",
              " 'virginica', 'virginica', 'virginica', 'virginica', 'virginica', 'virginica',\n",
              " 'virginica', 'virginica', 'virginica', 'virginica']\n",
              "Length: 150, dtype: object"
            ]
          },
          "metadata": {
            "tags": []
          },
          "execution_count": 12
        }
      ]
    },
    {
      "cell_type": "markdown",
      "metadata": {
        "id": "3Dn8kdKpPbze"
      },
      "source": [
        "## 26. How to extract a particular column from 1D array of tuples?  \r\n",
        "\r\n",
        "바이트 : https://dojang.io/mod/page/view.php?id=2462"
      ]
    },
    {
      "cell_type": "code",
      "metadata": {
        "id": "R4NUnT_NQfS0",
        "colab": {
          "base_uri": "https://localhost:8080/",
          "height": 466
        },
        "outputId": "f790a0b8-f6b0-4193-8a93-c6ba0ae3ac98"
      },
      "source": [
        "url = 'https://archive.ics.uci.edu/ml/machine-learning-databases/iris/iris.data'\r\n",
        "iris_1d = np.genfromtxt(url, delimiter=',', dtype=None)\r\n",
        "\r\n",
        "pd.DataFrame(iris_1d)"
      ],
      "execution_count": 13,
      "outputs": [
        {
          "output_type": "stream",
          "text": [
            "/usr/local/lib/python3.6/dist-packages/ipykernel_launcher.py:2: VisibleDeprecationWarning: Reading unicode strings without specifying the encoding argument is deprecated. Set the encoding, use None for the system default.\n",
            "  \n"
          ],
          "name": "stderr"
        },
        {
          "output_type": "execute_result",
          "data": {
            "text/html": [
              "<div>\n",
              "<style scoped>\n",
              "    .dataframe tbody tr th:only-of-type {\n",
              "        vertical-align: middle;\n",
              "    }\n",
              "\n",
              "    .dataframe tbody tr th {\n",
              "        vertical-align: top;\n",
              "    }\n",
              "\n",
              "    .dataframe thead th {\n",
              "        text-align: right;\n",
              "    }\n",
              "</style>\n",
              "<table border=\"1\" class=\"dataframe\">\n",
              "  <thead>\n",
              "    <tr style=\"text-align: right;\">\n",
              "      <th></th>\n",
              "      <th>f0</th>\n",
              "      <th>f1</th>\n",
              "      <th>f2</th>\n",
              "      <th>f3</th>\n",
              "      <th>f4</th>\n",
              "    </tr>\n",
              "  </thead>\n",
              "  <tbody>\n",
              "    <tr>\n",
              "      <th>0</th>\n",
              "      <td>5.1</td>\n",
              "      <td>3.5</td>\n",
              "      <td>1.4</td>\n",
              "      <td>0.2</td>\n",
              "      <td>b'Iris-setosa'</td>\n",
              "    </tr>\n",
              "    <tr>\n",
              "      <th>1</th>\n",
              "      <td>4.9</td>\n",
              "      <td>3.0</td>\n",
              "      <td>1.4</td>\n",
              "      <td>0.2</td>\n",
              "      <td>b'Iris-setosa'</td>\n",
              "    </tr>\n",
              "    <tr>\n",
              "      <th>2</th>\n",
              "      <td>4.7</td>\n",
              "      <td>3.2</td>\n",
              "      <td>1.3</td>\n",
              "      <td>0.2</td>\n",
              "      <td>b'Iris-setosa'</td>\n",
              "    </tr>\n",
              "    <tr>\n",
              "      <th>3</th>\n",
              "      <td>4.6</td>\n",
              "      <td>3.1</td>\n",
              "      <td>1.5</td>\n",
              "      <td>0.2</td>\n",
              "      <td>b'Iris-setosa'</td>\n",
              "    </tr>\n",
              "    <tr>\n",
              "      <th>4</th>\n",
              "      <td>5.0</td>\n",
              "      <td>3.6</td>\n",
              "      <td>1.4</td>\n",
              "      <td>0.2</td>\n",
              "      <td>b'Iris-setosa'</td>\n",
              "    </tr>\n",
              "    <tr>\n",
              "      <th>...</th>\n",
              "      <td>...</td>\n",
              "      <td>...</td>\n",
              "      <td>...</td>\n",
              "      <td>...</td>\n",
              "      <td>...</td>\n",
              "    </tr>\n",
              "    <tr>\n",
              "      <th>145</th>\n",
              "      <td>6.7</td>\n",
              "      <td>3.0</td>\n",
              "      <td>5.2</td>\n",
              "      <td>2.3</td>\n",
              "      <td>b'Iris-virginica'</td>\n",
              "    </tr>\n",
              "    <tr>\n",
              "      <th>146</th>\n",
              "      <td>6.3</td>\n",
              "      <td>2.5</td>\n",
              "      <td>5.0</td>\n",
              "      <td>1.9</td>\n",
              "      <td>b'Iris-virginica'</td>\n",
              "    </tr>\n",
              "    <tr>\n",
              "      <th>147</th>\n",
              "      <td>6.5</td>\n",
              "      <td>3.0</td>\n",
              "      <td>5.2</td>\n",
              "      <td>2.0</td>\n",
              "      <td>b'Iris-virginica'</td>\n",
              "    </tr>\n",
              "    <tr>\n",
              "      <th>148</th>\n",
              "      <td>6.2</td>\n",
              "      <td>3.4</td>\n",
              "      <td>5.4</td>\n",
              "      <td>2.3</td>\n",
              "      <td>b'Iris-virginica'</td>\n",
              "    </tr>\n",
              "    <tr>\n",
              "      <th>149</th>\n",
              "      <td>5.9</td>\n",
              "      <td>3.0</td>\n",
              "      <td>5.1</td>\n",
              "      <td>1.8</td>\n",
              "      <td>b'Iris-virginica'</td>\n",
              "    </tr>\n",
              "  </tbody>\n",
              "</table>\n",
              "<p>150 rows × 5 columns</p>\n",
              "</div>"
            ],
            "text/plain": [
              "      f0   f1   f2   f3                 f4\n",
              "0    5.1  3.5  1.4  0.2     b'Iris-setosa'\n",
              "1    4.9  3.0  1.4  0.2     b'Iris-setosa'\n",
              "2    4.7  3.2  1.3  0.2     b'Iris-setosa'\n",
              "3    4.6  3.1  1.5  0.2     b'Iris-setosa'\n",
              "4    5.0  3.6  1.4  0.2     b'Iris-setosa'\n",
              "..   ...  ...  ...  ...                ...\n",
              "145  6.7  3.0  5.2  2.3  b'Iris-virginica'\n",
              "146  6.3  2.5  5.0  1.9  b'Iris-virginica'\n",
              "147  6.5  3.0  5.2  2.0  b'Iris-virginica'\n",
              "148  6.2  3.4  5.4  2.3  b'Iris-virginica'\n",
              "149  5.9  3.0  5.1  1.8  b'Iris-virginica'\n",
              "\n",
              "[150 rows x 5 columns]"
            ]
          },
          "metadata": {
            "tags": []
          },
          "execution_count": 13
        }
      ]
    },
    {
      "cell_type": "code",
      "metadata": {
        "id": "I-c0Y18udsGr",
        "colab": {
          "base_uri": "https://localhost:8080/"
        },
        "outputId": "268ef82b-d1e8-4fda-8c5a-5b1c75729b8d"
      },
      "source": [
        "print(\"Solution\")\r\n",
        "iris = np.genfromtxt('iris_new.csv', delimiter=',', skip_header=1, usecols = [5], dtype='str')\r\n",
        "iris[:4]"
      ],
      "execution_count": 14,
      "outputs": [
        {
          "output_type": "stream",
          "text": [
            "Solution\n"
          ],
          "name": "stdout"
        },
        {
          "output_type": "execute_result",
          "data": {
            "text/plain": [
              "array(['setosa', 'setosa', 'setosa', 'setosa'], dtype='<U10')"
            ]
          },
          "metadata": {
            "tags": []
          },
          "execution_count": 14
        }
      ]
    },
    {
      "cell_type": "code",
      "metadata": {
        "id": "3kIV52M3d2vp",
        "colab": {
          "base_uri": "https://localhost:8080/"
        },
        "outputId": "074e9800-cd33-412f-a417-c89900f75def"
      },
      "source": [
        "# Solution from the website\r\n",
        "print(\"Solution from website\")\r\n",
        "\r\n",
        "iris_1d = np.genfromtxt('iris_new.csv', delimiter=',', dtype=None)\r\n",
        "species = np.array([row[5] for row in iris_1d])\r\n",
        "species"
      ],
      "execution_count": 15,
      "outputs": [
        {
          "output_type": "stream",
          "text": [
            "Solution from website\n"
          ],
          "name": "stdout"
        },
        {
          "output_type": "stream",
          "text": [
            "/usr/local/lib/python3.6/dist-packages/ipykernel_launcher.py:4: VisibleDeprecationWarning: Reading unicode strings without specifying the encoding argument is deprecated. Set the encoding, use None for the system default.\n",
            "  after removing the cwd from sys.path.\n"
          ],
          "name": "stderr"
        },
        {
          "output_type": "execute_result",
          "data": {
            "text/plain": [
              "array([b'target', b'setosa', b'setosa', b'setosa', b'setosa', b'setosa',\n",
              "       b'setosa', b'setosa', b'setosa', b'setosa', b'setosa', b'setosa',\n",
              "       b'setosa', b'setosa', b'setosa', b'setosa', b'setosa', b'setosa',\n",
              "       b'setosa', b'setosa', b'setosa', b'setosa', b'setosa', b'setosa',\n",
              "       b'setosa', b'setosa', b'setosa', b'setosa', b'setosa', b'setosa',\n",
              "       b'setosa', b'setosa', b'setosa', b'setosa', b'setosa', b'setosa',\n",
              "       b'setosa', b'setosa', b'setosa', b'setosa', b'setosa', b'setosa',\n",
              "       b'setosa', b'setosa', b'setosa', b'setosa', b'setosa', b'setosa',\n",
              "       b'setosa', b'setosa', b'setosa', b'versicolor', b'versicolor',\n",
              "       b'versicolor', b'versicolor', b'versicolor', b'versicolor',\n",
              "       b'versicolor', b'versicolor', b'versicolor', b'versicolor',\n",
              "       b'versicolor', b'versicolor', b'versicolor', b'versicolor',\n",
              "       b'versicolor', b'versicolor', b'versicolor', b'versicolor',\n",
              "       b'versicolor', b'versicolor', b'versicolor', b'versicolor',\n",
              "       b'versicolor', b'versicolor', b'versicolor', b'versicolor',\n",
              "       b'versicolor', b'versicolor', b'versicolor', b'versicolor',\n",
              "       b'versicolor', b'versicolor', b'versicolor', b'versicolor',\n",
              "       b'versicolor', b'versicolor', b'versicolor', b'versicolor',\n",
              "       b'versicolor', b'versicolor', b'versicolor', b'versicolor',\n",
              "       b'versicolor', b'versicolor', b'versicolor', b'versicolor',\n",
              "       b'versicolor', b'versicolor', b'versicolor', b'versicolor',\n",
              "       b'virginica', b'virginica', b'virginica', b'virginica',\n",
              "       b'virginica', b'virginica', b'virginica', b'virginica',\n",
              "       b'virginica', b'virginica', b'virginica', b'virginica',\n",
              "       b'virginica', b'virginica', b'virginica', b'virginica',\n",
              "       b'virginica', b'virginica', b'virginica', b'virginica',\n",
              "       b'virginica', b'virginica', b'virginica', b'virginica',\n",
              "       b'virginica', b'virginica', b'virginica', b'virginica',\n",
              "       b'virginica', b'virginica', b'virginica', b'virginica',\n",
              "       b'virginica', b'virginica', b'virginica', b'virginica',\n",
              "       b'virginica', b'virginica', b'virginica', b'virginica',\n",
              "       b'virginica', b'virginica', b'virginica', b'virginica',\n",
              "       b'virginica', b'virginica', b'virginica', b'virginica',\n",
              "       b'virginica', b'virginica'], dtype='|S13')"
            ]
          },
          "metadata": {
            "tags": []
          },
          "execution_count": 15
        }
      ]
    },
    {
      "cell_type": "markdown",
      "metadata": {
        "id": "vGHZb9pAPsiy"
      },
      "source": [
        "## 27. How to convert a 1d array of tuples to a 2d numpy array?"
      ]
    },
    {
      "cell_type": "code",
      "metadata": {
        "id": "x6hPkJXXiaOQ",
        "colab": {
          "base_uri": "https://localhost:8080/"
        },
        "outputId": "96fc20b2-6e25-4d82-f19d-5134e6590d5d"
      },
      "source": [
        "# Solution\r\n",
        "iris = np.genfromtxt('iris_new.csv', delimiter=',', skip_header=1, \r\n",
        "                     usecols = [0, 1, 2, 3, 4], dtype = None)\r\n",
        "iris[:8]"
      ],
      "execution_count": 16,
      "outputs": [
        {
          "output_type": "execute_result",
          "data": {
            "text/plain": [
              "array([(0, 5.1, 3.5, 1.4, 0.2), (1, 4.9, 3. , 1.4, 0.2),\n",
              "       (2, 4.7, 3.2, 1.3, 0.2), (3, 4.6, 3.1, 1.5, 0.2),\n",
              "       (4, 5. , 3.6, 1.4, 0.2), (5, 5.4, 3.9, 1.7, 0.4),\n",
              "       (6, 4.6, 3.4, 1.4, 0.3), (7, 5. , 3.4, 1.5, 0.2)],\n",
              "      dtype=[('f0', '<i8'), ('f1', '<f8'), ('f2', '<f8'), ('f3', '<f8'), ('f4', '<f8')])"
            ]
          },
          "metadata": {
            "tags": []
          },
          "execution_count": 16
        }
      ]
    },
    {
      "cell_type": "code",
      "metadata": {
        "id": "PByo3urwi519",
        "colab": {
          "base_uri": "https://localhost:8080/"
        },
        "outputId": "f4063b54-2948-4bab-cf29-79384f293bb8"
      },
      "source": [
        "# Another solution from the website\r\n",
        "iris_1d = np.genfromtxt('iris_new.csv', delimiter=',', dtype=None)\r\n",
        "iris_2d = np.array([row.tolist()[:4] for row in iris_1d])\r\n",
        "iris_2d[:4]"
      ],
      "execution_count": 17,
      "outputs": [
        {
          "output_type": "stream",
          "text": [
            "/usr/local/lib/python3.6/dist-packages/ipykernel_launcher.py:2: VisibleDeprecationWarning: Reading unicode strings without specifying the encoding argument is deprecated. Set the encoding, use None for the system default.\n",
            "  \n"
          ],
          "name": "stderr"
        },
        {
          "output_type": "execute_result",
          "data": {
            "text/plain": [
              "array([[b'-1', b'sepal length (cm)', b'sepal width (cm)',\n",
              "        b'petal length (cm)'],\n",
              "       [b'0', b'5.1', b'3.5', b'1.4'],\n",
              "       [b'1', b'4.9', b'3.0', b'1.4'],\n",
              "       [b'2', b'4.7', b'3.2', b'1.3']], dtype='|S21')"
            ]
          },
          "metadata": {
            "tags": []
          },
          "execution_count": 17
        }
      ]
    },
    {
      "cell_type": "code",
      "metadata": {
        "id": "oTNmZCvMjOh0",
        "colab": {
          "base_uri": "https://localhost:8080/"
        },
        "outputId": "dea0af18-15e3-44f6-887c-eb52bc2c0ad8"
      },
      "source": [
        "[row for row in iris_1d][:4]"
      ],
      "execution_count": 18,
      "outputs": [
        {
          "output_type": "execute_result",
          "data": {
            "text/plain": [
              "[(-1, b'sepal length (cm)', b'sepal width (cm)', b'petal length (cm)', b'petal width (cm)', b'target'),\n",
              " (0, b'5.1', b'3.5', b'1.4', b'0.2', b'setosa'),\n",
              " (1, b'4.9', b'3.0', b'1.4', b'0.2', b'setosa'),\n",
              " (2, b'4.7', b'3.2', b'1.3', b'0.2', b'setosa')]"
            ]
          },
          "metadata": {
            "tags": []
          },
          "execution_count": 18
        }
      ]
    },
    {
      "cell_type": "code",
      "metadata": {
        "id": "9n61CPUrjWT-",
        "colab": {
          "base_uri": "https://localhost:8080/"
        },
        "outputId": "ce690b6a-386c-4e2e-fbb8-14b1e31c76d1"
      },
      "source": [
        "[row.tolist() for row in iris_1d][:4]"
      ],
      "execution_count": 19,
      "outputs": [
        {
          "output_type": "execute_result",
          "data": {
            "text/plain": [
              "[(-1,\n",
              "  b'sepal length (cm)',\n",
              "  b'sepal width (cm)',\n",
              "  b'petal length (cm)',\n",
              "  b'petal width (cm)',\n",
              "  b'target'),\n",
              " (0, b'5.1', b'3.5', b'1.4', b'0.2', b'setosa'),\n",
              " (1, b'4.9', b'3.0', b'1.4', b'0.2', b'setosa'),\n",
              " (2, b'4.7', b'3.2', b'1.3', b'0.2', b'setosa')]"
            ]
          },
          "metadata": {
            "tags": []
          },
          "execution_count": 19
        }
      ]
    },
    {
      "cell_type": "code",
      "metadata": {
        "id": "xKHA6mbhjgIr",
        "colab": {
          "base_uri": "https://localhost:8080/"
        },
        "outputId": "5061e331-4fd6-4efe-e37b-7c382cf72335"
      },
      "source": [
        "[row.tolist()[:5] for row in iris_1d][:4]"
      ],
      "execution_count": 20,
      "outputs": [
        {
          "output_type": "execute_result",
          "data": {
            "text/plain": [
              "[(-1,\n",
              "  b'sepal length (cm)',\n",
              "  b'sepal width (cm)',\n",
              "  b'petal length (cm)',\n",
              "  b'petal width (cm)'),\n",
              " (0, b'5.1', b'3.5', b'1.4', b'0.2'),\n",
              " (1, b'4.9', b'3.0', b'1.4', b'0.2'),\n",
              " (2, b'4.7', b'3.2', b'1.3', b'0.2')]"
            ]
          },
          "metadata": {
            "tags": []
          },
          "execution_count": 20
        }
      ]
    },
    {
      "cell_type": "code",
      "metadata": {
        "id": "h95_8_X0kN0r",
        "colab": {
          "base_uri": "https://localhost:8080/"
        },
        "outputId": "be2f6cfd-29bf-423f-c424-26d2f8f1034a"
      },
      "source": [
        "np.array([row.tolist()[:5] for row in iris_1d][:4])"
      ],
      "execution_count": 21,
      "outputs": [
        {
          "output_type": "execute_result",
          "data": {
            "text/plain": [
              "array([[b'-1', b'sepal length (cm)', b'sepal width (cm)',\n",
              "        b'petal length (cm)', b'petal width (cm)'],\n",
              "       [b'0', b'5.1', b'3.5', b'1.4', b'0.2'],\n",
              "       [b'1', b'4.9', b'3.0', b'1.4', b'0.2'],\n",
              "       [b'2', b'4.7', b'3.2', b'1.3', b'0.2']], dtype='|S21')"
            ]
          },
          "metadata": {
            "tags": []
          },
          "execution_count": 21
        }
      ]
    },
    {
      "cell_type": "markdown",
      "metadata": {
        "id": "jKFiBQU-Pxsc"
      },
      "source": [
        "## 28. How to compute the mean, median, standard deviation of a numpy array?"
      ]
    },
    {
      "cell_type": "code",
      "metadata": {
        "id": "Olf5pAybkTYM",
        "colab": {
          "base_uri": "https://localhost:8080/"
        },
        "outputId": "3f1d73d2-52ef-4e43-d391-18b4d720d79f"
      },
      "source": [
        "# Q. Find the mean, median, standard deviation of iris's sepallength (1st column)\r\n",
        "\r\n",
        "# Solution\r\n",
        "print(\"Solution\")\r\n",
        "iris = np.genfromtxt('iris_new.csv', delimiter=',', skip_header=1, usecols = [1])\r\n",
        "iris"
      ],
      "execution_count": 22,
      "outputs": [
        {
          "output_type": "stream",
          "text": [
            "Solution\n"
          ],
          "name": "stdout"
        },
        {
          "output_type": "execute_result",
          "data": {
            "text/plain": [
              "array([5.1, 4.9, 4.7, 4.6, 5. , 5.4, 4.6, 5. , 4.4, 4.9, 5.4, 4.8, 4.8,\n",
              "       4.3, 5.8, 5.7, 5.4, 5.1, 5.7, 5.1, 5.4, 5.1, 4.6, 5.1, 4.8, 5. ,\n",
              "       5. , 5.2, 5.2, 4.7, 4.8, 5.4, 5.2, 5.5, 4.9, 5. , 5.5, 4.9, 4.4,\n",
              "       5.1, 5. , 4.5, 4.4, 5. , 5.1, 4.8, 5.1, 4.6, 5.3, 5. , 7. , 6.4,\n",
              "       6.9, 5.5, 6.5, 5.7, 6.3, 4.9, 6.6, 5.2, 5. , 5.9, 6. , 6.1, 5.6,\n",
              "       6.7, 5.6, 5.8, 6.2, 5.6, 5.9, 6.1, 6.3, 6.1, 6.4, 6.6, 6.8, 6.7,\n",
              "       6. , 5.7, 5.5, 5.5, 5.8, 6. , 5.4, 6. , 6.7, 6.3, 5.6, 5.5, 5.5,\n",
              "       6.1, 5.8, 5. , 5.6, 5.7, 5.7, 6.2, 5.1, 5.7, 6.3, 5.8, 7.1, 6.3,\n",
              "       6.5, 7.6, 4.9, 7.3, 6.7, 7.2, 6.5, 6.4, 6.8, 5.7, 5.8, 6.4, 6.5,\n",
              "       7.7, 7.7, 6. , 6.9, 5.6, 7.7, 6.3, 6.7, 7.2, 6.2, 6.1, 6.4, 7.2,\n",
              "       7.4, 7.9, 6.4, 6.3, 6.1, 7.7, 6.3, 6.4, 6. , 6.9, 6.7, 6.9, 5.8,\n",
              "       6.8, 6.7, 6.7, 6.3, 6.5, 6.2, 5.9])"
            ]
          },
          "metadata": {
            "tags": []
          },
          "execution_count": 22
        }
      ]
    },
    {
      "cell_type": "code",
      "metadata": {
        "id": "md3jAXCuX9rd",
        "colab": {
          "base_uri": "https://localhost:8080/"
        },
        "outputId": "12e96d90-6053-4e39-dd24-b1ed5d0d9daf"
      },
      "source": [
        "pd.Series(iris).describe()"
      ],
      "execution_count": 23,
      "outputs": [
        {
          "output_type": "execute_result",
          "data": {
            "text/plain": [
              "count    150.000000\n",
              "mean       5.843333\n",
              "std        0.828066\n",
              "min        4.300000\n",
              "25%        5.100000\n",
              "50%        5.800000\n",
              "75%        6.400000\n",
              "max        7.900000\n",
              "dtype: float64"
            ]
          },
          "metadata": {
            "tags": []
          },
          "execution_count": 23
        }
      ]
    },
    {
      "cell_type": "code",
      "metadata": {
        "id": "ZIYLSXuwYC6f",
        "colab": {
          "base_uri": "https://localhost:8080/"
        },
        "outputId": "335292a6-dd94-4f26-b903-dbad521b7a7f"
      },
      "source": [
        "stats.describe(iris)"
      ],
      "execution_count": 24,
      "outputs": [
        {
          "output_type": "execute_result",
          "data": {
            "text/plain": [
              "DescribeResult(nobs=150, minmax=(4.3, 7.9), mean=5.843333333333334, variance=0.6856935123042507, skewness=0.3117530585022963, kurtosis=-0.5735679489249765)"
            ]
          },
          "metadata": {
            "tags": []
          },
          "execution_count": 24
        }
      ]
    },
    {
      "cell_type": "code",
      "metadata": {
        "id": "p_rFnQhzYRJC",
        "colab": {
          "base_uri": "https://localhost:8080/"
        },
        "outputId": "3864a159-2ae1-43db-c78d-1aadcd4e8be8"
      },
      "source": [
        "# Solution from the website\r\n",
        "print(\"Another solution from the website\")\r\n",
        "\r\n",
        "mu, med, sd = np.mean(iris), np.median(iris), np.std(iris)\r\n",
        "\r\n",
        "print(mu, med, sd)"
      ],
      "execution_count": 25,
      "outputs": [
        {
          "output_type": "stream",
          "text": [
            "Another solution from the website\n",
            "5.843333333333334 5.8 0.8253012917851409\n"
          ],
          "name": "stdout"
        }
      ]
    },
    {
      "cell_type": "markdown",
      "metadata": {
        "id": "VMbcR4OYP2oK"
      },
      "source": [
        "## 29. How to normalize an array so the values range exactly between 0 and 1?"
      ]
    },
    {
      "cell_type": "code",
      "metadata": {
        "id": "sTmjPqWvYdBN",
        "colab": {
          "base_uri": "https://localhost:8080/"
        },
        "outputId": "c456b856-44ea-4f54-9a5e-ff738a05e5f4"
      },
      "source": [
        "# Q. Create a normalized form of iris's sepallength whose values range exactly between 0 and 1 \r\n",
        "#so that the minimum has value 0 and maximum has value 1.\r\n",
        "\r\n",
        "# Solution\r\n",
        "iris = np.genfromtxt(\"iris_new.csv\", delimiter = \",\", skip_header = 1, usecols = [1])\r\n",
        "\r\n",
        "(iris - np.min(iris)) / (np.max(iris) - np.min(iris))"
      ],
      "execution_count": 26,
      "outputs": [
        {
          "output_type": "execute_result",
          "data": {
            "text/plain": [
              "array([0.22222222, 0.16666667, 0.11111111, 0.08333333, 0.19444444,\n",
              "       0.30555556, 0.08333333, 0.19444444, 0.02777778, 0.16666667,\n",
              "       0.30555556, 0.13888889, 0.13888889, 0.        , 0.41666667,\n",
              "       0.38888889, 0.30555556, 0.22222222, 0.38888889, 0.22222222,\n",
              "       0.30555556, 0.22222222, 0.08333333, 0.22222222, 0.13888889,\n",
              "       0.19444444, 0.19444444, 0.25      , 0.25      , 0.11111111,\n",
              "       0.13888889, 0.30555556, 0.25      , 0.33333333, 0.16666667,\n",
              "       0.19444444, 0.33333333, 0.16666667, 0.02777778, 0.22222222,\n",
              "       0.19444444, 0.05555556, 0.02777778, 0.19444444, 0.22222222,\n",
              "       0.13888889, 0.22222222, 0.08333333, 0.27777778, 0.19444444,\n",
              "       0.75      , 0.58333333, 0.72222222, 0.33333333, 0.61111111,\n",
              "       0.38888889, 0.55555556, 0.16666667, 0.63888889, 0.25      ,\n",
              "       0.19444444, 0.44444444, 0.47222222, 0.5       , 0.36111111,\n",
              "       0.66666667, 0.36111111, 0.41666667, 0.52777778, 0.36111111,\n",
              "       0.44444444, 0.5       , 0.55555556, 0.5       , 0.58333333,\n",
              "       0.63888889, 0.69444444, 0.66666667, 0.47222222, 0.38888889,\n",
              "       0.33333333, 0.33333333, 0.41666667, 0.47222222, 0.30555556,\n",
              "       0.47222222, 0.66666667, 0.55555556, 0.36111111, 0.33333333,\n",
              "       0.33333333, 0.5       , 0.41666667, 0.19444444, 0.36111111,\n",
              "       0.38888889, 0.38888889, 0.52777778, 0.22222222, 0.38888889,\n",
              "       0.55555556, 0.41666667, 0.77777778, 0.55555556, 0.61111111,\n",
              "       0.91666667, 0.16666667, 0.83333333, 0.66666667, 0.80555556,\n",
              "       0.61111111, 0.58333333, 0.69444444, 0.38888889, 0.41666667,\n",
              "       0.58333333, 0.61111111, 0.94444444, 0.94444444, 0.47222222,\n",
              "       0.72222222, 0.36111111, 0.94444444, 0.55555556, 0.66666667,\n",
              "       0.80555556, 0.52777778, 0.5       , 0.58333333, 0.80555556,\n",
              "       0.86111111, 1.        , 0.58333333, 0.55555556, 0.5       ,\n",
              "       0.94444444, 0.55555556, 0.58333333, 0.47222222, 0.72222222,\n",
              "       0.66666667, 0.72222222, 0.41666667, 0.69444444, 0.66666667,\n",
              "       0.66666667, 0.55555556, 0.61111111, 0.52777778, 0.44444444])"
            ]
          },
          "metadata": {
            "tags": []
          },
          "execution_count": 26
        }
      ]
    },
    {
      "cell_type": "markdown",
      "metadata": {
        "id": "VaEwYYJbP8ip"
      },
      "source": [
        "## 30. How to compute the softmax score?"
      ]
    },
    {
      "cell_type": "code",
      "metadata": {
        "id": "euXYSEILP_o6",
        "colab": {
          "base_uri": "https://localhost:8080/"
        },
        "outputId": "6acaf91e-99b3-4150-def6-fa70c912eda3"
      },
      "source": [
        "# Q. Compute the softmax score of sepallength.\r\n",
        "\r\n",
        "# Solution\r\n",
        "# The Softmax regression is a form of logistic regression \r\n",
        "#that normalizes an input value into a vector of values \r\n",
        "#that follows a probability distribution whose total sums up to 1. \r\n",
        "\r\n",
        "iris = np.genfromtxt('iris_new.csv', delimiter=',', skip_header=1, usecols = [1])\r\n",
        "\r\n",
        "softmax = np.exp(iris)/sum(np.exp(iris))\r\n",
        "softmax"
      ],
      "execution_count": 27,
      "outputs": [
        {
          "output_type": "execute_result",
          "data": {
            "text/plain": [
              "array([0.00221959, 0.00181724, 0.00148783, 0.00134625, 0.00200836,\n",
              "       0.00299613, 0.00134625, 0.00200836, 0.00110221, 0.00181724,\n",
              "       0.00299613, 0.00164431, 0.00164431, 0.00099732, 0.0044697 ,\n",
              "       0.00404435, 0.00299613, 0.00221959, 0.00404435, 0.00221959,\n",
              "       0.00299613, 0.00221959, 0.00134625, 0.00221959, 0.00164431,\n",
              "       0.00200836, 0.00200836, 0.00245302, 0.00245302, 0.00148783,\n",
              "       0.00164431, 0.00299613, 0.00245302, 0.00331123, 0.00181724,\n",
              "       0.00200836, 0.00331123, 0.00181724, 0.00110221, 0.00221959,\n",
              "       0.00200836, 0.00121813, 0.00110221, 0.00200836, 0.00221959,\n",
              "       0.00164431, 0.00221959, 0.00134625, 0.00271101, 0.00200836,\n",
              "       0.01483991, 0.00814432, 0.01342771, 0.00331123, 0.00900086,\n",
              "       0.00404435, 0.00736928, 0.00181724, 0.00994749, 0.00245302,\n",
              "       0.00200836, 0.00493978, 0.0054593 , 0.00603346, 0.00365948,\n",
              "       0.01099368, 0.00365948, 0.0044697 , 0.006668  , 0.00365948,\n",
              "       0.00493978, 0.00603346, 0.00736928, 0.00603346, 0.00814432,\n",
              "       0.00994749, 0.01214989, 0.01099368, 0.0054593 , 0.00404435,\n",
              "       0.00331123, 0.00331123, 0.0044697 , 0.0054593 , 0.00299613,\n",
              "       0.0054593 , 0.01099368, 0.00736928, 0.00365948, 0.00331123,\n",
              "       0.00331123, 0.00603346, 0.0044697 , 0.00200836, 0.00365948,\n",
              "       0.00404435, 0.00404435, 0.006668  , 0.00221959, 0.00404435,\n",
              "       0.00736928, 0.0044697 , 0.01640064, 0.00736928, 0.00900086,\n",
              "       0.02704008, 0.00181724, 0.02003179, 0.01099368, 0.01812551,\n",
              "       0.00900086, 0.00814432, 0.01214989, 0.00404435, 0.0044697 ,\n",
              "       0.00814432, 0.00900086, 0.02988391, 0.02988391, 0.0054593 ,\n",
              "       0.01342771, 0.00365948, 0.02988391, 0.00736928, 0.01099368,\n",
              "       0.01812551, 0.006668  , 0.00603346, 0.00814432, 0.01812551,\n",
              "       0.02213855, 0.0365003 , 0.00814432, 0.00736928, 0.00603346,\n",
              "       0.02988391, 0.00736928, 0.00814432, 0.0054593 , 0.01342771,\n",
              "       0.01099368, 0.01342771, 0.0044697 , 0.01214989, 0.01099368,\n",
              "       0.01099368, 0.00736928, 0.00900086, 0.006668  , 0.00493978])"
            ]
          },
          "metadata": {
            "tags": []
          },
          "execution_count": 27
        }
      ]
    },
    {
      "cell_type": "code",
      "metadata": {
        "id": "I9erXDW1ZKPh",
        "colab": {
          "base_uri": "https://localhost:8080/"
        },
        "outputId": "4975376e-6b4c-43f4-c830-216ba36047a3"
      },
      "source": [
        "# it must sum 1\r\n",
        "softmax.sum()\r\n",
        "sum(softmax)\r\n",
        "np.sum(softmax)"
      ],
      "execution_count": 28,
      "outputs": [
        {
          "output_type": "execute_result",
          "data": {
            "text/plain": [
              "0.9999999999999997"
            ]
          },
          "metadata": {
            "tags": []
          },
          "execution_count": 28
        },
        {
          "output_type": "execute_result",
          "data": {
            "text/plain": [
              "0.9999999999999997"
            ]
          },
          "metadata": {
            "tags": []
          },
          "execution_count": 28
        },
        {
          "output_type": "execute_result",
          "data": {
            "text/plain": [
              "0.9999999999999997"
            ]
          },
          "metadata": {
            "tags": []
          },
          "execution_count": 28
        }
      ]
    },
    {
      "cell_type": "code",
      "metadata": {
        "id": "3vNJX8YFZPaB",
        "colab": {
          "base_uri": "https://localhost:8080/"
        },
        "outputId": "a38662c3-4246-4cbf-aad4-812f506e9b1c"
      },
      "source": [
        "# We can also apply this to more than 1 column.\r\n",
        "iris = np.genfromtxt('iris_new.csv', delimiter=',', skip_header=1, usecols = [1, 2, 3, 4])\r\n",
        "softmax = np.exp(iris)/sum(np.exp(iris))\r\n",
        "\r\n",
        "softmax.sum() # We have 4 since we have 4 columns, each sums 1\r\n",
        "softmax"
      ],
      "execution_count": 29,
      "outputs": [
        {
          "output_type": "execute_result",
          "data": {
            "text/plain": [
              "4.0"
            ]
          },
          "metadata": {
            "tags": []
          },
          "execution_count": 29
        },
        {
          "output_type": "execute_result",
          "data": {
            "text/plain": [
              "array([[0.00221959, 0.00940198, 0.00021035, 0.0018806 ],\n",
              "       [0.00181724, 0.00570259, 0.00021035, 0.0018806 ],\n",
              "       [0.00148783, 0.00696516, 0.00019033, 0.0018806 ],\n",
              "       [0.00134625, 0.00630234, 0.00023247, 0.0018806 ],\n",
              "       [0.00200836, 0.0103908 , 0.00021035, 0.0018806 ],\n",
              "       [0.00299613, 0.01402611, 0.00028394, 0.00229697],\n",
              "       [0.00134625, 0.00850727, 0.00021035, 0.00207838],\n",
              "       [0.00200836, 0.00850727, 0.00023247, 0.0018806 ],\n",
              "       [0.00110221, 0.00515992, 0.00021035, 0.0018806 ],\n",
              "       [0.00181724, 0.00630234, 0.00023247, 0.00170164],\n",
              "       [0.00299613, 0.01148361, 0.00023247, 0.0018806 ],\n",
              "       [0.00164431, 0.00850727, 0.00025692, 0.0018806 ],\n",
              "       [0.00164431, 0.00570259, 0.00021035, 0.00170164],\n",
              "       [0.00099732, 0.00570259, 0.00015583, 0.00170164],\n",
              "       [0.0044697 , 0.01550125, 0.00017222, 0.0018806 ],\n",
              "       [0.00404435, 0.02312514, 0.00023247, 0.00229697],\n",
              "       [0.00299613, 0.01402611, 0.00019033, 0.00229697],\n",
              "       [0.00221959, 0.00940198, 0.00021035, 0.00207838],\n",
              "       [0.00404435, 0.01269135, 0.00028394, 0.00207838],\n",
              "       [0.00221959, 0.01269135, 0.00023247, 0.00207838],\n",
              "       [0.00299613, 0.00850727, 0.00028394, 0.0018806 ],\n",
              "       [0.00221959, 0.01148361, 0.00023247, 0.00229697],\n",
              "       [0.00134625, 0.0103908 , 0.000141  , 0.0018806 ],\n",
              "       [0.00221959, 0.00769769, 0.00028394, 0.00253854],\n",
              "       [0.00164431, 0.00850727, 0.00034681, 0.0018806 ],\n",
              "       [0.00200836, 0.00570259, 0.00025692, 0.0018806 ],\n",
              "       [0.00200836, 0.00850727, 0.00025692, 0.00229697],\n",
              "       [0.00245302, 0.00940198, 0.00023247, 0.0018806 ],\n",
              "       [0.00245302, 0.00850727, 0.00021035, 0.0018806 ],\n",
              "       [0.00148783, 0.00696516, 0.00025692, 0.0018806 ],\n",
              "       [0.00164431, 0.00630234, 0.00025692, 0.0018806 ],\n",
              "       [0.00299613, 0.00850727, 0.00023247, 0.00229697],\n",
              "       [0.00245302, 0.01713153, 0.00023247, 0.00170164],\n",
              "       [0.00331123, 0.01893327, 0.00021035, 0.0018806 ],\n",
              "       [0.00181724, 0.00630234, 0.00023247, 0.0018806 ],\n",
              "       [0.00200836, 0.00696516, 0.00017222, 0.0018806 ],\n",
              "       [0.00331123, 0.00940198, 0.00019033, 0.0018806 ],\n",
              "       [0.00181724, 0.0103908 , 0.00021035, 0.00170164],\n",
              "       [0.00110221, 0.00570259, 0.00019033, 0.0018806 ],\n",
              "       [0.00221959, 0.00850727, 0.00023247, 0.0018806 ],\n",
              "       [0.00200836, 0.00940198, 0.00019033, 0.00207838],\n",
              "       [0.00121813, 0.00283182, 0.00019033, 0.00207838],\n",
              "       [0.00110221, 0.00696516, 0.00019033, 0.0018806 ],\n",
              "       [0.00200836, 0.00940198, 0.00025692, 0.00280553],\n",
              "       [0.00221959, 0.01269135, 0.00034681, 0.00229697],\n",
              "       [0.00164431, 0.00570259, 0.00021035, 0.00207838],\n",
              "       [0.00221959, 0.01269135, 0.00025692, 0.0018806 ],\n",
              "       [0.00134625, 0.00696516, 0.00021035, 0.0018806 ],\n",
              "       [0.00271101, 0.01148361, 0.00023247, 0.0018806 ],\n",
              "       [0.00200836, 0.00769769, 0.00021035, 0.0018806 ],\n",
              "       [0.01483991, 0.00696516, 0.00570315, 0.00624381],\n",
              "       [0.00814432, 0.00696516, 0.00466934, 0.00690048],\n",
              "       [0.01342771, 0.00630234, 0.00696584, 0.00690048],\n",
              "       [0.00331123, 0.00283182, 0.0028321 , 0.00564963],\n",
              "       [0.00900086, 0.00466889, 0.00516042, 0.00690048],\n",
              "       [0.00404435, 0.00466889, 0.00466934, 0.00564963],\n",
              "       [0.00736928, 0.00769769, 0.00570315, 0.00762621],\n",
              "       [0.00181724, 0.00312965, 0.00140638, 0.00418535],\n",
              "       [0.00994749, 0.00515992, 0.00516042, 0.00564963],\n",
              "       [0.00245302, 0.00422458, 0.00256259, 0.00624381],\n",
              "       [0.00200836, 0.00209787, 0.00171775, 0.00418535],\n",
              "       [0.00493978, 0.00570259, 0.00345913, 0.00690048],\n",
              "       [0.0054593 , 0.00256234, 0.0028321 , 0.00418535],\n",
              "       [0.00603346, 0.00515992, 0.00570315, 0.00624381],\n",
              "       [0.00365948, 0.00515992, 0.00189841, 0.00564963],\n",
              "       [0.01099368, 0.00630234, 0.00422499, 0.00624381],\n",
              "       [0.00365948, 0.00570259, 0.00466934, 0.00690048],\n",
              "       [0.0044697 , 0.00422458, 0.00312995, 0.00418535],\n",
              "       [0.006668  , 0.00256234, 0.00466934, 0.00690048],\n",
              "       [0.00365948, 0.0034588 , 0.00256259, 0.00462553],\n",
              "       [0.00493978, 0.00696516, 0.00630295, 0.00931467],\n",
              "       [0.00603346, 0.00466889, 0.0028321 , 0.00564963],\n",
              "       [0.00736928, 0.0034588 , 0.00696584, 0.00690048],\n",
              "       [0.00603346, 0.00466889, 0.00570315, 0.005112  ],\n",
              "       [0.00814432, 0.00515992, 0.00382293, 0.00564963],\n",
              "       [0.00994749, 0.00570259, 0.00422499, 0.00624381],\n",
              "       [0.01214989, 0.00466889, 0.00630295, 0.00624381],\n",
              "       [0.01099368, 0.00570259, 0.00769844, 0.00842826],\n",
              "       [0.0054593 , 0.00515992, 0.00466934, 0.00690048],\n",
              "       [0.00404435, 0.00382256, 0.00171775, 0.00418535],\n",
              "       [0.00331123, 0.00312965, 0.00231873, 0.00462553],\n",
              "       [0.00331123, 0.00312965, 0.00209807, 0.00418535],\n",
              "       [0.0044697 , 0.00422458, 0.00256259, 0.005112  ],\n",
              "       [0.0054593 , 0.00422458, 0.00850809, 0.00762621],\n",
              "       [0.00299613, 0.00570259, 0.00466934, 0.00690048],\n",
              "       [0.0054593 , 0.00850727, 0.00466934, 0.00762621],\n",
              "       [0.01099368, 0.00630234, 0.00570315, 0.00690048],\n",
              "       [0.00736928, 0.00283182, 0.00422499, 0.00564963],\n",
              "       [0.00365948, 0.00570259, 0.00312995, 0.00564963],\n",
              "       [0.00331123, 0.0034588 , 0.0028321 , 0.00564963],\n",
              "       [0.00331123, 0.00382256, 0.00422499, 0.005112  ],\n",
              "       [0.00603346, 0.00570259, 0.00516042, 0.00624381],\n",
              "       [0.0044697 , 0.00382256, 0.0028321 , 0.005112  ],\n",
              "       [0.00200836, 0.00283182, 0.00140638, 0.00418535],\n",
              "       [0.00365948, 0.00422458, 0.00345913, 0.00564963],\n",
              "       [0.00404435, 0.00570259, 0.00345913, 0.005112  ],\n",
              "       [0.00404435, 0.00515992, 0.00345913, 0.00564963],\n",
              "       [0.006668  , 0.00515992, 0.00382293, 0.00564963],\n",
              "       [0.00221959, 0.0034588 , 0.00104187, 0.00462553],\n",
              "       [0.00404435, 0.00466889, 0.00312995, 0.00564963],\n",
              "       [0.00736928, 0.00769769, 0.02092654, 0.01875745],\n",
              "       [0.0044697 , 0.00422458, 0.00850809, 0.0102943 ],\n",
              "       [0.01640064, 0.00570259, 0.01893511, 0.01257349],\n",
              "       [0.00736928, 0.00515992, 0.01402748, 0.00931467],\n",
              "       [0.00900086, 0.00570259, 0.0171332 , 0.01389586],\n",
              "       [0.02704008, 0.00570259, 0.03813063, 0.01257349],\n",
              "       [0.00181724, 0.0034588 , 0.00466934, 0.00842826],\n",
              "       [0.02003179, 0.00515992, 0.02824787, 0.00931467],\n",
              "       [0.01099368, 0.0034588 , 0.0171332 , 0.00931467],\n",
              "       [0.01812551, 0.0103908 , 0.0231274 , 0.01875745],\n",
              "       [0.00900086, 0.00696516, 0.00850809, 0.01137697],\n",
              "       [0.00814432, 0.00422458, 0.01039181, 0.0102943 ],\n",
              "       [0.01214989, 0.00570259, 0.01269259, 0.01257349],\n",
              "       [0.00404435, 0.0034588 , 0.00769844, 0.01137697],\n",
              "       [0.0044697 , 0.00466889, 0.00850809, 0.01697244],\n",
              "       [0.00814432, 0.00696516, 0.01039181, 0.0153573 ],\n",
              "       [0.00900086, 0.00570259, 0.01269259, 0.00931467],\n",
              "       [0.02988391, 0.01269135, 0.04214087, 0.01389586],\n",
              "       [0.02988391, 0.00382256, 0.05147097, 0.0153573 ],\n",
              "       [0.0054593 , 0.00256234, 0.00769844, 0.00690048],\n",
              "       [0.01342771, 0.00696516, 0.01550276, 0.0153573 ],\n",
              "       [0.00365948, 0.00466889, 0.00696584, 0.01137697],\n",
              "       [0.02988391, 0.00466889, 0.04214087, 0.01137697],\n",
              "       [0.00736928, 0.00422458, 0.00696584, 0.00931467],\n",
              "       [0.01099368, 0.00769769, 0.01550276, 0.01257349],\n",
              "       [0.01812551, 0.00696516, 0.02092654, 0.00931467],\n",
              "       [0.006668  , 0.00466889, 0.00630295, 0.00931467],\n",
              "       [0.00603346, 0.00570259, 0.00696584, 0.00931467],\n",
              "       [0.00814432, 0.00466889, 0.01402748, 0.01257349],\n",
              "       [0.01812551, 0.00570259, 0.0171332 , 0.00762621],\n",
              "       [0.02213855, 0.00466889, 0.0231274 , 0.0102943 ],\n",
              "       [0.0365003 , 0.01269135, 0.03121872, 0.01137697],\n",
              "       [0.00814432, 0.00466889, 0.01402748, 0.01389586],\n",
              "       [0.00736928, 0.00466889, 0.00850809, 0.00690048],\n",
              "       [0.00603346, 0.00382256, 0.01402748, 0.00624381],\n",
              "       [0.02988391, 0.00570259, 0.0231274 , 0.0153573 ],\n",
              "       [0.00736928, 0.00850727, 0.01402748, 0.01697244],\n",
              "       [0.00814432, 0.00630234, 0.01269259, 0.00931467],\n",
              "       [0.0054593 , 0.00570259, 0.00630295, 0.00931467],\n",
              "       [0.01342771, 0.00630234, 0.01148473, 0.01257349],\n",
              "       [0.01099368, 0.00630234, 0.01402748, 0.01697244],\n",
              "       [0.01342771, 0.00630234, 0.00850809, 0.0153573 ],\n",
              "       [0.0044697 , 0.00422458, 0.00850809, 0.0102943 ],\n",
              "       [0.01214989, 0.00696516, 0.01893511, 0.0153573 ],\n",
              "       [0.01099368, 0.00769769, 0.01550276, 0.01875745],\n",
              "       [0.01099368, 0.00570259, 0.0094029 , 0.0153573 ],\n",
              "       [0.00736928, 0.0034588 , 0.00769844, 0.0102943 ],\n",
              "       [0.00900086, 0.00570259, 0.0094029 , 0.01137697],\n",
              "       [0.006668  , 0.00850727, 0.01148473, 0.0153573 ],\n",
              "       [0.00493978, 0.00570259, 0.00850809, 0.00931467]])"
            ]
          },
          "metadata": {
            "tags": []
          },
          "execution_count": 29
        }
      ]
    },
    {
      "cell_type": "code",
      "metadata": {
        "id": "mXKTr85AZaLL",
        "colab": {
          "base_uri": "https://localhost:8080/"
        },
        "outputId": "2239f011-d195-456e-b4e4-22bb2c116cac"
      },
      "source": [
        "# Solution from the website\r\n",
        "print(\"Solution from the website\")\r\n",
        "\r\n",
        "def softmax(x):\r\n",
        "    \"\"\"Compute softmax values for each sets of scores in x.\r\n",
        "    https://stackoverflow.com/questions/34968722/how-to-implement-the-softmax-function-in-python\"\"\"\r\n",
        "    e_x = np.exp(x - np.max(x))\r\n",
        "    return e_x / e_x.sum(axis=0) # columns\r\n",
        "\r\n",
        "print(softmax(iris).sum())\r\n",
        "print(softmax(iris))"
      ],
      "execution_count": 30,
      "outputs": [
        {
          "output_type": "stream",
          "text": [
            "Solution from the website\n",
            "4.0\n",
            "[[0.00221959 0.00940198 0.00021035 0.0018806 ]\n",
            " [0.00181724 0.00570259 0.00021035 0.0018806 ]\n",
            " [0.00148783 0.00696516 0.00019033 0.0018806 ]\n",
            " [0.00134625 0.00630234 0.00023247 0.0018806 ]\n",
            " [0.00200836 0.0103908  0.00021035 0.0018806 ]\n",
            " [0.00299613 0.01402611 0.00028394 0.00229697]\n",
            " [0.00134625 0.00850727 0.00021035 0.00207838]\n",
            " [0.00200836 0.00850727 0.00023247 0.0018806 ]\n",
            " [0.00110221 0.00515992 0.00021035 0.0018806 ]\n",
            " [0.00181724 0.00630234 0.00023247 0.00170164]\n",
            " [0.00299613 0.01148361 0.00023247 0.0018806 ]\n",
            " [0.00164431 0.00850727 0.00025692 0.0018806 ]\n",
            " [0.00164431 0.00570259 0.00021035 0.00170164]\n",
            " [0.00099732 0.00570259 0.00015583 0.00170164]\n",
            " [0.0044697  0.01550125 0.00017222 0.0018806 ]\n",
            " [0.00404435 0.02312514 0.00023247 0.00229697]\n",
            " [0.00299613 0.01402611 0.00019033 0.00229697]\n",
            " [0.00221959 0.00940198 0.00021035 0.00207838]\n",
            " [0.00404435 0.01269135 0.00028394 0.00207838]\n",
            " [0.00221959 0.01269135 0.00023247 0.00207838]\n",
            " [0.00299613 0.00850727 0.00028394 0.0018806 ]\n",
            " [0.00221959 0.01148361 0.00023247 0.00229697]\n",
            " [0.00134625 0.0103908  0.000141   0.0018806 ]\n",
            " [0.00221959 0.00769769 0.00028394 0.00253854]\n",
            " [0.00164431 0.00850727 0.00034681 0.0018806 ]\n",
            " [0.00200836 0.00570259 0.00025692 0.0018806 ]\n",
            " [0.00200836 0.00850727 0.00025692 0.00229697]\n",
            " [0.00245302 0.00940198 0.00023247 0.0018806 ]\n",
            " [0.00245302 0.00850727 0.00021035 0.0018806 ]\n",
            " [0.00148783 0.00696516 0.00025692 0.0018806 ]\n",
            " [0.00164431 0.00630234 0.00025692 0.0018806 ]\n",
            " [0.00299613 0.00850727 0.00023247 0.00229697]\n",
            " [0.00245302 0.01713153 0.00023247 0.00170164]\n",
            " [0.00331123 0.01893327 0.00021035 0.0018806 ]\n",
            " [0.00181724 0.00630234 0.00023247 0.0018806 ]\n",
            " [0.00200836 0.00696516 0.00017222 0.0018806 ]\n",
            " [0.00331123 0.00940198 0.00019033 0.0018806 ]\n",
            " [0.00181724 0.0103908  0.00021035 0.00170164]\n",
            " [0.00110221 0.00570259 0.00019033 0.0018806 ]\n",
            " [0.00221959 0.00850727 0.00023247 0.0018806 ]\n",
            " [0.00200836 0.00940198 0.00019033 0.00207838]\n",
            " [0.00121813 0.00283182 0.00019033 0.00207838]\n",
            " [0.00110221 0.00696516 0.00019033 0.0018806 ]\n",
            " [0.00200836 0.00940198 0.00025692 0.00280553]\n",
            " [0.00221959 0.01269135 0.00034681 0.00229697]\n",
            " [0.00164431 0.00570259 0.00021035 0.00207838]\n",
            " [0.00221959 0.01269135 0.00025692 0.0018806 ]\n",
            " [0.00134625 0.00696516 0.00021035 0.0018806 ]\n",
            " [0.00271101 0.01148361 0.00023247 0.0018806 ]\n",
            " [0.00200836 0.00769769 0.00021035 0.0018806 ]\n",
            " [0.01483991 0.00696516 0.00570315 0.00624381]\n",
            " [0.00814432 0.00696516 0.00466934 0.00690048]\n",
            " [0.01342771 0.00630234 0.00696584 0.00690048]\n",
            " [0.00331123 0.00283182 0.0028321  0.00564963]\n",
            " [0.00900086 0.00466889 0.00516042 0.00690048]\n",
            " [0.00404435 0.00466889 0.00466934 0.00564963]\n",
            " [0.00736928 0.00769769 0.00570315 0.00762621]\n",
            " [0.00181724 0.00312965 0.00140638 0.00418535]\n",
            " [0.00994749 0.00515992 0.00516042 0.00564963]\n",
            " [0.00245302 0.00422458 0.00256259 0.00624381]\n",
            " [0.00200836 0.00209787 0.00171775 0.00418535]\n",
            " [0.00493978 0.00570259 0.00345913 0.00690048]\n",
            " [0.0054593  0.00256234 0.0028321  0.00418535]\n",
            " [0.00603346 0.00515992 0.00570315 0.00624381]\n",
            " [0.00365948 0.00515992 0.00189841 0.00564963]\n",
            " [0.01099368 0.00630234 0.00422499 0.00624381]\n",
            " [0.00365948 0.00570259 0.00466934 0.00690048]\n",
            " [0.0044697  0.00422458 0.00312995 0.00418535]\n",
            " [0.006668   0.00256234 0.00466934 0.00690048]\n",
            " [0.00365948 0.0034588  0.00256259 0.00462553]\n",
            " [0.00493978 0.00696516 0.00630295 0.00931467]\n",
            " [0.00603346 0.00466889 0.0028321  0.00564963]\n",
            " [0.00736928 0.0034588  0.00696584 0.00690048]\n",
            " [0.00603346 0.00466889 0.00570315 0.005112  ]\n",
            " [0.00814432 0.00515992 0.00382293 0.00564963]\n",
            " [0.00994749 0.00570259 0.00422499 0.00624381]\n",
            " [0.01214989 0.00466889 0.00630295 0.00624381]\n",
            " [0.01099368 0.00570259 0.00769844 0.00842826]\n",
            " [0.0054593  0.00515992 0.00466934 0.00690048]\n",
            " [0.00404435 0.00382256 0.00171775 0.00418535]\n",
            " [0.00331123 0.00312965 0.00231873 0.00462553]\n",
            " [0.00331123 0.00312965 0.00209807 0.00418535]\n",
            " [0.0044697  0.00422458 0.00256259 0.005112  ]\n",
            " [0.0054593  0.00422458 0.00850809 0.00762621]\n",
            " [0.00299613 0.00570259 0.00466934 0.00690048]\n",
            " [0.0054593  0.00850727 0.00466934 0.00762621]\n",
            " [0.01099368 0.00630234 0.00570315 0.00690048]\n",
            " [0.00736928 0.00283182 0.00422499 0.00564963]\n",
            " [0.00365948 0.00570259 0.00312995 0.00564963]\n",
            " [0.00331123 0.0034588  0.0028321  0.00564963]\n",
            " [0.00331123 0.00382256 0.00422499 0.005112  ]\n",
            " [0.00603346 0.00570259 0.00516042 0.00624381]\n",
            " [0.0044697  0.00382256 0.0028321  0.005112  ]\n",
            " [0.00200836 0.00283182 0.00140638 0.00418535]\n",
            " [0.00365948 0.00422458 0.00345913 0.00564963]\n",
            " [0.00404435 0.00570259 0.00345913 0.005112  ]\n",
            " [0.00404435 0.00515992 0.00345913 0.00564963]\n",
            " [0.006668   0.00515992 0.00382293 0.00564963]\n",
            " [0.00221959 0.0034588  0.00104187 0.00462553]\n",
            " [0.00404435 0.00466889 0.00312995 0.00564963]\n",
            " [0.00736928 0.00769769 0.02092654 0.01875745]\n",
            " [0.0044697  0.00422458 0.00850809 0.0102943 ]\n",
            " [0.01640064 0.00570259 0.01893511 0.01257349]\n",
            " [0.00736928 0.00515992 0.01402748 0.00931467]\n",
            " [0.00900086 0.00570259 0.0171332  0.01389586]\n",
            " [0.02704008 0.00570259 0.03813063 0.01257349]\n",
            " [0.00181724 0.0034588  0.00466934 0.00842826]\n",
            " [0.02003179 0.00515992 0.02824787 0.00931467]\n",
            " [0.01099368 0.0034588  0.0171332  0.00931467]\n",
            " [0.01812551 0.0103908  0.0231274  0.01875745]\n",
            " [0.00900086 0.00696516 0.00850809 0.01137697]\n",
            " [0.00814432 0.00422458 0.01039181 0.0102943 ]\n",
            " [0.01214989 0.00570259 0.01269259 0.01257349]\n",
            " [0.00404435 0.0034588  0.00769844 0.01137697]\n",
            " [0.0044697  0.00466889 0.00850809 0.01697244]\n",
            " [0.00814432 0.00696516 0.01039181 0.0153573 ]\n",
            " [0.00900086 0.00570259 0.01269259 0.00931467]\n",
            " [0.02988391 0.01269135 0.04214087 0.01389586]\n",
            " [0.02988391 0.00382256 0.05147097 0.0153573 ]\n",
            " [0.0054593  0.00256234 0.00769844 0.00690048]\n",
            " [0.01342771 0.00696516 0.01550276 0.0153573 ]\n",
            " [0.00365948 0.00466889 0.00696584 0.01137697]\n",
            " [0.02988391 0.00466889 0.04214087 0.01137697]\n",
            " [0.00736928 0.00422458 0.00696584 0.00931467]\n",
            " [0.01099368 0.00769769 0.01550276 0.01257349]\n",
            " [0.01812551 0.00696516 0.02092654 0.00931467]\n",
            " [0.006668   0.00466889 0.00630295 0.00931467]\n",
            " [0.00603346 0.00570259 0.00696584 0.00931467]\n",
            " [0.00814432 0.00466889 0.01402748 0.01257349]\n",
            " [0.01812551 0.00570259 0.0171332  0.00762621]\n",
            " [0.02213855 0.00466889 0.0231274  0.0102943 ]\n",
            " [0.0365003  0.01269135 0.03121872 0.01137697]\n",
            " [0.00814432 0.00466889 0.01402748 0.01389586]\n",
            " [0.00736928 0.00466889 0.00850809 0.00690048]\n",
            " [0.00603346 0.00382256 0.01402748 0.00624381]\n",
            " [0.02988391 0.00570259 0.0231274  0.0153573 ]\n",
            " [0.00736928 0.00850727 0.01402748 0.01697244]\n",
            " [0.00814432 0.00630234 0.01269259 0.00931467]\n",
            " [0.0054593  0.00570259 0.00630295 0.00931467]\n",
            " [0.01342771 0.00630234 0.01148473 0.01257349]\n",
            " [0.01099368 0.00630234 0.01402748 0.01697244]\n",
            " [0.01342771 0.00630234 0.00850809 0.0153573 ]\n",
            " [0.0044697  0.00422458 0.00850809 0.0102943 ]\n",
            " [0.01214989 0.00696516 0.01893511 0.0153573 ]\n",
            " [0.01099368 0.00769769 0.01550276 0.01875745]\n",
            " [0.01099368 0.00570259 0.0094029  0.0153573 ]\n",
            " [0.00736928 0.0034588  0.00769844 0.0102943 ]\n",
            " [0.00900086 0.00570259 0.0094029  0.01137697]\n",
            " [0.006668   0.00850727 0.01148473 0.0153573 ]\n",
            " [0.00493978 0.00570259 0.00850809 0.00931467]]\n"
          ],
          "name": "stdout"
        }
      ]
    },
    {
      "cell_type": "code",
      "metadata": {
        "id": "S5E7xIx0anSn",
        "colab": {
          "base_uri": "https://localhost:8080/"
        },
        "outputId": "8324aa4e-d321-44f9-ff0a-c688ebbe2727"
      },
      "source": [
        "pd.DataFrame(iris)[0]"
      ],
      "execution_count": 31,
      "outputs": [
        {
          "output_type": "execute_result",
          "data": {
            "text/plain": [
              "0      5.1\n",
              "1      4.9\n",
              "2      4.7\n",
              "3      4.6\n",
              "4      5.0\n",
              "      ... \n",
              "145    6.7\n",
              "146    6.3\n",
              "147    6.5\n",
              "148    6.2\n",
              "149    5.9\n",
              "Name: 0, Length: 150, dtype: float64"
            ]
          },
          "metadata": {
            "tags": []
          },
          "execution_count": 31
        }
      ]
    },
    {
      "cell_type": "code",
      "metadata": {
        "id": "JbLPVtX6anfJ",
        "colab": {
          "base_uri": "https://localhost:8080/"
        },
        "outputId": "38868b0f-363f-4474-e2e8-e186be9bac34"
      },
      "source": [
        "softmax(pd.DataFrame(iris)[0])"
      ],
      "execution_count": 32,
      "outputs": [
        {
          "output_type": "execute_result",
          "data": {
            "text/plain": [
              "0      0.002220\n",
              "1      0.001817\n",
              "2      0.001488\n",
              "3      0.001346\n",
              "4      0.002008\n",
              "         ...   \n",
              "145    0.010994\n",
              "146    0.007369\n",
              "147    0.009001\n",
              "148    0.006668\n",
              "149    0.004940\n",
              "Name: 0, Length: 150, dtype: float64"
            ]
          },
          "metadata": {
            "tags": []
          },
          "execution_count": 32
        }
      ]
    },
    {
      "cell_type": "code",
      "metadata": {
        "id": "hcfCUWJvaplA",
        "colab": {
          "base_uri": "https://localhost:8080/"
        },
        "outputId": "6c01f599-bec8-4520-ea8c-efae612d6a8f"
      },
      "source": [
        "softmax(pd.DataFrame(iris)[0]).sum(axis = 0)"
      ],
      "execution_count": 33,
      "outputs": [
        {
          "output_type": "execute_result",
          "data": {
            "text/plain": [
              "1.0000000000000002"
            ]
          },
          "metadata": {
            "tags": []
          },
          "execution_count": 33
        }
      ]
    },
    {
      "cell_type": "markdown",
      "metadata": {
        "id": "JMoUF_mPa8YJ"
      },
      "source": [
        "## 31. How to find the percentile scores of a numpy array?"
      ]
    },
    {
      "cell_type": "code",
      "metadata": {
        "id": "q_H0mGLvbAyt",
        "colab": {
          "base_uri": "https://localhost:8080/"
        },
        "outputId": "e21559ca-3827-45ee-8828-ee6eaee64ffc"
      },
      "source": [
        "# Q. Find the 5th and 95th percentile of iris's sepallength\r\n",
        "\r\n",
        "# Solution\r\n",
        "iris = np.genfromtxt('iris_new.csv', delimiter=',', skip_header=1, usecols = [1])\r\n",
        "\r\n",
        "iris"
      ],
      "execution_count": 34,
      "outputs": [
        {
          "output_type": "execute_result",
          "data": {
            "text/plain": [
              "array([5.1, 4.9, 4.7, 4.6, 5. , 5.4, 4.6, 5. , 4.4, 4.9, 5.4, 4.8, 4.8,\n",
              "       4.3, 5.8, 5.7, 5.4, 5.1, 5.7, 5.1, 5.4, 5.1, 4.6, 5.1, 4.8, 5. ,\n",
              "       5. , 5.2, 5.2, 4.7, 4.8, 5.4, 5.2, 5.5, 4.9, 5. , 5.5, 4.9, 4.4,\n",
              "       5.1, 5. , 4.5, 4.4, 5. , 5.1, 4.8, 5.1, 4.6, 5.3, 5. , 7. , 6.4,\n",
              "       6.9, 5.5, 6.5, 5.7, 6.3, 4.9, 6.6, 5.2, 5. , 5.9, 6. , 6.1, 5.6,\n",
              "       6.7, 5.6, 5.8, 6.2, 5.6, 5.9, 6.1, 6.3, 6.1, 6.4, 6.6, 6.8, 6.7,\n",
              "       6. , 5.7, 5.5, 5.5, 5.8, 6. , 5.4, 6. , 6.7, 6.3, 5.6, 5.5, 5.5,\n",
              "       6.1, 5.8, 5. , 5.6, 5.7, 5.7, 6.2, 5.1, 5.7, 6.3, 5.8, 7.1, 6.3,\n",
              "       6.5, 7.6, 4.9, 7.3, 6.7, 7.2, 6.5, 6.4, 6.8, 5.7, 5.8, 6.4, 6.5,\n",
              "       7.7, 7.7, 6. , 6.9, 5.6, 7.7, 6.3, 6.7, 7.2, 6.2, 6.1, 6.4, 7.2,\n",
              "       7.4, 7.9, 6.4, 6.3, 6.1, 7.7, 6.3, 6.4, 6. , 6.9, 6.7, 6.9, 5.8,\n",
              "       6.8, 6.7, 6.7, 6.3, 6.5, 6.2, 5.9])"
            ]
          },
          "metadata": {
            "tags": []
          },
          "execution_count": 34
        }
      ]
    },
    {
      "cell_type": "code",
      "metadata": {
        "id": "HONdnxwgcx6R",
        "colab": {
          "base_uri": "https://localhost:8080/"
        },
        "outputId": "17bb8c7e-86fa-4601-ff55-da20be7b795a"
      },
      "source": [
        "np.percentile(iris, q = [5, 95])"
      ],
      "execution_count": 35,
      "outputs": [
        {
          "output_type": "execute_result",
          "data": {
            "text/plain": [
              "array([4.6  , 7.255])"
            ]
          },
          "metadata": {
            "tags": []
          },
          "execution_count": 35
        }
      ]
    },
    {
      "cell_type": "markdown",
      "metadata": {
        "id": "lYtX-fI5hrEf"
      },
      "source": [
        "## 32. How to insert values at random positions in an array?"
      ]
    },
    {
      "cell_type": "code",
      "metadata": {
        "id": "fSnSiU69mhWP",
        "colab": {
          "base_uri": "https://localhost:8080/"
        },
        "outputId": "342756eb-523c-4859-abe6-0705677f0c2f"
      },
      "source": [
        "# Q. Insert np.nan values at 20 random positions in iris_2d dataset\r\n",
        "\r\n",
        "# Solution\r\n",
        "iris = np.genfromtxt('iris_new.csv', delimiter=',', skip_header=1, usecols = [1, 2, 3, 4])\r\n",
        "index = np.random.randint(0, 150, 20)\r\n",
        "\r\n",
        "index"
      ],
      "execution_count": 36,
      "outputs": [
        {
          "output_type": "execute_result",
          "data": {
            "text/plain": [
              "array([ 27,  67, 137, 129,  56,  12, 141, 131, 112, 113,  56,   8,  14,\n",
              "       141,  67,  83, 107,  58,  36,  76])"
            ]
          },
          "metadata": {
            "tags": []
          },
          "execution_count": 36
        }
      ]
    },
    {
      "cell_type": "code",
      "metadata": {
        "id": "Z9wswCvJmp1Y",
        "colab": {
          "base_uri": "https://localhost:8080/"
        },
        "outputId": "44b5fcbe-46c7-4b0a-ccdd-186c1998387c"
      },
      "source": [
        "iris[index] = np.nan\r\n",
        "\r\n",
        "iris"
      ],
      "execution_count": 37,
      "outputs": [
        {
          "output_type": "execute_result",
          "data": {
            "text/plain": [
              "array([[5.1, 3.5, 1.4, 0.2],\n",
              "       [4.9, 3. , 1.4, 0.2],\n",
              "       [4.7, 3.2, 1.3, 0.2],\n",
              "       [4.6, 3.1, 1.5, 0.2],\n",
              "       [5. , 3.6, 1.4, 0.2],\n",
              "       [5.4, 3.9, 1.7, 0.4],\n",
              "       [4.6, 3.4, 1.4, 0.3],\n",
              "       [5. , 3.4, 1.5, 0.2],\n",
              "       [nan, nan, nan, nan],\n",
              "       [4.9, 3.1, 1.5, 0.1],\n",
              "       [5.4, 3.7, 1.5, 0.2],\n",
              "       [4.8, 3.4, 1.6, 0.2],\n",
              "       [nan, nan, nan, nan],\n",
              "       [4.3, 3. , 1.1, 0.1],\n",
              "       [nan, nan, nan, nan],\n",
              "       [5.7, 4.4, 1.5, 0.4],\n",
              "       [5.4, 3.9, 1.3, 0.4],\n",
              "       [5.1, 3.5, 1.4, 0.3],\n",
              "       [5.7, 3.8, 1.7, 0.3],\n",
              "       [5.1, 3.8, 1.5, 0.3],\n",
              "       [5.4, 3.4, 1.7, 0.2],\n",
              "       [5.1, 3.7, 1.5, 0.4],\n",
              "       [4.6, 3.6, 1. , 0.2],\n",
              "       [5.1, 3.3, 1.7, 0.5],\n",
              "       [4.8, 3.4, 1.9, 0.2],\n",
              "       [5. , 3. , 1.6, 0.2],\n",
              "       [5. , 3.4, 1.6, 0.4],\n",
              "       [nan, nan, nan, nan],\n",
              "       [5.2, 3.4, 1.4, 0.2],\n",
              "       [4.7, 3.2, 1.6, 0.2],\n",
              "       [4.8, 3.1, 1.6, 0.2],\n",
              "       [5.4, 3.4, 1.5, 0.4],\n",
              "       [5.2, 4.1, 1.5, 0.1],\n",
              "       [5.5, 4.2, 1.4, 0.2],\n",
              "       [4.9, 3.1, 1.5, 0.2],\n",
              "       [5. , 3.2, 1.2, 0.2],\n",
              "       [nan, nan, nan, nan],\n",
              "       [4.9, 3.6, 1.4, 0.1],\n",
              "       [4.4, 3. , 1.3, 0.2],\n",
              "       [5.1, 3.4, 1.5, 0.2],\n",
              "       [5. , 3.5, 1.3, 0.3],\n",
              "       [4.5, 2.3, 1.3, 0.3],\n",
              "       [4.4, 3.2, 1.3, 0.2],\n",
              "       [5. , 3.5, 1.6, 0.6],\n",
              "       [5.1, 3.8, 1.9, 0.4],\n",
              "       [4.8, 3. , 1.4, 0.3],\n",
              "       [5.1, 3.8, 1.6, 0.2],\n",
              "       [4.6, 3.2, 1.4, 0.2],\n",
              "       [5.3, 3.7, 1.5, 0.2],\n",
              "       [5. , 3.3, 1.4, 0.2],\n",
              "       [7. , 3.2, 4.7, 1.4],\n",
              "       [6.4, 3.2, 4.5, 1.5],\n",
              "       [6.9, 3.1, 4.9, 1.5],\n",
              "       [5.5, 2.3, 4. , 1.3],\n",
              "       [6.5, 2.8, 4.6, 1.5],\n",
              "       [5.7, 2.8, 4.5, 1.3],\n",
              "       [nan, nan, nan, nan],\n",
              "       [4.9, 2.4, 3.3, 1. ],\n",
              "       [nan, nan, nan, nan],\n",
              "       [5.2, 2.7, 3.9, 1.4],\n",
              "       [5. , 2. , 3.5, 1. ],\n",
              "       [5.9, 3. , 4.2, 1.5],\n",
              "       [6. , 2.2, 4. , 1. ],\n",
              "       [6.1, 2.9, 4.7, 1.4],\n",
              "       [5.6, 2.9, 3.6, 1.3],\n",
              "       [6.7, 3.1, 4.4, 1.4],\n",
              "       [5.6, 3. , 4.5, 1.5],\n",
              "       [nan, nan, nan, nan],\n",
              "       [6.2, 2.2, 4.5, 1.5],\n",
              "       [5.6, 2.5, 3.9, 1.1],\n",
              "       [5.9, 3.2, 4.8, 1.8],\n",
              "       [6.1, 2.8, 4. , 1.3],\n",
              "       [6.3, 2.5, 4.9, 1.5],\n",
              "       [6.1, 2.8, 4.7, 1.2],\n",
              "       [6.4, 2.9, 4.3, 1.3],\n",
              "       [6.6, 3. , 4.4, 1.4],\n",
              "       [nan, nan, nan, nan],\n",
              "       [6.7, 3. , 5. , 1.7],\n",
              "       [6. , 2.9, 4.5, 1.5],\n",
              "       [5.7, 2.6, 3.5, 1. ],\n",
              "       [5.5, 2.4, 3.8, 1.1],\n",
              "       [5.5, 2.4, 3.7, 1. ],\n",
              "       [5.8, 2.7, 3.9, 1.2],\n",
              "       [nan, nan, nan, nan],\n",
              "       [5.4, 3. , 4.5, 1.5],\n",
              "       [6. , 3.4, 4.5, 1.6],\n",
              "       [6.7, 3.1, 4.7, 1.5],\n",
              "       [6.3, 2.3, 4.4, 1.3],\n",
              "       [5.6, 3. , 4.1, 1.3],\n",
              "       [5.5, 2.5, 4. , 1.3],\n",
              "       [5.5, 2.6, 4.4, 1.2],\n",
              "       [6.1, 3. , 4.6, 1.4],\n",
              "       [5.8, 2.6, 4. , 1.2],\n",
              "       [5. , 2.3, 3.3, 1. ],\n",
              "       [5.6, 2.7, 4.2, 1.3],\n",
              "       [5.7, 3. , 4.2, 1.2],\n",
              "       [5.7, 2.9, 4.2, 1.3],\n",
              "       [6.2, 2.9, 4.3, 1.3],\n",
              "       [5.1, 2.5, 3. , 1.1],\n",
              "       [5.7, 2.8, 4.1, 1.3],\n",
              "       [6.3, 3.3, 6. , 2.5],\n",
              "       [5.8, 2.7, 5.1, 1.9],\n",
              "       [7.1, 3. , 5.9, 2.1],\n",
              "       [6.3, 2.9, 5.6, 1.8],\n",
              "       [6.5, 3. , 5.8, 2.2],\n",
              "       [7.6, 3. , 6.6, 2.1],\n",
              "       [4.9, 2.5, 4.5, 1.7],\n",
              "       [nan, nan, nan, nan],\n",
              "       [6.7, 2.5, 5.8, 1.8],\n",
              "       [7.2, 3.6, 6.1, 2.5],\n",
              "       [6.5, 3.2, 5.1, 2. ],\n",
              "       [6.4, 2.7, 5.3, 1.9],\n",
              "       [nan, nan, nan, nan],\n",
              "       [nan, nan, nan, nan],\n",
              "       [5.8, 2.8, 5.1, 2.4],\n",
              "       [6.4, 3.2, 5.3, 2.3],\n",
              "       [6.5, 3. , 5.5, 1.8],\n",
              "       [7.7, 3.8, 6.7, 2.2],\n",
              "       [7.7, 2.6, 6.9, 2.3],\n",
              "       [6. , 2.2, 5. , 1.5],\n",
              "       [6.9, 3.2, 5.7, 2.3],\n",
              "       [5.6, 2.8, 4.9, 2. ],\n",
              "       [7.7, 2.8, 6.7, 2. ],\n",
              "       [6.3, 2.7, 4.9, 1.8],\n",
              "       [6.7, 3.3, 5.7, 2.1],\n",
              "       [7.2, 3.2, 6. , 1.8],\n",
              "       [6.2, 2.8, 4.8, 1.8],\n",
              "       [6.1, 3. , 4.9, 1.8],\n",
              "       [6.4, 2.8, 5.6, 2.1],\n",
              "       [nan, nan, nan, nan],\n",
              "       [7.4, 2.8, 6.1, 1.9],\n",
              "       [nan, nan, nan, nan],\n",
              "       [6.4, 2.8, 5.6, 2.2],\n",
              "       [6.3, 2.8, 5.1, 1.5],\n",
              "       [6.1, 2.6, 5.6, 1.4],\n",
              "       [7.7, 3. , 6.1, 2.3],\n",
              "       [6.3, 3.4, 5.6, 2.4],\n",
              "       [nan, nan, nan, nan],\n",
              "       [6. , 3. , 4.8, 1.8],\n",
              "       [6.9, 3.1, 5.4, 2.1],\n",
              "       [6.7, 3.1, 5.6, 2.4],\n",
              "       [nan, nan, nan, nan],\n",
              "       [5.8, 2.7, 5.1, 1.9],\n",
              "       [6.8, 3.2, 5.9, 2.3],\n",
              "       [6.7, 3.3, 5.7, 2.5],\n",
              "       [6.7, 3. , 5.2, 2.3],\n",
              "       [6.3, 2.5, 5. , 1.9],\n",
              "       [6.5, 3. , 5.2, 2. ],\n",
              "       [6.2, 3.4, 5.4, 2.3],\n",
              "       [5.9, 3. , 5.1, 1.8]])"
            ]
          },
          "metadata": {
            "tags": []
          },
          "execution_count": 37
        }
      ]
    },
    {
      "cell_type": "code",
      "metadata": {
        "id": "KwiR3Plamw_F",
        "colab": {
          "base_uri": "https://localhost:8080/"
        },
        "outputId": "2b16700d-e0f6-44c6-fd95-1210591ab4cc"
      },
      "source": [
        "# Solution from the website\r\n",
        "print(\"Another solution from the website\")\r\n",
        "\r\n",
        "iris = np.genfromtxt('iris_new.csv', delimiter=',', skip_header=1, usecols = [1, 2, 3, 4])\r\n",
        "\r\n",
        "# 행 열 위치를 반환\r\n",
        "i, j = np.where(iris) # get the index of all 600 elements of the array\r\n",
        "\r\n",
        "# i,j에 대해 랜덤하게 20개 nan위치를 생성\r\n",
        "nan_index = [np.random.choice((i), 20), np.random.choice((j), 20)] # get some random values for each row and column\r\n",
        "\r\n",
        "nan_index"
      ],
      "execution_count": 38,
      "outputs": [
        {
          "output_type": "stream",
          "text": [
            "Another solution from the website\n"
          ],
          "name": "stdout"
        },
        {
          "output_type": "execute_result",
          "data": {
            "text/plain": [
              "[array([125,  58,  30, 126,  62,  63,  42, 102,  51,  30, 127, 137,  92,\n",
              "          8,  72, 115,  28,  28, 117, 128]),\n",
              " array([1, 3, 2, 3, 0, 1, 1, 0, 2, 0, 2, 3, 2, 0, 2, 2, 0, 3, 1, 2])]"
            ]
          },
          "metadata": {
            "tags": []
          },
          "execution_count": 38
        }
      ]
    },
    {
      "cell_type": "code",
      "metadata": {
        "id": "5PPvpdHOm04p",
        "colab": {
          "base_uri": "https://localhost:8080/"
        },
        "outputId": "a83e028e-ef03-4ae7-fb53-d197b068859d"
      },
      "source": [
        "iris[nan_index] = np.nan\r\n",
        "iris"
      ],
      "execution_count": 39,
      "outputs": [
        {
          "output_type": "stream",
          "text": [
            "/usr/local/lib/python3.6/dist-packages/ipykernel_launcher.py:1: FutureWarning: Using a non-tuple sequence for multidimensional indexing is deprecated; use `arr[tuple(seq)]` instead of `arr[seq]`. In the future this will be interpreted as an array index, `arr[np.array(seq)]`, which will result either in an error or a different result.\n",
            "  \"\"\"Entry point for launching an IPython kernel.\n"
          ],
          "name": "stderr"
        },
        {
          "output_type": "execute_result",
          "data": {
            "text/plain": [
              "array([[5.1, 3.5, 1.4, 0.2],\n",
              "       [4.9, 3. , 1.4, 0.2],\n",
              "       [4.7, 3.2, 1.3, 0.2],\n",
              "       [4.6, 3.1, 1.5, 0.2],\n",
              "       [5. , 3.6, 1.4, 0.2],\n",
              "       [5.4, 3.9, 1.7, 0.4],\n",
              "       [4.6, 3.4, 1.4, 0.3],\n",
              "       [5. , 3.4, 1.5, 0.2],\n",
              "       [nan, 2.9, 1.4, 0.2],\n",
              "       [4.9, 3.1, 1.5, 0.1],\n",
              "       [5.4, 3.7, 1.5, 0.2],\n",
              "       [4.8, 3.4, 1.6, 0.2],\n",
              "       [4.8, 3. , 1.4, 0.1],\n",
              "       [4.3, 3. , 1.1, 0.1],\n",
              "       [5.8, 4. , 1.2, 0.2],\n",
              "       [5.7, 4.4, 1.5, 0.4],\n",
              "       [5.4, 3.9, 1.3, 0.4],\n",
              "       [5.1, 3.5, 1.4, 0.3],\n",
              "       [5.7, 3.8, 1.7, 0.3],\n",
              "       [5.1, 3.8, 1.5, 0.3],\n",
              "       [5.4, 3.4, 1.7, 0.2],\n",
              "       [5.1, 3.7, 1.5, 0.4],\n",
              "       [4.6, 3.6, 1. , 0.2],\n",
              "       [5.1, 3.3, 1.7, 0.5],\n",
              "       [4.8, 3.4, 1.9, 0.2],\n",
              "       [5. , 3. , 1.6, 0.2],\n",
              "       [5. , 3.4, 1.6, 0.4],\n",
              "       [5.2, 3.5, 1.5, 0.2],\n",
              "       [nan, 3.4, 1.4, nan],\n",
              "       [4.7, 3.2, 1.6, 0.2],\n",
              "       [nan, 3.1, nan, 0.2],\n",
              "       [5.4, 3.4, 1.5, 0.4],\n",
              "       [5.2, 4.1, 1.5, 0.1],\n",
              "       [5.5, 4.2, 1.4, 0.2],\n",
              "       [4.9, 3.1, 1.5, 0.2],\n",
              "       [5. , 3.2, 1.2, 0.2],\n",
              "       [5.5, 3.5, 1.3, 0.2],\n",
              "       [4.9, 3.6, 1.4, 0.1],\n",
              "       [4.4, 3. , 1.3, 0.2],\n",
              "       [5.1, 3.4, 1.5, 0.2],\n",
              "       [5. , 3.5, 1.3, 0.3],\n",
              "       [4.5, 2.3, 1.3, 0.3],\n",
              "       [4.4, nan, 1.3, 0.2],\n",
              "       [5. , 3.5, 1.6, 0.6],\n",
              "       [5.1, 3.8, 1.9, 0.4],\n",
              "       [4.8, 3. , 1.4, 0.3],\n",
              "       [5.1, 3.8, 1.6, 0.2],\n",
              "       [4.6, 3.2, 1.4, 0.2],\n",
              "       [5.3, 3.7, 1.5, 0.2],\n",
              "       [5. , 3.3, 1.4, 0.2],\n",
              "       [7. , 3.2, 4.7, 1.4],\n",
              "       [6.4, 3.2, nan, 1.5],\n",
              "       [6.9, 3.1, 4.9, 1.5],\n",
              "       [5.5, 2.3, 4. , 1.3],\n",
              "       [6.5, 2.8, 4.6, 1.5],\n",
              "       [5.7, 2.8, 4.5, 1.3],\n",
              "       [6.3, 3.3, 4.7, 1.6],\n",
              "       [4.9, 2.4, 3.3, 1. ],\n",
              "       [6.6, 2.9, 4.6, nan],\n",
              "       [5.2, 2.7, 3.9, 1.4],\n",
              "       [5. , 2. , 3.5, 1. ],\n",
              "       [5.9, 3. , 4.2, 1.5],\n",
              "       [nan, 2.2, 4. , 1. ],\n",
              "       [6.1, nan, 4.7, 1.4],\n",
              "       [5.6, 2.9, 3.6, 1.3],\n",
              "       [6.7, 3.1, 4.4, 1.4],\n",
              "       [5.6, 3. , 4.5, 1.5],\n",
              "       [5.8, 2.7, 4.1, 1. ],\n",
              "       [6.2, 2.2, 4.5, 1.5],\n",
              "       [5.6, 2.5, 3.9, 1.1],\n",
              "       [5.9, 3.2, 4.8, 1.8],\n",
              "       [6.1, 2.8, 4. , 1.3],\n",
              "       [6.3, 2.5, nan, 1.5],\n",
              "       [6.1, 2.8, 4.7, 1.2],\n",
              "       [6.4, 2.9, 4.3, 1.3],\n",
              "       [6.6, 3. , 4.4, 1.4],\n",
              "       [6.8, 2.8, 4.8, 1.4],\n",
              "       [6.7, 3. , 5. , 1.7],\n",
              "       [6. , 2.9, 4.5, 1.5],\n",
              "       [5.7, 2.6, 3.5, 1. ],\n",
              "       [5.5, 2.4, 3.8, 1.1],\n",
              "       [5.5, 2.4, 3.7, 1. ],\n",
              "       [5.8, 2.7, 3.9, 1.2],\n",
              "       [6. , 2.7, 5.1, 1.6],\n",
              "       [5.4, 3. , 4.5, 1.5],\n",
              "       [6. , 3.4, 4.5, 1.6],\n",
              "       [6.7, 3.1, 4.7, 1.5],\n",
              "       [6.3, 2.3, 4.4, 1.3],\n",
              "       [5.6, 3. , 4.1, 1.3],\n",
              "       [5.5, 2.5, 4. , 1.3],\n",
              "       [5.5, 2.6, 4.4, 1.2],\n",
              "       [6.1, 3. , 4.6, 1.4],\n",
              "       [5.8, 2.6, nan, 1.2],\n",
              "       [5. , 2.3, 3.3, 1. ],\n",
              "       [5.6, 2.7, 4.2, 1.3],\n",
              "       [5.7, 3. , 4.2, 1.2],\n",
              "       [5.7, 2.9, 4.2, 1.3],\n",
              "       [6.2, 2.9, 4.3, 1.3],\n",
              "       [5.1, 2.5, 3. , 1.1],\n",
              "       [5.7, 2.8, 4.1, 1.3],\n",
              "       [6.3, 3.3, 6. , 2.5],\n",
              "       [5.8, 2.7, 5.1, 1.9],\n",
              "       [nan, 3. , 5.9, 2.1],\n",
              "       [6.3, 2.9, 5.6, 1.8],\n",
              "       [6.5, 3. , 5.8, 2.2],\n",
              "       [7.6, 3. , 6.6, 2.1],\n",
              "       [4.9, 2.5, 4.5, 1.7],\n",
              "       [7.3, 2.9, 6.3, 1.8],\n",
              "       [6.7, 2.5, 5.8, 1.8],\n",
              "       [7.2, 3.6, 6.1, 2.5],\n",
              "       [6.5, 3.2, 5.1, 2. ],\n",
              "       [6.4, 2.7, 5.3, 1.9],\n",
              "       [6.8, 3. , 5.5, 2.1],\n",
              "       [5.7, 2.5, 5. , 2. ],\n",
              "       [5.8, 2.8, 5.1, 2.4],\n",
              "       [6.4, 3.2, nan, 2.3],\n",
              "       [6.5, 3. , 5.5, 1.8],\n",
              "       [7.7, nan, 6.7, 2.2],\n",
              "       [7.7, 2.6, 6.9, 2.3],\n",
              "       [6. , 2.2, 5. , 1.5],\n",
              "       [6.9, 3.2, 5.7, 2.3],\n",
              "       [5.6, 2.8, 4.9, 2. ],\n",
              "       [7.7, 2.8, 6.7, 2. ],\n",
              "       [6.3, 2.7, 4.9, 1.8],\n",
              "       [6.7, 3.3, 5.7, 2.1],\n",
              "       [7.2, nan, 6. , 1.8],\n",
              "       [6.2, 2.8, 4.8, nan],\n",
              "       [6.1, 3. , nan, 1.8],\n",
              "       [6.4, 2.8, nan, 2.1],\n",
              "       [7.2, 3. , 5.8, 1.6],\n",
              "       [7.4, 2.8, 6.1, 1.9],\n",
              "       [7.9, 3.8, 6.4, 2. ],\n",
              "       [6.4, 2.8, 5.6, 2.2],\n",
              "       [6.3, 2.8, 5.1, 1.5],\n",
              "       [6.1, 2.6, 5.6, 1.4],\n",
              "       [7.7, 3. , 6.1, 2.3],\n",
              "       [6.3, 3.4, 5.6, 2.4],\n",
              "       [6.4, 3.1, 5.5, nan],\n",
              "       [6. , 3. , 4.8, 1.8],\n",
              "       [6.9, 3.1, 5.4, 2.1],\n",
              "       [6.7, 3.1, 5.6, 2.4],\n",
              "       [6.9, 3.1, 5.1, 2.3],\n",
              "       [5.8, 2.7, 5.1, 1.9],\n",
              "       [6.8, 3.2, 5.9, 2.3],\n",
              "       [6.7, 3.3, 5.7, 2.5],\n",
              "       [6.7, 3. , 5.2, 2.3],\n",
              "       [6.3, 2.5, 5. , 1.9],\n",
              "       [6.5, 3. , 5.2, 2. ],\n",
              "       [6.2, 3.4, 5.4, 2.3],\n",
              "       [5.9, 3. , 5.1, 1.8]])"
            ]
          },
          "metadata": {
            "tags": []
          },
          "execution_count": 39
        }
      ]
    },
    {
      "cell_type": "code",
      "metadata": {
        "id": "3Jn4AjienlvO",
        "colab": {
          "base_uri": "https://localhost:8080/"
        },
        "outputId": "1716d8ab-8b5c-494d-ca8f-457076de4990"
      },
      "source": [
        "# Solution 3 from the website\r\n",
        "print(\"Solution 3 from the website\")\r\n",
        "\r\n",
        "iris = np.genfromtxt('iris_new.csv', delimiter=',', skip_header=1, usecols = [1, 2, 3, 4])\r\n",
        "iris[np.random.randint(149, size=20), np.random.randint(4, size=20)] = np.nan\r\n",
        "iris"
      ],
      "execution_count": 40,
      "outputs": [
        {
          "output_type": "stream",
          "text": [
            "Solution 3 from the website\n"
          ],
          "name": "stdout"
        },
        {
          "output_type": "execute_result",
          "data": {
            "text/plain": [
              "array([[5.1, 3.5, 1.4, 0.2],\n",
              "       [4.9, 3. , 1.4, 0.2],\n",
              "       [nan, 3.2, 1.3, 0.2],\n",
              "       [4.6, 3.1, 1.5, 0.2],\n",
              "       [5. , nan, 1.4, 0.2],\n",
              "       [5.4, 3.9, 1.7, 0.4],\n",
              "       [4.6, 3.4, 1.4, 0.3],\n",
              "       [5. , 3.4, 1.5, 0.2],\n",
              "       [4.4, 2.9, 1.4, 0.2],\n",
              "       [4.9, 3.1, 1.5, 0.1],\n",
              "       [5.4, 3.7, 1.5, 0.2],\n",
              "       [4.8, 3.4, 1.6, 0.2],\n",
              "       [4.8, 3. , 1.4, 0.1],\n",
              "       [4.3, 3. , nan, 0.1],\n",
              "       [5.8, 4. , 1.2, 0.2],\n",
              "       [nan, 4.4, 1.5, 0.4],\n",
              "       [5.4, 3.9, 1.3, 0.4],\n",
              "       [5.1, 3.5, 1.4, 0.3],\n",
              "       [5.7, 3.8, 1.7, 0.3],\n",
              "       [5.1, 3.8, 1.5, 0.3],\n",
              "       [5.4, 3.4, 1.7, 0.2],\n",
              "       [5.1, 3.7, 1.5, 0.4],\n",
              "       [4.6, 3.6, 1. , 0.2],\n",
              "       [5.1, 3.3, 1.7, 0.5],\n",
              "       [4.8, 3.4, 1.9, 0.2],\n",
              "       [5. , 3. , 1.6, 0.2],\n",
              "       [5. , 3.4, 1.6, 0.4],\n",
              "       [5.2, 3.5, 1.5, 0.2],\n",
              "       [5.2, 3.4, 1.4, 0.2],\n",
              "       [4.7, 3.2, 1.6, 0.2],\n",
              "       [4.8, 3.1, 1.6, 0.2],\n",
              "       [5.4, 3.4, 1.5, 0.4],\n",
              "       [5.2, 4.1, 1.5, 0.1],\n",
              "       [5.5, 4.2, 1.4, 0.2],\n",
              "       [4.9, 3.1, 1.5, nan],\n",
              "       [5. , 3.2, 1.2, 0.2],\n",
              "       [5.5, 3.5, 1.3, nan],\n",
              "       [4.9, 3.6, 1.4, nan],\n",
              "       [4.4, 3. , 1.3, 0.2],\n",
              "       [5.1, 3.4, 1.5, 0.2],\n",
              "       [5. , 3.5, 1.3, 0.3],\n",
              "       [4.5, 2.3, 1.3, 0.3],\n",
              "       [4.4, 3.2, 1.3, 0.2],\n",
              "       [5. , 3.5, 1.6, 0.6],\n",
              "       [5.1, 3.8, nan, 0.4],\n",
              "       [4.8, 3. , 1.4, 0.3],\n",
              "       [5.1, 3.8, 1.6, 0.2],\n",
              "       [4.6, 3.2, 1.4, 0.2],\n",
              "       [5.3, 3.7, 1.5, 0.2],\n",
              "       [5. , 3.3, 1.4, 0.2],\n",
              "       [7. , 3.2, 4.7, 1.4],\n",
              "       [6.4, 3.2, 4.5, 1.5],\n",
              "       [6.9, 3.1, 4.9, 1.5],\n",
              "       [5.5, 2.3, 4. , 1.3],\n",
              "       [6.5, 2.8, 4.6, 1.5],\n",
              "       [5.7, 2.8, 4.5, 1.3],\n",
              "       [6.3, 3.3, nan, 1.6],\n",
              "       [4.9, 2.4, 3.3, 1. ],\n",
              "       [6.6, 2.9, nan, 1.3],\n",
              "       [5.2, 2.7, 3.9, 1.4],\n",
              "       [5. , 2. , 3.5, 1. ],\n",
              "       [5.9, 3. , 4.2, 1.5],\n",
              "       [6. , 2.2, 4. , 1. ],\n",
              "       [6.1, 2.9, 4.7, 1.4],\n",
              "       [5.6, 2.9, 3.6, 1.3],\n",
              "       [6.7, 3.1, 4.4, 1.4],\n",
              "       [5.6, 3. , 4.5, 1.5],\n",
              "       [5.8, 2.7, 4.1, 1. ],\n",
              "       [6.2, 2.2, 4.5, 1.5],\n",
              "       [5.6, 2.5, 3.9, 1.1],\n",
              "       [5.9, 3.2, 4.8, 1.8],\n",
              "       [6.1, 2.8, 4. , 1.3],\n",
              "       [6.3, 2.5, 4.9, 1.5],\n",
              "       [6.1, 2.8, 4.7, 1.2],\n",
              "       [6.4, 2.9, 4.3, 1.3],\n",
              "       [6.6, 3. , 4.4, 1.4],\n",
              "       [6.8, 2.8, 4.8, 1.4],\n",
              "       [6.7, 3. , 5. , 1.7],\n",
              "       [6. , 2.9, 4.5, 1.5],\n",
              "       [5.7, 2.6, 3.5, 1. ],\n",
              "       [5.5, 2.4, 3.8, 1.1],\n",
              "       [5.5, 2.4, 3.7, 1. ],\n",
              "       [5.8, 2.7, 3.9, 1.2],\n",
              "       [6. , 2.7, 5.1, 1.6],\n",
              "       [5.4, 3. , 4.5, 1.5],\n",
              "       [6. , 3.4, 4.5, 1.6],\n",
              "       [6.7, 3.1, 4.7, 1.5],\n",
              "       [6.3, 2.3, 4.4, 1.3],\n",
              "       [5.6, 3. , 4.1, 1.3],\n",
              "       [nan, 2.5, 4. , 1.3],\n",
              "       [5.5, 2.6, 4.4, 1.2],\n",
              "       [6.1, 3. , 4.6, 1.4],\n",
              "       [5.8, 2.6, 4. , 1.2],\n",
              "       [5. , 2.3, 3.3, 1. ],\n",
              "       [5.6, 2.7, 4.2, 1.3],\n",
              "       [5.7, 3. , 4.2, 1.2],\n",
              "       [5.7, 2.9, 4.2, 1.3],\n",
              "       [6.2, 2.9, 4.3, 1.3],\n",
              "       [5.1, 2.5, 3. , 1.1],\n",
              "       [5.7, 2.8, 4.1, 1.3],\n",
              "       [6.3, 3.3, 6. , 2.5],\n",
              "       [5.8, 2.7, 5.1, 1.9],\n",
              "       [7.1, 3. , 5.9, 2.1],\n",
              "       [6.3, 2.9, 5.6, 1.8],\n",
              "       [nan, 3. , 5.8, 2.2],\n",
              "       [nan, 3. , 6.6, 2.1],\n",
              "       [4.9, 2.5, 4.5, 1.7],\n",
              "       [7.3, 2.9, 6.3, 1.8],\n",
              "       [6.7, 2.5, 5.8, 1.8],\n",
              "       [7.2, 3.6, 6.1, 2.5],\n",
              "       [6.5, 3.2, 5.1, 2. ],\n",
              "       [6.4, 2.7, nan, 1.9],\n",
              "       [6.8, 3. , 5.5, 2.1],\n",
              "       [5.7, 2.5, 5. , 2. ],\n",
              "       [5.8, 2.8, 5.1, 2.4],\n",
              "       [6.4, 3.2, 5.3, 2.3],\n",
              "       [6.5, 3. , 5.5, 1.8],\n",
              "       [7.7, 3.8, 6.7, 2.2],\n",
              "       [7.7, 2.6, 6.9, 2.3],\n",
              "       [6. , 2.2, 5. , 1.5],\n",
              "       [6.9, 3.2, 5.7, 2.3],\n",
              "       [5.6, 2.8, 4.9, 2. ],\n",
              "       [7.7, 2.8, 6.7, 2. ],\n",
              "       [6.3, 2.7, nan, 1.8],\n",
              "       [6.7, 3.3, 5.7, 2.1],\n",
              "       [7.2, 3.2, 6. , 1.8],\n",
              "       [6.2, 2.8, 4.8, 1.8],\n",
              "       [nan, 3. , 4.9, 1.8],\n",
              "       [6.4, 2.8, 5.6, 2.1],\n",
              "       [7.2, 3. , 5.8, 1.6],\n",
              "       [7.4, 2.8, 6.1, 1.9],\n",
              "       [7.9, 3.8, nan, 2. ],\n",
              "       [6.4, 2.8, 5.6, 2.2],\n",
              "       [6.3, 2.8, 5.1, 1.5],\n",
              "       [6.1, 2.6, 5.6, 1.4],\n",
              "       [7.7, 3. , 6.1, 2.3],\n",
              "       [6.3, 3.4, 5.6, 2.4],\n",
              "       [6.4, 3.1, 5.5, 1.8],\n",
              "       [6. , 3. , 4.8, 1.8],\n",
              "       [6.9, 3.1, 5.4, 2.1],\n",
              "       [6.7, 3.1, 5.6, 2.4],\n",
              "       [6.9, 3.1, 5.1, 2.3],\n",
              "       [5.8, 2.7, 5.1, 1.9],\n",
              "       [nan, 3.2, 5.9, 2.3],\n",
              "       [6.7, nan, 5.7, 2.5],\n",
              "       [6.7, 3. , 5.2, 2.3],\n",
              "       [6.3, 2.5, 5. , 1.9],\n",
              "       [6.5, 3. , 5.2, 2. ],\n",
              "       [6.2, nan, 5.4, 2.3],\n",
              "       [5.9, 3. , 5.1, 1.8]])"
            ]
          },
          "metadata": {
            "tags": []
          },
          "execution_count": 40
        }
      ]
    },
    {
      "cell_type": "markdown",
      "metadata": {
        "id": "r6flFcpLhxTY"
      },
      "source": [
        "## 33. How to find the position of missing values in numpy array?"
      ]
    },
    {
      "cell_type": "code",
      "metadata": {
        "id": "sAN9m3eyn5v1",
        "colab": {
          "base_uri": "https://localhost:8080/"
        },
        "outputId": "47f7bd37-7200-4699-d6d7-800a2da81a34"
      },
      "source": [
        "#### Q. Find the number and position of missing values in iris_2d's sepallength (1st column)\r\n",
        "\r\n",
        "# Solution\r\n",
        "iris = np.genfromtxt('iris_new.csv', delimiter=',', skip_header=1, usecols = [1, 2, 3, 4])\r\n",
        "iris[:,0][np.random.randint(0 , len(iris), 50)] = np.nan # set some random values in the first column\r\n",
        "iris"
      ],
      "execution_count": 41,
      "outputs": [
        {
          "output_type": "execute_result",
          "data": {
            "text/plain": [
              "array([[5.1, 3.5, 1.4, 0.2],\n",
              "       [nan, 3. , 1.4, 0.2],\n",
              "       [nan, 3.2, 1.3, 0.2],\n",
              "       [nan, 3.1, 1.5, 0.2],\n",
              "       [nan, 3.6, 1.4, 0.2],\n",
              "       [5.4, 3.9, 1.7, 0.4],\n",
              "       [4.6, 3.4, 1.4, 0.3],\n",
              "       [nan, 3.4, 1.5, 0.2],\n",
              "       [4.4, 2.9, 1.4, 0.2],\n",
              "       [4.9, 3.1, 1.5, 0.1],\n",
              "       [nan, 3.7, 1.5, 0.2],\n",
              "       [4.8, 3.4, 1.6, 0.2],\n",
              "       [nan, 3. , 1.4, 0.1],\n",
              "       [4.3, 3. , 1.1, 0.1],\n",
              "       [5.8, 4. , 1.2, 0.2],\n",
              "       [5.7, 4.4, 1.5, 0.4],\n",
              "       [5.4, 3.9, 1.3, 0.4],\n",
              "       [5.1, 3.5, 1.4, 0.3],\n",
              "       [5.7, 3.8, 1.7, 0.3],\n",
              "       [nan, 3.8, 1.5, 0.3],\n",
              "       [5.4, 3.4, 1.7, 0.2],\n",
              "       [nan, 3.7, 1.5, 0.4],\n",
              "       [4.6, 3.6, 1. , 0.2],\n",
              "       [5.1, 3.3, 1.7, 0.5],\n",
              "       [4.8, 3.4, 1.9, 0.2],\n",
              "       [5. , 3. , 1.6, 0.2],\n",
              "       [5. , 3.4, 1.6, 0.4],\n",
              "       [5.2, 3.5, 1.5, 0.2],\n",
              "       [5.2, 3.4, 1.4, 0.2],\n",
              "       [4.7, 3.2, 1.6, 0.2],\n",
              "       [nan, 3.1, 1.6, 0.2],\n",
              "       [5.4, 3.4, 1.5, 0.4],\n",
              "       [5.2, 4.1, 1.5, 0.1],\n",
              "       [5.5, 4.2, 1.4, 0.2],\n",
              "       [4.9, 3.1, 1.5, 0.2],\n",
              "       [nan, 3.2, 1.2, 0.2],\n",
              "       [nan, 3.5, 1.3, 0.2],\n",
              "       [4.9, 3.6, 1.4, 0.1],\n",
              "       [4.4, 3. , 1.3, 0.2],\n",
              "       [nan, 3.4, 1.5, 0.2],\n",
              "       [nan, 3.5, 1.3, 0.3],\n",
              "       [4.5, 2.3, 1.3, 0.3],\n",
              "       [nan, 3.2, 1.3, 0.2],\n",
              "       [5. , 3.5, 1.6, 0.6],\n",
              "       [5.1, 3.8, 1.9, 0.4],\n",
              "       [4.8, 3. , 1.4, 0.3],\n",
              "       [nan, 3.8, 1.6, 0.2],\n",
              "       [4.6, 3.2, 1.4, 0.2],\n",
              "       [5.3, 3.7, 1.5, 0.2],\n",
              "       [5. , 3.3, 1.4, 0.2],\n",
              "       [7. , 3.2, 4.7, 1.4],\n",
              "       [6.4, 3.2, 4.5, 1.5],\n",
              "       [nan, 3.1, 4.9, 1.5],\n",
              "       [5.5, 2.3, 4. , 1.3],\n",
              "       [nan, 2.8, 4.6, 1.5],\n",
              "       [5.7, 2.8, 4.5, 1.3],\n",
              "       [6.3, 3.3, 4.7, 1.6],\n",
              "       [4.9, 2.4, 3.3, 1. ],\n",
              "       [6.6, 2.9, 4.6, 1.3],\n",
              "       [nan, 2.7, 3.9, 1.4],\n",
              "       [5. , 2. , 3.5, 1. ],\n",
              "       [5.9, 3. , 4.2, 1.5],\n",
              "       [nan, 2.2, 4. , 1. ],\n",
              "       [6.1, 2.9, 4.7, 1.4],\n",
              "       [5.6, 2.9, 3.6, 1.3],\n",
              "       [nan, 3.1, 4.4, 1.4],\n",
              "       [5.6, 3. , 4.5, 1.5],\n",
              "       [5.8, 2.7, 4.1, 1. ],\n",
              "       [6.2, 2.2, 4.5, 1.5],\n",
              "       [5.6, 2.5, 3.9, 1.1],\n",
              "       [5.9, 3.2, 4.8, 1.8],\n",
              "       [nan, 2.8, 4. , 1.3],\n",
              "       [6.3, 2.5, 4.9, 1.5],\n",
              "       [6.1, 2.8, 4.7, 1.2],\n",
              "       [6.4, 2.9, 4.3, 1.3],\n",
              "       [6.6, 3. , 4.4, 1.4],\n",
              "       [nan, 2.8, 4.8, 1.4],\n",
              "       [6.7, 3. , 5. , 1.7],\n",
              "       [6. , 2.9, 4.5, 1.5],\n",
              "       [5.7, 2.6, 3.5, 1. ],\n",
              "       [5.5, 2.4, 3.8, 1.1],\n",
              "       [5.5, 2.4, 3.7, 1. ],\n",
              "       [5.8, 2.7, 3.9, 1.2],\n",
              "       [6. , 2.7, 5.1, 1.6],\n",
              "       [5.4, 3. , 4.5, 1.5],\n",
              "       [6. , 3.4, 4.5, 1.6],\n",
              "       [6.7, 3.1, 4.7, 1.5],\n",
              "       [6.3, 2.3, 4.4, 1.3],\n",
              "       [5.6, 3. , 4.1, 1.3],\n",
              "       [5.5, 2.5, 4. , 1.3],\n",
              "       [5.5, 2.6, 4.4, 1.2],\n",
              "       [nan, 3. , 4.6, 1.4],\n",
              "       [5.8, 2.6, 4. , 1.2],\n",
              "       [5. , 2.3, 3.3, 1. ],\n",
              "       [5.6, 2.7, 4.2, 1.3],\n",
              "       [nan, 3. , 4.2, 1.2],\n",
              "       [5.7, 2.9, 4.2, 1.3],\n",
              "       [6.2, 2.9, 4.3, 1.3],\n",
              "       [nan, 2.5, 3. , 1.1],\n",
              "       [nan, 2.8, 4.1, 1.3],\n",
              "       [nan, 3.3, 6. , 2.5],\n",
              "       [nan, 2.7, 5.1, 1.9],\n",
              "       [nan, 3. , 5.9, 2.1],\n",
              "       [6.3, 2.9, 5.6, 1.8],\n",
              "       [6.5, 3. , 5.8, 2.2],\n",
              "       [nan, 3. , 6.6, 2.1],\n",
              "       [4.9, 2.5, 4.5, 1.7],\n",
              "       [nan, 2.9, 6.3, 1.8],\n",
              "       [nan, 2.5, 5.8, 1.8],\n",
              "       [nan, 3.6, 6.1, 2.5],\n",
              "       [6.5, 3.2, 5.1, 2. ],\n",
              "       [6.4, 2.7, 5.3, 1.9],\n",
              "       [6.8, 3. , 5.5, 2.1],\n",
              "       [5.7, 2.5, 5. , 2. ],\n",
              "       [5.8, 2.8, 5.1, 2.4],\n",
              "       [6.4, 3.2, 5.3, 2.3],\n",
              "       [6.5, 3. , 5.5, 1.8],\n",
              "       [7.7, 3.8, 6.7, 2.2],\n",
              "       [7.7, 2.6, 6.9, 2.3],\n",
              "       [6. , 2.2, 5. , 1.5],\n",
              "       [6.9, 3.2, 5.7, 2.3],\n",
              "       [nan, 2.8, 4.9, 2. ],\n",
              "       [7.7, 2.8, 6.7, 2. ],\n",
              "       [6.3, 2.7, 4.9, 1.8],\n",
              "       [nan, 3.3, 5.7, 2.1],\n",
              "       [7.2, 3.2, 6. , 1.8],\n",
              "       [nan, 2.8, 4.8, 1.8],\n",
              "       [6.1, 3. , 4.9, 1.8],\n",
              "       [nan, 2.8, 5.6, 2.1],\n",
              "       [7.2, 3. , 5.8, 1.6],\n",
              "       [7.4, 2.8, 6.1, 1.9],\n",
              "       [nan, 3.8, 6.4, 2. ],\n",
              "       [6.4, 2.8, 5.6, 2.2],\n",
              "       [6.3, 2.8, 5.1, 1.5],\n",
              "       [6.1, 2.6, 5.6, 1.4],\n",
              "       [nan, 3. , 6.1, 2.3],\n",
              "       [6.3, 3.4, 5.6, 2.4],\n",
              "       [nan, 3.1, 5.5, 1.8],\n",
              "       [nan, 3. , 4.8, 1.8],\n",
              "       [6.9, 3.1, 5.4, 2.1],\n",
              "       [nan, 3.1, 5.6, 2.4],\n",
              "       [6.9, 3.1, 5.1, 2.3],\n",
              "       [5.8, 2.7, 5.1, 1.9],\n",
              "       [6.8, 3.2, 5.9, 2.3],\n",
              "       [nan, 3.3, 5.7, 2.5],\n",
              "       [6.7, 3. , 5.2, 2.3],\n",
              "       [nan, 2.5, 5. , 1.9],\n",
              "       [6.5, 3. , 5.2, 2. ],\n",
              "       [6.2, 3.4, 5.4, 2.3],\n",
              "       [5.9, 3. , 5.1, 1.8]])"
            ]
          },
          "metadata": {
            "tags": []
          },
          "execution_count": 41
        }
      ]
    },
    {
      "cell_type": "code",
      "metadata": {
        "id": "53J5QiLlonMA",
        "colab": {
          "base_uri": "https://localhost:8080/"
        },
        "outputId": "9fcddfe1-1b28-4e26-988b-058de5393d31"
      },
      "source": [
        "nan_index_1 = np.where(np.isnan(iris)) # to check for nan, the official documentation always recommends using np.isnan\r\n",
        "nan_index_1"
      ],
      "execution_count": 42,
      "outputs": [
        {
          "output_type": "execute_result",
          "data": {
            "text/plain": [
              "(array([  1,   2,   3,   4,   7,  10,  12,  19,  21,  30,  35,  36,  39,\n",
              "         40,  42,  46,  52,  54,  59,  62,  65,  71,  76,  91,  95,  98,\n",
              "         99, 100, 101, 102, 105, 107, 108, 109, 121, 124, 126, 128, 131,\n",
              "        135, 137, 138, 140, 144, 146]),\n",
              " array([0, 0, 0, 0, 0, 0, 0, 0, 0, 0, 0, 0, 0, 0, 0, 0, 0, 0, 0, 0, 0, 0,\n",
              "        0, 0, 0, 0, 0, 0, 0, 0, 0, 0, 0, 0, 0, 0, 0, 0, 0, 0, 0, 0, 0, 0,\n",
              "        0]))"
            ]
          },
          "metadata": {
            "tags": []
          },
          "execution_count": 42
        }
      ]
    },
    {
      "cell_type": "code",
      "metadata": {
        "id": "wt24IYn7oqxV",
        "colab": {
          "base_uri": "https://localhost:8080/"
        },
        "outputId": "5e913172-b02c-41d3-ebaa-34a5710e0646"
      },
      "source": [
        "iris[nan_index_1]\r\n",
        "print(\"Number of missing values: \\n\", np.isnan(iris[:, 0]).sum())"
      ],
      "execution_count": 43,
      "outputs": [
        {
          "output_type": "execute_result",
          "data": {
            "text/plain": [
              "array([nan, nan, nan, nan, nan, nan, nan, nan, nan, nan, nan, nan, nan,\n",
              "       nan, nan, nan, nan, nan, nan, nan, nan, nan, nan, nan, nan, nan,\n",
              "       nan, nan, nan, nan, nan, nan, nan, nan, nan, nan, nan, nan, nan,\n",
              "       nan, nan, nan, nan, nan, nan])"
            ]
          },
          "metadata": {
            "tags": []
          },
          "execution_count": 43
        },
        {
          "output_type": "stream",
          "text": [
            "Number of missing values: \n",
            " 45\n"
          ],
          "name": "stdout"
        }
      ]
    },
    {
      "cell_type": "code",
      "metadata": {
        "id": "Wte7uiBrowsn",
        "colab": {
          "base_uri": "https://localhost:8080/"
        },
        "outputId": "a0dc362a-5349-431f-bb2d-d496f8c41167"
      },
      "source": [
        "np.isnan(iris[:, 0])"
      ],
      "execution_count": 44,
      "outputs": [
        {
          "output_type": "execute_result",
          "data": {
            "text/plain": [
              "array([False,  True,  True,  True,  True, False, False,  True, False,\n",
              "       False,  True, False,  True, False, False, False, False, False,\n",
              "       False,  True, False,  True, False, False, False, False, False,\n",
              "       False, False, False,  True, False, False, False, False,  True,\n",
              "        True, False, False,  True,  True, False,  True, False, False,\n",
              "       False,  True, False, False, False, False, False,  True, False,\n",
              "        True, False, False, False, False,  True, False, False,  True,\n",
              "       False, False,  True, False, False, False, False, False,  True,\n",
              "       False, False, False, False,  True, False, False, False, False,\n",
              "       False, False, False, False, False, False, False, False, False,\n",
              "       False,  True, False, False, False,  True, False, False,  True,\n",
              "        True,  True,  True,  True, False, False,  True, False,  True,\n",
              "        True,  True, False, False, False, False, False, False, False,\n",
              "       False, False, False, False,  True, False, False,  True, False,\n",
              "        True, False,  True, False, False,  True, False, False, False,\n",
              "        True, False,  True,  True, False,  True, False, False, False,\n",
              "        True, False,  True, False, False, False])"
            ]
          },
          "metadata": {
            "tags": []
          },
          "execution_count": 44
        }
      ]
    },
    {
      "cell_type": "code",
      "metadata": {
        "id": "4c2E4GnMo1Il",
        "colab": {
          "base_uri": "https://localhost:8080/"
        },
        "outputId": "f0652039-3317-4dd5-809c-04bd37fd0cca"
      },
      "source": [
        "nan_index_1[0]"
      ],
      "execution_count": 45,
      "outputs": [
        {
          "output_type": "execute_result",
          "data": {
            "text/plain": [
              "array([  1,   2,   3,   4,   7,  10,  12,  19,  21,  30,  35,  36,  39,\n",
              "        40,  42,  46,  52,  54,  59,  62,  65,  71,  76,  91,  95,  98,\n",
              "        99, 100, 101, 102, 105, 107, 108, 109, 121, 124, 126, 128, 131,\n",
              "       135, 137, 138, 140, 144, 146])"
            ]
          },
          "metadata": {
            "tags": []
          },
          "execution_count": 45
        }
      ]
    },
    {
      "cell_type": "code",
      "metadata": {
        "id": "ytTKtu8GpLED",
        "colab": {
          "base_uri": "https://localhost:8080/",
          "height": 353
        },
        "outputId": "2dc3cbc2-6379-41bf-b7cb-7d0d49f65253"
      },
      "source": [
        "pd.DataFrame(iris).iloc[nan_index_1[0]].head(10)"
      ],
      "execution_count": 46,
      "outputs": [
        {
          "output_type": "execute_result",
          "data": {
            "text/html": [
              "<div>\n",
              "<style scoped>\n",
              "    .dataframe tbody tr th:only-of-type {\n",
              "        vertical-align: middle;\n",
              "    }\n",
              "\n",
              "    .dataframe tbody tr th {\n",
              "        vertical-align: top;\n",
              "    }\n",
              "\n",
              "    .dataframe thead th {\n",
              "        text-align: right;\n",
              "    }\n",
              "</style>\n",
              "<table border=\"1\" class=\"dataframe\">\n",
              "  <thead>\n",
              "    <tr style=\"text-align: right;\">\n",
              "      <th></th>\n",
              "      <th>0</th>\n",
              "      <th>1</th>\n",
              "      <th>2</th>\n",
              "      <th>3</th>\n",
              "    </tr>\n",
              "  </thead>\n",
              "  <tbody>\n",
              "    <tr>\n",
              "      <th>1</th>\n",
              "      <td>NaN</td>\n",
              "      <td>3.0</td>\n",
              "      <td>1.4</td>\n",
              "      <td>0.2</td>\n",
              "    </tr>\n",
              "    <tr>\n",
              "      <th>2</th>\n",
              "      <td>NaN</td>\n",
              "      <td>3.2</td>\n",
              "      <td>1.3</td>\n",
              "      <td>0.2</td>\n",
              "    </tr>\n",
              "    <tr>\n",
              "      <th>3</th>\n",
              "      <td>NaN</td>\n",
              "      <td>3.1</td>\n",
              "      <td>1.5</td>\n",
              "      <td>0.2</td>\n",
              "    </tr>\n",
              "    <tr>\n",
              "      <th>4</th>\n",
              "      <td>NaN</td>\n",
              "      <td>3.6</td>\n",
              "      <td>1.4</td>\n",
              "      <td>0.2</td>\n",
              "    </tr>\n",
              "    <tr>\n",
              "      <th>7</th>\n",
              "      <td>NaN</td>\n",
              "      <td>3.4</td>\n",
              "      <td>1.5</td>\n",
              "      <td>0.2</td>\n",
              "    </tr>\n",
              "    <tr>\n",
              "      <th>10</th>\n",
              "      <td>NaN</td>\n",
              "      <td>3.7</td>\n",
              "      <td>1.5</td>\n",
              "      <td>0.2</td>\n",
              "    </tr>\n",
              "    <tr>\n",
              "      <th>12</th>\n",
              "      <td>NaN</td>\n",
              "      <td>3.0</td>\n",
              "      <td>1.4</td>\n",
              "      <td>0.1</td>\n",
              "    </tr>\n",
              "    <tr>\n",
              "      <th>19</th>\n",
              "      <td>NaN</td>\n",
              "      <td>3.8</td>\n",
              "      <td>1.5</td>\n",
              "      <td>0.3</td>\n",
              "    </tr>\n",
              "    <tr>\n",
              "      <th>21</th>\n",
              "      <td>NaN</td>\n",
              "      <td>3.7</td>\n",
              "      <td>1.5</td>\n",
              "      <td>0.4</td>\n",
              "    </tr>\n",
              "    <tr>\n",
              "      <th>30</th>\n",
              "      <td>NaN</td>\n",
              "      <td>3.1</td>\n",
              "      <td>1.6</td>\n",
              "      <td>0.2</td>\n",
              "    </tr>\n",
              "  </tbody>\n",
              "</table>\n",
              "</div>"
            ],
            "text/plain": [
              "     0    1    2    3\n",
              "1  NaN  3.0  1.4  0.2\n",
              "2  NaN  3.2  1.3  0.2\n",
              "3  NaN  3.1  1.5  0.2\n",
              "4  NaN  3.6  1.4  0.2\n",
              "7  NaN  3.4  1.5  0.2\n",
              "10 NaN  3.7  1.5  0.2\n",
              "12 NaN  3.0  1.4  0.1\n",
              "19 NaN  3.8  1.5  0.3\n",
              "21 NaN  3.7  1.5  0.4\n",
              "30 NaN  3.1  1.6  0.2"
            ]
          },
          "metadata": {
            "tags": []
          },
          "execution_count": 46
        }
      ]
    },
    {
      "cell_type": "markdown",
      "metadata": {
        "id": "h15kJQpph1la"
      },
      "source": [
        "## 34. How to filter a numpy array based on two or more conditions?"
      ]
    },
    {
      "cell_type": "code",
      "metadata": {
        "id": "Hrn1NXy-pgBP",
        "colab": {
          "base_uri": "https://localhost:8080/"
        },
        "outputId": "b82ef5d0-50ce-4b63-9a02-0b84f68d8068"
      },
      "source": [
        "# Q. Filter the rows of iris_2d that has petallength (3rd column) > 1.5 \r\n",
        "# and sepallength (1st column) < 5.0\r\n",
        "\r\n",
        "# Solution\r\n",
        "iris = np.genfromtxt('iris_new.csv', delimiter=',', skip_header=1, usecols = [1, 2, 3, 4])\r\n",
        "reduce_array = iris[(iris[:,3] > 1.5) & (iris[:,1] < 5)]\r\n",
        "\r\n",
        "iris.shape"
      ],
      "execution_count": 47,
      "outputs": [
        {
          "output_type": "execute_result",
          "data": {
            "text/plain": [
              "(150, 4)"
            ]
          },
          "metadata": {
            "tags": []
          },
          "execution_count": 47
        }
      ]
    },
    {
      "cell_type": "code",
      "metadata": {
        "id": "k98uqOinqgft",
        "colab": {
          "base_uri": "https://localhost:8080/"
        },
        "outputId": "09f3e717-a707-4906-ccff-d7c4a06f4fcb"
      },
      "source": [
        "reduce_array.shape"
      ],
      "execution_count": 48,
      "outputs": [
        {
          "output_type": "execute_result",
          "data": {
            "text/plain": [
              "(52, 4)"
            ]
          },
          "metadata": {
            "tags": []
          },
          "execution_count": 48
        }
      ]
    },
    {
      "cell_type": "code",
      "metadata": {
        "id": "nKiO01SAqjav",
        "colab": {
          "base_uri": "https://localhost:8080/"
        },
        "outputId": "8d450da8-4a19-4476-9aea-db46c208afc8"
      },
      "source": [
        "reduce_array"
      ],
      "execution_count": 49,
      "outputs": [
        {
          "output_type": "execute_result",
          "data": {
            "text/plain": [
              "array([[6.3, 3.3, 4.7, 1.6],\n",
              "       [5.9, 3.2, 4.8, 1.8],\n",
              "       [6.7, 3. , 5. , 1.7],\n",
              "       [6. , 2.7, 5.1, 1.6],\n",
              "       [6. , 3.4, 4.5, 1.6],\n",
              "       [6.3, 3.3, 6. , 2.5],\n",
              "       [5.8, 2.7, 5.1, 1.9],\n",
              "       [7.1, 3. , 5.9, 2.1],\n",
              "       [6.3, 2.9, 5.6, 1.8],\n",
              "       [6.5, 3. , 5.8, 2.2],\n",
              "       [7.6, 3. , 6.6, 2.1],\n",
              "       [4.9, 2.5, 4.5, 1.7],\n",
              "       [7.3, 2.9, 6.3, 1.8],\n",
              "       [6.7, 2.5, 5.8, 1.8],\n",
              "       [7.2, 3.6, 6.1, 2.5],\n",
              "       [6.5, 3.2, 5.1, 2. ],\n",
              "       [6.4, 2.7, 5.3, 1.9],\n",
              "       [6.8, 3. , 5.5, 2.1],\n",
              "       [5.7, 2.5, 5. , 2. ],\n",
              "       [5.8, 2.8, 5.1, 2.4],\n",
              "       [6.4, 3.2, 5.3, 2.3],\n",
              "       [6.5, 3. , 5.5, 1.8],\n",
              "       [7.7, 3.8, 6.7, 2.2],\n",
              "       [7.7, 2.6, 6.9, 2.3],\n",
              "       [6.9, 3.2, 5.7, 2.3],\n",
              "       [5.6, 2.8, 4.9, 2. ],\n",
              "       [7.7, 2.8, 6.7, 2. ],\n",
              "       [6.3, 2.7, 4.9, 1.8],\n",
              "       [6.7, 3.3, 5.7, 2.1],\n",
              "       [7.2, 3.2, 6. , 1.8],\n",
              "       [6.2, 2.8, 4.8, 1.8],\n",
              "       [6.1, 3. , 4.9, 1.8],\n",
              "       [6.4, 2.8, 5.6, 2.1],\n",
              "       [7.2, 3. , 5.8, 1.6],\n",
              "       [7.4, 2.8, 6.1, 1.9],\n",
              "       [7.9, 3.8, 6.4, 2. ],\n",
              "       [6.4, 2.8, 5.6, 2.2],\n",
              "       [7.7, 3. , 6.1, 2.3],\n",
              "       [6.3, 3.4, 5.6, 2.4],\n",
              "       [6.4, 3.1, 5.5, 1.8],\n",
              "       [6. , 3. , 4.8, 1.8],\n",
              "       [6.9, 3.1, 5.4, 2.1],\n",
              "       [6.7, 3.1, 5.6, 2.4],\n",
              "       [6.9, 3.1, 5.1, 2.3],\n",
              "       [5.8, 2.7, 5.1, 1.9],\n",
              "       [6.8, 3.2, 5.9, 2.3],\n",
              "       [6.7, 3.3, 5.7, 2.5],\n",
              "       [6.7, 3. , 5.2, 2.3],\n",
              "       [6.3, 2.5, 5. , 1.9],\n",
              "       [6.5, 3. , 5.2, 2. ],\n",
              "       [6.2, 3.4, 5.4, 2.3],\n",
              "       [5.9, 3. , 5.1, 1.8]])"
            ]
          },
          "metadata": {
            "tags": []
          },
          "execution_count": 49
        }
      ]
    },
    {
      "cell_type": "code",
      "metadata": {
        "id": "yaSwQbrJqqs3",
        "colab": {
          "base_uri": "https://localhost:8080/"
        },
        "outputId": "7573759a-5e83-4bc6-ab27-19e8b044a3be"
      },
      "source": [
        "# Another solution\r\n",
        "print(\"Using criteria saved as objects\")\r\n",
        "\r\n",
        "cond1 = iris[:,3] > 1.5\r\n",
        "cond2 = iris[:,1] < 5\r\n",
        "\r\n",
        "reduce_array2 = iris[cond1 & cond2]\r\n",
        "reduce_array2.shape\r\n",
        "reduce_array2"
      ],
      "execution_count": 50,
      "outputs": [
        {
          "output_type": "stream",
          "text": [
            "Using criteria saved as objects\n"
          ],
          "name": "stdout"
        },
        {
          "output_type": "execute_result",
          "data": {
            "text/plain": [
              "(52, 4)"
            ]
          },
          "metadata": {
            "tags": []
          },
          "execution_count": 50
        },
        {
          "output_type": "execute_result",
          "data": {
            "text/plain": [
              "array([[6.3, 3.3, 4.7, 1.6],\n",
              "       [5.9, 3.2, 4.8, 1.8],\n",
              "       [6.7, 3. , 5. , 1.7],\n",
              "       [6. , 2.7, 5.1, 1.6],\n",
              "       [6. , 3.4, 4.5, 1.6],\n",
              "       [6.3, 3.3, 6. , 2.5],\n",
              "       [5.8, 2.7, 5.1, 1.9],\n",
              "       [7.1, 3. , 5.9, 2.1],\n",
              "       [6.3, 2.9, 5.6, 1.8],\n",
              "       [6.5, 3. , 5.8, 2.2],\n",
              "       [7.6, 3. , 6.6, 2.1],\n",
              "       [4.9, 2.5, 4.5, 1.7],\n",
              "       [7.3, 2.9, 6.3, 1.8],\n",
              "       [6.7, 2.5, 5.8, 1.8],\n",
              "       [7.2, 3.6, 6.1, 2.5],\n",
              "       [6.5, 3.2, 5.1, 2. ],\n",
              "       [6.4, 2.7, 5.3, 1.9],\n",
              "       [6.8, 3. , 5.5, 2.1],\n",
              "       [5.7, 2.5, 5. , 2. ],\n",
              "       [5.8, 2.8, 5.1, 2.4],\n",
              "       [6.4, 3.2, 5.3, 2.3],\n",
              "       [6.5, 3. , 5.5, 1.8],\n",
              "       [7.7, 3.8, 6.7, 2.2],\n",
              "       [7.7, 2.6, 6.9, 2.3],\n",
              "       [6.9, 3.2, 5.7, 2.3],\n",
              "       [5.6, 2.8, 4.9, 2. ],\n",
              "       [7.7, 2.8, 6.7, 2. ],\n",
              "       [6.3, 2.7, 4.9, 1.8],\n",
              "       [6.7, 3.3, 5.7, 2.1],\n",
              "       [7.2, 3.2, 6. , 1.8],\n",
              "       [6.2, 2.8, 4.8, 1.8],\n",
              "       [6.1, 3. , 4.9, 1.8],\n",
              "       [6.4, 2.8, 5.6, 2.1],\n",
              "       [7.2, 3. , 5.8, 1.6],\n",
              "       [7.4, 2.8, 6.1, 1.9],\n",
              "       [7.9, 3.8, 6.4, 2. ],\n",
              "       [6.4, 2.8, 5.6, 2.2],\n",
              "       [7.7, 3. , 6.1, 2.3],\n",
              "       [6.3, 3.4, 5.6, 2.4],\n",
              "       [6.4, 3.1, 5.5, 1.8],\n",
              "       [6. , 3. , 4.8, 1.8],\n",
              "       [6.9, 3.1, 5.4, 2.1],\n",
              "       [6.7, 3.1, 5.6, 2.4],\n",
              "       [6.9, 3.1, 5.1, 2.3],\n",
              "       [5.8, 2.7, 5.1, 1.9],\n",
              "       [6.8, 3.2, 5.9, 2.3],\n",
              "       [6.7, 3.3, 5.7, 2.5],\n",
              "       [6.7, 3. , 5.2, 2.3],\n",
              "       [6.3, 2.5, 5. , 1.9],\n",
              "       [6.5, 3. , 5.2, 2. ],\n",
              "       [6.2, 3.4, 5.4, 2.3],\n",
              "       [5.9, 3. , 5.1, 1.8]])"
            ]
          },
          "metadata": {
            "tags": []
          },
          "execution_count": 50
        }
      ]
    },
    {
      "cell_type": "code",
      "metadata": {
        "id": "NiWv9ZDSqwvg",
        "colab": {
          "base_uri": "https://localhost:8080/"
        },
        "outputId": "3f3b4c54-4e43-4a32-c1e6-9e3e7fb1e078"
      },
      "source": [
        "# Another solution using reduce\r\n",
        "print(\"Using reduce\")\r\n",
        "from functools import reduce\r\n",
        "\r\n",
        "criteria = reduce(lambda x, y: x & y, (cond1, cond2))\r\n",
        "criteria"
      ],
      "execution_count": 51,
      "outputs": [
        {
          "output_type": "stream",
          "text": [
            "Using reduce\n"
          ],
          "name": "stdout"
        },
        {
          "output_type": "execute_result",
          "data": {
            "text/plain": [
              "array([False, False, False, False, False, False, False, False, False,\n",
              "       False, False, False, False, False, False, False, False, False,\n",
              "       False, False, False, False, False, False, False, False, False,\n",
              "       False, False, False, False, False, False, False, False, False,\n",
              "       False, False, False, False, False, False, False, False, False,\n",
              "       False, False, False, False, False, False, False, False, False,\n",
              "       False, False,  True, False, False, False, False, False, False,\n",
              "       False, False, False, False, False, False, False,  True, False,\n",
              "       False, False, False, False, False,  True, False, False, False,\n",
              "       False, False,  True, False,  True, False, False, False, False,\n",
              "       False, False, False, False, False, False, False, False, False,\n",
              "       False,  True,  True,  True,  True,  True,  True,  True,  True,\n",
              "        True,  True,  True,  True,  True,  True,  True,  True,  True,\n",
              "        True,  True, False,  True,  True,  True,  True,  True,  True,\n",
              "        True,  True,  True,  True,  True,  True,  True, False, False,\n",
              "        True,  True,  True,  True,  True,  True,  True,  True,  True,\n",
              "        True,  True,  True,  True,  True,  True])"
            ]
          },
          "metadata": {
            "tags": []
          },
          "execution_count": 51
        }
      ]
    },
    {
      "cell_type": "code",
      "metadata": {
        "id": "1Je_B7G6q0L6",
        "colab": {
          "base_uri": "https://localhost:8080/"
        },
        "outputId": "f9fecd2b-e095-4e93-fe39-3d2f398cd905"
      },
      "source": [
        "iris[criteria].shape"
      ],
      "execution_count": 52,
      "outputs": [
        {
          "output_type": "execute_result",
          "data": {
            "text/plain": [
              "(52, 4)"
            ]
          },
          "metadata": {
            "tags": []
          },
          "execution_count": 52
        }
      ]
    },
    {
      "cell_type": "code",
      "metadata": {
        "id": "JLwz6U92q4KZ",
        "colab": {
          "base_uri": "https://localhost:8080/"
        },
        "outputId": "d794bfe5-b2ae-43ca-ba22-739a8c5cc061"
      },
      "source": [
        "iris[criteria]"
      ],
      "execution_count": 53,
      "outputs": [
        {
          "output_type": "execute_result",
          "data": {
            "text/plain": [
              "array([[6.3, 3.3, 4.7, 1.6],\n",
              "       [5.9, 3.2, 4.8, 1.8],\n",
              "       [6.7, 3. , 5. , 1.7],\n",
              "       [6. , 2.7, 5.1, 1.6],\n",
              "       [6. , 3.4, 4.5, 1.6],\n",
              "       [6.3, 3.3, 6. , 2.5],\n",
              "       [5.8, 2.7, 5.1, 1.9],\n",
              "       [7.1, 3. , 5.9, 2.1],\n",
              "       [6.3, 2.9, 5.6, 1.8],\n",
              "       [6.5, 3. , 5.8, 2.2],\n",
              "       [7.6, 3. , 6.6, 2.1],\n",
              "       [4.9, 2.5, 4.5, 1.7],\n",
              "       [7.3, 2.9, 6.3, 1.8],\n",
              "       [6.7, 2.5, 5.8, 1.8],\n",
              "       [7.2, 3.6, 6.1, 2.5],\n",
              "       [6.5, 3.2, 5.1, 2. ],\n",
              "       [6.4, 2.7, 5.3, 1.9],\n",
              "       [6.8, 3. , 5.5, 2.1],\n",
              "       [5.7, 2.5, 5. , 2. ],\n",
              "       [5.8, 2.8, 5.1, 2.4],\n",
              "       [6.4, 3.2, 5.3, 2.3],\n",
              "       [6.5, 3. , 5.5, 1.8],\n",
              "       [7.7, 3.8, 6.7, 2.2],\n",
              "       [7.7, 2.6, 6.9, 2.3],\n",
              "       [6.9, 3.2, 5.7, 2.3],\n",
              "       [5.6, 2.8, 4.9, 2. ],\n",
              "       [7.7, 2.8, 6.7, 2. ],\n",
              "       [6.3, 2.7, 4.9, 1.8],\n",
              "       [6.7, 3.3, 5.7, 2.1],\n",
              "       [7.2, 3.2, 6. , 1.8],\n",
              "       [6.2, 2.8, 4.8, 1.8],\n",
              "       [6.1, 3. , 4.9, 1.8],\n",
              "       [6.4, 2.8, 5.6, 2.1],\n",
              "       [7.2, 3. , 5.8, 1.6],\n",
              "       [7.4, 2.8, 6.1, 1.9],\n",
              "       [7.9, 3.8, 6.4, 2. ],\n",
              "       [6.4, 2.8, 5.6, 2.2],\n",
              "       [7.7, 3. , 6.1, 2.3],\n",
              "       [6.3, 3.4, 5.6, 2.4],\n",
              "       [6.4, 3.1, 5.5, 1.8],\n",
              "       [6. , 3. , 4.8, 1.8],\n",
              "       [6.9, 3.1, 5.4, 2.1],\n",
              "       [6.7, 3.1, 5.6, 2.4],\n",
              "       [6.9, 3.1, 5.1, 2.3],\n",
              "       [5.8, 2.7, 5.1, 1.9],\n",
              "       [6.8, 3.2, 5.9, 2.3],\n",
              "       [6.7, 3.3, 5.7, 2.5],\n",
              "       [6.7, 3. , 5.2, 2.3],\n",
              "       [6.3, 2.5, 5. , 1.9],\n",
              "       [6.5, 3. , 5.2, 2. ],\n",
              "       [6.2, 3.4, 5.4, 2.3],\n",
              "       [5.9, 3. , 5.1, 1.8]])"
            ]
          },
          "metadata": {
            "tags": []
          },
          "execution_count": 53
        }
      ]
    },
    {
      "cell_type": "markdown",
      "metadata": {
        "id": "70xT_b_-h7cm"
      },
      "source": [
        "## 35. How to drop rows that contain a missing value from a numpy array?"
      ]
    },
    {
      "cell_type": "code",
      "metadata": {
        "id": "5YMkGpF6qv3A"
      },
      "source": [
        "# Q. Select the rows of iris_2d that does not have any nan value.\r\n",
        "\r\n",
        "# set original print statements\r\n",
        "np.set_printoptions(edgeitems=3,infstr='inf', linewidth=75, nanstr='nan', precision=8, suppress=False, \r\n",
        "                    threshold=1000, formatter=None)"
      ],
      "execution_count": 54,
      "outputs": []
    },
    {
      "cell_type": "code",
      "metadata": {
        "id": "qYS0T94KiAIg",
        "colab": {
          "base_uri": "https://localhost:8080/"
        },
        "outputId": "4aea20d7-188c-40ab-e26c-125c3ff05c4c"
      },
      "source": [
        "# Solution\r\n",
        "# Importing the titanic df\r\n",
        "def import_titanic():\r\n",
        "    with open(\"train.csv\", \"r\") as f:\r\n",
        "        data = f.read()\r\n",
        "        l = []\r\n",
        "        for row in data.split(\"\\n\")[1:-1]:\r\n",
        "            r_ = row.split(\",\")\r\n",
        "            l_ = []\r\n",
        "            for c in r_:\r\n",
        "                if c == \"\": \r\n",
        "                    l_.append(np.nan)\r\n",
        "                else:\r\n",
        "                    try:\r\n",
        "                        l_.append(float(c))\r\n",
        "                    except:\r\n",
        "                        l_.append(c)\r\n",
        "            l.append(l_)\r\n",
        "    return l\r\n",
        "\r\n",
        "l = import_titanic()\r\n",
        "# only numeric columns\r\n",
        "a = np.array(l, dtype = object)[:,[1, 2, 6, 7, 8, 10]]\r\n",
        "# convert to float\r\n",
        "arr = np.array(a, dtype = float)\r\n",
        "# select rows with nan values\r\n",
        "nan_r = np.array([~np.any(np.isnan(row)) for row in arr])\r\n",
        "# filter the array\r\n",
        "arr_no_nan = arr[nan_r]\r\n",
        "arr_no_nan\r\n",
        "# check: the sum of nans must be zero\r\n",
        "np.isnan(arr_no_nan).sum()"
      ],
      "execution_count": 55,
      "outputs": [
        {
          "output_type": "execute_result",
          "data": {
            "text/plain": [
              "array([[ 0.    ,  3.    , 22.    ,  1.    ,  0.    ,  7.25  ],\n",
              "       [ 1.    ,  1.    , 38.    ,  1.    ,  0.    , 71.2833],\n",
              "       [ 1.    ,  3.    , 26.    ,  0.    ,  0.    ,  7.925 ],\n",
              "       ...,\n",
              "       [ 1.    ,  1.    , 19.    ,  0.    ,  0.    , 30.    ],\n",
              "       [ 1.    ,  1.    , 26.    ,  0.    ,  0.    , 30.    ],\n",
              "       [ 0.    ,  3.    , 32.    ,  0.    ,  0.    ,  7.75  ]])"
            ]
          },
          "metadata": {
            "tags": []
          },
          "execution_count": 55
        },
        {
          "output_type": "execute_result",
          "data": {
            "text/plain": [
              "0"
            ]
          },
          "metadata": {
            "tags": []
          },
          "execution_count": 55
        }
      ]
    },
    {
      "cell_type": "code",
      "metadata": {
        "id": "Dl8qT_sKrEKK",
        "colab": {
          "base_uri": "https://localhost:8080/"
        },
        "outputId": "5c766841-a58b-42f5-b674-aca24af86ab4"
      },
      "source": [
        "# Solution 2\r\n",
        "print(\"Solution from the website\")\r\n",
        "\r\n",
        "l = import_titanic()\r\n",
        "a = np.array(l, dtype = object)[:,[1, 2, 6, 7, 8, 10]]\r\n",
        "arr = np.array(a, dtype = float)"
      ],
      "execution_count": 56,
      "outputs": [
        {
          "output_type": "stream",
          "text": [
            "Solution from the website\n"
          ],
          "name": "stdout"
        }
      ]
    },
    {
      "cell_type": "code",
      "metadata": {
        "id": "-WSb3FEgrG-z",
        "colab": {
          "base_uri": "https://localhost:8080/"
        },
        "outputId": "3fe4edb4-28e4-4538-eeae-29ac952b5b3c"
      },
      "source": [
        "l[0:2]"
      ],
      "execution_count": 57,
      "outputs": [
        {
          "output_type": "execute_result",
          "data": {
            "text/plain": [
              "[[1.0,\n",
              "  0.0,\n",
              "  3.0,\n",
              "  '\"Braund',\n",
              "  ' Mr. Owen Harris\"',\n",
              "  'male',\n",
              "  22.0,\n",
              "  1.0,\n",
              "  0.0,\n",
              "  'A/5 21171',\n",
              "  7.25,\n",
              "  nan,\n",
              "  'S'],\n",
              " [2.0,\n",
              "  1.0,\n",
              "  1.0,\n",
              "  '\"Cumings',\n",
              "  ' Mrs. John Bradley (Florence Briggs Thayer)\"',\n",
              "  'female',\n",
              "  38.0,\n",
              "  1.0,\n",
              "  0.0,\n",
              "  'PC 17599',\n",
              "  71.2833,\n",
              "  'C85',\n",
              "  'C']]"
            ]
          },
          "metadata": {
            "tags": []
          },
          "execution_count": 57
        }
      ]
    },
    {
      "cell_type": "code",
      "metadata": {
        "id": "kTxpQu2BrxRX",
        "colab": {
          "base_uri": "https://localhost:8080/"
        },
        "outputId": "66dfeb4b-6df7-4211-eebb-d12ffa323d6b"
      },
      "source": [
        "a"
      ],
      "execution_count": 58,
      "outputs": [
        {
          "output_type": "execute_result",
          "data": {
            "text/plain": [
              "array([[0.0, 3.0, 22.0, 1.0, 0.0, 7.25],\n",
              "       [1.0, 1.0, 38.0, 1.0, 0.0, 71.2833],\n",
              "       [1.0, 3.0, 26.0, 0.0, 0.0, 7.925],\n",
              "       ...,\n",
              "       [0.0, 3.0, nan, 1.0, 2.0, 23.45],\n",
              "       [1.0, 1.0, 26.0, 0.0, 0.0, 30.0],\n",
              "       [0.0, 3.0, 32.0, 0.0, 0.0, 7.75]], dtype=object)"
            ]
          },
          "metadata": {
            "tags": []
          },
          "execution_count": 58
        }
      ]
    },
    {
      "cell_type": "code",
      "metadata": {
        "id": "0Uf22eNwrzLP",
        "colab": {
          "base_uri": "https://localhost:8080/"
        },
        "outputId": "2632cdbf-8d19-4e35-ba81-86a91804e774"
      },
      "source": [
        "arr"
      ],
      "execution_count": 59,
      "outputs": [
        {
          "output_type": "execute_result",
          "data": {
            "text/plain": [
              "array([[ 0.    ,  3.    , 22.    ,  1.    ,  0.    ,  7.25  ],\n",
              "       [ 1.    ,  1.    , 38.    ,  1.    ,  0.    , 71.2833],\n",
              "       [ 1.    ,  3.    , 26.    ,  0.    ,  0.    ,  7.925 ],\n",
              "       ...,\n",
              "       [ 0.    ,  3.    ,     nan,  1.    ,  2.    , 23.45  ],\n",
              "       [ 1.    ,  1.    , 26.    ,  0.    ,  0.    , 30.    ],\n",
              "       [ 0.    ,  3.    , 32.    ,  0.    ,  0.    ,  7.75  ]])"
            ]
          },
          "metadata": {
            "tags": []
          },
          "execution_count": 59
        }
      ]
    },
    {
      "cell_type": "code",
      "metadata": {
        "id": "Ae_R0c-0r7m5",
        "colab": {
          "base_uri": "https://localhost:8080/"
        },
        "outputId": "9e69bb1e-feed-46c7-a326-30126b860a01"
      },
      "source": [
        "arr[np.sum(np.isnan(arr), axis = 1) == 0] # much more elegant solution"
      ],
      "execution_count": 60,
      "outputs": [
        {
          "output_type": "execute_result",
          "data": {
            "text/plain": [
              "array([[ 0.    ,  3.    , 22.    ,  1.    ,  0.    ,  7.25  ],\n",
              "       [ 1.    ,  1.    , 38.    ,  1.    ,  0.    , 71.2833],\n",
              "       [ 1.    ,  3.    , 26.    ,  0.    ,  0.    ,  7.925 ],\n",
              "       ...,\n",
              "       [ 1.    ,  1.    , 19.    ,  0.    ,  0.    , 30.    ],\n",
              "       [ 1.    ,  1.    , 26.    ,  0.    ,  0.    , 30.    ],\n",
              "       [ 0.    ,  3.    , 32.    ,  0.    ,  0.    ,  7.75  ]])"
            ]
          },
          "metadata": {
            "tags": []
          },
          "execution_count": 60
        }
      ]
    },
    {
      "cell_type": "code",
      "metadata": {
        "id": "akjGr9Vbr8yD",
        "colab": {
          "base_uri": "https://localhost:8080/"
        },
        "outputId": "14901841-943c-4034-b163-577d45c835c6"
      },
      "source": [
        "np.isnan(arr[np.sum(np.isnan(arr), axis = 1) == 0]).sum()"
      ],
      "execution_count": 61,
      "outputs": [
        {
          "output_type": "execute_result",
          "data": {
            "text/plain": [
              "0"
            ]
          },
          "metadata": {
            "tags": []
          },
          "execution_count": 61
        }
      ]
    },
    {
      "cell_type": "markdown",
      "metadata": {
        "id": "xuKblo0AZlYG"
      },
      "source": [
        "## 36. How to find the correlation between two columns of a numpy array?"
      ]
    },
    {
      "cell_type": "code",
      "metadata": {
        "id": "vxziyJFDaKjc",
        "colab": {
          "base_uri": "https://localhost:8080/"
        },
        "outputId": "f23e7640-4a6c-4192-8416-8bc093b077c2"
      },
      "source": [
        "# Q. Find the correlation between SepalLength(1st column) and PetalLength(3rd column) in iris_2d\r\n",
        "\r\n",
        "# Solution\r\n",
        "iris = np.genfromtxt('iris_new.csv', delimiter=',', skip_header=1, usecols = [1, 2, 3, 4])\r\n",
        "\r\n",
        "# This function computes the correlation as generally defined in signal processing texts: c_{av}[k] = sum_n a[n+k] * conj(v[n])\r\n",
        "np.correlate(iris[:,1], iris[:,3])"
      ],
      "execution_count": 62,
      "outputs": [
        {
          "output_type": "execute_result",
          "data": {
            "text/plain": [
              "array([531.89])"
            ]
          },
          "metadata": {
            "tags": []
          },
          "execution_count": 62
        }
      ]
    },
    {
      "cell_type": "code",
      "metadata": {
        "id": "C32EdyfabesF",
        "colab": {
          "base_uri": "https://localhost:8080/"
        },
        "outputId": "3aad4bf8-fa3c-4c2e-f4e8-20fbee214033"
      },
      "source": [
        "np.corrcoef(iris[:,1], iris[:,3]) # Pearson correlation"
      ],
      "execution_count": 63,
      "outputs": [
        {
          "output_type": "execute_result",
          "data": {
            "text/plain": [
              "array([[ 1.        , -0.36612593],\n",
              "       [-0.36612593,  1.        ]])"
            ]
          },
          "metadata": {
            "tags": []
          },
          "execution_count": 63
        }
      ]
    },
    {
      "cell_type": "code",
      "metadata": {
        "id": "Dqa2Zq4Qes-e",
        "colab": {
          "base_uri": "https://localhost:8080/"
        },
        "outputId": "c066ac51-239e-4e3d-c255-068ce22a1bd7"
      },
      "source": [
        "# Solution from the website\r\n",
        "print(\"Solution from the website using scipy\")\r\n",
        "from scipy.stats.stats import pearsonr\r\n",
        "\r\n",
        "corr, p_value = pearsonr(iris[:, 1], iris[:, 3])\r\n",
        "print(corr)\r\n",
        "print(p_value)"
      ],
      "execution_count": 64,
      "outputs": [
        {
          "output_type": "stream",
          "text": [
            "Solution from the website using scipy\n",
            "-0.3661259325364391\n",
            "4.0732285132461925e-06\n"
          ],
          "name": "stdout"
        }
      ]
    },
    {
      "cell_type": "markdown",
      "metadata": {
        "id": "m5d0DO4yZqDh"
      },
      "source": [
        "## 37. How to find if a given array has any null values?"
      ]
    },
    {
      "cell_type": "code",
      "metadata": {
        "colab": {
          "base_uri": "https://localhost:8080/",
          "height": 35
        },
        "id": "JiVpCKjFiq6j",
        "outputId": "31b29f59-90df-4aec-bd74-a830e527b7e8"
      },
      "source": [
        "# Q. Find out if iris_2d has any missing values.\r\n",
        "\r\n",
        "# Solution\r\n",
        "iris = np.genfromtxt(\"iris_new.csv\", delimiter=\",\",  dtype='float', usecols=[1,2,3,4], skip_header=1)\r\n",
        "iris[np.random.randint(150, size=20), np.random.randint(4, size=20)] = np.nan # inser some null values\r\n",
        "# 행 열에 20개씩 랜덤으로 짝을 지은 곳에 nan 배정\r\n",
        "\r\n",
        "# first returns True second the total of nan values\r\n",
        "f\"It's {np.any(np.isnan(iris))} that we have nan values. The total amount of nan values is {np.isnan(iris).sum()}\"\r\n",
        "# print(\"It's {} that we have nan values. The total amout of nan values is {}\".format(np.any(np.isnan(iris)), np.isnan(iris).sum())) "
      ],
      "execution_count": 65,
      "outputs": [
        {
          "output_type": "execute_result",
          "data": {
            "application/vnd.google.colaboratory.intrinsic+json": {
              "type": "string"
            },
            "text/plain": [
              "\"It's True that we have nan values. The total amount of nan values is 19\""
            ]
          },
          "metadata": {
            "tags": []
          },
          "execution_count": 65
        }
      ]
    },
    {
      "cell_type": "code",
      "metadata": {
        "colab": {
          "base_uri": "https://localhost:8080/"
        },
        "id": "3ygDdAnJj3Lt",
        "outputId": "939d5635-f883-48a4-c26f-8b618543363d"
      },
      "source": [
        "np.isnan(iris)[0:4]"
      ],
      "execution_count": 66,
      "outputs": [
        {
          "output_type": "execute_result",
          "data": {
            "text/plain": [
              "array([[False, False, False, False],\n",
              "       [False, False, False, False],\n",
              "       [False, False, False, False],\n",
              "       [False, False, False, False]])"
            ]
          },
          "metadata": {
            "tags": []
          },
          "execution_count": 66
        }
      ]
    },
    {
      "cell_type": "code",
      "metadata": {
        "colab": {
          "base_uri": "https://localhost:8080/"
        },
        "id": "JsyqtQ4ij-cf",
        "outputId": "d3047dd4-b03c-4f8a-b118-2e713d640939"
      },
      "source": [
        "np.isnan(iris).any()\r\n",
        "np.any(np.isnan(iris))\r\n",
        "\r\n",
        "np.isnan(iris).sum()"
      ],
      "execution_count": 67,
      "outputs": [
        {
          "output_type": "execute_result",
          "data": {
            "text/plain": [
              "True"
            ]
          },
          "metadata": {
            "tags": []
          },
          "execution_count": 67
        },
        {
          "output_type": "execute_result",
          "data": {
            "text/plain": [
              "True"
            ]
          },
          "metadata": {
            "tags": []
          },
          "execution_count": 67
        },
        {
          "output_type": "execute_result",
          "data": {
            "text/plain": [
              "19"
            ]
          },
          "metadata": {
            "tags": []
          },
          "execution_count": 67
        }
      ]
    },
    {
      "cell_type": "markdown",
      "metadata": {
        "id": "UNrXurlxZvsc"
      },
      "source": [
        "## 38. How to replace all missing values with 0 in a numpy array?"
      ]
    },
    {
      "cell_type": "code",
      "metadata": {
        "id": "ngKHidJAkHPs"
      },
      "source": [
        "# Q. Replace all ccurrences of nan with 0 in numpy array\r\n",
        "\r\n",
        "# Solution\r\n",
        "iris = np.genfromtxt(\"iris_new.csv\", delimiter=\",\", dtype = \"float\", usecols = [1,2,3,4], skip_header=1)\r\n",
        "iris[np.random.randint(150, size=20), np.random.randint(4, size=20)] = np.nan # insert some null values"
      ],
      "execution_count": 68,
      "outputs": []
    },
    {
      "cell_type": "code",
      "metadata": {
        "colab": {
          "base_uri": "https://localhost:8080/"
        },
        "id": "_WKSZ1FilC22",
        "outputId": "4a3c59b8-2a44-483a-d564-33787605d760"
      },
      "source": [
        "print(\"Before applying nan_to_num\")\r\n",
        "np.isnan(iris).sum()\r\n",
        "\r\n",
        "a = np.nan_to_num(iris,0) # nan -> 0\r\n",
        "\r\n",
        "print(\"After applying nan_to_num\")\r\n",
        "np.isnan(a).sum()"
      ],
      "execution_count": 69,
      "outputs": [
        {
          "output_type": "stream",
          "text": [
            "Before applying nan_to_num\n"
          ],
          "name": "stdout"
        },
        {
          "output_type": "execute_result",
          "data": {
            "text/plain": [
              "20"
            ]
          },
          "metadata": {
            "tags": []
          },
          "execution_count": 69
        },
        {
          "output_type": "stream",
          "text": [
            "After applying nan_to_num\n"
          ],
          "name": "stdout"
        },
        {
          "output_type": "execute_result",
          "data": {
            "text/plain": [
              "0"
            ]
          },
          "metadata": {
            "tags": []
          },
          "execution_count": 69
        }
      ]
    },
    {
      "cell_type": "code",
      "metadata": {
        "colab": {
          "base_uri": "https://localhost:8080/"
        },
        "id": "puAaEw2nlTNr",
        "outputId": "07f1d72b-9411-48f3-b1a2-13b7e309e6d8"
      },
      "source": [
        "# Solution from the website\r\n",
        "print(\"Solution from the website\")\r\n",
        "iris = np.genfromtxt(\"iris_new.csv\", delimiter=\",\",  dtype='float', usecols=[1,2,3,4], skip_header=1)\r\n",
        "iris[np.random.randint(150, size=20), np.random.randint(4, size=20)] = np.nan # insert some null values\r\n",
        "\r\n",
        "np.isnan(iris).sum()"
      ],
      "execution_count": 70,
      "outputs": [
        {
          "output_type": "stream",
          "text": [
            "Solution from the website\n"
          ],
          "name": "stdout"
        },
        {
          "output_type": "execute_result",
          "data": {
            "text/plain": [
              "19"
            ]
          },
          "metadata": {
            "tags": []
          },
          "execution_count": 70
        }
      ]
    },
    {
      "cell_type": "code",
      "metadata": {
        "colab": {
          "base_uri": "https://localhost:8080/"
        },
        "id": "Y-Xxcj5clgt5",
        "outputId": "5d6cafc5-5838-404e-c7b3-ab47f9f2d0a4"
      },
      "source": [
        "iris[np.isnan(iris)] = 0\r\n",
        "np.isnan(a).sum()"
      ],
      "execution_count": 71,
      "outputs": [
        {
          "output_type": "execute_result",
          "data": {
            "text/plain": [
              "0"
            ]
          },
          "metadata": {
            "tags": []
          },
          "execution_count": 71
        }
      ]
    },
    {
      "cell_type": "markdown",
      "metadata": {
        "id": "mqsRKbX2Z2du"
      },
      "source": [
        "## 39. How to find the count of unique values in a numpy array?"
      ]
    },
    {
      "cell_type": "code",
      "metadata": {
        "colab": {
          "base_uri": "https://localhost:8080/"
        },
        "id": "yUQmwgbqllfX",
        "outputId": "13344770-3af2-46d8-a044-97a135d201bf"
      },
      "source": [
        "# Q. Find the unique values and the count of unique values in iris's species\r\n",
        "\r\n",
        "# Solution\r\n",
        "print(\"Solution using list comprehension\")\r\n",
        "\r\n",
        "iris = np.genfromtxt(\"iris_new.csv\", delimiter = \",\", usecols=[5], dtype=object, skip_header=1)\r\n",
        "l = [(v, np.count_nonzero(iris[iris == v])) for v in np.unique(iris)]\r\n",
        "l"
      ],
      "execution_count": 72,
      "outputs": [
        {
          "output_type": "stream",
          "text": [
            "Solution using list comprehension\n"
          ],
          "name": "stdout"
        },
        {
          "output_type": "execute_result",
          "data": {
            "text/plain": [
              "[(b'setosa', 50), (b'versicolor', 50), (b'virginica', 50)]"
            ]
          },
          "metadata": {
            "tags": []
          },
          "execution_count": 72
        }
      ]
    },
    {
      "cell_type": "code",
      "metadata": {
        "colab": {
          "base_uri": "https://localhost:8080/"
        },
        "id": "RwvuE2FWy3bl",
        "outputId": "9596c311-aded-434e-dd58-7c0fe3d0eb90"
      },
      "source": [
        "iris"
      ],
      "execution_count": 73,
      "outputs": [
        {
          "output_type": "execute_result",
          "data": {
            "text/plain": [
              "array([b'setosa', b'setosa', b'setosa', b'setosa', b'setosa', b'setosa',\n",
              "       b'setosa', b'setosa', b'setosa', b'setosa', b'setosa', b'setosa',\n",
              "       b'setosa', b'setosa', b'setosa', b'setosa', b'setosa', b'setosa',\n",
              "       b'setosa', b'setosa', b'setosa', b'setosa', b'setosa', b'setosa',\n",
              "       b'setosa', b'setosa', b'setosa', b'setosa', b'setosa', b'setosa',\n",
              "       b'setosa', b'setosa', b'setosa', b'setosa', b'setosa', b'setosa',\n",
              "       b'setosa', b'setosa', b'setosa', b'setosa', b'setosa', b'setosa',\n",
              "       b'setosa', b'setosa', b'setosa', b'setosa', b'setosa', b'setosa',\n",
              "       b'setosa', b'setosa', b'versicolor', b'versicolor', b'versicolor',\n",
              "       b'versicolor', b'versicolor', b'versicolor', b'versicolor',\n",
              "       b'versicolor', b'versicolor', b'versicolor', b'versicolor',\n",
              "       b'versicolor', b'versicolor', b'versicolor', b'versicolor',\n",
              "       b'versicolor', b'versicolor', b'versicolor', b'versicolor',\n",
              "       b'versicolor', b'versicolor', b'versicolor', b'versicolor',\n",
              "       b'versicolor', b'versicolor', b'versicolor', b'versicolor',\n",
              "       b'versicolor', b'versicolor', b'versicolor', b'versicolor',\n",
              "       b'versicolor', b'versicolor', b'versicolor', b'versicolor',\n",
              "       b'versicolor', b'versicolor', b'versicolor', b'versicolor',\n",
              "       b'versicolor', b'versicolor', b'versicolor', b'versicolor',\n",
              "       b'versicolor', b'versicolor', b'versicolor', b'versicolor',\n",
              "       b'versicolor', b'versicolor', b'versicolor', b'virginica',\n",
              "       b'virginica', b'virginica', b'virginica', b'virginica',\n",
              "       b'virginica', b'virginica', b'virginica', b'virginica',\n",
              "       b'virginica', b'virginica', b'virginica', b'virginica',\n",
              "       b'virginica', b'virginica', b'virginica', b'virginica',\n",
              "       b'virginica', b'virginica', b'virginica', b'virginica',\n",
              "       b'virginica', b'virginica', b'virginica', b'virginica',\n",
              "       b'virginica', b'virginica', b'virginica', b'virginica',\n",
              "       b'virginica', b'virginica', b'virginica', b'virginica',\n",
              "       b'virginica', b'virginica', b'virginica', b'virginica',\n",
              "       b'virginica', b'virginica', b'virginica', b'virginica',\n",
              "       b'virginica', b'virginica', b'virginica', b'virginica',\n",
              "       b'virginica', b'virginica', b'virginica', b'virginica',\n",
              "       b'virginica'], dtype=object)"
            ]
          },
          "metadata": {
            "tags": []
          },
          "execution_count": 73
        }
      ]
    },
    {
      "cell_type": "code",
      "metadata": {
        "colab": {
          "base_uri": "https://localhost:8080/"
        },
        "id": "8G60mAK_zxBt",
        "outputId": "1fb74a8b-fecf-42c0-8b79-3a472a4448a2"
      },
      "source": [
        "np.unique(iris)"
      ],
      "execution_count": 74,
      "outputs": [
        {
          "output_type": "execute_result",
          "data": {
            "text/plain": [
              "array([b'setosa', b'versicolor', b'virginica'], dtype=object)"
            ]
          },
          "metadata": {
            "tags": []
          },
          "execution_count": 74
        }
      ]
    },
    {
      "cell_type": "code",
      "metadata": {
        "colab": {
          "base_uri": "https://localhost:8080/"
        },
        "id": "LFOGCVMQqT6Y",
        "outputId": "9a78071e-b94a-4e1c-acb8-c82640f78aab"
      },
      "source": [
        "[v for v in np.unique(iris)]"
      ],
      "execution_count": 75,
      "outputs": [
        {
          "output_type": "execute_result",
          "data": {
            "text/plain": [
              "[b'setosa', b'versicolor', b'virginica']"
            ]
          },
          "metadata": {
            "tags": []
          },
          "execution_count": 75
        }
      ]
    },
    {
      "cell_type": "code",
      "metadata": {
        "colab": {
          "base_uri": "https://localhost:8080/"
        },
        "id": "_Tcmj1i5q3qB",
        "outputId": "f37d3465-584a-486d-d50e-8e798c31b01a"
      },
      "source": [
        "[np.count_nonzero(iris[iris==v]) for v in np.unique(iris)]"
      ],
      "execution_count": 76,
      "outputs": [
        {
          "output_type": "execute_result",
          "data": {
            "text/plain": [
              "[50, 50, 50]"
            ]
          },
          "metadata": {
            "tags": []
          },
          "execution_count": 76
        }
      ]
    },
    {
      "cell_type": "markdown",
      "metadata": {
        "id": "-K4o3sLpZ-tF"
      },
      "source": [
        "## 40. How to convert a numeric to a categorical (text) array?  \r\n",
        "\r\n",
        "https://rfriend.tistory.com/tag/np.digitize%28bins%29"
      ]
    },
    {
      "cell_type": "code",
      "metadata": {
        "colab": {
          "base_uri": "https://localhost:8080/"
        },
        "id": "c9CT-JUyzyyt",
        "outputId": "079160f4-fe27-4e71-fc17-05f82ec594e3"
      },
      "source": [
        "# Q. Bin the petal length (3rd) column of iris_2d to form a text array, such that if petal length is:\r\n",
        "# Less than 3 --> 'small'\r\n",
        "# 3-5 --> 'medium'\r\n",
        "# '>=5 --> 'large'\r\n",
        "\r\n",
        "\r\n",
        "# Solution\r\n",
        "iris = np.genfromtxt('iris_new.csv', delimiter = ',', \r\n",
        "                     usecols = [3], dtype=float, skip_header = 1)\r\n",
        "iris"
      ],
      "execution_count": 77,
      "outputs": [
        {
          "output_type": "execute_result",
          "data": {
            "text/plain": [
              "array([1.4, 1.4, 1.3, 1.5, 1.4, 1.7, 1.4, 1.5, 1.4, 1.5, 1.5, 1.6, 1.4,\n",
              "       1.1, 1.2, 1.5, 1.3, 1.4, 1.7, 1.5, 1.7, 1.5, 1. , 1.7, 1.9, 1.6,\n",
              "       1.6, 1.5, 1.4, 1.6, 1.6, 1.5, 1.5, 1.4, 1.5, 1.2, 1.3, 1.4, 1.3,\n",
              "       1.5, 1.3, 1.3, 1.3, 1.6, 1.9, 1.4, 1.6, 1.4, 1.5, 1.4, 4.7, 4.5,\n",
              "       4.9, 4. , 4.6, 4.5, 4.7, 3.3, 4.6, 3.9, 3.5, 4.2, 4. , 4.7, 3.6,\n",
              "       4.4, 4.5, 4.1, 4.5, 3.9, 4.8, 4. , 4.9, 4.7, 4.3, 4.4, 4.8, 5. ,\n",
              "       4.5, 3.5, 3.8, 3.7, 3.9, 5.1, 4.5, 4.5, 4.7, 4.4, 4.1, 4. , 4.4,\n",
              "       4.6, 4. , 3.3, 4.2, 4.2, 4.2, 4.3, 3. , 4.1, 6. , 5.1, 5.9, 5.6,\n",
              "       5.8, 6.6, 4.5, 6.3, 5.8, 6.1, 5.1, 5.3, 5.5, 5. , 5.1, 5.3, 5.5,\n",
              "       6.7, 6.9, 5. , 5.7, 4.9, 6.7, 4.9, 5.7, 6. , 4.8, 4.9, 5.6, 5.8,\n",
              "       6.1, 6.4, 5.6, 5.1, 5.6, 6.1, 5.6, 5.5, 4.8, 5.4, 5.6, 5.1, 5.1,\n",
              "       5.9, 5.7, 5.2, 5. , 5.2, 5.4, 5.1])"
            ]
          },
          "metadata": {
            "tags": []
          },
          "execution_count": 77
        }
      ]
    },
    {
      "cell_type": "code",
      "metadata": {
        "colab": {
          "base_uri": "https://localhost:8080/"
        },
        "id": "XukKM9vg0ZmM",
        "outputId": "a84393d3-a078-4b24-8edc-d9ee501da37e"
      },
      "source": [
        "iris.astype('float')"
      ],
      "execution_count": 78,
      "outputs": [
        {
          "output_type": "execute_result",
          "data": {
            "text/plain": [
              "array([1.4, 1.4, 1.3, 1.5, 1.4, 1.7, 1.4, 1.5, 1.4, 1.5, 1.5, 1.6, 1.4,\n",
              "       1.1, 1.2, 1.5, 1.3, 1.4, 1.7, 1.5, 1.7, 1.5, 1. , 1.7, 1.9, 1.6,\n",
              "       1.6, 1.5, 1.4, 1.6, 1.6, 1.5, 1.5, 1.4, 1.5, 1.2, 1.3, 1.4, 1.3,\n",
              "       1.5, 1.3, 1.3, 1.3, 1.6, 1.9, 1.4, 1.6, 1.4, 1.5, 1.4, 4.7, 4.5,\n",
              "       4.9, 4. , 4.6, 4.5, 4.7, 3.3, 4.6, 3.9, 3.5, 4.2, 4. , 4.7, 3.6,\n",
              "       4.4, 4.5, 4.1, 4.5, 3.9, 4.8, 4. , 4.9, 4.7, 4.3, 4.4, 4.8, 5. ,\n",
              "       4.5, 3.5, 3.8, 3.7, 3.9, 5.1, 4.5, 4.5, 4.7, 4.4, 4.1, 4. , 4.4,\n",
              "       4.6, 4. , 3.3, 4.2, 4.2, 4.2, 4.3, 3. , 4.1, 6. , 5.1, 5.9, 5.6,\n",
              "       5.8, 6.6, 4.5, 6.3, 5.8, 6.1, 5.1, 5.3, 5.5, 5. , 5.1, 5.3, 5.5,\n",
              "       6.7, 6.9, 5. , 5.7, 4.9, 6.7, 4.9, 5.7, 6. , 4.8, 4.9, 5.6, 5.8,\n",
              "       6.1, 6.4, 5.6, 5.1, 5.6, 6.1, 5.6, 5.5, 4.8, 5.4, 5.6, 5.1, 5.1,\n",
              "       5.9, 5.7, 5.2, 5. , 5.2, 5.4, 5.1])"
            ]
          },
          "metadata": {
            "tags": []
          },
          "execution_count": 78
        }
      ]
    },
    {
      "cell_type": "code",
      "metadata": {
        "colab": {
          "base_uri": "https://localhost:8080/"
        },
        "id": "hAw_X1Xx0Vay",
        "outputId": "58f7c1fd-a618-4d97-e440-65827a4de633"
      },
      "source": [
        "bin = np.digitize(iris.astype('float'), [0,3,5,10]) # 0~3 : 1, 3~5 : 2, 5~10 : 3 으로 구간화\r\n",
        "bin"
      ],
      "execution_count": 79,
      "outputs": [
        {
          "output_type": "execute_result",
          "data": {
            "text/plain": [
              "array([1, 1, 1, 1, 1, 1, 1, 1, 1, 1, 1, 1, 1, 1, 1, 1, 1, 1, 1, 1, 1, 1,\n",
              "       1, 1, 1, 1, 1, 1, 1, 1, 1, 1, 1, 1, 1, 1, 1, 1, 1, 1, 1, 1, 1, 1,\n",
              "       1, 1, 1, 1, 1, 1, 2, 2, 2, 2, 2, 2, 2, 2, 2, 2, 2, 2, 2, 2, 2, 2,\n",
              "       2, 2, 2, 2, 2, 2, 2, 2, 2, 2, 2, 3, 2, 2, 2, 2, 2, 3, 2, 2, 2, 2,\n",
              "       2, 2, 2, 2, 2, 2, 2, 2, 2, 2, 2, 2, 3, 3, 3, 3, 3, 3, 2, 3, 3, 3,\n",
              "       3, 3, 3, 3, 3, 3, 3, 3, 3, 3, 3, 2, 3, 2, 3, 3, 2, 2, 3, 3, 3, 3,\n",
              "       3, 3, 3, 3, 3, 3, 2, 3, 3, 3, 3, 3, 3, 3, 3, 3, 3, 3])"
            ]
          },
          "metadata": {
            "tags": []
          },
          "execution_count": 79
        }
      ]
    },
    {
      "cell_type": "markdown",
      "metadata": {
        "id": "hvbhG0amaC-m"
      },
      "source": [
        "## 41. How to create a new column from existing columns of a numpy array?  \r\n",
        "\r\n",
        "np.newaxis : https://azanewta.tistory.com/3  \r\n",
        "\r\n"
      ]
    },
    {
      "cell_type": "code",
      "metadata": {
        "id": "3jHkSnrZaIv6",
        "colab": {
          "base_uri": "https://localhost:8080/"
        },
        "outputId": "d3713f7e-c73e-4fea-c3b9-2e4f18c4c84f"
      },
      "source": [
        "# Q. Create a new column for volume in iris_2d, where volume is (pi x petallength x sepal_length^2)/3\r\n",
        "\r\n",
        "# Solution\r\n",
        "iris = np.genfromtxt(\"iris_new.csv\", delimiter = \",\", \r\n",
        "                     usecols=[2, 3], dtype=float, skip_header=1)\r\n",
        "\r\n",
        "iris[0:6]"
      ],
      "execution_count": 80,
      "outputs": [
        {
          "output_type": "execute_result",
          "data": {
            "text/plain": [
              "array([[3.5, 1.4],\n",
              "       [3. , 1.4],\n",
              "       [3.2, 1.3],\n",
              "       [3.1, 1.5],\n",
              "       [3.6, 1.4],\n",
              "       [3.9, 1.7]])"
            ]
          },
          "metadata": {
            "tags": []
          },
          "execution_count": 80
        }
      ]
    },
    {
      "cell_type": "code",
      "metadata": {
        "colab": {
          "base_uri": "https://localhost:8080/"
        },
        "id": "fqqQMgit34vL",
        "outputId": "ba7f5484-2160-4b95-8395-821fc0b1b1fe"
      },
      "source": [
        "iris.shape"
      ],
      "execution_count": 81,
      "outputs": [
        {
          "output_type": "execute_result",
          "data": {
            "text/plain": [
              "(150, 2)"
            ]
          },
          "metadata": {
            "tags": []
          },
          "execution_count": 81
        }
      ]
    },
    {
      "cell_type": "code",
      "metadata": {
        "colab": {
          "base_uri": "https://localhost:8080/"
        },
        "id": "75ETmmqy36ga",
        "outputId": "ac0fc67d-14a1-444b-c847-e788238effec"
      },
      "source": [
        "iris = np.c_[iris, (np.array(iris[:,0] * 3.14 * (iris[:,1])**2))/3] # creat third column\r\n",
        "iris.shape"
      ],
      "execution_count": 82,
      "outputs": [
        {
          "output_type": "execute_result",
          "data": {
            "text/plain": [
              "(150, 3)"
            ]
          },
          "metadata": {
            "tags": []
          },
          "execution_count": 82
        }
      ]
    },
    {
      "cell_type": "code",
      "metadata": {
        "colab": {
          "base_uri": "https://localhost:8080/"
        },
        "id": "WqzG8M0Q3-Th",
        "outputId": "afb476d9-8d76-4e82-f2a5-e941991e96c4"
      },
      "source": [
        "iris[:5]"
      ],
      "execution_count": 83,
      "outputs": [
        {
          "output_type": "execute_result",
          "data": {
            "text/plain": [
              "array([[3.5       , 1.4       , 7.18013333],\n",
              "       [3.        , 1.4       , 6.1544    ],\n",
              "       [3.2       , 1.3       , 5.66037333],\n",
              "       [3.1       , 1.5       , 7.3005    ],\n",
              "       [3.6       , 1.4       , 7.38528   ]])"
            ]
          },
          "metadata": {
            "tags": []
          },
          "execution_count": 83
        }
      ]
    },
    {
      "cell_type": "code",
      "metadata": {
        "colab": {
          "base_uri": "https://localhost:8080/"
        },
        "id": "tTZb1guu4A6D",
        "outputId": "daf59747-5e16-4621-e686-9b45008078a2"
      },
      "source": [
        "# Solution from the website\r\n",
        "print(\"Solution from website\")\r\n",
        "iris = np.genfromtxt(\"iris_new.csv\", delimiter = \",\", usecols=[2, 3], dtype=float, skip_header=1)\r\n",
        "\r\n",
        "s = iris[:, 1] # second col\r\n",
        "p = iris[:, 0] # first col\r\n",
        "\r\n",
        "volume = (np.pi * p * (s**2))/3 # third col candidates\r\n",
        "\r\n",
        "# Introduce new dimension to match iris_2d's\r\n",
        "volume = volume[:, np.newaxis]\r\n",
        "\r\n",
        "# Add the new column\r\n",
        "out = np.hstack([iris, volume]) # hori\r\n",
        "\r\n",
        "# View\r\n",
        "out[:4]"
      ],
      "execution_count": 84,
      "outputs": [
        {
          "output_type": "stream",
          "text": [
            "Solution from website\n"
          ],
          "name": "stdout"
        },
        {
          "output_type": "execute_result",
          "data": {
            "text/plain": [
              "array([[3.5       , 1.4       , 7.1837752 ],\n",
              "       [3.        , 1.4       , 6.1575216 ],\n",
              "       [3.2       , 1.3       , 5.66324436],\n",
              "       [3.1       , 1.5       , 7.30420292]])"
            ]
          },
          "metadata": {
            "tags": []
          },
          "execution_count": 84
        }
      ]
    },
    {
      "cell_type": "code",
      "metadata": {
        "id": "SuU00cwy4bnG",
        "colab": {
          "base_uri": "https://localhost:8080/"
        },
        "outputId": "d3330b5f-b35b-40d2-ba01-db7fb255e7e4"
      },
      "source": [
        "volume = (np.pi * p * (s**2))/3\r\n",
        "volume[:,np.newaxis]"
      ],
      "execution_count": 85,
      "outputs": [
        {
          "output_type": "execute_result",
          "data": {
            "text/plain": [
              "array([[  7.1837752 ],\n",
              "       [  6.1575216 ],\n",
              "       [  5.66324436],\n",
              "       [  7.30420292],\n",
              "       [  7.38902592],\n",
              "       [ 11.8029636 ],\n",
              "       [  6.97852448],\n",
              "       [  8.01106127],\n",
              "       [  5.95227088],\n",
              "       [  7.30420292],\n",
              "       [  8.71791961],\n",
              "       [  9.11480749],\n",
              "       [  6.1575216 ],\n",
              "       [  3.80132711],\n",
              "       [  6.03185789],\n",
              "       [ 10.36725576],\n",
              "       [  6.90207906],\n",
              "       [  7.1837752 ],\n",
              "       [ 11.50032351],\n",
              "       [  8.95353906],\n",
              "       [ 10.28976314],\n",
              "       [  8.71791961],\n",
              "       [  3.76991118],\n",
              "       [  9.98712305],\n",
              "       [ 12.85330274],\n",
              "       [  8.04247719],\n",
              "       [  9.11480749],\n",
              "       [  8.24668072],\n",
              "       [  6.97852448],\n",
              "       [  8.57864234],\n",
              "       [  8.31055977],\n",
              "       [  8.01106127],\n",
              "       [  9.66039741],\n",
              "       [  8.62053024],\n",
              "       [  7.30420292],\n",
              "       [  4.82548632],\n",
              "       [  6.19417352],\n",
              "       [  7.38902592],\n",
              "       [  5.30929158],\n",
              "       [  8.01106127],\n",
              "       [  6.19417352],\n",
              "       [  4.07045688],\n",
              "       [  5.66324436],\n",
              "       [  9.38289006],\n",
              "       [ 14.36545601],\n",
              "       [  6.1575216 ],\n",
              "       [ 10.18713778],\n",
              "       [  6.56802304],\n",
              "       [  8.71791961],\n",
              "       [  6.77327376],\n",
              "       [ 74.0243005 ],\n",
              "       [ 67.85840132],\n",
              "       [ 77.94396093],\n",
              "       [ 38.53686988],\n",
              "       [ 62.04436051],\n",
              "       [ 59.37610115],\n",
              "       [ 76.33755989],\n",
              "       [ 27.3695552 ],\n",
              "       [ 64.26023053],\n",
              "       [ 43.00526183],\n",
              "       [ 25.65634   ],\n",
              "       [ 55.41769441],\n",
              "       [ 36.8613538 ],\n",
              "       [ 67.08452233],\n",
              "       [ 39.35787276],\n",
              "       [ 62.84860823],\n",
              "       [ 63.61725124],\n",
              "       [ 47.52915526],\n",
              "       [ 46.65265091],\n",
              "       [ 39.81968688],\n",
              "       [ 77.20778105],\n",
              "       [ 46.91445029],\n",
              "       [ 62.85803301],\n",
              "       [ 64.77126294],\n",
              "       [ 56.15177989],\n",
              "       [ 60.82123377],\n",
              "       [ 67.55680842],\n",
              "       [ 78.53981634],\n",
              "       [ 61.49667619],\n",
              "       [ 33.35324201],\n",
              "       [ 36.29167833],\n",
              "       [ 34.40672274],\n",
              "       [ 43.00526183],\n",
              "       [ 73.54154243],\n",
              "       [ 63.61725124],\n",
              "       [ 72.0995514 ],\n",
              "       [ 71.71104111],\n",
              "       [ 46.62961256],\n",
              "       [ 52.81017251],\n",
              "       [ 41.88790205],\n",
              "       [ 52.71173594],\n",
              "       [ 66.47610055],\n",
              "       [ 43.56341813],\n",
              "       [ 26.22915706],\n",
              "       [ 49.87592497],\n",
              "       [ 55.41769441],\n",
              "       [ 53.57043793],\n",
              "       [ 56.15177989],\n",
              "       [ 23.5619449 ],\n",
              "       [ 49.28949434],\n",
              "       [124.40706908],\n",
              "       [ 73.54154243],\n",
              "       [109.35884027],\n",
              "       [ 95.2363341 ],\n",
              "       [105.68317687],\n",
              "       [136.84777599],\n",
              "       [ 53.01437603],\n",
              "       [120.53348534],\n",
              "       [ 88.06931406],\n",
              "       [140.27839517],\n",
              "       [ 87.16034658],\n",
              "       [ 79.42260388],\n",
              "       [ 95.03317777],\n",
              "       [ 65.44984695],\n",
              "       [ 76.26530326],\n",
              "       [ 94.13049348],\n",
              "       [ 95.03317777],\n",
              "       [178.63305268],\n",
              "       [129.62839607],\n",
              "       [ 57.59586532],\n",
              "       [108.875035  ],\n",
              "       [ 70.40099697],\n",
              "       [131.62435461],\n",
              "       [ 67.88667565],\n",
              "       [112.27737985],\n",
              "       [120.6371579 ],\n",
              "       [ 67.55680842],\n",
              "       [ 75.42963961],\n",
              "       [ 91.95232258],\n",
              "       [105.68317687],\n",
              "       [109.10541846],\n",
              "       [162.99420445],\n",
              "       [ 91.95232258],\n",
              "       [ 76.26530326],\n",
              "       [ 85.38429953],\n",
              "       [116.89866264],\n",
              "       [111.6563917 ],\n",
              "       [ 98.20095036],\n",
              "       [ 72.38229474],\n",
              "       [ 94.66246984],\n",
              "       [101.80435714],\n",
              "       [ 84.43658575],\n",
              "       [ 73.54154243],\n",
              "       [116.64942962],\n",
              "       [112.27737985],\n",
              "       [ 84.94866535],\n",
              "       [ 65.44984695],\n",
              "       [ 84.94866535],\n",
              "       [103.82335402],\n",
              "       [ 81.71282492]])"
            ]
          },
          "metadata": {
            "tags": []
          },
          "execution_count": 85
        }
      ]
    },
    {
      "cell_type": "code",
      "metadata": {
        "id": "yU5UjJm75V87"
      },
      "source": [
        "iris = np.genfromtxt(\"iris_new.csv\", delimiter = \",\", usecols=[2, 3], dtype=float, skip_header=1)\r\n",
        "s = iris[:, 1] # second col\r\n",
        "p = iris[:, 0] # first col\r\n",
        "volume = (np.pi * p * (s**2))/3\r\n",
        "volume = volume[:,np.newaxis]"
      ],
      "execution_count": 86,
      "outputs": []
    },
    {
      "cell_type": "code",
      "metadata": {
        "colab": {
          "base_uri": "https://localhost:8080/"
        },
        "id": "MTh-2MNk5rMH",
        "outputId": "64eb764c-b258-4ce9-f968-4697bda05db7"
      },
      "source": [
        "np.c_[iris, volume]"
      ],
      "execution_count": 87,
      "outputs": [
        {
          "output_type": "execute_result",
          "data": {
            "text/plain": [
              "array([[  3.5       ,   1.4       ,   7.1837752 ],\n",
              "       [  3.        ,   1.4       ,   6.1575216 ],\n",
              "       [  3.2       ,   1.3       ,   5.66324436],\n",
              "       [  3.1       ,   1.5       ,   7.30420292],\n",
              "       [  3.6       ,   1.4       ,   7.38902592],\n",
              "       [  3.9       ,   1.7       ,  11.8029636 ],\n",
              "       [  3.4       ,   1.4       ,   6.97852448],\n",
              "       [  3.4       ,   1.5       ,   8.01106127],\n",
              "       [  2.9       ,   1.4       ,   5.95227088],\n",
              "       [  3.1       ,   1.5       ,   7.30420292],\n",
              "       [  3.7       ,   1.5       ,   8.71791961],\n",
              "       [  3.4       ,   1.6       ,   9.11480749],\n",
              "       [  3.        ,   1.4       ,   6.1575216 ],\n",
              "       [  3.        ,   1.1       ,   3.80132711],\n",
              "       [  4.        ,   1.2       ,   6.03185789],\n",
              "       [  4.4       ,   1.5       ,  10.36725576],\n",
              "       [  3.9       ,   1.3       ,   6.90207906],\n",
              "       [  3.5       ,   1.4       ,   7.1837752 ],\n",
              "       [  3.8       ,   1.7       ,  11.50032351],\n",
              "       [  3.8       ,   1.5       ,   8.95353906],\n",
              "       [  3.4       ,   1.7       ,  10.28976314],\n",
              "       [  3.7       ,   1.5       ,   8.71791961],\n",
              "       [  3.6       ,   1.        ,   3.76991118],\n",
              "       [  3.3       ,   1.7       ,   9.98712305],\n",
              "       [  3.4       ,   1.9       ,  12.85330274],\n",
              "       [  3.        ,   1.6       ,   8.04247719],\n",
              "       [  3.4       ,   1.6       ,   9.11480749],\n",
              "       [  3.5       ,   1.5       ,   8.24668072],\n",
              "       [  3.4       ,   1.4       ,   6.97852448],\n",
              "       [  3.2       ,   1.6       ,   8.57864234],\n",
              "       [  3.1       ,   1.6       ,   8.31055977],\n",
              "       [  3.4       ,   1.5       ,   8.01106127],\n",
              "       [  4.1       ,   1.5       ,   9.66039741],\n",
              "       [  4.2       ,   1.4       ,   8.62053024],\n",
              "       [  3.1       ,   1.5       ,   7.30420292],\n",
              "       [  3.2       ,   1.2       ,   4.82548632],\n",
              "       [  3.5       ,   1.3       ,   6.19417352],\n",
              "       [  3.6       ,   1.4       ,   7.38902592],\n",
              "       [  3.        ,   1.3       ,   5.30929158],\n",
              "       [  3.4       ,   1.5       ,   8.01106127],\n",
              "       [  3.5       ,   1.3       ,   6.19417352],\n",
              "       [  2.3       ,   1.3       ,   4.07045688],\n",
              "       [  3.2       ,   1.3       ,   5.66324436],\n",
              "       [  3.5       ,   1.6       ,   9.38289006],\n",
              "       [  3.8       ,   1.9       ,  14.36545601],\n",
              "       [  3.        ,   1.4       ,   6.1575216 ],\n",
              "       [  3.8       ,   1.6       ,  10.18713778],\n",
              "       [  3.2       ,   1.4       ,   6.56802304],\n",
              "       [  3.7       ,   1.5       ,   8.71791961],\n",
              "       [  3.3       ,   1.4       ,   6.77327376],\n",
              "       [  3.2       ,   4.7       ,  74.0243005 ],\n",
              "       [  3.2       ,   4.5       ,  67.85840132],\n",
              "       [  3.1       ,   4.9       ,  77.94396093],\n",
              "       [  2.3       ,   4.        ,  38.53686988],\n",
              "       [  2.8       ,   4.6       ,  62.04436051],\n",
              "       [  2.8       ,   4.5       ,  59.37610115],\n",
              "       [  3.3       ,   4.7       ,  76.33755989],\n",
              "       [  2.4       ,   3.3       ,  27.3695552 ],\n",
              "       [  2.9       ,   4.6       ,  64.26023053],\n",
              "       [  2.7       ,   3.9       ,  43.00526183],\n",
              "       [  2.        ,   3.5       ,  25.65634   ],\n",
              "       [  3.        ,   4.2       ,  55.41769441],\n",
              "       [  2.2       ,   4.        ,  36.8613538 ],\n",
              "       [  2.9       ,   4.7       ,  67.08452233],\n",
              "       [  2.9       ,   3.6       ,  39.35787276],\n",
              "       [  3.1       ,   4.4       ,  62.84860823],\n",
              "       [  3.        ,   4.5       ,  63.61725124],\n",
              "       [  2.7       ,   4.1       ,  47.52915526],\n",
              "       [  2.2       ,   4.5       ,  46.65265091],\n",
              "       [  2.5       ,   3.9       ,  39.81968688],\n",
              "       [  3.2       ,   4.8       ,  77.20778105],\n",
              "       [  2.8       ,   4.        ,  46.91445029],\n",
              "       [  2.5       ,   4.9       ,  62.85803301],\n",
              "       [  2.8       ,   4.7       ,  64.77126294],\n",
              "       [  2.9       ,   4.3       ,  56.15177989],\n",
              "       [  3.        ,   4.4       ,  60.82123377],\n",
              "       [  2.8       ,   4.8       ,  67.55680842],\n",
              "       [  3.        ,   5.        ,  78.53981634],\n",
              "       [  2.9       ,   4.5       ,  61.49667619],\n",
              "       [  2.6       ,   3.5       ,  33.35324201],\n",
              "       [  2.4       ,   3.8       ,  36.29167833],\n",
              "       [  2.4       ,   3.7       ,  34.40672274],\n",
              "       [  2.7       ,   3.9       ,  43.00526183],\n",
              "       [  2.7       ,   5.1       ,  73.54154243],\n",
              "       [  3.        ,   4.5       ,  63.61725124],\n",
              "       [  3.4       ,   4.5       ,  72.0995514 ],\n",
              "       [  3.1       ,   4.7       ,  71.71104111],\n",
              "       [  2.3       ,   4.4       ,  46.62961256],\n",
              "       [  3.        ,   4.1       ,  52.81017251],\n",
              "       [  2.5       ,   4.        ,  41.88790205],\n",
              "       [  2.6       ,   4.4       ,  52.71173594],\n",
              "       [  3.        ,   4.6       ,  66.47610055],\n",
              "       [  2.6       ,   4.        ,  43.56341813],\n",
              "       [  2.3       ,   3.3       ,  26.22915706],\n",
              "       [  2.7       ,   4.2       ,  49.87592497],\n",
              "       [  3.        ,   4.2       ,  55.41769441],\n",
              "       [  2.9       ,   4.2       ,  53.57043793],\n",
              "       [  2.9       ,   4.3       ,  56.15177989],\n",
              "       [  2.5       ,   3.        ,  23.5619449 ],\n",
              "       [  2.8       ,   4.1       ,  49.28949434],\n",
              "       [  3.3       ,   6.        , 124.40706908],\n",
              "       [  2.7       ,   5.1       ,  73.54154243],\n",
              "       [  3.        ,   5.9       , 109.35884027],\n",
              "       [  2.9       ,   5.6       ,  95.2363341 ],\n",
              "       [  3.        ,   5.8       , 105.68317687],\n",
              "       [  3.        ,   6.6       , 136.84777599],\n",
              "       [  2.5       ,   4.5       ,  53.01437603],\n",
              "       [  2.9       ,   6.3       , 120.53348534],\n",
              "       [  2.5       ,   5.8       ,  88.06931406],\n",
              "       [  3.6       ,   6.1       , 140.27839517],\n",
              "       [  3.2       ,   5.1       ,  87.16034658],\n",
              "       [  2.7       ,   5.3       ,  79.42260388],\n",
              "       [  3.        ,   5.5       ,  95.03317777],\n",
              "       [  2.5       ,   5.        ,  65.44984695],\n",
              "       [  2.8       ,   5.1       ,  76.26530326],\n",
              "       [  3.2       ,   5.3       ,  94.13049348],\n",
              "       [  3.        ,   5.5       ,  95.03317777],\n",
              "       [  3.8       ,   6.7       , 178.63305268],\n",
              "       [  2.6       ,   6.9       , 129.62839607],\n",
              "       [  2.2       ,   5.        ,  57.59586532],\n",
              "       [  3.2       ,   5.7       , 108.875035  ],\n",
              "       [  2.8       ,   4.9       ,  70.40099697],\n",
              "       [  2.8       ,   6.7       , 131.62435461],\n",
              "       [  2.7       ,   4.9       ,  67.88667565],\n",
              "       [  3.3       ,   5.7       , 112.27737985],\n",
              "       [  3.2       ,   6.        , 120.6371579 ],\n",
              "       [  2.8       ,   4.8       ,  67.55680842],\n",
              "       [  3.        ,   4.9       ,  75.42963961],\n",
              "       [  2.8       ,   5.6       ,  91.95232258],\n",
              "       [  3.        ,   5.8       , 105.68317687],\n",
              "       [  2.8       ,   6.1       , 109.10541846],\n",
              "       [  3.8       ,   6.4       , 162.99420445],\n",
              "       [  2.8       ,   5.6       ,  91.95232258],\n",
              "       [  2.8       ,   5.1       ,  76.26530326],\n",
              "       [  2.6       ,   5.6       ,  85.38429953],\n",
              "       [  3.        ,   6.1       , 116.89866264],\n",
              "       [  3.4       ,   5.6       , 111.6563917 ],\n",
              "       [  3.1       ,   5.5       ,  98.20095036],\n",
              "       [  3.        ,   4.8       ,  72.38229474],\n",
              "       [  3.1       ,   5.4       ,  94.66246984],\n",
              "       [  3.1       ,   5.6       , 101.80435714],\n",
              "       [  3.1       ,   5.1       ,  84.43658575],\n",
              "       [  2.7       ,   5.1       ,  73.54154243],\n",
              "       [  3.2       ,   5.9       , 116.64942962],\n",
              "       [  3.3       ,   5.7       , 112.27737985],\n",
              "       [  3.        ,   5.2       ,  84.94866535],\n",
              "       [  2.5       ,   5.        ,  65.44984695],\n",
              "       [  3.        ,   5.2       ,  84.94866535],\n",
              "       [  3.4       ,   5.4       , 103.82335402],\n",
              "       [  3.        ,   5.1       ,  81.71282492]])"
            ]
          },
          "metadata": {
            "tags": []
          },
          "execution_count": 87
        }
      ]
    },
    {
      "cell_type": "markdown",
      "metadata": {
        "id": "hL_sQDtd8qtV"
      },
      "source": [
        "## 42. How to do probabilistic sampling in numpy?  \r\n",
        "\r\n",
        "https://wikidocs.net/14597"
      ]
    },
    {
      "cell_type": "code",
      "metadata": {
        "colab": {
          "base_uri": "https://localhost:8080/"
        },
        "id": "CLxw0fwv7BlD",
        "outputId": "af7b2f5a-0b9e-46d6-dd5f-6fd1274cb977"
      },
      "source": [
        "# Q. Randomly sample iris's species such that setose is twice the number of versicolor and virginica\r\n",
        "\r\n",
        "# Solution from the website\r\n",
        "print(\"Solution from the website\")\r\n",
        "iris = np.genfromtxt(\"iris_new.csv\", delimiter = \",\", dtype=object, skip_header=1)\r\n",
        "\r\n",
        "# Get the species column\r\n",
        "species = iris[:, 5]\r\n",
        "\r\n",
        "species"
      ],
      "execution_count": 88,
      "outputs": [
        {
          "output_type": "stream",
          "text": [
            "Solution from the website\n"
          ],
          "name": "stdout"
        },
        {
          "output_type": "execute_result",
          "data": {
            "text/plain": [
              "array([b'setosa', b'setosa', b'setosa', b'setosa', b'setosa', b'setosa',\n",
              "       b'setosa', b'setosa', b'setosa', b'setosa', b'setosa', b'setosa',\n",
              "       b'setosa', b'setosa', b'setosa', b'setosa', b'setosa', b'setosa',\n",
              "       b'setosa', b'setosa', b'setosa', b'setosa', b'setosa', b'setosa',\n",
              "       b'setosa', b'setosa', b'setosa', b'setosa', b'setosa', b'setosa',\n",
              "       b'setosa', b'setosa', b'setosa', b'setosa', b'setosa', b'setosa',\n",
              "       b'setosa', b'setosa', b'setosa', b'setosa', b'setosa', b'setosa',\n",
              "       b'setosa', b'setosa', b'setosa', b'setosa', b'setosa', b'setosa',\n",
              "       b'setosa', b'setosa', b'versicolor', b'versicolor', b'versicolor',\n",
              "       b'versicolor', b'versicolor', b'versicolor', b'versicolor',\n",
              "       b'versicolor', b'versicolor', b'versicolor', b'versicolor',\n",
              "       b'versicolor', b'versicolor', b'versicolor', b'versicolor',\n",
              "       b'versicolor', b'versicolor', b'versicolor', b'versicolor',\n",
              "       b'versicolor', b'versicolor', b'versicolor', b'versicolor',\n",
              "       b'versicolor', b'versicolor', b'versicolor', b'versicolor',\n",
              "       b'versicolor', b'versicolor', b'versicolor', b'versicolor',\n",
              "       b'versicolor', b'versicolor', b'versicolor', b'versicolor',\n",
              "       b'versicolor', b'versicolor', b'versicolor', b'versicolor',\n",
              "       b'versicolor', b'versicolor', b'versicolor', b'versicolor',\n",
              "       b'versicolor', b'versicolor', b'versicolor', b'versicolor',\n",
              "       b'versicolor', b'versicolor', b'versicolor', b'virginica',\n",
              "       b'virginica', b'virginica', b'virginica', b'virginica',\n",
              "       b'virginica', b'virginica', b'virginica', b'virginica',\n",
              "       b'virginica', b'virginica', b'virginica', b'virginica',\n",
              "       b'virginica', b'virginica', b'virginica', b'virginica',\n",
              "       b'virginica', b'virginica', b'virginica', b'virginica',\n",
              "       b'virginica', b'virginica', b'virginica', b'virginica',\n",
              "       b'virginica', b'virginica', b'virginica', b'virginica',\n",
              "       b'virginica', b'virginica', b'virginica', b'virginica',\n",
              "       b'virginica', b'virginica', b'virginica', b'virginica',\n",
              "       b'virginica', b'virginica', b'virginica', b'virginica',\n",
              "       b'virginica', b'virginica', b'virginica', b'virginica',\n",
              "       b'virginica', b'virginica', b'virginica', b'virginica',\n",
              "       b'virginica'], dtype=object)"
            ]
          },
          "metadata": {
            "tags": []
          },
          "execution_count": 88
        }
      ]
    },
    {
      "cell_type": "code",
      "metadata": {
        "colab": {
          "base_uri": "https://localhost:8080/"
        },
        "id": "VvavrkGb7VhQ",
        "outputId": "ccec24c7-a49a-453e-a376-c3d1defaf0d3"
      },
      "source": [
        "# Approach 1 : Generate Probabilistically\r\n",
        "np.random.seed(100)\r\n",
        "\r\n",
        "a = np.array(['Iris-setosa', 'Iris-versicolor', 'Iris-virginica'])\r\n",
        "species_out = np.random.choice(a, 150, p=[0.5,0.25,0.25]) # a를 150개 0.5 0.25 0.25확률로 선택\r\n",
        "species_out\r\n",
        "\r\n",
        "print(np.unique(species_out, return_counts=True))"
      ],
      "execution_count": 89,
      "outputs": [
        {
          "output_type": "execute_result",
          "data": {
            "text/plain": [
              "array(['Iris-versicolor', 'Iris-setosa', 'Iris-setosa', 'Iris-virginica',\n",
              "       'Iris-setosa', 'Iris-setosa', 'Iris-versicolor', 'Iris-virginica',\n",
              "       'Iris-setosa', 'Iris-versicolor', 'Iris-virginica', 'Iris-setosa',\n",
              "       'Iris-setosa', 'Iris-setosa', 'Iris-setosa', 'Iris-virginica',\n",
              "       'Iris-virginica', 'Iris-setosa', 'Iris-virginica', 'Iris-setosa',\n",
              "       'Iris-setosa', 'Iris-virginica', 'Iris-virginica', 'Iris-setosa',\n",
              "       'Iris-setosa', 'Iris-setosa', 'Iris-setosa', 'Iris-setosa',\n",
              "       'Iris-virginica', 'Iris-setosa', 'Iris-versicolor',\n",
              "       'Iris-versicolor', 'Iris-setosa', 'Iris-setosa', 'Iris-setosa',\n",
              "       'Iris-virginica', 'Iris-virginica', 'Iris-setosa',\n",
              "       'Iris-virginica', 'Iris-versicolor', 'Iris-versicolor',\n",
              "       'Iris-versicolor', 'Iris-versicolor', 'Iris-setosa', 'Iris-setosa',\n",
              "       'Iris-versicolor', 'Iris-virginica', 'Iris-setosa', 'Iris-setosa',\n",
              "       'Iris-virginica', 'Iris-virginica', 'Iris-virginica',\n",
              "       'Iris-setosa', 'Iris-versicolor', 'Iris-setosa', 'Iris-setosa',\n",
              "       'Iris-setosa', 'Iris-setosa', 'Iris-setosa', 'Iris-versicolor',\n",
              "       'Iris-setosa', 'Iris-versicolor', 'Iris-versicolor', 'Iris-setosa',\n",
              "       'Iris-virginica', 'Iris-virginica', 'Iris-versicolor',\n",
              "       'Iris-setosa', 'Iris-setosa', 'Iris-setosa', 'Iris-setosa',\n",
              "       'Iris-setosa', 'Iris-setosa', 'Iris-virginica', 'Iris-virginica',\n",
              "       'Iris-versicolor', 'Iris-versicolor', 'Iris-setosa', 'Iris-setosa',\n",
              "       'Iris-setosa', 'Iris-versicolor', 'Iris-setosa', 'Iris-versicolor',\n",
              "       'Iris-virginica', 'Iris-setosa', 'Iris-setosa', 'Iris-virginica',\n",
              "       'Iris-virginica', 'Iris-setosa', 'Iris-versicolor',\n",
              "       'Iris-versicolor', 'Iris-setosa', 'Iris-setosa', 'Iris-setosa',\n",
              "       'Iris-setosa', 'Iris-versicolor', 'Iris-setosa', 'Iris-versicolor',\n",
              "       'Iris-setosa', 'Iris-versicolor', 'Iris-virginica',\n",
              "       'Iris-virginica', 'Iris-versicolor', 'Iris-setosa',\n",
              "       'Iris-versicolor', 'Iris-virginica', 'Iris-versicolor',\n",
              "       'Iris-virginica', 'Iris-virginica', 'Iris-setosa', 'Iris-setosa',\n",
              "       'Iris-setosa', 'Iris-virginica', 'Iris-virginica', 'Iris-setosa',\n",
              "       'Iris-setosa', 'Iris-versicolor', 'Iris-setosa', 'Iris-setosa',\n",
              "       'Iris-versicolor', 'Iris-versicolor', 'Iris-versicolor',\n",
              "       'Iris-versicolor', 'Iris-setosa', 'Iris-setosa', 'Iris-setosa',\n",
              "       'Iris-setosa', 'Iris-setosa', 'Iris-versicolor', 'Iris-setosa',\n",
              "       'Iris-setosa', 'Iris-setosa', 'Iris-virginica', 'Iris-setosa',\n",
              "       'Iris-setosa', 'Iris-setosa', 'Iris-versicolor', 'Iris-virginica',\n",
              "       'Iris-virginica', 'Iris-virginica', 'Iris-setosa',\n",
              "       'Iris-versicolor', 'Iris-versicolor', 'Iris-setosa',\n",
              "       'Iris-virginica', 'Iris-setosa', 'Iris-virginica',\n",
              "       'Iris-versicolor', 'Iris-setosa', 'Iris-setosa'], dtype='<U15')"
            ]
          },
          "metadata": {
            "tags": []
          },
          "execution_count": 89
        },
        {
          "output_type": "stream",
          "text": [
            "(array(['Iris-setosa', 'Iris-versicolor', 'Iris-virginica'], dtype='<U15'), array([77, 37, 36]))\n"
          ],
          "name": "stdout"
        }
      ]
    },
    {
      "cell_type": "code",
      "metadata": {
        "colab": {
          "base_uri": "https://localhost:8080/"
        },
        "id": "cG5IA8RX73WL",
        "outputId": "eba7314e-584f-43bb-f0fb-1efc4f8cba4b"
      },
      "source": [
        "# Approach 2 : Probabilistic sampling (preferred)\r\n",
        "np.random.seed(100)\r\n",
        "\r\n",
        "probs = np.r_[np.linspace(0, 0.500, num=50), np.linspace(0.501, 0.750, num=50), np.linspace(0.751, 1.0, num=50)]\r\n",
        "index = np.searchsorted(probs, np.random.random(150)) # 이진탐색\r\n",
        "species_out = species[index]\r\n",
        "\r\n",
        "print(np.unique(species_out, return_counts=True))"
      ],
      "execution_count": 90,
      "outputs": [
        {
          "output_type": "stream",
          "text": [
            "(array([b'setosa', b'versicolor', b'virginica'], dtype=object), array([77, 37, 36]))\n"
          ],
          "name": "stdout"
        }
      ]
    },
    {
      "cell_type": "markdown",
      "metadata": {
        "id": "lWWvUw7WAm81"
      },
      "source": [
        "np.random.random(150)개 각각이 그 구간안에 들어가는 index로 만들어져 나오게 된다."
      ]
    },
    {
      "cell_type": "markdown",
      "metadata": {
        "id": "399kux888xs_"
      },
      "source": [
        "## 43. How to get the second largest value of an array when grouped by another array?"
      ]
    },
    {
      "cell_type": "code",
      "metadata": {
        "colab": {
          "base_uri": "https://localhost:8080/"
        },
        "id": "2VlqFXTBAxFO",
        "outputId": "61a6e908-b5ed-438e-81e4-4ec4810da5ea"
      },
      "source": [
        "# Q. What is the value of second longest petallength of species setosa\r\n",
        "\r\n",
        "# Solution\r\n",
        "header = np.genfromtxt('iris_new.csv', delimiter=',', dtype=object, skip_header=0)\r\n",
        "header[0]"
      ],
      "execution_count": 91,
      "outputs": [
        {
          "output_type": "execute_result",
          "data": {
            "text/plain": [
              "array([b'', b'sepal length (cm)', b'sepal width (cm)',\n",
              "       b'petal length (cm)', b'petal width (cm)', b'target'], dtype=object)"
            ]
          },
          "metadata": {
            "tags": []
          },
          "execution_count": 91
        }
      ]
    },
    {
      "cell_type": "code",
      "metadata": {
        "colab": {
          "base_uri": "https://localhost:8080/"
        },
        "id": "LsVQ9igJCv8l",
        "outputId": "9c0a2d18-e211-4bce-b575-12b0ea855521"
      },
      "source": [
        "iris = np.genfromtxt('iris_new.csv', delimiter=',', dtype=object, skip_header=1)\r\n",
        "\r\n",
        "# iris\r\n",
        "sorted_iris = iris[iris[:,5]== b'setosa'][:,3] # setosa인 것 중, 4번째 컬럼 가져옴\r\n",
        "sorted_iris"
      ],
      "execution_count": 92,
      "outputs": [
        {
          "output_type": "execute_result",
          "data": {
            "text/plain": [
              "array([b'1.4', b'1.4', b'1.3', b'1.5', b'1.4', b'1.7', b'1.4', b'1.5',\n",
              "       b'1.4', b'1.5', b'1.5', b'1.6', b'1.4', b'1.1', b'1.2', b'1.5',\n",
              "       b'1.3', b'1.4', b'1.7', b'1.5', b'1.7', b'1.5', b'1.0', b'1.7',\n",
              "       b'1.9', b'1.6', b'1.6', b'1.5', b'1.4', b'1.6', b'1.6', b'1.5',\n",
              "       b'1.5', b'1.4', b'1.5', b'1.2', b'1.3', b'1.4', b'1.3', b'1.5',\n",
              "       b'1.3', b'1.3', b'1.3', b'1.6', b'1.9', b'1.4', b'1.6', b'1.4',\n",
              "       b'1.5', b'1.4'], dtype=object)"
            ]
          },
          "metadata": {
            "tags": []
          },
          "execution_count": 92
        }
      ]
    },
    {
      "cell_type": "code",
      "metadata": {
        "colab": {
          "base_uri": "https://localhost:8080/"
        },
        "id": "JIPBlbIyDStz",
        "outputId": "881750e0-e162-40cc-a7c5-28362a419adc"
      },
      "source": [
        "sorted_iris = sorted_iris.astype(float)\r\n",
        "sorted_iris"
      ],
      "execution_count": 93,
      "outputs": [
        {
          "output_type": "execute_result",
          "data": {
            "text/plain": [
              "array([1.4, 1.4, 1.3, 1.5, 1.4, 1.7, 1.4, 1.5, 1.4, 1.5, 1.5, 1.6, 1.4,\n",
              "       1.1, 1.2, 1.5, 1.3, 1.4, 1.7, 1.5, 1.7, 1.5, 1. , 1.7, 1.9, 1.6,\n",
              "       1.6, 1.5, 1.4, 1.6, 1.6, 1.5, 1.5, 1.4, 1.5, 1.2, 1.3, 1.4, 1.3,\n",
              "       1.5, 1.3, 1.3, 1.3, 1.6, 1.9, 1.4, 1.6, 1.4, 1.5, 1.4])"
            ]
          },
          "metadata": {
            "tags": []
          },
          "execution_count": 93
        }
      ]
    },
    {
      "cell_type": "code",
      "metadata": {
        "colab": {
          "base_uri": "https://localhost:8080/"
        },
        "id": "7bufKt5mDeei",
        "outputId": "4e4a6727-040f-40cf-eab3-08096a46e385"
      },
      "source": [
        "sorted_iris = np.unique(sorted_iris)\r\n",
        "sorted_iris"
      ],
      "execution_count": 94,
      "outputs": [
        {
          "output_type": "execute_result",
          "data": {
            "text/plain": [
              "array([1. , 1.1, 1.2, 1.3, 1.4, 1.5, 1.6, 1.7, 1.9])"
            ]
          },
          "metadata": {
            "tags": []
          },
          "execution_count": 94
        }
      ]
    },
    {
      "cell_type": "code",
      "metadata": {
        "colab": {
          "base_uri": "https://localhost:8080/"
        },
        "id": "wFHFjL-MDiIj",
        "outputId": "7a820b5c-c234-4126-843b-540382724249"
      },
      "source": [
        "sorted_iris.sort()\r\n",
        "sorted_iris[::-1]"
      ],
      "execution_count": 95,
      "outputs": [
        {
          "output_type": "execute_result",
          "data": {
            "text/plain": [
              "array([1.9, 1.7, 1.6, 1.5, 1.4, 1.3, 1.2, 1.1, 1. ])"
            ]
          },
          "metadata": {
            "tags": []
          },
          "execution_count": 95
        }
      ]
    },
    {
      "cell_type": "code",
      "metadata": {
        "colab": {
          "base_uri": "https://localhost:8080/"
        },
        "id": "73e4nH4EDos6",
        "outputId": "b01e5425-ad7b-4c4d-b6b9-f1864092f91b"
      },
      "source": [
        "sorted_iris[::-1][1] # the second greatest"
      ],
      "execution_count": 96,
      "outputs": [
        {
          "output_type": "execute_result",
          "data": {
            "text/plain": [
              "1.7"
            ]
          },
          "metadata": {
            "tags": []
          },
          "execution_count": 96
        }
      ]
    },
    {
      "cell_type": "code",
      "metadata": {
        "colab": {
          "base_uri": "https://localhost:8080/"
        },
        "id": "pn0_ROLoDwOl",
        "outputId": "99bf1c9b-848f-48f7-ed27-635d424a8aa4"
      },
      "source": [
        "# Solution from the website\r\n",
        "iris = np.genfromtxt(\"iris_new.csv\", delimiter = \",\", dtype=object, skip_header=1)\r\n",
        "\r\n",
        "petal_len_setosa = iris[iris[:, 5] == b'setosa', [3]].astype('float')\r\n",
        "petal_len_setosa"
      ],
      "execution_count": 97,
      "outputs": [
        {
          "output_type": "execute_result",
          "data": {
            "text/plain": [
              "array([1.4, 1.4, 1.3, 1.5, 1.4, 1.7, 1.4, 1.5, 1.4, 1.5, 1.5, 1.6, 1.4,\n",
              "       1.1, 1.2, 1.5, 1.3, 1.4, 1.7, 1.5, 1.7, 1.5, 1. , 1.7, 1.9, 1.6,\n",
              "       1.6, 1.5, 1.4, 1.6, 1.6, 1.5, 1.5, 1.4, 1.5, 1.2, 1.3, 1.4, 1.3,\n",
              "       1.5, 1.3, 1.3, 1.3, 1.6, 1.9, 1.4, 1.6, 1.4, 1.5, 1.4])"
            ]
          },
          "metadata": {
            "tags": []
          },
          "execution_count": 97
        }
      ]
    },
    {
      "cell_type": "code",
      "metadata": {
        "colab": {
          "base_uri": "https://localhost:8080/"
        },
        "id": "6KyQmHm2EAC3",
        "outputId": "0f82dca9-5104-4c7b-93f1-1499942c28a8"
      },
      "source": [
        "np.sort(petal_len_setosa)"
      ],
      "execution_count": 98,
      "outputs": [
        {
          "output_type": "execute_result",
          "data": {
            "text/plain": [
              "array([1. , 1.1, 1.2, 1.2, 1.3, 1.3, 1.3, 1.3, 1.3, 1.3, 1.3, 1.4, 1.4,\n",
              "       1.4, 1.4, 1.4, 1.4, 1.4, 1.4, 1.4, 1.4, 1.4, 1.4, 1.4, 1.5, 1.5,\n",
              "       1.5, 1.5, 1.5, 1.5, 1.5, 1.5, 1.5, 1.5, 1.5, 1.5, 1.5, 1.6, 1.6,\n",
              "       1.6, 1.6, 1.6, 1.6, 1.6, 1.7, 1.7, 1.7, 1.7, 1.9, 1.9])"
            ]
          },
          "metadata": {
            "tags": []
          },
          "execution_count": 98
        }
      ]
    },
    {
      "cell_type": "code",
      "metadata": {
        "colab": {
          "base_uri": "https://localhost:8080/"
        },
        "id": "mkjjNbquEICW",
        "outputId": "11026002-3049-4dc6-ef2d-8019d243e6f7"
      },
      "source": [
        "np.unique(np.sort(petal_len_setosa))"
      ],
      "execution_count": 99,
      "outputs": [
        {
          "output_type": "execute_result",
          "data": {
            "text/plain": [
              "array([1. , 1.1, 1.2, 1.3, 1.4, 1.5, 1.6, 1.7, 1.9])"
            ]
          },
          "metadata": {
            "tags": []
          },
          "execution_count": 99
        }
      ]
    },
    {
      "cell_type": "code",
      "metadata": {
        "id": "UwUxWoSbD4kn",
        "colab": {
          "base_uri": "https://localhost:8080/"
        },
        "outputId": "31c6c6fb-49f7-494b-e71e-f7391c5510d7"
      },
      "source": [
        "np.unique(np.sort(petal_len_setosa))[-2] # 뒤에서 두번째"
      ],
      "execution_count": 100,
      "outputs": [
        {
          "output_type": "execute_result",
          "data": {
            "text/plain": [
              "1.7"
            ]
          },
          "metadata": {
            "tags": []
          },
          "execution_count": 100
        }
      ]
    },
    {
      "cell_type": "markdown",
      "metadata": {
        "id": "PPDDFkI982p9"
      },
      "source": [
        "## 44. How to sort a 2D array by a column"
      ]
    },
    {
      "cell_type": "code",
      "metadata": {
        "colab": {
          "base_uri": "https://localhost:8080/"
        },
        "id": "sC6c4HcAELuf",
        "outputId": "b2c8262e-68e8-4e55-fc4b-ba13e38ccf09"
      },
      "source": [
        "# Q. Sort the iris dataset based on sepallength column.\r\n",
        "\r\n",
        "# Solution\r\n",
        "headers = np.genfromtxt(\"iris_new.csv\", delimiter = \",\", dtype=object, skip_header=0)\r\n",
        "print(list(headers[0]))\r\n",
        "iris = np.genfromtxt(\"iris_new.csv\", delimiter = \",\", usecols=[0,1,2,3,4], skip_header=1)\r\n",
        "iris[iris[:,1].argsort()][:5]\r\n",
        "\r\n",
        "# Solution from the website\r\n",
        "print(iris[iris[:,1].argsort()][:5]) # same solution"
      ],
      "execution_count": 101,
      "outputs": [
        {
          "output_type": "stream",
          "text": [
            "[b'', b'sepal length (cm)', b'sepal width (cm)', b'petal length (cm)', b'petal width (cm)', b'target']\n"
          ],
          "name": "stdout"
        },
        {
          "output_type": "execute_result",
          "data": {
            "text/plain": [
              "array([[13. ,  4.3,  3. ,  1.1,  0.1],\n",
              "       [42. ,  4.4,  3.2,  1.3,  0.2],\n",
              "       [38. ,  4.4,  3. ,  1.3,  0.2],\n",
              "       [ 8. ,  4.4,  2.9,  1.4,  0.2],\n",
              "       [41. ,  4.5,  2.3,  1.3,  0.3]])"
            ]
          },
          "metadata": {
            "tags": []
          },
          "execution_count": 101
        },
        {
          "output_type": "stream",
          "text": [
            "[[13.   4.3  3.   1.1  0.1]\n",
            " [42.   4.4  3.2  1.3  0.2]\n",
            " [38.   4.4  3.   1.3  0.2]\n",
            " [ 8.   4.4  2.9  1.4  0.2]\n",
            " [41.   4.5  2.3  1.3  0.3]]\n"
          ],
          "name": "stdout"
        }
      ]
    },
    {
      "cell_type": "code",
      "metadata": {
        "colab": {
          "base_uri": "https://localhost:8080/"
        },
        "id": "hJpSDl3KL8LA",
        "outputId": "6db20f20-867b-444a-8dd6-2974eb1fc788"
      },
      "source": [
        "iris[:,1].argsort() # a.argsort()는 어레이 a를 정렬하는 인덱스의 어레이를 반환"
      ],
      "execution_count": 102,
      "outputs": [
        {
          "output_type": "execute_result",
          "data": {
            "text/plain": [
              "array([ 13,  42,  38,   8,  41,  22,   3,   6,  47,   2,  29,  12,  45,\n",
              "        24,  11,  30,  57, 106,  34,   9,  37,   1,  40,  26,  49,  35,\n",
              "        43,  60,   7,  93,   4,  25,  44,  46,  98,   0,  39,  17,  23,\n",
              "        21,  19,  32,  28,  27,  59,  48,  84,   5,  20,  31,  10,  16,\n",
              "        36,  90,  33,  53,  81,  80,  89,  88, 121,  66,  69,  94,  64,\n",
              "        79,  96,  99,  15,  55, 113,  18,  95,  67,  14,  92, 114, 142,\n",
              "        82, 101, 149,  61,  70,  78,  83, 138,  85,  62, 119, 127, 134,\n",
              "        71,  63,  73,  91,  68,  97, 148, 126,  72, 123, 146,  56, 133,\n",
              "       100,  87, 136, 103, 132, 128, 137,  51, 115,  74, 111, 104, 116,\n",
              "       147,  54, 110,  58,  75,  86, 140, 108,  77,  65, 144, 145, 124,\n",
              "       143,  76, 112, 139, 141,  52, 120,  50, 102, 129, 125, 109, 107,\n",
              "       130, 105, 122, 118, 117, 135, 131])"
            ]
          },
          "metadata": {
            "tags": []
          },
          "execution_count": 102
        }
      ]
    },
    {
      "cell_type": "markdown",
      "metadata": {
        "id": "jdKK3RWS86tn"
      },
      "source": [
        "## 45. How to find the most frequent value in a numpy array?  \r\n",
        "\r\n",
        "https://blog.naver.com/timtaeil/221426580068"
      ]
    },
    {
      "cell_type": "code",
      "metadata": {
        "id": "M6xccceHQ165",
        "colab": {
          "base_uri": "https://localhost:8080/"
        },
        "outputId": "56bc9715-047c-439b-c052-94aa2ea21236"
      },
      "source": [
        "# Q. Find the most frequent value of petal length (3rd column) in iris dataset.\r\n",
        "\r\n",
        "# Solution\r\n",
        "np.set_printoptions(edgeitems=3,infstr='inf', linewidth=75, nanstr='nan', precision=3, \r\n",
        "                    suppress=False, threshold=1000, formatter=None)\r\n",
        "\r\n",
        "\r\n",
        "headers = np.genfromtxt(\"iris_new.csv\", delimiter = \",\", dtype=object, skip_header=0)\r\n",
        "print(list(headers[0]))"
      ],
      "execution_count": 104,
      "outputs": [
        {
          "output_type": "stream",
          "text": [
            "[b'', b'sepal length (cm)', b'sepal width (cm)', b'petal length (cm)', b'petal width (cm)', b'target']\n"
          ],
          "name": "stdout"
        }
      ]
    },
    {
      "cell_type": "code",
      "metadata": {
        "colab": {
          "base_uri": "https://localhost:8080/"
        },
        "id": "RTZqK1gTifVZ",
        "outputId": "bfda1d71-d50f-4e73-b80d-7ca3811b42ea"
      },
      "source": [
        "iris = np.genfromtxt(\"iris_new.csv\", delimiter = \",\", usecols=[4], skip_header=1)\r\n",
        "counts = np.unique([v for v in iris], return_counts=True) # we have a tuple of arrays\r\n",
        "\r\n",
        "counts"
      ],
      "execution_count": 106,
      "outputs": [
        {
          "output_type": "execute_result",
          "data": {
            "text/plain": [
              "(array([0.1, 0.2, 0.3, 0.4, 0.5, 0.6, 1. , 1.1, 1.2, 1.3, 1.4, 1.5, 1.6,\n",
              "        1.7, 1.8, 1.9, 2. , 2.1, 2.2, 2.3, 2.4, 2.5]),\n",
              " array([ 5, 29,  7,  7,  1,  1,  7,  3,  5, 13,  8, 12,  4,  2, 12,  5,  6,\n",
              "         6,  3,  8,  3,  3]))"
            ]
          },
          "metadata": {
            "tags": []
          },
          "execution_count": 106
        }
      ]
    },
    {
      "cell_type": "code",
      "metadata": {
        "colab": {
          "base_uri": "https://localhost:8080/"
        },
        "id": "bgpqxxfQilSF",
        "outputId": "9583c803-a665-4d54-f60c-0cae6f60ce9b"
      },
      "source": [
        " # extract the values and counts, zip them and sort by the counts\r\n",
        " # sorted : output result will be list type.\r\n",
        " # lambda x : x[1] <- sort by counts[1]\r\n",
        "sort_list = sorted(list(zip(counts[0], counts[1])), key = lambda x: x[1]) \r\n",
        "sort_list"
      ],
      "execution_count": 120,
      "outputs": [
        {
          "output_type": "execute_result",
          "data": {
            "text/plain": [
              "[(0.5, 1),\n",
              " (0.6, 1),\n",
              " (1.7, 2),\n",
              " (1.1, 3),\n",
              " (2.2, 3),\n",
              " (2.4, 3),\n",
              " (2.5, 3),\n",
              " (1.6, 4),\n",
              " (0.1, 5),\n",
              " (1.2, 5),\n",
              " (1.9, 5),\n",
              " (2.0, 6),\n",
              " (2.1, 6),\n",
              " (0.3, 7),\n",
              " (0.4, 7),\n",
              " (1.0, 7),\n",
              " (1.4, 8),\n",
              " (2.3, 8),\n",
              " (1.5, 12),\n",
              " (1.8, 12),\n",
              " (1.3, 13),\n",
              " (0.2, 29)]"
            ]
          },
          "metadata": {
            "tags": []
          },
          "execution_count": 120
        }
      ]
    },
    {
      "cell_type": "code",
      "metadata": {
        "colab": {
          "base_uri": "https://localhost:8080/"
        },
        "id": "csAEwLDvjL0D",
        "outputId": "b549bb68-b70c-44df-9d9a-c39a4bd2b98d"
      },
      "source": [
        "list(zip(counts[0], counts[1]))"
      ],
      "execution_count": 116,
      "outputs": [
        {
          "output_type": "execute_result",
          "data": {
            "text/plain": [
              "[(0.1, 5),\n",
              " (0.2, 29),\n",
              " (0.3, 7),\n",
              " (0.4, 7),\n",
              " (0.5, 1),\n",
              " (0.6, 1),\n",
              " (1.0, 7),\n",
              " (1.1, 3),\n",
              " (1.2, 5),\n",
              " (1.3, 13),\n",
              " (1.4, 8),\n",
              " (1.5, 12),\n",
              " (1.6, 4),\n",
              " (1.7, 2),\n",
              " (1.8, 12),\n",
              " (1.9, 5),\n",
              " (2.0, 6),\n",
              " (2.1, 6),\n",
              " (2.2, 3),\n",
              " (2.3, 8),\n",
              " (2.4, 3),\n",
              " (2.5, 3)]"
            ]
          },
          "metadata": {
            "tags": []
          },
          "execution_count": 116
        }
      ]
    },
    {
      "cell_type": "code",
      "metadata": {
        "colab": {
          "base_uri": "https://localhost:8080/"
        },
        "id": "owZhmyQPmywx",
        "outputId": "19a483f7-f2bc-4517-85bd-a5833983335c"
      },
      "source": [
        "sorted(list(zip(counts[0], counts[1])), key = lambda x: -x[0]) "
      ],
      "execution_count": 122,
      "outputs": [
        {
          "output_type": "execute_result",
          "data": {
            "text/plain": [
              "[(2.5, 3),\n",
              " (2.4, 3),\n",
              " (2.3, 8),\n",
              " (2.2, 3),\n",
              " (2.1, 6),\n",
              " (2.0, 6),\n",
              " (1.9, 5),\n",
              " (1.8, 12),\n",
              " (1.7, 2),\n",
              " (1.6, 4),\n",
              " (1.5, 12),\n",
              " (1.4, 8),\n",
              " (1.3, 13),\n",
              " (1.2, 5),\n",
              " (1.1, 3),\n",
              " (1.0, 7),\n",
              " (0.6, 1),\n",
              " (0.5, 1),\n",
              " (0.4, 7),\n",
              " (0.3, 7),\n",
              " (0.2, 29),\n",
              " (0.1, 5)]"
            ]
          },
          "metadata": {
            "tags": []
          },
          "execution_count": 122
        }
      ]
    },
    {
      "cell_type": "code",
      "metadata": {
        "colab": {
          "base_uri": "https://localhost:8080/"
        },
        "id": "LKNiv7v3jCV6",
        "outputId": "eba997c9-4fec-4518-ccd2-90fac517445f"
      },
      "source": [
        "#reverse the list and get the first (most frequent) the most frequent value of petal lenght is 0.2, \r\n",
        "#it has ocurred 28 times\r\n",
        "sort_list[::-1][0] "
      ],
      "execution_count": 115,
      "outputs": [
        {
          "output_type": "execute_result",
          "data": {
            "text/plain": [
              "(0.2, 29)"
            ]
          },
          "metadata": {
            "tags": []
          },
          "execution_count": 115
        }
      ]
    },
    {
      "cell_type": "markdown",
      "metadata": {
        "id": "pK0TQjUY8-pP"
      },
      "source": [
        "## 46. How to find the position of the first occurrence of a value greater than a given value?  \r\n",
        "\r\n",
        "https://emilkwak.github.io/numpy-argmax-argmin-argwhere  \r\n",
        "\r\n",
        "numpy의 argmax(), argmin()을 이용해 최대, 최소 값의 위치를 손쉽게 알 수 있습니다. argwhere()를 사용하면 특정 데이터의 위치를 매우 간편히 찾을 수 있습니다."
      ]
    },
    {
      "cell_type": "code",
      "metadata": {
        "colab": {
          "base_uri": "https://localhost:8080/"
        },
        "id": "Vo00eE6gm2dX",
        "outputId": "c9aa7288-53ed-4f89-cb37-e9a1e027c227"
      },
      "source": [
        "# Q. Find the position of the first occurrence of a value greater than 1.0 in petalwidth 4th column of iris dataset\r\n",
        "\r\n",
        "# Solution\r\n",
        "iris = np.genfromtxt(\"iris_new.csv\", delimiter = \",\", usecols=[4], skip_header=1)\r\n",
        "\r\n",
        "iris"
      ],
      "execution_count": 124,
      "outputs": [
        {
          "output_type": "execute_result",
          "data": {
            "text/plain": [
              "array([0.2, 0.2, 0.2, 0.2, 0.2, 0.4, 0.3, 0.2, 0.2, 0.1, 0.2, 0.2, 0.1,\n",
              "       0.1, 0.2, 0.4, 0.4, 0.3, 0.3, 0.3, 0.2, 0.4, 0.2, 0.5, 0.2, 0.2,\n",
              "       0.4, 0.2, 0.2, 0.2, 0.2, 0.4, 0.1, 0.2, 0.2, 0.2, 0.2, 0.1, 0.2,\n",
              "       0.2, 0.3, 0.3, 0.2, 0.6, 0.4, 0.3, 0.2, 0.2, 0.2, 0.2, 1.4, 1.5,\n",
              "       1.5, 1.3, 1.5, 1.3, 1.6, 1. , 1.3, 1.4, 1. , 1.5, 1. , 1.4, 1.3,\n",
              "       1.4, 1.5, 1. , 1.5, 1.1, 1.8, 1.3, 1.5, 1.2, 1.3, 1.4, 1.4, 1.7,\n",
              "       1.5, 1. , 1.1, 1. , 1.2, 1.6, 1.5, 1.6, 1.5, 1.3, 1.3, 1.3, 1.2,\n",
              "       1.4, 1.2, 1. , 1.3, 1.2, 1.3, 1.3, 1.1, 1.3, 2.5, 1.9, 2.1, 1.8,\n",
              "       2.2, 2.1, 1.7, 1.8, 1.8, 2.5, 2. , 1.9, 2.1, 2. , 2.4, 2.3, 1.8,\n",
              "       2.2, 2.3, 1.5, 2.3, 2. , 2. , 1.8, 2.1, 1.8, 1.8, 1.8, 2.1, 1.6,\n",
              "       1.9, 2. , 2.2, 1.5, 1.4, 2.3, 2.4, 1.8, 1.8, 2.1, 2.4, 2.3, 1.9,\n",
              "       2.3, 2.5, 2.3, 1.9, 2. , 2.3, 1.8])"
            ]
          },
          "metadata": {
            "tags": []
          },
          "execution_count": 124
        }
      ]
    },
    {
      "cell_type": "code",
      "metadata": {
        "colab": {
          "base_uri": "https://localhost:8080/"
        },
        "id": "jno5UK9CnMDI",
        "outputId": "82f7edce-07de-49a6-94ac-c40ce44ddd7a"
      },
      "source": [
        "i = np.where(iris > 1) # returns the index where this is true\r\n",
        "i"
      ],
      "execution_count": 125,
      "outputs": [
        {
          "output_type": "execute_result",
          "data": {
            "text/plain": [
              "(array([ 50,  51,  52,  53,  54,  55,  56,  58,  59,  61,  63,  64,  65,\n",
              "         66,  68,  69,  70,  71,  72,  73,  74,  75,  76,  77,  78,  80,\n",
              "         82,  83,  84,  85,  86,  87,  88,  89,  90,  91,  92,  94,  95,\n",
              "         96,  97,  98,  99, 100, 101, 102, 103, 104, 105, 106, 107, 108,\n",
              "        109, 110, 111, 112, 113, 114, 115, 116, 117, 118, 119, 120, 121,\n",
              "        122, 123, 124, 125, 126, 127, 128, 129, 130, 131, 132, 133, 134,\n",
              "        135, 136, 137, 138, 139, 140, 141, 142, 143, 144, 145, 146, 147,\n",
              "        148, 149]),)"
            ]
          },
          "metadata": {
            "tags": []
          },
          "execution_count": 125
        }
      ]
    },
    {
      "cell_type": "code",
      "metadata": {
        "colab": {
          "base_uri": "https://localhost:8080/"
        },
        "id": "NmJDkdnunF6O",
        "outputId": "acd65ff4-c9c5-4fbb-b25a-78a10ff2050b"
      },
      "source": [
        "iris[i[0][0]] # first ocurrence is on index 50 // 첫번재 발생한 인덱스는 50이고 이에 해당하는 값은 1.4"
      ],
      "execution_count": 127,
      "outputs": [
        {
          "output_type": "execute_result",
          "data": {
            "text/plain": [
              "1.4"
            ]
          },
          "metadata": {
            "tags": []
          },
          "execution_count": 127
        }
      ]
    },
    {
      "cell_type": "code",
      "metadata": {
        "colab": {
          "base_uri": "https://localhost:8080/"
        },
        "id": "Cdbc8Ix9ngqJ",
        "outputId": "3527602c-834d-4ea1-88b8-ea68647dba2c"
      },
      "source": [
        "i[0]"
      ],
      "execution_count": 131,
      "outputs": [
        {
          "output_type": "execute_result",
          "data": {
            "text/plain": [
              "array([ 50,  51,  52,  53,  54,  55,  56,  58,  59,  61,  63,  64,  65,\n",
              "        66,  68,  69,  70,  71,  72,  73,  74,  75,  76,  77,  78,  80,\n",
              "        82,  83,  84,  85,  86,  87,  88,  89,  90,  91,  92,  94,  95,\n",
              "        96,  97,  98,  99, 100, 101, 102, 103, 104, 105, 106, 107, 108,\n",
              "       109, 110, 111, 112, 113, 114, 115, 116, 117, 118, 119, 120, 121,\n",
              "       122, 123, 124, 125, 126, 127, 128, 129, 130, 131, 132, 133, 134,\n",
              "       135, 136, 137, 138, 139, 140, 141, 142, 143, 144, 145, 146, 147,\n",
              "       148, 149])"
            ]
          },
          "metadata": {
            "tags": []
          },
          "execution_count": 131
        }
      ]
    },
    {
      "cell_type": "code",
      "metadata": {
        "colab": {
          "base_uri": "https://localhost:8080/"
        },
        "id": "-qjmHCCqnkAZ",
        "outputId": "0c86912c-1c41-4295-8b39-2ebe571170ed"
      },
      "source": [
        "i[0][0] # 첫번째 array를 고르고, 그 안에서 첫번째 수"
      ],
      "execution_count": 133,
      "outputs": [
        {
          "output_type": "execute_result",
          "data": {
            "text/plain": [
              "50"
            ]
          },
          "metadata": {
            "tags": []
          },
          "execution_count": 133
        }
      ]
    },
    {
      "cell_type": "code",
      "metadata": {
        "colab": {
          "base_uri": "https://localhost:8080/"
        },
        "id": "F906zkEons9e",
        "outputId": "0b70e4ed-37b0-41d7-f1d7-08d13d6e0e8d"
      },
      "source": [
        "iris[:i[0][0] + 1] # indexing에서 마지막 미만이므로 1.4까지 포함하려면 1을 더해야 함 ==iris[:51] <- 50번째까지 출력"
      ],
      "execution_count": 135,
      "outputs": [
        {
          "output_type": "execute_result",
          "data": {
            "text/plain": [
              "array([0.2, 0.2, 0.2, 0.2, 0.2, 0.4, 0.3, 0.2, 0.2, 0.1, 0.2, 0.2, 0.1,\n",
              "       0.1, 0.2, 0.4, 0.4, 0.3, 0.3, 0.3, 0.2, 0.4, 0.2, 0.5, 0.2, 0.2,\n",
              "       0.4, 0.2, 0.2, 0.2, 0.2, 0.4, 0.1, 0.2, 0.2, 0.2, 0.2, 0.1, 0.2,\n",
              "       0.2, 0.3, 0.3, 0.2, 0.6, 0.4, 0.3, 0.2, 0.2, 0.2, 0.2, 1.4])"
            ]
          },
          "metadata": {
            "tags": []
          },
          "execution_count": 135
        }
      ]
    },
    {
      "cell_type": "code",
      "metadata": {
        "colab": {
          "base_uri": "https://localhost:8080/"
        },
        "id": "A5bF5zpMn7YJ",
        "outputId": "06a9a46d-3d05-4f49-be2a-0e357dc435d1"
      },
      "source": [
        "# Solution from the website\r\n",
        "np.argwhere(iris.astype(float) > 1.0)[0] # same result but much faster and elegant"
      ],
      "execution_count": 139,
      "outputs": [
        {
          "output_type": "execute_result",
          "data": {
            "text/plain": [
              "array([50])"
            ]
          },
          "metadata": {
            "tags": []
          },
          "execution_count": 139
        }
      ]
    },
    {
      "cell_type": "markdown",
      "metadata": {
        "id": "Ng839j4A9E8P"
      },
      "source": [
        "## 47. How to replace all values greater than a given value to a given cutoff?"
      ]
    },
    {
      "cell_type": "code",
      "metadata": {
        "colab": {
          "base_uri": "https://localhost:8080/"
        },
        "id": "8pEE9M1MoWJ8",
        "outputId": "4bdbc4a6-49ed-4939-f4c6-d1d6a20491b0"
      },
      "source": [
        "# Q. From the array a, replace all values greater than 30 to 30 and less than 10 to 10.\r\n",
        "\r\n",
        "# Input\r\n",
        "np.random.seed(100)\r\n",
        "a = np.random.uniform(1,50, 20)\r\n",
        "a"
      ],
      "execution_count": 140,
      "outputs": [
        {
          "output_type": "execute_result",
          "data": {
            "text/plain": [
              "array([27.627, 14.64 , 21.801, 42.394,  1.231,  6.957, 33.867, 41.467,\n",
              "        7.699, 29.18 , 44.675, 11.251, 10.081,  6.31 , 11.765, 48.953,\n",
              "       40.772,  9.425, 40.995, 14.43 ])"
            ]
          },
          "metadata": {
            "tags": []
          },
          "execution_count": 140
        }
      ]
    },
    {
      "cell_type": "code",
      "metadata": {
        "colab": {
          "base_uri": "https://localhost:8080/"
        },
        "id": "7cS_Ob0CtC6N",
        "outputId": "9f3c9f3b-b8d9-48f6-f3ed-557eda0993c1"
      },
      "source": [
        "# Solution\r\n",
        "c1 = np.where(a>30)\r\n",
        "c2 = np.where(a<10)\r\n",
        "\r\n",
        "a[c1] = 30\r\n",
        "a[c2] = 10\r\n",
        "\r\n",
        "a"
      ],
      "execution_count": 143,
      "outputs": [
        {
          "output_type": "execute_result",
          "data": {
            "text/plain": [
              "array([27.627, 14.64 , 21.801, 30.   , 10.   , 10.   , 30.   , 30.   ,\n",
              "       10.   , 29.18 , 30.   , 11.251, 10.081, 10.   , 11.765, 30.   ,\n",
              "       30.   , 10.   , 30.   , 14.43 ])"
            ]
          },
          "metadata": {
            "tags": []
          },
          "execution_count": 143
        }
      ]
    },
    {
      "cell_type": "code",
      "metadata": {
        "colab": {
          "base_uri": "https://localhost:8080/"
        },
        "id": "M2JtcX8ZtM9-",
        "outputId": "0e852fcc-55ea-44b5-986b-ee8b7995f635"
      },
      "source": [
        "# Solution from the website\r\n",
        "\r\n",
        "# Solution 1 : using np.clip\r\n",
        "np.random.seed(100)\r\n",
        "a = np.random.uniform(1,50, 20)\r\n",
        "\r\n",
        "np.clip(a, a_min=10, a_max=30) # probabily the most elegant solution "
      ],
      "execution_count": 146,
      "outputs": [
        {
          "output_type": "execute_result",
          "data": {
            "text/plain": [
              "array([27.627, 14.64 , 21.801, 30.   , 10.   , 10.   , 30.   , 30.   ,\n",
              "       10.   , 29.18 , 30.   , 11.251, 10.081, 10.   , 11.765, 30.   ,\n",
              "       30.   , 10.   , 30.   , 14.43 ])"
            ]
          },
          "metadata": {
            "tags": []
          },
          "execution_count": 146
        }
      ]
    },
    {
      "cell_type": "code",
      "metadata": {
        "colab": {
          "base_uri": "https://localhost:8080/"
        },
        "id": "qdx29cCPttGt",
        "outputId": "9a341924-7083-4abf-99d7-43d1619b08e9"
      },
      "source": [
        "# Solution 2 : Using np.where\r\n",
        "np.random.seed(100)\r\n",
        "a = np.random.uniform(1,50, 20)\r\n",
        "\r\n",
        "print(np.where(a<10, 10, np.where(a>30,30,a))) # ifelse문이랑 비슷, a<10이면 10, 아니면 그 뒤의 것 실행"
      ],
      "execution_count": 147,
      "outputs": [
        {
          "output_type": "stream",
          "text": [
            "[27.627 14.64  21.801 30.    10.    10.    30.    30.    10.    29.18\n",
            " 30.    11.251 10.081 10.    11.765 30.    30.    10.    30.    14.43 ]\n"
          ],
          "name": "stdout"
        }
      ]
    },
    {
      "cell_type": "markdown",
      "metadata": {
        "id": "Dn1LEv4w9K61"
      },
      "source": [
        "## 48. How to get the positions of top n values from a numpy array?"
      ]
    },
    {
      "cell_type": "code",
      "metadata": {
        "colab": {
          "base_uri": "https://localhost:8080/"
        },
        "id": "EqL659-qtuz-",
        "outputId": "809db444-f556-427f-d05a-a73a8d0ddf2b"
      },
      "source": [
        "# Q. Get the positions of top 5 maximum values in a given array a.\r\n",
        "\r\n",
        "# Input\r\n",
        "np.random.seed(100)\r\n",
        "a = np.random.uniform(1,50, 20)\r\n",
        "a"
      ],
      "execution_count": 154,
      "outputs": [
        {
          "output_type": "execute_result",
          "data": {
            "text/plain": [
              "array([27.627, 14.64 , 21.801, 42.394,  1.231,  6.957, 33.867, 41.467,\n",
              "        7.699, 29.18 , 44.675, 11.251, 10.081,  6.31 , 11.765, 48.953,\n",
              "       40.772,  9.425, 40.995, 14.43 ])"
            ]
          },
          "metadata": {
            "tags": []
          },
          "execution_count": 154
        }
      ]
    },
    {
      "cell_type": "code",
      "metadata": {
        "colab": {
          "base_uri": "https://localhost:8080/"
        },
        "id": "qxapr0dKuM1B",
        "outputId": "699d1f84-0a5d-4721-e9a8-a3c669a9fc00"
      },
      "source": [
        "# Solution\r\n",
        "\r\n",
        "# sort the numpy array with argsort(), returns the index starting from min to max value. Index 15 has the max value\r\n",
        "a.argsort() #넘파이 배열의 원소를 오름차순으로 정렬하는 메소드입니다. 반환값은 배열의 인덱스입니다."
      ],
      "execution_count": 169,
      "outputs": [
        {
          "output_type": "execute_result",
          "data": {
            "text/plain": [
              "array([ 4, 13,  5,  8, 17, 12, 11, 14, 19,  1,  2,  0,  9,  6, 16, 18,  7,\n",
              "        3, 10, 15])"
            ]
          },
          "metadata": {
            "tags": []
          },
          "execution_count": 169
        }
      ]
    },
    {
      "cell_type": "code",
      "metadata": {
        "colab": {
          "base_uri": "https://localhost:8080/"
        },
        "id": "iU8E0MWrukVY",
        "outputId": "a347a97e-d7dc-4212-cd5c-92fb47fbddb0"
      },
      "source": [
        "sorted(list(zip(a, a.argsort())), key = lambda x : x[1])"
      ],
      "execution_count": 157,
      "outputs": [
        {
          "output_type": "execute_result",
          "data": {
            "text/plain": [
              "[(11.25090398374229, 0),\n",
              " (29.17957314193525, 1),\n",
              " (44.674775761300936, 2),\n",
              " (9.425109623897116, 3),\n",
              " (27.626842147757305, 4),\n",
              " (21.801361946707523, 5),\n",
              " (6.310467632748502, 6),\n",
              " (40.77247430537684, 7),\n",
              " (42.39403048367528, 8),\n",
              " (10.081082757953677, 9),\n",
              " (40.99501268756616, 10),\n",
              " (33.86670515161215, 11),\n",
              " (6.9568869183725965, 12),\n",
              " (14.640099869596012, 13),\n",
              " (41.46678500014733, 14),\n",
              " (14.42961360504326, 15),\n",
              " (11.765177138624615, 16),\n",
              " (1.2312239533576557, 17),\n",
              " (48.95256545066111, 18),\n",
              " (7.698622894562695, 19)]"
            ]
          },
          "metadata": {
            "tags": []
          },
          "execution_count": 157
        }
      ]
    },
    {
      "cell_type": "code",
      "metadata": {
        "colab": {
          "base_uri": "https://localhost:8080/"
        },
        "id": "a-FdR3i7vovM",
        "outputId": "7ea83e9c-93d8-4fe1-e18e-0b321f15b2eb"
      },
      "source": [
        "a.argsort()[-5:] # select top 5 index"
      ],
      "execution_count": 158,
      "outputs": [
        {
          "output_type": "execute_result",
          "data": {
            "text/plain": [
              "array([18,  7,  3, 10, 15])"
            ]
          },
          "metadata": {
            "tags": []
          },
          "execution_count": 158
        }
      ]
    },
    {
      "cell_type": "code",
      "metadata": {
        "colab": {
          "base_uri": "https://localhost:8080/"
        },
        "id": "k2Uq_9KIvrzx",
        "outputId": "d09e92f3-6fd5-4c57-8e48-5a3f3d1ccf9c"
      },
      "source": [
        "a.argsort()[-5:][::-1] # a.argsort()[::-1][:5] are equivalent, reverse the top 5 indee"
      ],
      "execution_count": 159,
      "outputs": [
        {
          "output_type": "execute_result",
          "data": {
            "text/plain": [
              "array([15, 10,  3,  7, 18])"
            ]
          },
          "metadata": {
            "tags": []
          },
          "execution_count": 159
        }
      ]
    },
    {
      "cell_type": "code",
      "metadata": {
        "colab": {
          "base_uri": "https://localhost:8080/"
        },
        "id": "V7Zh9higvuAy",
        "outputId": "bdd55300-2422-4dcf-a913-66c24ac91b49"
      },
      "source": [
        "a[a.argsort()[-5:][::-1]] # get the values"
      ],
      "execution_count": 160,
      "outputs": [
        {
          "output_type": "execute_result",
          "data": {
            "text/plain": [
              "array([48.953, 44.675, 42.394, 41.467, 40.995])"
            ]
          },
          "metadata": {
            "tags": []
          },
          "execution_count": 160
        }
      ]
    },
    {
      "cell_type": "code",
      "metadata": {
        "colab": {
          "base_uri": "https://localhost:8080/"
        },
        "id": "slmQBp3GvwgE",
        "outputId": "34dc1bfe-b7b1-4486-d64f-a40e9d34ac4e"
      },
      "source": [
        "# Solution from the website\r\n",
        "print(a.argsort())"
      ],
      "execution_count": 162,
      "outputs": [
        {
          "output_type": "stream",
          "text": [
            "[ 4 13  5  8 17 12 11 14 19  1  2  0  9  6 16 18  7  3 10 15]\n"
          ],
          "name": "stdout"
        }
      ]
    },
    {
      "cell_type": "code",
      "metadata": {
        "colab": {
          "base_uri": "https://localhost:8080/"
        },
        "id": "2KJNEi3hv3ZC",
        "outputId": "25f2558e-a769-4135-8371-b2ce99ce8d1b"
      },
      "source": [
        "np.argpartition(-a, 5)[:5]"
      ],
      "execution_count": 163,
      "outputs": [
        {
          "output_type": "execute_result",
          "data": {
            "text/plain": [
              "array([15, 10,  3,  7, 18])"
            ]
          },
          "metadata": {
            "tags": []
          },
          "execution_count": 163
        }
      ]
    },
    {
      "cell_type": "code",
      "metadata": {
        "colab": {
          "base_uri": "https://localhost:8080/"
        },
        "id": "8Jm4zeujv5ZE",
        "outputId": "69d6d962-b350-4264-89fe-9e3e109ec611"
      },
      "source": [
        "# Below methods will get you the values.\r\n",
        "# Method 1:\r\n",
        "a[a.argsort()][-5:]"
      ],
      "execution_count": 165,
      "outputs": [
        {
          "output_type": "execute_result",
          "data": {
            "text/plain": [
              "array([40.995, 41.467, 42.394, 44.675, 48.953])"
            ]
          },
          "metadata": {
            "tags": []
          },
          "execution_count": 165
        }
      ]
    },
    {
      "cell_type": "code",
      "metadata": {
        "colab": {
          "base_uri": "https://localhost:8080/"
        },
        "id": "fNZioMyCv67W",
        "outputId": "12beea19-e366-4494-bc86-17d1b2602f3b"
      },
      "source": [
        "# Method 2:\r\n",
        "np.sort(a)[-5:]"
      ],
      "execution_count": 166,
      "outputs": [
        {
          "output_type": "execute_result",
          "data": {
            "text/plain": [
              "array([40.995, 41.467, 42.394, 44.675, 48.953])"
            ]
          },
          "metadata": {
            "tags": []
          },
          "execution_count": 166
        }
      ]
    },
    {
      "cell_type": "code",
      "metadata": {
        "colab": {
          "base_uri": "https://localhost:8080/"
        },
        "id": "c2kbXY83v8d1",
        "outputId": "5742550b-1125-413a-c08b-a3239b52a9ce"
      },
      "source": [
        "# Method 3:\r\n",
        "np.partition(a, kth=-5)[-5:]"
      ],
      "execution_count": 167,
      "outputs": [
        {
          "output_type": "execute_result",
          "data": {
            "text/plain": [
              "array([40.995, 41.467, 42.394, 44.675, 48.953])"
            ]
          },
          "metadata": {
            "tags": []
          },
          "execution_count": 167
        }
      ]
    },
    {
      "cell_type": "code",
      "metadata": {
        "colab": {
          "base_uri": "https://localhost:8080/"
        },
        "id": "XO4cQEiGv-ye",
        "outputId": "2f970ad8-b57d-4bec-9bb6-be84b0042e54"
      },
      "source": [
        "# Method 4:\r\n",
        "a[np.argpartition(-a, 5)][:5]"
      ],
      "execution_count": 168,
      "outputs": [
        {
          "output_type": "execute_result",
          "data": {
            "text/plain": [
              "array([48.953, 44.675, 42.394, 41.467, 40.995])"
            ]
          },
          "metadata": {
            "tags": []
          },
          "execution_count": 168
        }
      ]
    },
    {
      "cell_type": "markdown",
      "metadata": {
        "id": "izh66JzA9Pgf"
      },
      "source": [
        "## 49. How to compute the row wise counts of all possible values in an array?"
      ]
    },
    {
      "cell_type": "code",
      "metadata": {
        "colab": {
          "base_uri": "https://localhost:8080/"
        },
        "id": "nOf-iczFx2q5",
        "outputId": "efb67041-5bb3-4593-bf32-85eba8ee5f6c"
      },
      "source": [
        "# Q. Compute the counts of unique values row-wise.\r\n",
        "\r\n",
        "# Input\r\n",
        "np.random.seed(100)\r\n",
        "arr = np.random.randint(1,11,size=(6, 10))\r\n",
        "arr"
      ],
      "execution_count": 170,
      "outputs": [
        {
          "output_type": "execute_result",
          "data": {
            "text/plain": [
              "array([[ 9,  9,  4,  8,  8,  1,  5,  3,  6,  3],\n",
              "       [ 3,  3,  2,  1,  9,  5,  1, 10,  7,  3],\n",
              "       [ 5,  2,  6,  4,  5,  5,  4,  8,  2,  2],\n",
              "       [ 8,  8,  1,  3, 10, 10,  4,  3,  6,  9],\n",
              "       [ 2,  1,  8,  7,  3,  1,  9,  3,  6,  2],\n",
              "       [ 9,  2,  6,  5,  3,  9,  4,  6,  1, 10]])"
            ]
          },
          "metadata": {
            "tags": []
          },
          "execution_count": 170
        }
      ]
    },
    {
      "cell_type": "code",
      "metadata": {
        "colab": {
          "base_uri": "https://localhost:8080/"
        },
        "id": "Ul7gMDtfx81S",
        "outputId": "a1044d34-400a-46e2-c91a-9c8d19cb33c3"
      },
      "source": [
        "# Output contains 10 columns representing numbers from 1 to 10. The values are the counts of the numbers in the respective rows.\r\n",
        "# For example, Cell(0,2) has the value 2, which means, the number 3 occurs exactly 2 times in the 1st row.\r\n",
        "\r\n",
        "# Solution\r\n",
        "print(\"Solution\")\r\n",
        "from collections import Counter\r\n",
        "rows = arr.shape[0]\r\n",
        "lc = []\r\n",
        "\r\n",
        "for row in range(rows): # iterate over all rows in the numpy array\r\n",
        "    counter = Counter() # on every row, create a new Counter\r\n",
        "    counter.update(arr[row]) # feed the Counter with the row\r\n",
        "    lc.append(dict(counter)) # append a dict in a list: each row will have it's unique dict/counter\r\n",
        "\r\n",
        "np.array([np.vectorize(lc[row].get)(arr[row]) for row in range(rows)]) # 행별로 각 숫자들의 갯수를 셈"
      ],
      "execution_count": 171,
      "outputs": [
        {
          "output_type": "stream",
          "text": [
            "Solution\n"
          ],
          "name": "stdout"
        },
        {
          "output_type": "execute_result",
          "data": {
            "text/plain": [
              "array([[2, 2, 1, 2, 2, 1, 1, 2, 1, 2],\n",
              "       [3, 3, 1, 2, 1, 1, 2, 1, 1, 3],\n",
              "       [3, 3, 1, 2, 3, 3, 2, 1, 3, 3],\n",
              "       [2, 2, 1, 2, 2, 2, 1, 2, 1, 1],\n",
              "       [2, 2, 1, 1, 2, 2, 1, 2, 1, 2],\n",
              "       [2, 1, 2, 1, 1, 2, 1, 2, 1, 1]])"
            ]
          },
          "metadata": {
            "tags": []
          },
          "execution_count": 171
        }
      ]
    },
    {
      "cell_type": "code",
      "metadata": {
        "colab": {
          "base_uri": "https://localhost:8080/"
        },
        "id": "tw4e6LhP5oJl",
        "outputId": "440c518d-0d5e-4cba-942f-ca8c3af42ee6"
      },
      "source": [
        "# Solution from the website\r\n",
        "print(\"Solution from the website (incorrect)\")\r\n",
        "\r\n",
        "def counts_of_all_values_rowwise(arr2d):\r\n",
        "    # Unique values and its counts row wise\r\n",
        "    num_counts_array = [np.unique(row, return_counts=True) for row in arr2d]\r\n",
        "    # Counts of all values row wise\r\n",
        "    return([[int(b[a==i]) if i in a else 0 for i in np.unique(arr2d)] for a, b in num_counts_array])\r\n",
        "\r\n",
        "# it has a bug\r\n",
        "print(\"The solution from the website has a bug.\")\r\n",
        "counts_of_all_values_rowwise(arr)\r\n",
        "\r\n",
        "def counts_of_all_values_rowwise_corrected(arr2d):\r\n",
        "    num_counts_array = [np.unique(row, return_counts=True) for row in arr2d] # same as in the previous solution\r\n",
        "    # we have a numpy array of tuples that contain for each row the elements and their counts\r\n",
        "    ll = [] # create an empty list of lists, we will later convert in into numpy array\r\n",
        "    for i in range(arr2d.shape[0]): # for each row in arr rows\r\n",
        "        l = [] # create a new list where we will be adding the mappings\r\n",
        "        rmapper = num_counts_array[i] # rmapper = row mapper. In num_counts_array for have the same amount of tuples (elemnt - count) as rows in the arr2d\r\n",
        "        for v in arr2d[i]: # for each value in a row\r\n",
        "            l.append(rmapper[1][np.where(rmapper[0] == v)][0]) # append to the list the count (rmapper[1]), we are using np.where to find the index of the element\r\n",
        "        ll.append(l) # append the list to the list of lists\r\n",
        "    return np.array(ll) # convert the lst of list into numpy 2d array\r\n",
        "\r\n",
        "print(\"The solution from the website corrected.\")\r\n",
        "counts_of_all_values_rowwise_corrected(arr)"
      ],
      "execution_count": 172,
      "outputs": [
        {
          "output_type": "stream",
          "text": [
            "Solution from the website (incorrect)\n",
            "The solution from the website has a bug.\n"
          ],
          "name": "stdout"
        },
        {
          "output_type": "execute_result",
          "data": {
            "text/plain": [
              "[[1, 0, 2, 1, 1, 1, 0, 2, 2, 0],\n",
              " [2, 1, 3, 0, 1, 0, 1, 0, 1, 1],\n",
              " [0, 3, 0, 2, 3, 1, 0, 1, 0, 0],\n",
              " [1, 0, 2, 1, 0, 1, 0, 2, 1, 2],\n",
              " [2, 2, 2, 0, 0, 1, 1, 1, 1, 0],\n",
              " [1, 1, 1, 1, 1, 2, 0, 0, 2, 1]]"
            ]
          },
          "metadata": {
            "tags": []
          },
          "execution_count": 172
        },
        {
          "output_type": "stream",
          "text": [
            "The solution from the website corrected.\n"
          ],
          "name": "stdout"
        },
        {
          "output_type": "execute_result",
          "data": {
            "text/plain": [
              "array([[2, 2, 1, 2, 2, 1, 1, 2, 1, 2],\n",
              "       [3, 3, 1, 2, 1, 1, 2, 1, 1, 3],\n",
              "       [3, 3, 1, 2, 3, 3, 2, 1, 3, 3],\n",
              "       [2, 2, 1, 2, 2, 2, 1, 2, 1, 1],\n",
              "       [2, 2, 1, 1, 2, 2, 1, 2, 1, 2],\n",
              "       [2, 1, 2, 1, 1, 2, 1, 2, 1, 1]])"
            ]
          },
          "metadata": {
            "tags": []
          },
          "execution_count": 172
        }
      ]
    },
    {
      "cell_type": "markdown",
      "metadata": {
        "id": "7E0PVOOv9U3A"
      },
      "source": [
        "## 50. How to convert an array of arrays into a flat 1d array?"
      ]
    },
    {
      "cell_type": "code",
      "metadata": {
        "id": "53mYDMrz9Zk5",
        "colab": {
          "base_uri": "https://localhost:8080/"
        },
        "outputId": "4480da55-d184-4443-ff4c-56f9025a58a2"
      },
      "source": [
        "# Q. Convert array_of_arrays into a flat linear 1d array.\r\n",
        "\r\n",
        "# Input\r\n",
        "arr = np.arange(9).reshape(3,3)\r\n",
        "arr"
      ],
      "execution_count": 174,
      "outputs": [
        {
          "output_type": "execute_result",
          "data": {
            "text/plain": [
              "array([[0, 1, 2],\n",
              "       [3, 4, 5],\n",
              "       [6, 7, 8]])"
            ]
          },
          "metadata": {
            "tags": []
          },
          "execution_count": 174
        }
      ]
    },
    {
      "cell_type": "code",
      "metadata": {
        "colab": {
          "base_uri": "https://localhost:8080/"
        },
        "id": "W33kdbPv56Q7",
        "outputId": "a80e9d87-9a66-4d46-8b62-fb533c955c55"
      },
      "source": [
        "# Solution\r\n",
        "print(\"Solution\")\r\n",
        "arr.flatten()"
      ],
      "execution_count": 175,
      "outputs": [
        {
          "output_type": "stream",
          "text": [
            "Solution\n"
          ],
          "name": "stdout"
        },
        {
          "output_type": "execute_result",
          "data": {
            "text/plain": [
              "array([0, 1, 2, 3, 4, 5, 6, 7, 8])"
            ]
          },
          "metadata": {
            "tags": []
          },
          "execution_count": 175
        }
      ]
    },
    {
      "cell_type": "code",
      "metadata": {
        "id": "2dpAWDOh59-Z"
      },
      "source": [
        "# Solution from the website\r\n",
        "arr1 = np.arange(3)\r\n",
        "arr2 = np.arange(3,7)\r\n",
        "arr3 = np.arange(7,10)"
      ],
      "execution_count": 176,
      "outputs": []
    },
    {
      "cell_type": "code",
      "metadata": {
        "colab": {
          "base_uri": "https://localhost:8080/"
        },
        "id": "uYVZn7Ic6AbE",
        "outputId": "75038535-479a-4262-9174-68e3c8e3bebc"
      },
      "source": [
        "array_of_arrays = np.array([arr1, arr2, arr3])\r\n",
        "array_of_arrays"
      ],
      "execution_count": 182,
      "outputs": [
        {
          "output_type": "stream",
          "text": [
            "/usr/local/lib/python3.6/dist-packages/ipykernel_launcher.py:1: VisibleDeprecationWarning: Creating an ndarray from ragged nested sequences (which is a list-or-tuple of lists-or-tuples-or ndarrays with different lengths or shapes) is deprecated. If you meant to do this, you must specify 'dtype=object' when creating the ndarray\n",
            "  \"\"\"Entry point for launching an IPython kernel.\n"
          ],
          "name": "stderr"
        },
        {
          "output_type": "execute_result",
          "data": {
            "text/plain": [
              "array([array([0, 1, 2]), array([3, 4, 5, 6]), array([7, 8, 9])],\n",
              "      dtype=object)"
            ]
          },
          "metadata": {
            "tags": []
          },
          "execution_count": 182
        }
      ]
    },
    {
      "cell_type": "code",
      "metadata": {
        "colab": {
          "base_uri": "https://localhost:8080/"
        },
        "id": "mz0T3S5Q6DUd",
        "outputId": "0730f6f3-08c3-45f7-dd26-261a697bb618"
      },
      "source": [
        "# Solution 1\r\n",
        "arr_2d = np.array([a for arr in array_of_arrays for a in arr]) # interesting loop comprehension\r\n",
        "arr_2d"
      ],
      "execution_count": 178,
      "outputs": [
        {
          "output_type": "execute_result",
          "data": {
            "text/plain": [
              "array([0, 1, 2, 3, 4, 5, 6, 7, 8, 9])"
            ]
          },
          "metadata": {
            "tags": []
          },
          "execution_count": 178
        }
      ]
    },
    {
      "cell_type": "code",
      "metadata": {
        "colab": {
          "base_uri": "https://localhost:8080/"
        },
        "id": "jOGBqoN36Fr5",
        "outputId": "45e7e901-17d4-4b39-b37d-3b59ac8b2325"
      },
      "source": [
        "arr_2d = []\r\n",
        "\r\n",
        "for arr in array_of_arrays:\r\n",
        "    for a in arr:\r\n",
        "        arr_2d.append(a)\r\n",
        "\r\n",
        "np.array(arr_2d)"
      ],
      "execution_count": 179,
      "outputs": [
        {
          "output_type": "execute_result",
          "data": {
            "text/plain": [
              "array([0, 1, 2, 3, 4, 5, 6, 7, 8, 9])"
            ]
          },
          "metadata": {
            "tags": []
          },
          "execution_count": 179
        }
      ]
    },
    {
      "cell_type": "code",
      "metadata": {
        "colab": {
          "base_uri": "https://localhost:8080/"
        },
        "id": "wrMxmuJD6HbN",
        "outputId": "047c8869-afa3-40e1-c02f-1ddb841930b7"
      },
      "source": [
        "# Solution 2:\r\n",
        "arr_2d = np.concatenate(array_of_arrays)\r\n",
        "arr_2d"
      ],
      "execution_count": 185,
      "outputs": [
        {
          "output_type": "execute_result",
          "data": {
            "text/plain": [
              "array([0, 1, 2, 3, 4, 5, 6, 7, 8, 9])"
            ]
          },
          "metadata": {
            "tags": []
          },
          "execution_count": 185
        }
      ]
    }
  ]
}