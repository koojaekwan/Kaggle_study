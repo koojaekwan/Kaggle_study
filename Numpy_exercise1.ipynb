{
  "nbformat": 4,
  "nbformat_minor": 0,
  "metadata": {
    "colab": {
      "name": "Numpy_exercise1.ipynb",
      "provenance": [],
      "collapsed_sections": [],
      "toc_visible": true,
      "authorship_tag": "ABX9TyM8/Zm9h18Yghx5Uty7F1AD",
      "include_colab_link": true
    },
    "kernelspec": {
      "name": "python3",
      "display_name": "Python 3"
    }
  },
  "cells": [
    {
      "cell_type": "markdown",
      "metadata": {
        "id": "view-in-github",
        "colab_type": "text"
      },
      "source": [
        "<a href=\"https://colab.research.google.com/github/koojaekwan/Kaggle_study/blob/master/Numpy_exercise1.ipynb\" target=\"_parent\"><img src=\"https://colab.research.google.com/assets/colab-badge.svg\" alt=\"Open In Colab\"/></a>"
      ]
    },
    {
      "cell_type": "markdown",
      "metadata": {
        "id": "tdw-PubrOt8_"
      },
      "source": [
        "# Numpy exercise 100  \r\n",
        "\r\n",
        "* Refer - https://www.kaggle.com/python10pm/learn-numpy-the-hard-way-70-exercises-solutions"
      ]
    },
    {
      "cell_type": "code",
      "metadata": {
        "id": "9ffuYHmSN2oH",
        "colab": {
          "base_uri": "https://localhost:8080/"
        },
        "outputId": "7f2c58d2-e6d7-4c7c-ed34-291775af4e9f"
      },
      "source": [
        "import os\r\n",
        "import numpy as np\r\n",
        "import pandas as pd\r\n",
        "from google.colab import drive\r\n",
        "\r\n",
        "drive.mount('./MyDrive')"
      ],
      "execution_count": null,
      "outputs": [
        {
          "output_type": "stream",
          "text": [
            "Drive already mounted at ./MyDrive; to attempt to forcibly remount, call drive.mount(\"./MyDrive\", force_remount=True).\n"
          ],
          "name": "stdout"
        }
      ]
    },
    {
      "cell_type": "code",
      "metadata": {
        "id": "jMCgg7beOOY5",
        "colab": {
          "base_uri": "https://localhost:8080/",
          "height": 35
        },
        "outputId": "96517f5a-ef99-402b-e4e3-8461b71740ef"
      },
      "source": [
        "os.chdir('/content/MyDrive/MyDrive')  # setwd like R\r\n",
        "os.getcwd()   # current working directory"
      ],
      "execution_count": null,
      "outputs": [
        {
          "output_type": "execute_result",
          "data": {
            "application/vnd.google.colaboratory.intrinsic+json": {
              "type": "string"
            },
            "text/plain": [
              "'/content/MyDrive/MyDrive'"
            ]
          },
          "metadata": {
            "tags": []
          },
          "execution_count": 127
        }
      ]
    },
    {
      "cell_type": "code",
      "metadata": {
        "colab": {
          "base_uri": "https://localhost:8080/"
        },
        "id": "iBxMIoy-O81b",
        "outputId": "35739ed5-37ce-4523-f003-e43c46370cec"
      },
      "source": [
        "# Allow several prints in one cell\r\n",
        "from IPython.core.interactiveshell import InteractiveShell\r\n",
        "InteractiveShell.ast_node_interactivity = \"all\"\r\n",
        "\r\n",
        "# importing the core library\r\n",
        "import numpy as np\r\n",
        "\r\n",
        "# helper functions to list the datasets available\r\n",
        "def print_files():\r\n",
        "    import os\r\n",
        "    for dirname, _, filenames in os.walk('/content/MyDrive/MyDrive'):\r\n",
        "        for filename in filenames:\r\n",
        "            print(os.path.join(dirname, filename))\r\n",
        "\r\n",
        "print_files()"
      ],
      "execution_count": null,
      "outputs": [
        {
          "output_type": "stream",
          "text": [
            "/content/MyDrive/MyDrive/train.csv\n",
            "/content/MyDrive/MyDrive/test.csv\n",
            "/content/MyDrive/MyDrive/머신러닝 도감(제이펍).gdoc\n",
            "/content/MyDrive/MyDrive/srr-mave-gqc - 2020년 10월 11일.gjam\n",
            "/content/MyDrive/MyDrive/trick99data.csv\n",
            "/content/MyDrive/MyDrive/trick83data.csv\n",
            "/content/MyDrive/MyDrive/trick78data1.csv\n",
            "/content/MyDrive/MyDrive/trick78data3.csv\n",
            "/content/MyDrive/MyDrive/trick78data2.csv\n",
            "/content/MyDrive/MyDrive/trick58data.csv\n",
            "/content/MyDrive/MyDrive/trick18data.csv.zip\n",
            "/content/MyDrive/MyDrive/trick8data3.csv\n",
            "/content/MyDrive/MyDrive/trick8data1.csv\n",
            "/content/MyDrive/MyDrive/trick8data2.csv\n",
            "/content/MyDrive/MyDrive/coding_test/group_call_HMS.csv\n",
            "/content/MyDrive/MyDrive/coding_test/first.pickle\n",
            "/content/MyDrive/MyDrive/coding_test/first2.pickle\n",
            "/content/MyDrive/MyDrive/coding_test/first3.pickle\n",
            "/content/MyDrive/MyDrive/coding_test/first4.pickle\n",
            "/content/MyDrive/MyDrive/coding_test/first5.pickle\n",
            "/content/MyDrive/MyDrive/coding_test/p_data.pickle\n",
            "/content/MyDrive/MyDrive/coding_test/final_dat.pickle\n",
            "/content/MyDrive/MyDrive/Colab Notebooks/jaekwankoo.ipynb\n",
            "/content/MyDrive/MyDrive/Colab Notebooks/chap1.ipynb\n",
            "/content/MyDrive/MyDrive/Colab Notebooks/chap2 기본 자료구조와 배열.ipynb\n",
            "/content/MyDrive/MyDrive/Colab Notebooks/recursive_function.ipynb\n",
            "/content/MyDrive/MyDrive/Colab Notebooks/pandas_exercise1.ipynb\n",
            "/content/MyDrive/MyDrive/Colab Notebooks/pandas_exercise2.ipynb\n",
            "/content/MyDrive/MyDrive/Colab Notebooks/pandas_exercise3.ipynb\n",
            "/content/MyDrive/MyDrive/Colab Notebooks/pandas_exercise4.ipynb\n",
            "/content/MyDrive/MyDrive/Colab Notebooks/pandas_exercise5.ipynb\n",
            "/content/MyDrive/MyDrive/Colab Notebooks/pandas_exercise6.ipynb\n",
            "/content/MyDrive/MyDrive/Colab Notebooks/Untitled\n",
            "/content/MyDrive/MyDrive/Colab Notebooks/Numpy_exercise2.ipynb\n",
            "/content/MyDrive/MyDrive/Colab Notebooks/Numpy_exercise1.ipynb\n"
          ],
          "name": "stdout"
        }
      ]
    },
    {
      "cell_type": "markdown",
      "metadata": {
        "id": "gQbCd_aaPBD9"
      },
      "source": [
        "## 1. Import numpy as np and see the version"
      ]
    },
    {
      "cell_type": "code",
      "metadata": {
        "colab": {
          "base_uri": "https://localhost:8080/"
        },
        "id": "CoJSLwnzPOZr",
        "outputId": "b73b7b7e-b720-4ed9-ab22-fd1dc8fd80d0"
      },
      "source": [
        "# Q. Import numpy as np and print the version number.\r\n",
        "\r\n",
        "# Solution\r\n",
        "import numpy as np\r\n",
        "print(np.__version__)"
      ],
      "execution_count": null,
      "outputs": [
        {
          "output_type": "stream",
          "text": [
            "1.19.5\n"
          ],
          "name": "stdout"
        }
      ]
    },
    {
      "cell_type": "markdown",
      "metadata": {
        "id": "UzqacJSQPQJg"
      },
      "source": [
        "## 2. How to create a 1D array?"
      ]
    },
    {
      "cell_type": "code",
      "metadata": {
        "colab": {
          "base_uri": "https://localhost:8080/"
        },
        "id": "BcDFk02JPWOB",
        "outputId": "36599539-f17c-4f14-ce99-f4b5626cb6a4"
      },
      "source": [
        "# Q. Create a 1D array of numbers from 0 to 9\r\n",
        "\r\n",
        "# Desired Output\r\n",
        "# > array([0, 1, 2, 3, 4, 5, 6, 7, 8, 9])\r\n",
        "\r\n",
        "# Solution\r\n",
        "arr = np.arange(10)\r\n",
        "\r\n",
        "arr"
      ],
      "execution_count": null,
      "outputs": [
        {
          "output_type": "execute_result",
          "data": {
            "text/plain": [
              "array([0, 1, 2, 3, 4, 5, 6, 7, 8, 9])"
            ]
          },
          "metadata": {
            "tags": []
          },
          "execution_count": 7
        }
      ]
    },
    {
      "cell_type": "markdown",
      "metadata": {
        "id": "Mkhd_0t8PY1K"
      },
      "source": [
        "## 3. How to create a boolean array?"
      ]
    },
    {
      "cell_type": "code",
      "metadata": {
        "colab": {
          "base_uri": "https://localhost:8080/"
        },
        "id": "i9f-Egd5Pca2",
        "outputId": "59e9e53f-8e58-4f96-f9ae-9af74097de5d"
      },
      "source": [
        "# Q. Create a 3×3 numpy array of all True’s\r\n",
        "\r\n",
        "# Solution\r\n",
        "arr = np.repeat(True, 9).reshape(3, -1)\r\n",
        "\r\n",
        "arr"
      ],
      "execution_count": null,
      "outputs": [
        {
          "output_type": "execute_result",
          "data": {
            "text/plain": [
              "array([[ True,  True,  True],\n",
              "       [ True,  True,  True],\n",
              "       [ True,  True,  True]])"
            ]
          },
          "metadata": {
            "tags": []
          },
          "execution_count": 8
        }
      ]
    },
    {
      "cell_type": "code",
      "metadata": {
        "colab": {
          "base_uri": "https://localhost:8080/"
        },
        "id": "2dzFaFodPfNO",
        "outputId": "e002e405-4a3b-49c7-b161-e0c382551246"
      },
      "source": [
        "np.repeat(True, 9)"
      ],
      "execution_count": null,
      "outputs": [
        {
          "output_type": "execute_result",
          "data": {
            "text/plain": [
              "array([ True,  True,  True,  True,  True,  True,  True,  True,  True])"
            ]
          },
          "metadata": {
            "tags": []
          },
          "execution_count": 9
        }
      ]
    },
    {
      "cell_type": "code",
      "metadata": {
        "colab": {
          "base_uri": "https://localhost:8080/"
        },
        "id": "XRqfWq6RP_3l",
        "outputId": "c9894bdf-ada6-400b-efba-f0fa0f21b3d1"
      },
      "source": [
        "np.repeat(True, 9).reshape(3, 3) # the unspecified value is inferred to be 3"
      ],
      "execution_count": null,
      "outputs": [
        {
          "output_type": "execute_result",
          "data": {
            "text/plain": [
              "array([[ True,  True,  True],\n",
              "       [ True,  True,  True],\n",
              "       [ True,  True,  True]])"
            ]
          },
          "metadata": {
            "tags": []
          },
          "execution_count": 10
        }
      ]
    },
    {
      "cell_type": "code",
      "metadata": {
        "colab": {
          "base_uri": "https://localhost:8080/"
        },
        "id": "MbZ7Ud4DQExI",
        "outputId": "f435fb59-026a-40a9-b8f4-116c4d2a93a3"
      },
      "source": [
        "np.repeat(True, 10).reshape(2, 5)\r\n",
        "np.repeat(True, 10).reshape(2, -1) # -1 : 2행으로 설정하고 열은 알아서 자동맞춤"
      ],
      "execution_count": null,
      "outputs": [
        {
          "output_type": "execute_result",
          "data": {
            "text/plain": [
              "array([[ True,  True,  True,  True,  True],\n",
              "       [ True,  True,  True,  True,  True]])"
            ]
          },
          "metadata": {
            "tags": []
          },
          "execution_count": 11
        },
        {
          "output_type": "execute_result",
          "data": {
            "text/plain": [
              "array([[ True,  True,  True,  True,  True],\n",
              "       [ True,  True,  True,  True,  True]])"
            ]
          },
          "metadata": {
            "tags": []
          },
          "execution_count": 11
        }
      ]
    },
    {
      "cell_type": "markdown",
      "metadata": {
        "id": "BYn8Wh-5QYxt"
      },
      "source": [
        "## 4. How to extract items that satisfy a given condition from 1D array?"
      ]
    },
    {
      "cell_type": "code",
      "metadata": {
        "colab": {
          "base_uri": "https://localhost:8080/"
        },
        "id": "uITZ4Q9IQoqy",
        "outputId": "6747ab05-f68d-4a8c-9605-dd4406ad152b"
      },
      "source": [
        "# Q. Extract all odd numbers from arr\r\n",
        "# Input \r\n",
        "arr = np.array([0, 1, 2, 3, 4, 5, 6, 7, 8, 9])\r\n",
        "arr"
      ],
      "execution_count": null,
      "outputs": [
        {
          "output_type": "execute_result",
          "data": {
            "text/plain": [
              "array([0, 1, 2, 3, 4, 5, 6, 7, 8, 9])"
            ]
          },
          "metadata": {
            "tags": []
          },
          "execution_count": 12
        }
      ]
    },
    {
      "cell_type": "code",
      "metadata": {
        "colab": {
          "base_uri": "https://localhost:8080/"
        },
        "id": "V4FPYdlbQrdD",
        "outputId": "50d5deb3-2bb1-4098-e74b-9e4d8426739c"
      },
      "source": [
        "# Desired Output\r\n",
        "# > array([1, 3, 5, 7, 9])\r\n",
        "\r\n",
        "# Solution\r\n",
        "odds = arr[arr%2 != 0]\r\n",
        "odds"
      ],
      "execution_count": null,
      "outputs": [
        {
          "output_type": "execute_result",
          "data": {
            "text/plain": [
              "array([1, 3, 5, 7, 9])"
            ]
          },
          "metadata": {
            "tags": []
          },
          "execution_count": 13
        }
      ]
    },
    {
      "cell_type": "code",
      "metadata": {
        "colab": {
          "base_uri": "https://localhost:8080/"
        },
        "id": "xECLQxfzQt67",
        "outputId": "5b615624-97ca-4a39-f4bf-c7c2d5484e0c"
      },
      "source": [
        "arr%2 != 0 # bool type을 조건으로 주어 홀수만 출력"
      ],
      "execution_count": null,
      "outputs": [
        {
          "output_type": "execute_result",
          "data": {
            "text/plain": [
              "array([False,  True, False,  True, False,  True, False,  True, False,\n",
              "        True])"
            ]
          },
          "metadata": {
            "tags": []
          },
          "execution_count": 14
        }
      ]
    },
    {
      "cell_type": "markdown",
      "metadata": {
        "id": "qWPzP3_TQxHL"
      },
      "source": [
        "## 5. How to replace items that satisfy a condition with another value in numpy array?"
      ]
    },
    {
      "cell_type": "code",
      "metadata": {
        "colab": {
          "base_uri": "https://localhost:8080/"
        },
        "id": "uF-eq8yuQ8YU",
        "outputId": "8097a1bb-5db5-486c-8d5e-22db2d55ef8f"
      },
      "source": [
        "# Q. Replace all odd numbers in arr with -1\r\n",
        "# Input \r\n",
        "arr = np.array([0, 1, 2, 3, 4, 5, 6, 7, 8, 9])\r\n",
        "arr"
      ],
      "execution_count": null,
      "outputs": [
        {
          "output_type": "execute_result",
          "data": {
            "text/plain": [
              "array([0, 1, 2, 3, 4, 5, 6, 7, 8, 9])"
            ]
          },
          "metadata": {
            "tags": []
          },
          "execution_count": 15
        }
      ]
    },
    {
      "cell_type": "code",
      "metadata": {
        "colab": {
          "base_uri": "https://localhost:8080/"
        },
        "id": "7m5w9EA0RBK-",
        "outputId": "bf6cecb8-6f8e-4cd5-a3d1-58e5f1cb12ee"
      },
      "source": [
        "# Desired Output\r\n",
        "# >  array([ 0, -1,  2, -1,  4, -1,  6, -1,  8, -1])\r\n",
        "\r\n",
        "# Solution\r\n",
        "arr[arr%2 != 0] = -1  # 홀수 자리에 -1을 대입하여 대체\r\n",
        "arr"
      ],
      "execution_count": null,
      "outputs": [
        {
          "output_type": "execute_result",
          "data": {
            "text/plain": [
              "array([ 0, -1,  2, -1,  4, -1,  6, -1,  8, -1])"
            ]
          },
          "metadata": {
            "tags": []
          },
          "execution_count": 16
        }
      ]
    },
    {
      "cell_type": "markdown",
      "metadata": {
        "id": "Z8r-v1MTRDz7"
      },
      "source": [
        "## 6. How to replace items that satisfy a condition without affecting the original array?"
      ]
    },
    {
      "cell_type": "code",
      "metadata": {
        "colab": {
          "base_uri": "https://localhost:8080/"
        },
        "id": "7FTN-wA1RR1s",
        "outputId": "ae389858-3c0d-4e56-e541-de29000865b9"
      },
      "source": [
        "# Q. Replace all odd numbers in arr with -1 without changing arr\r\n",
        "# Input \r\n",
        "arr = np.array([0, 1, 2, 3, 4, 5, 6, 7, 8, 9])\r\n",
        "arr"
      ],
      "execution_count": null,
      "outputs": [
        {
          "output_type": "execute_result",
          "data": {
            "text/plain": [
              "array([0, 1, 2, 3, 4, 5, 6, 7, 8, 9])"
            ]
          },
          "metadata": {
            "tags": []
          },
          "execution_count": 17
        }
      ]
    },
    {
      "cell_type": "code",
      "metadata": {
        "colab": {
          "base_uri": "https://localhost:8080/"
        },
        "id": "-KquZ6VERdX-",
        "outputId": "b941c8d4-c73c-4e75-b768-6c3a719e4976"
      },
      "source": [
        "# Desired Output\r\n",
        "# out #>  array([ 0, -1,  2, -1,  4, -1,  6, -1,  8, -1])\r\n",
        "# arr #>  array([0, 1, 2, 3, 4, 5, 6, 7, 8, 9])\r\n",
        "\r\n",
        "# Solution\r\n",
        "out = arr.copy() # 복사 / 단순히 = 로 하면 주소가 같이 참조되어 동시에 변한다.\r\n",
        "out[out%2 != 0] = -1\r\n",
        "\r\n",
        "out"
      ],
      "execution_count": null,
      "outputs": [
        {
          "output_type": "execute_result",
          "data": {
            "text/plain": [
              "array([ 0, -1,  2, -1,  4, -1,  6, -1,  8, -1])"
            ]
          },
          "metadata": {
            "tags": []
          },
          "execution_count": 18
        }
      ]
    },
    {
      "cell_type": "code",
      "metadata": {
        "colab": {
          "base_uri": "https://localhost:8080/"
        },
        "id": "Y5nmKc6xRkfc",
        "outputId": "2b984b32-afbc-42f0-9759-f32bd496c368"
      },
      "source": [
        "print(\"Modified array\")\r\n",
        "out"
      ],
      "execution_count": null,
      "outputs": [
        {
          "output_type": "stream",
          "text": [
            "Modified array\n"
          ],
          "name": "stdout"
        },
        {
          "output_type": "execute_result",
          "data": {
            "text/plain": [
              "array([ 0, -1,  2, -1,  4, -1,  6, -1,  8, -1])"
            ]
          },
          "metadata": {
            "tags": []
          },
          "execution_count": 19
        }
      ]
    },
    {
      "cell_type": "code",
      "metadata": {
        "colab": {
          "base_uri": "https://localhost:8080/"
        },
        "id": "UzqUrgJLRmHu",
        "outputId": "79f4f6d0-48d5-4d2b-ffc9-0de523598325"
      },
      "source": [
        "print(\"Original array\")\r\n",
        "arr"
      ],
      "execution_count": null,
      "outputs": [
        {
          "output_type": "stream",
          "text": [
            "Original array\n"
          ],
          "name": "stdout"
        },
        {
          "output_type": "execute_result",
          "data": {
            "text/plain": [
              "array([0, 1, 2, 3, 4, 5, 6, 7, 8, 9])"
            ]
          },
          "metadata": {
            "tags": []
          },
          "execution_count": 20
        }
      ]
    },
    {
      "cell_type": "markdown",
      "metadata": {
        "id": "It1SSC1lRpBe"
      },
      "source": [
        "## 7. How to reshape an array?"
      ]
    },
    {
      "cell_type": "code",
      "metadata": {
        "colab": {
          "base_uri": "https://localhost:8080/"
        },
        "id": "Q0cqTpegTVLw",
        "outputId": "6ecb7824-ff44-4bb2-f431-230cffe31755"
      },
      "source": [
        "# Q. Convert a 1D array to a 2D array with 2 rows\r\n",
        "# Input \r\n",
        "arr = np.arange(10)\r\n",
        "print(\"Input\")\r\n",
        "arr"
      ],
      "execution_count": null,
      "outputs": [
        {
          "output_type": "stream",
          "text": [
            "Input\n"
          ],
          "name": "stdout"
        },
        {
          "output_type": "execute_result",
          "data": {
            "text/plain": [
              "array([0, 1, 2, 3, 4, 5, 6, 7, 8, 9])"
            ]
          },
          "metadata": {
            "tags": []
          },
          "execution_count": 21
        }
      ]
    },
    {
      "cell_type": "code",
      "metadata": {
        "colab": {
          "base_uri": "https://localhost:8080/"
        },
        "id": "KMbj_n6DTWhY",
        "outputId": "53a3b74e-268f-489d-f403-a42220b2f6ed"
      },
      "source": [
        "# Desired Output\r\n",
        "# > array([[0, 1, 2, 3, 4],\r\n",
        "# >        [5, 6, 7, 8, 9]])\r\n",
        "\r\n",
        "# Solution\r\n",
        "print(\"Solution: reshaped array\")\r\n",
        "arr.reshape(2,-1)  # Same as 'arr.reshape(2,5)'"
      ],
      "execution_count": null,
      "outputs": [
        {
          "output_type": "stream",
          "text": [
            "Solution: reshaped array\n"
          ],
          "name": "stdout"
        },
        {
          "output_type": "execute_result",
          "data": {
            "text/plain": [
              "array([[0, 1, 2, 3, 4],\n",
              "       [5, 6, 7, 8, 9]])"
            ]
          },
          "metadata": {
            "tags": []
          },
          "execution_count": 22
        }
      ]
    },
    {
      "cell_type": "markdown",
      "metadata": {
        "id": "CINC4lnYS6XI"
      },
      "source": [
        "## 8. How to stack two arrays vertically?"
      ]
    },
    {
      "cell_type": "code",
      "metadata": {
        "colab": {
          "base_uri": "https://localhost:8080/"
        },
        "id": "Jwwdu4xnTn5u",
        "outputId": "e3bd33ce-d77d-4a5e-9a3a-615085d6609b"
      },
      "source": [
        "# Q. Stack arrays a and b vertically\r\n",
        "# Input\r\n",
        "print(\"Input\")\r\n",
        "a = np.arange(10).reshape(2,-1) # np.arrange(10).reshape(2,5)\r\n",
        "b = np.repeat(1, 10).reshape(2,-1) # np.repeat(1, 10).reshape(2,5)\r\n",
        "\r\n",
        "a"
      ],
      "execution_count": null,
      "outputs": [
        {
          "output_type": "stream",
          "text": [
            "Input\n"
          ],
          "name": "stdout"
        },
        {
          "output_type": "execute_result",
          "data": {
            "text/plain": [
              "array([[0, 1, 2, 3, 4],\n",
              "       [5, 6, 7, 8, 9]])"
            ]
          },
          "metadata": {
            "tags": []
          },
          "execution_count": 23
        }
      ]
    },
    {
      "cell_type": "code",
      "metadata": {
        "colab": {
          "base_uri": "https://localhost:8080/"
        },
        "id": "6-Laac3UTsu1",
        "outputId": "7676e39f-7686-4638-90e1-54d135e43836"
      },
      "source": [
        "b"
      ],
      "execution_count": null,
      "outputs": [
        {
          "output_type": "execute_result",
          "data": {
            "text/plain": [
              "array([[1, 1, 1, 1, 1],\n",
              "       [1, 1, 1, 1, 1]])"
            ]
          },
          "metadata": {
            "tags": []
          },
          "execution_count": 24
        }
      ]
    },
    {
      "cell_type": "code",
      "metadata": {
        "colab": {
          "base_uri": "https://localhost:8080/"
        },
        "id": "zbctS2ZtT1WZ",
        "outputId": "b3646934-31b1-45a9-c728-714a6f0548f3"
      },
      "source": [
        "# Desired Output\r\n",
        "#> array([[0, 1, 2, 3, 4],\r\n",
        "#>        [5, 6, 7, 8, 9],\r\n",
        "#>        [1, 1, 1, 1, 1],\r\n",
        "#>        [1, 1, 1, 1, 1]])\r\n",
        "\r\n",
        "# Solution\r\n",
        "print(\"Solution: verticaly stacked arrays\")\r\n",
        "np.vstack((a, b)) # vertical"
      ],
      "execution_count": null,
      "outputs": [
        {
          "output_type": "stream",
          "text": [
            "Solution: verticaly stacked arrays\n"
          ],
          "name": "stdout"
        },
        {
          "output_type": "execute_result",
          "data": {
            "text/plain": [
              "array([[0, 1, 2, 3, 4],\n",
              "       [5, 6, 7, 8, 9],\n",
              "       [1, 1, 1, 1, 1],\n",
              "       [1, 1, 1, 1, 1]])"
            ]
          },
          "metadata": {
            "tags": []
          },
          "execution_count": 25
        }
      ]
    },
    {
      "cell_type": "markdown",
      "metadata": {
        "id": "_ZH0eRgiS9JG"
      },
      "source": [
        "## 9. How to stack two arrays horizontally?"
      ]
    },
    {
      "cell_type": "code",
      "metadata": {
        "colab": {
          "base_uri": "https://localhost:8080/"
        },
        "id": "2v4njcMZTtsO",
        "outputId": "606d71ed-fa82-4a39-9538-cf13c9efcea1"
      },
      "source": [
        "# Q. Stack the arrays a and b horizontally.\r\n",
        "# Input\r\n",
        "print(\"Input\")\r\n",
        "a = np.arange(10).reshape(2,-1)\r\n",
        "b = np.repeat(1, 10).reshape(2,-1)\r\n",
        "\r\n",
        "a"
      ],
      "execution_count": null,
      "outputs": [
        {
          "output_type": "stream",
          "text": [
            "Input\n"
          ],
          "name": "stdout"
        },
        {
          "output_type": "execute_result",
          "data": {
            "text/plain": [
              "array([[0, 1, 2, 3, 4],\n",
              "       [5, 6, 7, 8, 9]])"
            ]
          },
          "metadata": {
            "tags": []
          },
          "execution_count": 26
        }
      ]
    },
    {
      "cell_type": "code",
      "metadata": {
        "colab": {
          "base_uri": "https://localhost:8080/"
        },
        "id": "xCcqybhdT9Yi",
        "outputId": "8b89db8d-ad3d-4574-ee7e-caade746699c"
      },
      "source": [
        "b"
      ],
      "execution_count": null,
      "outputs": [
        {
          "output_type": "execute_result",
          "data": {
            "text/plain": [
              "array([[1, 1, 1, 1, 1],\n",
              "       [1, 1, 1, 1, 1]])"
            ]
          },
          "metadata": {
            "tags": []
          },
          "execution_count": 27
        }
      ]
    },
    {
      "cell_type": "code",
      "metadata": {
        "colab": {
          "base_uri": "https://localhost:8080/"
        },
        "id": "1UCAASfWT-fP",
        "outputId": "4e6c90f7-11ae-4a31-c5d7-95c6979b2ae8"
      },
      "source": [
        "# Desired Output\r\n",
        "# > array([[0, 1, 2, 3, 4, 1, 1, 1, 1, 1],\r\n",
        "# >        [5, 6, 7, 8, 9, 1, 1, 1, 1, 1]])\r\n",
        "\r\n",
        "# Solution\r\n",
        "print(\"Solution: horizontally stacked arrays\")\r\n",
        "np.hstack((a, b)) # horizontal"
      ],
      "execution_count": null,
      "outputs": [
        {
          "output_type": "stream",
          "text": [
            "Solution: horizontally stacked arrays\n"
          ],
          "name": "stdout"
        },
        {
          "output_type": "execute_result",
          "data": {
            "text/plain": [
              "array([[0, 1, 2, 3, 4, 1, 1, 1, 1, 1],\n",
              "       [5, 6, 7, 8, 9, 1, 1, 1, 1, 1]])"
            ]
          },
          "metadata": {
            "tags": []
          },
          "execution_count": 28
        }
      ]
    },
    {
      "cell_type": "markdown",
      "metadata": {
        "id": "354F-2a5TCUl"
      },
      "source": [
        "## 10. How to generate custom sequences in numpy without hardcoding?  \r\n",
        "\r\n",
        "https://stackoverflow.com/questions/25471878/repeating-each-element-of-a-numpy-array-5-times"
      ]
    },
    {
      "cell_type": "code",
      "metadata": {
        "colab": {
          "base_uri": "https://localhost:8080/"
        },
        "id": "9NfSrZYfTNz9",
        "outputId": "0c376545-33bf-483e-ba45-98049eb2bbd5"
      },
      "source": [
        "# Q. Create the following pattern without hardcoding. \r\n",
        "# Use only numpy functions and the below input array a.\r\n",
        "\r\n",
        "# Input\r\n",
        "print(\"Input\")\r\n",
        "a = np.array([1,2,3])\r\n",
        "\r\n",
        "a"
      ],
      "execution_count": null,
      "outputs": [
        {
          "output_type": "stream",
          "text": [
            "Input\n"
          ],
          "name": "stdout"
        },
        {
          "output_type": "execute_result",
          "data": {
            "text/plain": [
              "array([1, 2, 3])"
            ]
          },
          "metadata": {
            "tags": []
          },
          "execution_count": 29
        }
      ]
    },
    {
      "cell_type": "code",
      "metadata": {
        "colab": {
          "base_uri": "https://localhost:8080/"
        },
        "id": "8OOvHCILUJ0H",
        "outputId": "9a27646d-c212-4c14-fa9e-7e9c00d54ee9"
      },
      "source": [
        "# Desired Output\r\n",
        "# > array([1, 1, 1, 2, 2, 2, 3, 3, 3, 1, 2, 3, 1, 2, 3, 1, 2, 3])\r\n",
        "\r\n",
        "# Solution\r\n",
        "# using repeat to generate the 111222.. sequence and hstack 3 times the original array\r\n",
        "solution_array = np.hstack((np.repeat(a,3),a,a,a))\r\n",
        "solution_array"
      ],
      "execution_count": null,
      "outputs": [
        {
          "output_type": "execute_result",
          "data": {
            "text/plain": [
              "array([1, 1, 1, 2, 2, 2, 3, 3, 3, 1, 2, 3, 1, 2, 3, 1, 2, 3])"
            ]
          },
          "metadata": {
            "tags": []
          },
          "execution_count": 30
        }
      ]
    },
    {
      "cell_type": "code",
      "metadata": {
        "colab": {
          "base_uri": "https://localhost:8080/"
        },
        "id": "SUH8PNMeUVNc",
        "outputId": "85cfca66-820a-4425-d263-c13b5f5f719b"
      },
      "source": [
        "# just to help us see all the array-\r\n",
        "np.set_printoptions(threshold=len(solution_array))\r\n",
        "\r\n",
        "solution_array"
      ],
      "execution_count": null,
      "outputs": [
        {
          "output_type": "execute_result",
          "data": {
            "text/plain": [
              "array([1, 1, 1, 2, 2, 2, 3, 3, 3, 1, 2, 3, 1, 2, 3, 1, 2, 3])"
            ]
          },
          "metadata": {
            "tags": []
          },
          "execution_count": 31
        }
      ]
    },
    {
      "cell_type": "code",
      "metadata": {
        "colab": {
          "base_uri": "https://localhost:8080/"
        },
        "id": "0aKSgiMyUw5L",
        "outputId": "965e2f10-eb24-4a4c-96dd-434485796df2"
      },
      "source": [
        "np.repeat(a,3) # 각 원소를 3번씩 반복"
      ],
      "execution_count": null,
      "outputs": [
        {
          "output_type": "execute_result",
          "data": {
            "text/plain": [
              "array([1, 1, 1, 2, 2, 2, 3, 3, 3])"
            ]
          },
          "metadata": {
            "tags": []
          },
          "execution_count": 32
        }
      ]
    },
    {
      "cell_type": "code",
      "metadata": {
        "colab": {
          "base_uri": "https://localhost:8080/"
        },
        "id": "8kljpCorUxNA",
        "outputId": "45d08e36-dc8a-4d09-c9f1-b69528365484"
      },
      "source": [
        "np.tile(a, 3) # 전체 array를 3번 반복"
      ],
      "execution_count": null,
      "outputs": [
        {
          "output_type": "execute_result",
          "data": {
            "text/plain": [
              "array([1, 2, 3, 1, 2, 3, 1, 2, 3])"
            ]
          },
          "metadata": {
            "tags": []
          },
          "execution_count": 33
        }
      ]
    },
    {
      "cell_type": "markdown",
      "metadata": {
        "id": "tQ4OhAWxVGp1"
      },
      "source": [
        "## 11. How to get the common items between two python numpy arrays?"
      ]
    },
    {
      "cell_type": "code",
      "metadata": {
        "colab": {
          "base_uri": "https://localhost:8080/"
        },
        "id": "QEWU-GoCD0D2",
        "outputId": "2c6c6686-8211-41b6-967c-3a9cb9cdb174"
      },
      "source": [
        "# Q. Get the common items between a and b\r\n",
        "\r\n",
        "# Input\r\n",
        "a = np.array([1,2,3,2,3,4,3,4,5,6])\r\n",
        "b = np.array([7,2,10,2,7,4,9,4,9,8])\r\n",
        "\r\n",
        "a"
      ],
      "execution_count": null,
      "outputs": [
        {
          "output_type": "execute_result",
          "data": {
            "text/plain": [
              "array([1, 2, 3, 2, 3, 4, 3, 4, 5, 6])"
            ]
          },
          "metadata": {
            "tags": []
          },
          "execution_count": 34
        }
      ]
    },
    {
      "cell_type": "code",
      "metadata": {
        "colab": {
          "base_uri": "https://localhost:8080/"
        },
        "id": "Dj5d9yo6D_mB",
        "outputId": "f2d7dd44-893c-4508-a0ff-3807624509e5"
      },
      "source": [
        "b"
      ],
      "execution_count": null,
      "outputs": [
        {
          "output_type": "execute_result",
          "data": {
            "text/plain": [
              "array([ 7,  2, 10,  2,  7,  4,  9,  4,  9,  8])"
            ]
          },
          "metadata": {
            "tags": []
          },
          "execution_count": 35
        }
      ]
    },
    {
      "cell_type": "code",
      "metadata": {
        "colab": {
          "base_uri": "https://localhost:8080/"
        },
        "id": "1MLHg751ELjt",
        "outputId": "f22f2627-1fe0-45ee-a512-6350c4135bdf"
      },
      "source": [
        "# Desired Output\r\n",
        "# array([2,4])\r\n",
        "\r\n",
        "# Solution\r\n",
        "np.unique(a[a==b])"
      ],
      "execution_count": null,
      "outputs": [
        {
          "output_type": "execute_result",
          "data": {
            "text/plain": [
              "array([2, 4])"
            ]
          },
          "metadata": {
            "tags": []
          },
          "execution_count": 36
        }
      ]
    },
    {
      "cell_type": "code",
      "metadata": {
        "colab": {
          "base_uri": "https://localhost:8080/"
        },
        "id": "1Cf-WRkWEYuZ",
        "outputId": "b576f71b-f539-43a8-fa8e-1cd2ef8a33d7"
      },
      "source": [
        "k = np.array([2,3,5])\r\n",
        "k2 = np.array([2,4,3])\r\n",
        "\r\n",
        "k==k2\r\n",
        "np.unique(k[k==k2])  # 자리 배열이 같은 원소들을 unique로 겹치지 않게 뽑아낸다."
      ],
      "execution_count": null,
      "outputs": [
        {
          "output_type": "execute_result",
          "data": {
            "text/plain": [
              "array([ True, False, False])"
            ]
          },
          "metadata": {
            "tags": []
          },
          "execution_count": 42
        },
        {
          "output_type": "execute_result",
          "data": {
            "text/plain": [
              "array([2])"
            ]
          },
          "metadata": {
            "tags": []
          },
          "execution_count": 42
        }
      ]
    },
    {
      "cell_type": "markdown",
      "metadata": {
        "id": "yEgHNaEjDyKm"
      },
      "source": [
        "## 12. How to remove from one array those items that exist in another?"
      ]
    },
    {
      "cell_type": "code",
      "metadata": {
        "colab": {
          "base_uri": "https://localhost:8080/"
        },
        "id": "lRkq54VbFBxf",
        "outputId": "6550bc84-29e0-4f34-92cc-9bcb8ce36dcb"
      },
      "source": [
        "# Q. From array a remove all items present in array b\r\n",
        "\r\n",
        "# Input\r\n",
        "a = np.arange(5) + 1 # np.array([1,2,3,4,5])\r\n",
        "b = np.arange(5) + 5 # np.array([5,6,7,8,9])\r\n",
        "\r\n",
        "a; b"
      ],
      "execution_count": null,
      "outputs": [
        {
          "output_type": "execute_result",
          "data": {
            "text/plain": [
              "array([1, 2, 3, 4, 5])"
            ]
          },
          "metadata": {
            "tags": []
          },
          "execution_count": 50
        },
        {
          "output_type": "execute_result",
          "data": {
            "text/plain": [
              "array([5, 6, 7, 8, 9])"
            ]
          },
          "metadata": {
            "tags": []
          },
          "execution_count": 50
        }
      ]
    },
    {
      "cell_type": "code",
      "metadata": {
        "colab": {
          "base_uri": "https://localhost:8080/"
        },
        "id": "YxxB0zn9FX75",
        "outputId": "9483be37-54b1-4f86-9f39-363f24ee8337"
      },
      "source": [
        "# Desired Output\r\n",
        "# array([1,2,3,4])\r\n",
        "\r\n",
        "# Solution\r\n",
        "np.isin(a,b)\r\n",
        "a[~np.isin(a,b)]\r\n",
        "# np.isin to find the common elements \r\n",
        "#(returns an array of Booleans). To filter only False, use ~ (CTRL + ALT + 4)"
      ],
      "execution_count": null,
      "outputs": [
        {
          "output_type": "execute_result",
          "data": {
            "text/plain": [
              "array([False, False, False, False,  True])"
            ]
          },
          "metadata": {
            "tags": []
          },
          "execution_count": 54
        },
        {
          "output_type": "execute_result",
          "data": {
            "text/plain": [
              "array([1, 2, 3, 4])"
            ]
          },
          "metadata": {
            "tags": []
          },
          "execution_count": 54
        }
      ]
    },
    {
      "cell_type": "markdown",
      "metadata": {
        "id": "Vcxz6DrDF3Xc"
      },
      "source": [
        "## 13. How to get the positions where elements of two arrays match?"
      ]
    },
    {
      "cell_type": "code",
      "metadata": {
        "colab": {
          "base_uri": "https://localhost:8080/"
        },
        "id": "dxBLnG1xGFap",
        "outputId": "2c433165-eb90-4d98-a637-9a93e71809db"
      },
      "source": [
        "# Q. Get the positions where elements of a and b match\r\n",
        "\r\n",
        "# Input\r\n",
        "a = np.array([1,2,3,2,3,4,3,4,5,6])\r\n",
        "b = np.array([7,2,10,2,7,4,9,4,9,8])\r\n",
        "\r\n",
        "a"
      ],
      "execution_count": null,
      "outputs": [
        {
          "output_type": "execute_result",
          "data": {
            "text/plain": [
              "array([1, 2, 3, 2, 3, 4, 3, 4, 5, 6])"
            ]
          },
          "metadata": {
            "tags": []
          },
          "execution_count": 70
        }
      ]
    },
    {
      "cell_type": "code",
      "metadata": {
        "colab": {
          "base_uri": "https://localhost:8080/"
        },
        "id": "2iTCmPXQIHnC",
        "outputId": "7b3f42b1-8317-41b8-8f06-7519430dc717"
      },
      "source": [
        "b"
      ],
      "execution_count": null,
      "outputs": [
        {
          "output_type": "execute_result",
          "data": {
            "text/plain": [
              "array([ 7,  2, 10,  2,  7,  4,  9,  4,  9,  8])"
            ]
          },
          "metadata": {
            "tags": []
          },
          "execution_count": 56
        }
      ]
    },
    {
      "cell_type": "code",
      "metadata": {
        "colab": {
          "base_uri": "https://localhost:8080/"
        },
        "id": "Pp01tpYHIH8G",
        "outputId": "c40e38a0-84a5-406e-bc9c-5afddaf93485"
      },
      "source": [
        "# Desired Output\r\n",
        "# > (array([1,3,5,7]),)\r\n",
        "\r\n",
        "# Solution\r\n",
        "np.where(a==b)\r\n",
        "# Notice: the solution if the INDEX but the values"
      ],
      "execution_count": null,
      "outputs": [
        {
          "output_type": "execute_result",
          "data": {
            "text/plain": [
              "(array([1, 3, 5, 7]),)"
            ]
          },
          "metadata": {
            "tags": []
          },
          "execution_count": 71
        }
      ]
    },
    {
      "cell_type": "code",
      "metadata": {
        "colab": {
          "base_uri": "https://localhost:8080/"
        },
        "id": "NV2d7NyYQ8Fl",
        "outputId": "5d40be3d-feae-4200-8906-7d7084759946"
      },
      "source": [
        "a[np.where(a==b)]\r\n",
        "b[np.where(a==b)]"
      ],
      "execution_count": null,
      "outputs": [
        {
          "output_type": "execute_result",
          "data": {
            "text/plain": [
              "array([2, 2, 4, 4])"
            ]
          },
          "metadata": {
            "tags": []
          },
          "execution_count": 72
        },
        {
          "output_type": "execute_result",
          "data": {
            "text/plain": [
              "array([2, 2, 4, 4])"
            ]
          },
          "metadata": {
            "tags": []
          },
          "execution_count": 72
        }
      ]
    },
    {
      "cell_type": "markdown",
      "metadata": {
        "id": "y9ajBQDWIV2m"
      },
      "source": [
        "## 14. How to extract all numbers between a given range from a numpy array?"
      ]
    },
    {
      "cell_type": "code",
      "metadata": {
        "colab": {
          "base_uri": "https://localhost:8080/"
        },
        "id": "vulLxFCCQG0d",
        "outputId": "dca3b3c8-e383-4ad9-dc85-f9e952ee50ad"
      },
      "source": [
        "# Q. Get all items between 5 and 10 from a.\r\n",
        "\r\n",
        "# Input\r\n",
        "a = np.array([2,6,1,9,10,3,27])\r\n",
        "\r\n",
        "a"
      ],
      "execution_count": null,
      "outputs": [
        {
          "output_type": "execute_result",
          "data": {
            "text/plain": [
              "array([ 2,  6,  1,  9, 10,  3, 27])"
            ]
          },
          "metadata": {
            "tags": []
          },
          "execution_count": 73
        }
      ]
    },
    {
      "cell_type": "code",
      "metadata": {
        "colab": {
          "base_uri": "https://localhost:8080/"
        },
        "id": "2l-A_hyoQUyo",
        "outputId": "22038056-3ac8-4937-aa3c-0f5731b6be58"
      },
      "source": [
        "# Desired Output\r\n",
        "# (array([6,9,10]),)\r\n",
        "\r\n",
        "# Solution\r\n",
        "a[(a>5) & (a<10)]"
      ],
      "execution_count": null,
      "outputs": [
        {
          "output_type": "execute_result",
          "data": {
            "text/plain": [
              "array([6, 9])"
            ]
          },
          "metadata": {
            "tags": []
          },
          "execution_count": 74
        }
      ]
    },
    {
      "cell_type": "markdown",
      "metadata": {
        "id": "X0d5mdNIQ3aR"
      },
      "source": [
        "## How to make a python function that handles scalars to work on numpy arrays?"
      ]
    },
    {
      "cell_type": "code",
      "metadata": {
        "colab": {
          "base_uri": "https://localhost:8080/"
        },
        "id": "pS7RJcqHRNIb",
        "outputId": "3db51ac5-8bf7-4525-d89a-a73ab874d29e"
      },
      "source": [
        "# Q. Convert the function maxx that works on two scalars, to work on two arrays.\r\n",
        "\r\n",
        "# Input\r\n",
        "\r\n",
        "def maxx(x,y):\r\n",
        "    \"\"\"\r\n",
        "    Get the maximum of two items\r\n",
        "    \"\"\"\r\n",
        "\r\n",
        "    if x>=y:\r\n",
        "        return x\r\n",
        "    else:\r\n",
        "        return y\r\n",
        "\r\n",
        "print(\"Result of the maxx function\")\r\n",
        "maxx(1,5)"
      ],
      "execution_count": null,
      "outputs": [
        {
          "output_type": "stream",
          "text": [
            "Result of the maxx function\n"
          ],
          "name": "stdout"
        },
        {
          "output_type": "execute_result",
          "data": {
            "text/plain": [
              "5"
            ]
          },
          "metadata": {
            "tags": []
          },
          "execution_count": 75
        }
      ]
    },
    {
      "cell_type": "code",
      "metadata": {
        "colab": {
          "base_uri": "https://localhost:8080/"
        },
        "id": "IjD-7JbRRiM_",
        "outputId": "c772212d-cadc-47f6-88f6-763e3ca66580"
      },
      "source": [
        "a = np.array([5,7,9,8,6,4,5])\r\n",
        "b = np.array([6,3,4,8,9,7,1])\r\n",
        "\r\n",
        "a;b"
      ],
      "execution_count": null,
      "outputs": [
        {
          "output_type": "execute_result",
          "data": {
            "text/plain": [
              "array([5, 7, 9, 8, 6, 4, 5])"
            ]
          },
          "metadata": {
            "tags": []
          },
          "execution_count": 76
        },
        {
          "output_type": "execute_result",
          "data": {
            "text/plain": [
              "array([6, 3, 4, 8, 9, 7, 1])"
            ]
          },
          "metadata": {
            "tags": []
          },
          "execution_count": 76
        }
      ]
    },
    {
      "cell_type": "code",
      "metadata": {
        "colab": {
          "base_uri": "https://localhost:8080/"
        },
        "id": "xFpr2KnHRopE",
        "outputId": "f59828c8-0dce-4519-8def-d81d1097303c"
      },
      "source": [
        "# Desired Output\r\n",
        "# pair_max(a,b)\r\n",
        "# > array([6., 7.,9., 7., 5.,])\r\n",
        "\r\n",
        "# Solution\r\n",
        "\r\n",
        "def pair_max(a,b):\r\n",
        "    return np.array([max(x,y) for x,y in zip(a,b)])\r\n",
        "\r\n",
        "# using a list comprehension to find \r\n",
        "#the max between 2 arrays elementwise (using zip) and convert to numpy array\r\n",
        "pair_max(a,b)"
      ],
      "execution_count": null,
      "outputs": [
        {
          "output_type": "execute_result",
          "data": {
            "text/plain": [
              "array([6, 7, 9, 8, 9, 7, 5])"
            ]
          },
          "metadata": {
            "tags": []
          },
          "execution_count": 77
        }
      ]
    },
    {
      "cell_type": "code",
      "metadata": {
        "colab": {
          "base_uri": "https://localhost:8080/"
        },
        "id": "NFdl0NqxR5Bt",
        "outputId": "ff25e7ec-aa99-47ab-992f-058772857f46"
      },
      "source": [
        "[max(x,y) for x,y in zip(a,b)]"
      ],
      "execution_count": null,
      "outputs": [
        {
          "output_type": "execute_result",
          "data": {
            "text/plain": [
              "[6, 7, 9, 8, 9, 7, 5]"
            ]
          },
          "metadata": {
            "tags": []
          },
          "execution_count": 85
        }
      ]
    },
    {
      "cell_type": "markdown",
      "metadata": {
        "id": "Q5fa3l_5SA1c"
      },
      "source": [
        "## 16. How to swap two columns in a 2d numpy array?"
      ]
    },
    {
      "cell_type": "code",
      "metadata": {
        "colab": {
          "base_uri": "https://localhost:8080/"
        },
        "id": "u_-RKqtFSYGV",
        "outputId": "219b9ca4-6d8a-458a-9fdb-f8f2b4f7511a"
      },
      "source": [
        "# Q. Swap columns 1 and 2 in the array arr.\r\n",
        "\r\n",
        "# Input\r\n",
        "arr = np.arange(9).reshape(3,3)\r\n",
        "arr"
      ],
      "execution_count": null,
      "outputs": [
        {
          "output_type": "execute_result",
          "data": {
            "text/plain": [
              "array([[0, 1, 2],\n",
              "       [3, 4, 5],\n",
              "       [6, 7, 8]])"
            ]
          },
          "metadata": {
            "tags": []
          },
          "execution_count": 86
        }
      ]
    },
    {
      "cell_type": "code",
      "metadata": {
        "colab": {
          "base_uri": "https://localhost:8080/"
        },
        "id": "ACs_fbmfSd9p",
        "outputId": "aa9351a4-df17-492b-c835-a02be11df793"
      },
      "source": [
        "# Solution\r\n",
        "temp = arr[:,0].copy() # temporary variable\r\n",
        "temp # 1컬럼"
      ],
      "execution_count": null,
      "outputs": [
        {
          "output_type": "execute_result",
          "data": {
            "text/plain": [
              "array([0, 3, 6])"
            ]
          },
          "metadata": {
            "tags": []
          },
          "execution_count": 88
        }
      ]
    },
    {
      "cell_type": "code",
      "metadata": {
        "id": "MC1QGd7vSj16"
      },
      "source": [
        "arr[:,0], arr[:,1] = arr[:,1], temp"
      ],
      "execution_count": null,
      "outputs": []
    },
    {
      "cell_type": "code",
      "metadata": {
        "colab": {
          "base_uri": "https://localhost:8080/"
        },
        "id": "zag77lsYSv2T",
        "outputId": "9635e891-54c1-4484-9c30-0fc5720d773e"
      },
      "source": [
        "arr"
      ],
      "execution_count": null,
      "outputs": [
        {
          "output_type": "execute_result",
          "data": {
            "text/plain": [
              "array([[1, 0, 2],\n",
              "       [4, 3, 5],\n",
              "       [7, 6, 8]])"
            ]
          },
          "metadata": {
            "tags": []
          },
          "execution_count": 91
        }
      ]
    },
    {
      "cell_type": "markdown",
      "metadata": {
        "id": "4LdTCc_mSzXO"
      },
      "source": [
        "## 17. How to swap two rows in a 2d numpy array?"
      ]
    },
    {
      "cell_type": "code",
      "metadata": {
        "colab": {
          "base_uri": "https://localhost:8080/"
        },
        "id": "QXGvVAFLUwrh",
        "outputId": "347e5253-3e43-48e6-ddad-1b29c3038d6a"
      },
      "source": [
        "# Q. Swap rows 1 and 2 in the array arr:\r\n",
        "# Input\r\n",
        "arr = np.arange(9).reshape(3,3)\r\n",
        "arr"
      ],
      "execution_count": null,
      "outputs": [
        {
          "output_type": "execute_result",
          "data": {
            "text/plain": [
              "array([[0, 1, 2],\n",
              "       [3, 4, 5],\n",
              "       [6, 7, 8]])"
            ]
          },
          "metadata": {
            "tags": []
          },
          "execution_count": 105
        }
      ]
    },
    {
      "cell_type": "code",
      "metadata": {
        "colab": {
          "base_uri": "https://localhost:8080/"
        },
        "id": "iHFC692ZVzwH",
        "outputId": "b2848f54-b9a7-49c3-95be-ef0ce7aeaa3f"
      },
      "source": [
        "# Solution\r\n",
        "temp = arr[0,:].copy() # temporary variable\r\n",
        "temp # 1행"
      ],
      "execution_count": null,
      "outputs": [
        {
          "output_type": "execute_result",
          "data": {
            "text/plain": [
              "array([0, 1, 2])"
            ]
          },
          "metadata": {
            "tags": []
          },
          "execution_count": 106
        }
      ]
    },
    {
      "cell_type": "code",
      "metadata": {
        "id": "sE24NfKWV5ea"
      },
      "source": [
        "arr[0,:], arr[1,:] = arr[1,:], temp"
      ],
      "execution_count": null,
      "outputs": []
    },
    {
      "cell_type": "code",
      "metadata": {
        "colab": {
          "base_uri": "https://localhost:8080/"
        },
        "id": "nQiegVhkV6Wx",
        "outputId": "081fdfbe-a309-4c3d-9152-58233cbada30"
      },
      "source": [
        "arr"
      ],
      "execution_count": null,
      "outputs": [
        {
          "output_type": "execute_result",
          "data": {
            "text/plain": [
              "array([[3, 4, 5],\n",
              "       [0, 1, 2],\n",
              "       [6, 7, 8]])"
            ]
          },
          "metadata": {
            "tags": []
          },
          "execution_count": 108
        }
      ]
    },
    {
      "cell_type": "markdown",
      "metadata": {
        "id": "khRYYYKfUou0"
      },
      "source": [
        "## 18. How to reverse the rows of a 2D array?"
      ]
    },
    {
      "cell_type": "code",
      "metadata": {
        "colab": {
          "base_uri": "https://localhost:8080/"
        },
        "id": "5RC6z69qUu10",
        "outputId": "daa91100-0c53-4904-d9b3-b25a20649313"
      },
      "source": [
        "# Q. Reverse the rows of a 2D array arr.\r\n",
        "\r\n",
        "# Input\r\n",
        "arr = np.arange(9).reshape(3,3)\r\n",
        "arr"
      ],
      "execution_count": null,
      "outputs": [
        {
          "output_type": "execute_result",
          "data": {
            "text/plain": [
              "array([[0, 1, 2],\n",
              "       [3, 4, 5],\n",
              "       [6, 7, 8]])"
            ]
          },
          "metadata": {
            "tags": []
          },
          "execution_count": 93
        }
      ]
    },
    {
      "cell_type": "code",
      "metadata": {
        "colab": {
          "base_uri": "https://localhost:8080/"
        },
        "id": "fkSobQVNU9gk",
        "outputId": "988ccfce-6311-4386-e870-2ed16d945606"
      },
      "source": [
        "# Solution\r\n",
        "arr[::-1]"
      ],
      "execution_count": null,
      "outputs": [
        {
          "output_type": "execute_result",
          "data": {
            "text/plain": [
              "array([[6, 7, 8],\n",
              "       [3, 4, 5],\n",
              "       [0, 1, 2]])"
            ]
          },
          "metadata": {
            "tags": []
          },
          "execution_count": 95
        }
      ]
    },
    {
      "cell_type": "code",
      "metadata": {
        "colab": {
          "base_uri": "https://localhost:8080/"
        },
        "id": "NUnG3C53U_yq",
        "outputId": "a2dab26a-7946-410e-c44a-aff75a914439"
      },
      "source": [
        "arr[::-1,:] # exactly the same"
      ],
      "execution_count": null,
      "outputs": [
        {
          "output_type": "execute_result",
          "data": {
            "text/plain": [
              "array([[6, 7, 8],\n",
              "       [3, 4, 5],\n",
              "       [0, 1, 2]])"
            ]
          },
          "metadata": {
            "tags": []
          },
          "execution_count": 96
        }
      ]
    },
    {
      "cell_type": "markdown",
      "metadata": {
        "id": "OxRkhi2PVBD3"
      },
      "source": [
        "## 19. How to reverse the columns of a 2D array?"
      ]
    },
    {
      "cell_type": "code",
      "metadata": {
        "colab": {
          "base_uri": "https://localhost:8080/"
        },
        "id": "fu6pwT4BVJKb",
        "outputId": "9b54c5db-301e-4add-f7d8-c6aab7ce7120"
      },
      "source": [
        "# Q. Reverse the columns of a 2D array arr.\r\n",
        "\r\n",
        "# Input\r\n",
        "print(\"Input\")\r\n",
        "arr = np.arange(9).reshape(3,3)\r\n",
        "arr"
      ],
      "execution_count": null,
      "outputs": [
        {
          "output_type": "stream",
          "text": [
            "Input\n"
          ],
          "name": "stdout"
        },
        {
          "output_type": "execute_result",
          "data": {
            "text/plain": [
              "array([[0, 1, 2],\n",
              "       [3, 4, 5],\n",
              "       [6, 7, 8]])"
            ]
          },
          "metadata": {
            "tags": []
          },
          "execution_count": 97
        }
      ]
    },
    {
      "cell_type": "code",
      "metadata": {
        "colab": {
          "base_uri": "https://localhost:8080/"
        },
        "id": "3PISdT_dVLHd",
        "outputId": "ad249de9-1d02-4826-c987-8b087cc380a8"
      },
      "source": [
        "# Solution\r\n",
        "print(\"Solution\")\r\n",
        "arr[:, ::-1]"
      ],
      "execution_count": null,
      "outputs": [
        {
          "output_type": "stream",
          "text": [
            "Solution\n"
          ],
          "name": "stdout"
        },
        {
          "output_type": "execute_result",
          "data": {
            "text/plain": [
              "array([[2, 1, 0],\n",
              "       [5, 4, 3],\n",
              "       [8, 7, 6]])"
            ]
          },
          "metadata": {
            "tags": []
          },
          "execution_count": 98
        }
      ]
    },
    {
      "cell_type": "markdown",
      "metadata": {
        "id": "hfQK4hfDVLcd"
      },
      "source": [
        "## 20. How to create a 2D array containing random floats between 5 and 10?"
      ]
    },
    {
      "cell_type": "code",
      "metadata": {
        "colab": {
          "base_uri": "https://localhost:8080/"
        },
        "id": "jrfdDPNLVTrz",
        "outputId": "7c0d7404-d4c1-4757-8b67-524582433b90"
      },
      "source": [
        "# Q. Create a 2D array of shape 5x3 to contain random decimal numbers between 5 and 10.\r\n",
        "\r\n",
        "# Solution\r\n",
        "\r\n",
        "# randint first argument: lower bound, second argument: higher bound (if you put 10, it will max return 9, so we add 1),\r\n",
        "# third argument: number of samples. Then we reshape and done.\r\n",
        "\r\n",
        "np.random.randint(5, 11, 15).reshape(5,3)"
      ],
      "execution_count": null,
      "outputs": [
        {
          "output_type": "execute_result",
          "data": {
            "text/plain": [
              "array([[ 6,  7,  7],\n",
              "       [ 9,  6,  6],\n",
              "       [ 6, 10,  7],\n",
              "       [10,  7,  8],\n",
              "       [ 8,  6,  5]])"
            ]
          },
          "metadata": {
            "tags": []
          },
          "execution_count": 99
        }
      ]
    },
    {
      "cell_type": "markdown",
      "metadata": {
        "id": "S1KQn7_dVdkZ"
      },
      "source": [
        "## 21. How to print only 3 decimal places in python numpy array?"
      ]
    },
    {
      "cell_type": "code",
      "metadata": {
        "id": "emi9cttqXQQR"
      },
      "source": [
        "# Q. Print or show only 3 decimal places of the numpy array rand_arr.\r\n",
        "\r\n",
        "# Setting print options to default\r\n",
        "np.set_printoptions(edgeitems=3,infstr='inf', linewidth=75, nanstr='nan', precision=8,\r\n",
        "                    suppress=False, threshold=1000, formatter=None)"
      ],
      "execution_count": null,
      "outputs": []
    },
    {
      "cell_type": "code",
      "metadata": {
        "colab": {
          "base_uri": "https://localhost:8080/"
        },
        "id": "aUSBBBluXS3E",
        "outputId": "04688f9f-cf32-4fff-a417-1fc29422d741"
      },
      "source": [
        "# Input\r\n",
        "rand_arr = np.random.random((5,3))\r\n",
        "rand_arr"
      ],
      "execution_count": null,
      "outputs": [
        {
          "output_type": "execute_result",
          "data": {
            "text/plain": [
              "array([[0.13693931, 0.58940219, 0.01987679],\n",
              "       [0.37257596, 0.36479357, 0.85100212],\n",
              "       [0.83326409, 0.43545396, 0.82360207],\n",
              "       [0.11938688, 0.8467816 , 0.44010511],\n",
              "       [0.18804441, 0.43812328, 0.8461141 ]])"
            ]
          },
          "metadata": {
            "tags": []
          },
          "execution_count": 112
        }
      ]
    },
    {
      "cell_type": "code",
      "metadata": {
        "colab": {
          "base_uri": "https://localhost:8080/"
        },
        "id": "yy5U1THiXcQ0",
        "outputId": "edb972c4-3125-4276-ab48-d352d9443cbb"
      },
      "source": [
        "# Solution\r\n",
        "np.set_printoptions(precision=3)\r\n",
        "rand_arr"
      ],
      "execution_count": null,
      "outputs": [
        {
          "output_type": "execute_result",
          "data": {
            "text/plain": [
              "array([[0.137, 0.589, 0.02 ],\n",
              "       [0.373, 0.365, 0.851],\n",
              "       [0.833, 0.435, 0.824],\n",
              "       [0.119, 0.847, 0.44 ],\n",
              "       [0.188, 0.438, 0.846]])"
            ]
          },
          "metadata": {
            "tags": []
          },
          "execution_count": 113
        }
      ]
    },
    {
      "cell_type": "markdown",
      "metadata": {
        "id": "zlLizTq_WX-Z"
      },
      "source": [
        "## 22. How to pretty print a numpy array by suppressing the scientific notation (like 1e10)?  \r\n",
        "\r\n",
        "과학적 표기를 소수점 형태로 표현"
      ]
    },
    {
      "cell_type": "code",
      "metadata": {
        "id": "qiHrW3XSXjg1"
      },
      "source": [
        "# Q. Pretty print rand_arr by suppressing the scientific notation (like 1e10)\r\n",
        "\r\n",
        "# Setting print options to default\r\n",
        "np.set_printoptions(edgeitems=3,infstr='inf', linewidth=75, nanstr='nan', precision=8, \r\n",
        "                    suppress=False, threshold=1000, formatter=None)"
      ],
      "execution_count": null,
      "outputs": []
    },
    {
      "cell_type": "code",
      "metadata": {
        "colab": {
          "base_uri": "https://localhost:8080/"
        },
        "id": "t_oj0HtRXnte",
        "outputId": "b355b886-6991-4b77-875f-24c65957fd2c"
      },
      "source": [
        "# Input\r\n",
        "np.random.seed(100)\r\n",
        "\r\n",
        "rand_arr = np.random.random([3,3])/1e3\r\n",
        "rand_arr"
      ],
      "execution_count": null,
      "outputs": [
        {
          "output_type": "execute_result",
          "data": {
            "text/plain": [
              "array([[5.43404942e-04, 2.78369385e-04, 4.24517591e-04],\n",
              "       [8.44776132e-04, 4.71885619e-06, 1.21569121e-04],\n",
              "       [6.70749085e-04, 8.25852755e-04, 1.36706590e-04]])"
            ]
          },
          "metadata": {
            "tags": []
          },
          "execution_count": 117
        }
      ]
    },
    {
      "cell_type": "code",
      "metadata": {
        "colab": {
          "base_uri": "https://localhost:8080/"
        },
        "id": "YQ6rfKxfXrpZ",
        "outputId": "46855e0c-d54e-47e2-8f3d-6eb457bd641c"
      },
      "source": [
        "# Desired Output\r\n",
        "# > array([[ 0.000543,  0.000278,  0.000425],\r\n",
        "# >        [ 0.000845,  0.000005,  0.000122],\r\n",
        "# >        [ 0.000671,  0.000826,  0.000137]])\r\n",
        "\r\n",
        "\r\n",
        "# Solution\r\n",
        "np.set_printoptions(suppress=True) # suppress : 진압하다. 금하다. 숨기다.\r\n",
        "rand_arr"
      ],
      "execution_count": null,
      "outputs": [
        {
          "output_type": "execute_result",
          "data": {
            "text/plain": [
              "array([[0.0005434 , 0.00027837, 0.00042452],\n",
              "       [0.00084478, 0.00000472, 0.00012157],\n",
              "       [0.00067075, 0.00082585, 0.00013671]])"
            ]
          },
          "metadata": {
            "tags": []
          },
          "execution_count": 118
        }
      ]
    },
    {
      "cell_type": "markdown",
      "metadata": {
        "id": "T1EYDc6tWfcl"
      },
      "source": [
        "## 23. How to limit the number of items printed in output of numpy array?"
      ]
    },
    {
      "cell_type": "code",
      "metadata": {
        "id": "gfQ2WDfTYHrT"
      },
      "source": [
        "# Q. Limit the number of items printed in python numpy array a to a maximum of 6 elements.\r\n",
        "\r\n",
        "# Setting print options to default\r\n",
        "np.set_printoptions(edgeitems=3,infstr='inf', linewidth=75, nanstr='nan', precision=8,\r\n",
        "                    suppress=False, threshold=1000, formatter=None)"
      ],
      "execution_count": null,
      "outputs": []
    },
    {
      "cell_type": "code",
      "metadata": {
        "colab": {
          "base_uri": "https://localhost:8080/"
        },
        "id": "trIGmlZTYLi7",
        "outputId": "8e12d943-8aa5-4fca-c922-24412033dc3e"
      },
      "source": [
        "# Input\r\n",
        "a = np.arange(15)\r\n",
        "a"
      ],
      "execution_count": null,
      "outputs": [
        {
          "output_type": "execute_result",
          "data": {
            "text/plain": [
              "array([ 0,  1,  2,  3,  4,  5,  6,  7,  8,  9, 10, 11, 12, 13, 14])"
            ]
          },
          "metadata": {
            "tags": []
          },
          "execution_count": 120
        }
      ]
    },
    {
      "cell_type": "code",
      "metadata": {
        "colab": {
          "base_uri": "https://localhost:8080/"
        },
        "id": "zl2sCCjXYOrX",
        "outputId": "9a92a558-564b-4124-efdb-f541a543d63b"
      },
      "source": [
        "# Desired Output\r\n",
        "# > array([0,1,2,...,12,13,14])\r\n",
        "\r\n",
        "# Solution\r\n",
        "np.set_printoptions(threshold=6) # 배열에서 6개까지만 출력하여 표현\r\n",
        "a"
      ],
      "execution_count": null,
      "outputs": [
        {
          "output_type": "execute_result",
          "data": {
            "text/plain": [
              "array([ 0,  1,  2, ..., 12, 13, 14])"
            ]
          },
          "metadata": {
            "tags": []
          },
          "execution_count": 122
        }
      ]
    },
    {
      "cell_type": "markdown",
      "metadata": {
        "id": "OGAP5082WkTl"
      },
      "source": [
        "## 24. How to print the full numpy array without truncating"
      ]
    },
    {
      "cell_type": "code",
      "metadata": {
        "colab": {
          "base_uri": "https://localhost:8080/"
        },
        "id": "G6qwLu5YYeFr",
        "outputId": "fd675d73-9314-451e-e139-d3e7c3825a1b"
      },
      "source": [
        "# Q. Print the full numpy array a without truncating.\r\n",
        "\r\n",
        "# Input\r\n",
        "np.set_printoptions(threshold=6)\r\n",
        "a = np.arange(15)\r\n",
        "a"
      ],
      "execution_count": null,
      "outputs": [
        {
          "output_type": "execute_result",
          "data": {
            "text/plain": [
              "array([ 0,  1,  2, ..., 12, 13, 14])"
            ]
          },
          "metadata": {
            "tags": []
          },
          "execution_count": 123
        }
      ]
    },
    {
      "cell_type": "code",
      "metadata": {
        "colab": {
          "base_uri": "https://localhost:8080/"
        },
        "id": "R95zHzEqZC-1",
        "outputId": "898e6d08-5b97-4ac7-a546-7feb21a8aa64"
      },
      "source": [
        "# Desired Output\r\n",
        "# > array([0,1,2,3,4,5,6,7,8,9,10,11,12,13,14])\r\n",
        "\r\n",
        "# Solution\r\n",
        "np.set_printoptions(threshold=len(a))\r\n",
        "a"
      ],
      "execution_count": null,
      "outputs": [
        {
          "output_type": "execute_result",
          "data": {
            "text/plain": [
              "array([ 0,  1,  2,  3,  4,  5,  6,  7,  8,  9, 10, 11, 12, 13, 14])"
            ]
          },
          "metadata": {
            "tags": []
          },
          "execution_count": 124
        }
      ]
    },
    {
      "cell_type": "markdown",
      "metadata": {
        "id": "xRcew82VWpVo"
      },
      "source": [
        "## 25. How to import a dataset with numbers and texts keeping the text intact in python numpy?"
      ]
    },
    {
      "cell_type": "code",
      "metadata": {
        "colab": {
          "base_uri": "https://localhost:8080/"
        },
        "id": "aumrNMVcWwB-",
        "outputId": "62951299-d6a0-4b9c-922f-a74803139811"
      },
      "source": [
        "# Q. Import the titanic dataset keeping the text intact.\r\n",
        "\r\n",
        "# Input\r\n",
        "# Use the titanic dataset provided\r\n",
        "print(\"Solution\")\r\n",
        "titanic = np.genfromtxt('train.csv', delimiter=',', skip_header=1, \r\n",
        "                     usecols = [0, 1, 2, 3, 4, 5], dtype = None)\r\n",
        "\r\n",
        "titanic"
      ],
      "execution_count": null,
      "outputs": [
        {
          "output_type": "stream",
          "text": [
            "Solution\n"
          ],
          "name": "stdout"
        },
        {
          "output_type": "stream",
          "text": [
            "/usr/local/lib/python3.6/dist-packages/ipykernel_launcher.py:7: VisibleDeprecationWarning: Reading unicode strings without specifying the encoding argument is deprecated. Set the encoding, use None for the system default.\n",
            "  import sys\n"
          ],
          "name": "stderr"
        },
        {
          "output_type": "execute_result",
          "data": {
            "text/plain": [
              "array([(  1, 0, 3, b'\"Braund', b' Mr. Owen Harris\"', b'male'),\n",
              "       (  2, 1, 1, b'\"Cumings', b' Mrs. John Bradley (Florence Briggs Thayer)\"', b'female'),\n",
              "       (  3, 1, 3, b'\"Heikkinen', b' Miss. Laina\"', b'female'), ...,\n",
              "       (889, 0, 3, b'\"Johnston', b' Miss. Catherine Helen \"\"Carrie\"\"\"', b'female'),\n",
              "       (890, 1, 1, b'\"Behr', b' Mr. Karl Howell\"', b'male'),\n",
              "       (891, 0, 3, b'\"Dooley', b' Mr. Patrick\"', b'male')],\n",
              "      dtype=[('f0', '<i8'), ('f1', '<i8'), ('f2', '<i8'), ('f3', 'S23'), ('f4', 'S62'), ('f5', 'S6')])"
            ]
          },
          "metadata": {
            "tags": []
          },
          "execution_count": 130
        }
      ]
    },
    {
      "cell_type": "code",
      "metadata": {
        "id": "G9Sn9IkpZM1q"
      },
      "source": [
        ""
      ],
      "execution_count": null,
      "outputs": []
    }
  ]
}