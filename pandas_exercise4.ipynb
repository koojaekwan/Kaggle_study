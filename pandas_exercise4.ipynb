{
  "nbformat": 4,
  "nbformat_minor": 0,
  "metadata": {
    "colab": {
      "name": "pandas_exercise4.ipynb",
      "provenance": [],
      "collapsed_sections": [],
      "authorship_tag": "ABX9TyOZfipHUmbVpvoGYxLWjZoI",
      "include_colab_link": true
    },
    "kernelspec": {
      "name": "python3",
      "display_name": "Python 3"
    }
  },
  "cells": [
    {
      "cell_type": "markdown",
      "metadata": {
        "id": "view-in-github",
        "colab_type": "text"
      },
      "source": [
        "<a href=\"https://colab.research.google.com/github/koojaekwan/Kaggle_study/blob/master/pandas_exercise4.ipynb\" target=\"_parent\"><img src=\"https://colab.research.google.com/assets/colab-badge.svg\" alt=\"Open In Colab\"/></a>"
      ]
    },
    {
      "cell_type": "markdown",
      "metadata": {
        "id": "xkda1mqNeo_V"
      },
      "source": [
        "# Pandas trick with Titanic data\r\n",
        "I refer that Kaggle :\r\n",
        "https://www.kaggle.com/python10pm/pandas-100-tricks#Welcome-to-this-Kernel  \r\n",
        "* If you fail to load this file in github, please try it!  \r\n",
        "https://github.com/iurisegtovich/PyTherm-applied-thermodynamics/issues/11  \r\n",
        "https://nbviewer.jupyter.org/  "
      ]
    },
    {
      "cell_type": "code",
      "metadata": {
        "colab": {
          "base_uri": "https://localhost:8080/"
        },
        "id": "jnCUQqw7f1YX",
        "outputId": "fdf949b2-e8c2-4436-a601-ec9f95b25edd"
      },
      "source": [
        "import os\r\n",
        "import numpy as np\r\n",
        "import pandas as pd\r\n",
        "from google.colab import drive\r\n",
        "\r\n",
        "drive.mount('./MyDrive')"
      ],
      "execution_count": 1,
      "outputs": [
        {
          "output_type": "stream",
          "text": [
            "Mounted at ./MyDrive\n"
          ],
          "name": "stdout"
        }
      ]
    },
    {
      "cell_type": "code",
      "metadata": {
        "colab": {
          "base_uri": "https://localhost:8080/",
          "height": 34
        },
        "id": "Hrazz8Pff4yH",
        "outputId": "02d3ae31-077f-4809-d123-abeed79dc3d4"
      },
      "source": [
        "os.chdir('/content/MyDrive/MyDrive')  # setwd like R\r\n",
        "os.getcwd()   # current working directory"
      ],
      "execution_count": 2,
      "outputs": [
        {
          "output_type": "execute_result",
          "data": {
            "application/vnd.google.colaboratory.intrinsic+json": {
              "type": "string"
            },
            "text/plain": [
              "'/content/MyDrive/MyDrive'"
            ]
          },
          "metadata": {
            "tags": []
          },
          "execution_count": 2
        }
      ]
    },
    {
      "cell_type": "code",
      "metadata": {
        "colab": {
          "base_uri": "https://localhost:8080/"
        },
        "id": "3Kjsh2AUf9Jx",
        "outputId": "33fb9659-7d98-441f-d56e-77a09505072c"
      },
      "source": [
        "# this will allow us to print all the files as we generate more in the kernel\r\n",
        "def print_files():\r\n",
        "    for dirname, _, filenames in os.walk('/content/MyDrive/MyDrive'):\r\n",
        "        for filename in filenames:\r\n",
        "            print(os.path.join(dirname, filename))\r\n",
        "\r\n",
        "# check Trick 91 for an example\r\n",
        "def generate_sample_data(): # creates a fake df for testing\r\n",
        "    number_or_rows = 20\r\n",
        "    num_cols = 7\r\n",
        "    cols = list(\"ABCDEFG\")\r\n",
        "    df = pd.DataFrame(np.random.randint(1, 20, size = (number_or_rows, num_cols)), columns=cols)\r\n",
        "    df.index = pd.util.testing.makeIntIndex(number_or_rows)\r\n",
        "    return df\r\n",
        "\r\n",
        "# check Trick 91 for an example\r\n",
        "def generate_sample_data_datetime(): # creates a fake df for testing\r\n",
        "    number_or_rows = 365*24\r\n",
        "    num_cols = 2\r\n",
        "    cols = [\"sales\", \"customers\"]\r\n",
        "    df = pd.DataFrame(np.random.randint(1, 20, size = (number_or_rows, num_cols)), columns=cols)\r\n",
        "    df.index = pd.util.testing.makeDateIndex(number_or_rows, freq=\"H\")\r\n",
        "    return df\r\n",
        "\r\n",
        "# show several prints in one cell. This will allow us to condence every trick in one cell.\r\n",
        "from IPython.core.interactiveshell import InteractiveShell\r\n",
        "InteractiveShell.ast_node_interactivity = \"all\"\r\n",
        "\r\n",
        "print_files()"
      ],
      "execution_count": 3,
      "outputs": [
        {
          "output_type": "stream",
          "text": [
            "/content/MyDrive/MyDrive/train.csv\n",
            "/content/MyDrive/MyDrive/test.csv\n",
            "/content/MyDrive/MyDrive/머신러닝 도감(제이펍).gdoc\n",
            "/content/MyDrive/MyDrive/srr-mave-gqc - 2020년 10월 11일.gjam\n",
            "/content/MyDrive/MyDrive/trick99data.csv\n",
            "/content/MyDrive/MyDrive/trick83data.csv\n",
            "/content/MyDrive/MyDrive/trick78data1.csv\n",
            "/content/MyDrive/MyDrive/trick78data3.csv\n",
            "/content/MyDrive/MyDrive/trick78data2.csv\n",
            "/content/MyDrive/MyDrive/trick58data.csv\n",
            "/content/MyDrive/MyDrive/coding_test/group_call_HMS.csv\n",
            "/content/MyDrive/MyDrive/coding_test/first.pickle\n",
            "/content/MyDrive/MyDrive/coding_test/first2.pickle\n",
            "/content/MyDrive/MyDrive/coding_test/first3.pickle\n",
            "/content/MyDrive/MyDrive/coding_test/first4.pickle\n",
            "/content/MyDrive/MyDrive/coding_test/first5.pickle\n",
            "/content/MyDrive/MyDrive/coding_test/p_data.pickle\n",
            "/content/MyDrive/MyDrive/coding_test/final_dat.pickle\n",
            "/content/MyDrive/MyDrive/Colab Notebooks/jaekwankoo.ipynb\n",
            "/content/MyDrive/MyDrive/Colab Notebooks/chap1.ipynb\n",
            "/content/MyDrive/MyDrive/Colab Notebooks/chap2 기본 자료구조와 배열.ipynb\n",
            "/content/MyDrive/MyDrive/Colab Notebooks/recursive_function.ipynb\n",
            "/content/MyDrive/MyDrive/Colab Notebooks/pandas_exercise1.ipynb\n",
            "/content/MyDrive/MyDrive/Colab Notebooks/pandas_exercise2.ipynb\n",
            "/content/MyDrive/MyDrive/Colab Notebooks/pandas_exercise3.ipynb\n",
            "/content/MyDrive/MyDrive/Colab Notebooks/pandas_exercise4.ipynb\n"
          ],
          "name": "stdout"
        }
      ]
    },
    {
      "cell_type": "markdown",
      "metadata": {
        "id": "d9bIeFbLgF84"
      },
      "source": [
        "## Trick 55 :filtering a df with multiple criteria using reduce  \r\n",
        "\r\n",
        "https://stackoverflow.com/questions/21738882/fast-pandas-filtering"
      ]
    },
    {
      "cell_type": "code",
      "metadata": {
        "colab": {
          "base_uri": "https://localhost:8080/",
          "height": 440
        },
        "id": "YD2bPB-VgRjg",
        "outputId": "86e01ebc-3022-4839-e9c0-5d4818d898e5"
      },
      "source": [
        "df = pd.read_csv(\"train.csv\")\r\n",
        "df"
      ],
      "execution_count": 4,
      "outputs": [
        {
          "output_type": "execute_result",
          "data": {
            "text/html": [
              "<div>\n",
              "<style scoped>\n",
              "    .dataframe tbody tr th:only-of-type {\n",
              "        vertical-align: middle;\n",
              "    }\n",
              "\n",
              "    .dataframe tbody tr th {\n",
              "        vertical-align: top;\n",
              "    }\n",
              "\n",
              "    .dataframe thead th {\n",
              "        text-align: right;\n",
              "    }\n",
              "</style>\n",
              "<table border=\"1\" class=\"dataframe\">\n",
              "  <thead>\n",
              "    <tr style=\"text-align: right;\">\n",
              "      <th></th>\n",
              "      <th>PassengerId</th>\n",
              "      <th>Survived</th>\n",
              "      <th>Pclass</th>\n",
              "      <th>Name</th>\n",
              "      <th>Sex</th>\n",
              "      <th>Age</th>\n",
              "      <th>SibSp</th>\n",
              "      <th>Parch</th>\n",
              "      <th>Ticket</th>\n",
              "      <th>Fare</th>\n",
              "      <th>Cabin</th>\n",
              "      <th>Embarked</th>\n",
              "    </tr>\n",
              "  </thead>\n",
              "  <tbody>\n",
              "    <tr>\n",
              "      <th>0</th>\n",
              "      <td>1</td>\n",
              "      <td>0</td>\n",
              "      <td>3</td>\n",
              "      <td>Braund, Mr. Owen Harris</td>\n",
              "      <td>male</td>\n",
              "      <td>22.0</td>\n",
              "      <td>1</td>\n",
              "      <td>0</td>\n",
              "      <td>A/5 21171</td>\n",
              "      <td>7.2500</td>\n",
              "      <td>NaN</td>\n",
              "      <td>S</td>\n",
              "    </tr>\n",
              "    <tr>\n",
              "      <th>1</th>\n",
              "      <td>2</td>\n",
              "      <td>1</td>\n",
              "      <td>1</td>\n",
              "      <td>Cumings, Mrs. John Bradley (Florence Briggs Th...</td>\n",
              "      <td>female</td>\n",
              "      <td>38.0</td>\n",
              "      <td>1</td>\n",
              "      <td>0</td>\n",
              "      <td>PC 17599</td>\n",
              "      <td>71.2833</td>\n",
              "      <td>C85</td>\n",
              "      <td>C</td>\n",
              "    </tr>\n",
              "    <tr>\n",
              "      <th>2</th>\n",
              "      <td>3</td>\n",
              "      <td>1</td>\n",
              "      <td>3</td>\n",
              "      <td>Heikkinen, Miss. Laina</td>\n",
              "      <td>female</td>\n",
              "      <td>26.0</td>\n",
              "      <td>0</td>\n",
              "      <td>0</td>\n",
              "      <td>STON/O2. 3101282</td>\n",
              "      <td>7.9250</td>\n",
              "      <td>NaN</td>\n",
              "      <td>S</td>\n",
              "    </tr>\n",
              "    <tr>\n",
              "      <th>3</th>\n",
              "      <td>4</td>\n",
              "      <td>1</td>\n",
              "      <td>1</td>\n",
              "      <td>Futrelle, Mrs. Jacques Heath (Lily May Peel)</td>\n",
              "      <td>female</td>\n",
              "      <td>35.0</td>\n",
              "      <td>1</td>\n",
              "      <td>0</td>\n",
              "      <td>113803</td>\n",
              "      <td>53.1000</td>\n",
              "      <td>C123</td>\n",
              "      <td>S</td>\n",
              "    </tr>\n",
              "    <tr>\n",
              "      <th>4</th>\n",
              "      <td>5</td>\n",
              "      <td>0</td>\n",
              "      <td>3</td>\n",
              "      <td>Allen, Mr. William Henry</td>\n",
              "      <td>male</td>\n",
              "      <td>35.0</td>\n",
              "      <td>0</td>\n",
              "      <td>0</td>\n",
              "      <td>373450</td>\n",
              "      <td>8.0500</td>\n",
              "      <td>NaN</td>\n",
              "      <td>S</td>\n",
              "    </tr>\n",
              "    <tr>\n",
              "      <th>...</th>\n",
              "      <td>...</td>\n",
              "      <td>...</td>\n",
              "      <td>...</td>\n",
              "      <td>...</td>\n",
              "      <td>...</td>\n",
              "      <td>...</td>\n",
              "      <td>...</td>\n",
              "      <td>...</td>\n",
              "      <td>...</td>\n",
              "      <td>...</td>\n",
              "      <td>...</td>\n",
              "      <td>...</td>\n",
              "    </tr>\n",
              "    <tr>\n",
              "      <th>886</th>\n",
              "      <td>887</td>\n",
              "      <td>0</td>\n",
              "      <td>2</td>\n",
              "      <td>Montvila, Rev. Juozas</td>\n",
              "      <td>male</td>\n",
              "      <td>27.0</td>\n",
              "      <td>0</td>\n",
              "      <td>0</td>\n",
              "      <td>211536</td>\n",
              "      <td>13.0000</td>\n",
              "      <td>NaN</td>\n",
              "      <td>S</td>\n",
              "    </tr>\n",
              "    <tr>\n",
              "      <th>887</th>\n",
              "      <td>888</td>\n",
              "      <td>1</td>\n",
              "      <td>1</td>\n",
              "      <td>Graham, Miss. Margaret Edith</td>\n",
              "      <td>female</td>\n",
              "      <td>19.0</td>\n",
              "      <td>0</td>\n",
              "      <td>0</td>\n",
              "      <td>112053</td>\n",
              "      <td>30.0000</td>\n",
              "      <td>B42</td>\n",
              "      <td>S</td>\n",
              "    </tr>\n",
              "    <tr>\n",
              "      <th>888</th>\n",
              "      <td>889</td>\n",
              "      <td>0</td>\n",
              "      <td>3</td>\n",
              "      <td>Johnston, Miss. Catherine Helen \"Carrie\"</td>\n",
              "      <td>female</td>\n",
              "      <td>NaN</td>\n",
              "      <td>1</td>\n",
              "      <td>2</td>\n",
              "      <td>W./C. 6607</td>\n",
              "      <td>23.4500</td>\n",
              "      <td>NaN</td>\n",
              "      <td>S</td>\n",
              "    </tr>\n",
              "    <tr>\n",
              "      <th>889</th>\n",
              "      <td>890</td>\n",
              "      <td>1</td>\n",
              "      <td>1</td>\n",
              "      <td>Behr, Mr. Karl Howell</td>\n",
              "      <td>male</td>\n",
              "      <td>26.0</td>\n",
              "      <td>0</td>\n",
              "      <td>0</td>\n",
              "      <td>111369</td>\n",
              "      <td>30.0000</td>\n",
              "      <td>C148</td>\n",
              "      <td>C</td>\n",
              "    </tr>\n",
              "    <tr>\n",
              "      <th>890</th>\n",
              "      <td>891</td>\n",
              "      <td>0</td>\n",
              "      <td>3</td>\n",
              "      <td>Dooley, Mr. Patrick</td>\n",
              "      <td>male</td>\n",
              "      <td>32.0</td>\n",
              "      <td>0</td>\n",
              "      <td>0</td>\n",
              "      <td>370376</td>\n",
              "      <td>7.7500</td>\n",
              "      <td>NaN</td>\n",
              "      <td>Q</td>\n",
              "    </tr>\n",
              "  </tbody>\n",
              "</table>\n",
              "<p>891 rows × 12 columns</p>\n",
              "</div>"
            ],
            "text/plain": [
              "     PassengerId  Survived  Pclass  ...     Fare Cabin  Embarked\n",
              "0              1         0       3  ...   7.2500   NaN         S\n",
              "1              2         1       1  ...  71.2833   C85         C\n",
              "2              3         1       3  ...   7.9250   NaN         S\n",
              "3              4         1       1  ...  53.1000  C123         S\n",
              "4              5         0       3  ...   8.0500   NaN         S\n",
              "..           ...       ...     ...  ...      ...   ...       ...\n",
              "886          887         0       2  ...  13.0000   NaN         S\n",
              "887          888         1       1  ...  30.0000   B42         S\n",
              "888          889         0       3  ...  23.4500   NaN         S\n",
              "889          890         1       1  ...  30.0000  C148         C\n",
              "890          891         0       3  ...   7.7500   NaN         Q\n",
              "\n",
              "[891 rows x 12 columns]"
            ]
          },
          "metadata": {
            "tags": []
          },
          "execution_count": 4
        }
      ]
    },
    {
      "cell_type": "code",
      "metadata": {
        "colab": {
          "base_uri": "https://localhost:8080/",
          "height": 365
        },
        "id": "bT4Kkif-gbA2",
        "outputId": "ebe4daae-d0a5-471f-992e-bad767303eee"
      },
      "source": [
        "print(\"Classical filter hard to read and mantain.\")\r\n",
        "\r\n",
        "df[(df[\"Sex\"] == \"male\") & \r\n",
        "   (df[\"Fare\"] > 15) & \r\n",
        "   (df[\"Embarked\"] == \"C\") & \r\n",
        "   (df[\"Age\"] < 60)].head(10)"
      ],
      "execution_count": 10,
      "outputs": [
        {
          "output_type": "stream",
          "text": [
            "Classical filter hard to read and mantain.\n"
          ],
          "name": "stdout"
        },
        {
          "output_type": "execute_result",
          "data": {
            "text/html": [
              "<div>\n",
              "<style scoped>\n",
              "    .dataframe tbody tr th:only-of-type {\n",
              "        vertical-align: middle;\n",
              "    }\n",
              "\n",
              "    .dataframe tbody tr th {\n",
              "        vertical-align: top;\n",
              "    }\n",
              "\n",
              "    .dataframe thead th {\n",
              "        text-align: right;\n",
              "    }\n",
              "</style>\n",
              "<table border=\"1\" class=\"dataframe\">\n",
              "  <thead>\n",
              "    <tr style=\"text-align: right;\">\n",
              "      <th></th>\n",
              "      <th>PassengerId</th>\n",
              "      <th>Survived</th>\n",
              "      <th>Pclass</th>\n",
              "      <th>Name</th>\n",
              "      <th>Sex</th>\n",
              "      <th>Age</th>\n",
              "      <th>SibSp</th>\n",
              "      <th>Parch</th>\n",
              "      <th>Ticket</th>\n",
              "      <th>Fare</th>\n",
              "      <th>Cabin</th>\n",
              "      <th>Embarked</th>\n",
              "    </tr>\n",
              "  </thead>\n",
              "  <tbody>\n",
              "    <tr>\n",
              "      <th>30</th>\n",
              "      <td>31</td>\n",
              "      <td>0</td>\n",
              "      <td>1</td>\n",
              "      <td>Uruchurtu, Don. Manuel E</td>\n",
              "      <td>male</td>\n",
              "      <td>40.0</td>\n",
              "      <td>0</td>\n",
              "      <td>0</td>\n",
              "      <td>PC 17601</td>\n",
              "      <td>27.7208</td>\n",
              "      <td>NaN</td>\n",
              "      <td>C</td>\n",
              "    </tr>\n",
              "    <tr>\n",
              "      <th>34</th>\n",
              "      <td>35</td>\n",
              "      <td>0</td>\n",
              "      <td>1</td>\n",
              "      <td>Meyer, Mr. Edgar Joseph</td>\n",
              "      <td>male</td>\n",
              "      <td>28.0</td>\n",
              "      <td>1</td>\n",
              "      <td>0</td>\n",
              "      <td>PC 17604</td>\n",
              "      <td>82.1708</td>\n",
              "      <td>NaN</td>\n",
              "      <td>C</td>\n",
              "    </tr>\n",
              "    <tr>\n",
              "      <th>97</th>\n",
              "      <td>98</td>\n",
              "      <td>1</td>\n",
              "      <td>1</td>\n",
              "      <td>Greenfield, Mr. William Bertram</td>\n",
              "      <td>male</td>\n",
              "      <td>23.0</td>\n",
              "      <td>0</td>\n",
              "      <td>1</td>\n",
              "      <td>PC 17759</td>\n",
              "      <td>63.3583</td>\n",
              "      <td>D10 D12</td>\n",
              "      <td>C</td>\n",
              "    </tr>\n",
              "    <tr>\n",
              "      <th>118</th>\n",
              "      <td>119</td>\n",
              "      <td>0</td>\n",
              "      <td>1</td>\n",
              "      <td>Baxter, Mr. Quigg Edmond</td>\n",
              "      <td>male</td>\n",
              "      <td>24.0</td>\n",
              "      <td>0</td>\n",
              "      <td>1</td>\n",
              "      <td>PC 17558</td>\n",
              "      <td>247.5208</td>\n",
              "      <td>B58 B60</td>\n",
              "      <td>C</td>\n",
              "    </tr>\n",
              "    <tr>\n",
              "      <th>122</th>\n",
              "      <td>123</td>\n",
              "      <td>0</td>\n",
              "      <td>2</td>\n",
              "      <td>Nasser, Mr. Nicholas</td>\n",
              "      <td>male</td>\n",
              "      <td>32.5</td>\n",
              "      <td>1</td>\n",
              "      <td>0</td>\n",
              "      <td>237736</td>\n",
              "      <td>30.0708</td>\n",
              "      <td>NaN</td>\n",
              "      <td>C</td>\n",
              "    </tr>\n",
              "    <tr>\n",
              "      <th>135</th>\n",
              "      <td>136</td>\n",
              "      <td>0</td>\n",
              "      <td>2</td>\n",
              "      <td>Richard, Mr. Emile</td>\n",
              "      <td>male</td>\n",
              "      <td>23.0</td>\n",
              "      <td>0</td>\n",
              "      <td>0</td>\n",
              "      <td>SC/PARIS 2133</td>\n",
              "      <td>15.0458</td>\n",
              "      <td>NaN</td>\n",
              "      <td>C</td>\n",
              "    </tr>\n",
              "    <tr>\n",
              "      <th>139</th>\n",
              "      <td>140</td>\n",
              "      <td>0</td>\n",
              "      <td>1</td>\n",
              "      <td>Giglio, Mr. Victor</td>\n",
              "      <td>male</td>\n",
              "      <td>24.0</td>\n",
              "      <td>0</td>\n",
              "      <td>0</td>\n",
              "      <td>PC 17593</td>\n",
              "      <td>79.2000</td>\n",
              "      <td>B86</td>\n",
              "      <td>C</td>\n",
              "    </tr>\n",
              "    <tr>\n",
              "      <th>155</th>\n",
              "      <td>156</td>\n",
              "      <td>0</td>\n",
              "      <td>1</td>\n",
              "      <td>Williams, Mr. Charles Duane</td>\n",
              "      <td>male</td>\n",
              "      <td>51.0</td>\n",
              "      <td>0</td>\n",
              "      <td>1</td>\n",
              "      <td>PC 17597</td>\n",
              "      <td>61.3792</td>\n",
              "      <td>NaN</td>\n",
              "      <td>C</td>\n",
              "    </tr>\n",
              "    <tr>\n",
              "      <th>174</th>\n",
              "      <td>175</td>\n",
              "      <td>0</td>\n",
              "      <td>1</td>\n",
              "      <td>Smith, Mr. James Clinch</td>\n",
              "      <td>male</td>\n",
              "      <td>56.0</td>\n",
              "      <td>0</td>\n",
              "      <td>0</td>\n",
              "      <td>17764</td>\n",
              "      <td>30.6958</td>\n",
              "      <td>A7</td>\n",
              "      <td>C</td>\n",
              "    </tr>\n",
              "    <tr>\n",
              "      <th>207</th>\n",
              "      <td>208</td>\n",
              "      <td>1</td>\n",
              "      <td>3</td>\n",
              "      <td>Albimona, Mr. Nassef Cassem</td>\n",
              "      <td>male</td>\n",
              "      <td>26.0</td>\n",
              "      <td>0</td>\n",
              "      <td>0</td>\n",
              "      <td>2699</td>\n",
              "      <td>18.7875</td>\n",
              "      <td>NaN</td>\n",
              "      <td>C</td>\n",
              "    </tr>\n",
              "  </tbody>\n",
              "</table>\n",
              "</div>"
            ],
            "text/plain": [
              "     PassengerId  Survived  Pclass  ...      Fare    Cabin  Embarked\n",
              "30            31         0       1  ...   27.7208      NaN         C\n",
              "34            35         0       1  ...   82.1708      NaN         C\n",
              "97            98         1       1  ...   63.3583  D10 D12         C\n",
              "118          119         0       1  ...  247.5208  B58 B60         C\n",
              "122          123         0       2  ...   30.0708      NaN         C\n",
              "135          136         0       2  ...   15.0458      NaN         C\n",
              "139          140         0       1  ...   79.2000      B86         C\n",
              "155          156         0       1  ...   61.3792      NaN         C\n",
              "174          175         0       1  ...   30.6958       A7         C\n",
              "207          208         1       3  ...   18.7875      NaN         C\n",
              "\n",
              "[10 rows x 12 columns]"
            ]
          },
          "metadata": {
            "tags": []
          },
          "execution_count": 10
        }
      ]
    },
    {
      "cell_type": "code",
      "metadata": {
        "colab": {
          "base_uri": "https://localhost:8080/",
          "height": 365
        },
        "id": "F-LIye2UghbR",
        "outputId": "b116450c-0fd2-47ca-959f-85d87c8ab204"
      },
      "source": [
        "print(\"Solution saving criteria as objects\")\r\n",
        "\r\n",
        "cr1 = df[\"Sex\"] == \"male\"\r\n",
        "cr2 = df[\"Fare\"] > 15\r\n",
        "cr3 = df[\"Embarked\"] == \"C\"\r\n",
        "cr4 = df[\"Age\"] < 60\r\n",
        "\r\n",
        "df[cr1 & cr2 & cr3 & cr4].head(10)"
      ],
      "execution_count": 23,
      "outputs": [
        {
          "output_type": "stream",
          "text": [
            "Solution saving criteria as objects\n"
          ],
          "name": "stdout"
        },
        {
          "output_type": "execute_result",
          "data": {
            "text/html": [
              "<div>\n",
              "<style scoped>\n",
              "    .dataframe tbody tr th:only-of-type {\n",
              "        vertical-align: middle;\n",
              "    }\n",
              "\n",
              "    .dataframe tbody tr th {\n",
              "        vertical-align: top;\n",
              "    }\n",
              "\n",
              "    .dataframe thead th {\n",
              "        text-align: right;\n",
              "    }\n",
              "</style>\n",
              "<table border=\"1\" class=\"dataframe\">\n",
              "  <thead>\n",
              "    <tr style=\"text-align: right;\">\n",
              "      <th></th>\n",
              "      <th>PassengerId</th>\n",
              "      <th>Survived</th>\n",
              "      <th>Pclass</th>\n",
              "      <th>Name</th>\n",
              "      <th>Sex</th>\n",
              "      <th>Age</th>\n",
              "      <th>SibSp</th>\n",
              "      <th>Parch</th>\n",
              "      <th>Ticket</th>\n",
              "      <th>Fare</th>\n",
              "      <th>Cabin</th>\n",
              "      <th>Embarked</th>\n",
              "    </tr>\n",
              "  </thead>\n",
              "  <tbody>\n",
              "    <tr>\n",
              "      <th>30</th>\n",
              "      <td>31</td>\n",
              "      <td>0</td>\n",
              "      <td>1</td>\n",
              "      <td>Uruchurtu, Don. Manuel E</td>\n",
              "      <td>male</td>\n",
              "      <td>40.0</td>\n",
              "      <td>0</td>\n",
              "      <td>0</td>\n",
              "      <td>PC 17601</td>\n",
              "      <td>27.7208</td>\n",
              "      <td>NaN</td>\n",
              "      <td>C</td>\n",
              "    </tr>\n",
              "    <tr>\n",
              "      <th>34</th>\n",
              "      <td>35</td>\n",
              "      <td>0</td>\n",
              "      <td>1</td>\n",
              "      <td>Meyer, Mr. Edgar Joseph</td>\n",
              "      <td>male</td>\n",
              "      <td>28.0</td>\n",
              "      <td>1</td>\n",
              "      <td>0</td>\n",
              "      <td>PC 17604</td>\n",
              "      <td>82.1708</td>\n",
              "      <td>NaN</td>\n",
              "      <td>C</td>\n",
              "    </tr>\n",
              "    <tr>\n",
              "      <th>97</th>\n",
              "      <td>98</td>\n",
              "      <td>1</td>\n",
              "      <td>1</td>\n",
              "      <td>Greenfield, Mr. William Bertram</td>\n",
              "      <td>male</td>\n",
              "      <td>23.0</td>\n",
              "      <td>0</td>\n",
              "      <td>1</td>\n",
              "      <td>PC 17759</td>\n",
              "      <td>63.3583</td>\n",
              "      <td>D10 D12</td>\n",
              "      <td>C</td>\n",
              "    </tr>\n",
              "    <tr>\n",
              "      <th>118</th>\n",
              "      <td>119</td>\n",
              "      <td>0</td>\n",
              "      <td>1</td>\n",
              "      <td>Baxter, Mr. Quigg Edmond</td>\n",
              "      <td>male</td>\n",
              "      <td>24.0</td>\n",
              "      <td>0</td>\n",
              "      <td>1</td>\n",
              "      <td>PC 17558</td>\n",
              "      <td>247.5208</td>\n",
              "      <td>B58 B60</td>\n",
              "      <td>C</td>\n",
              "    </tr>\n",
              "    <tr>\n",
              "      <th>122</th>\n",
              "      <td>123</td>\n",
              "      <td>0</td>\n",
              "      <td>2</td>\n",
              "      <td>Nasser, Mr. Nicholas</td>\n",
              "      <td>male</td>\n",
              "      <td>32.5</td>\n",
              "      <td>1</td>\n",
              "      <td>0</td>\n",
              "      <td>237736</td>\n",
              "      <td>30.0708</td>\n",
              "      <td>NaN</td>\n",
              "      <td>C</td>\n",
              "    </tr>\n",
              "    <tr>\n",
              "      <th>135</th>\n",
              "      <td>136</td>\n",
              "      <td>0</td>\n",
              "      <td>2</td>\n",
              "      <td>Richard, Mr. Emile</td>\n",
              "      <td>male</td>\n",
              "      <td>23.0</td>\n",
              "      <td>0</td>\n",
              "      <td>0</td>\n",
              "      <td>SC/PARIS 2133</td>\n",
              "      <td>15.0458</td>\n",
              "      <td>NaN</td>\n",
              "      <td>C</td>\n",
              "    </tr>\n",
              "    <tr>\n",
              "      <th>139</th>\n",
              "      <td>140</td>\n",
              "      <td>0</td>\n",
              "      <td>1</td>\n",
              "      <td>Giglio, Mr. Victor</td>\n",
              "      <td>male</td>\n",
              "      <td>24.0</td>\n",
              "      <td>0</td>\n",
              "      <td>0</td>\n",
              "      <td>PC 17593</td>\n",
              "      <td>79.2000</td>\n",
              "      <td>B86</td>\n",
              "      <td>C</td>\n",
              "    </tr>\n",
              "    <tr>\n",
              "      <th>155</th>\n",
              "      <td>156</td>\n",
              "      <td>0</td>\n",
              "      <td>1</td>\n",
              "      <td>Williams, Mr. Charles Duane</td>\n",
              "      <td>male</td>\n",
              "      <td>51.0</td>\n",
              "      <td>0</td>\n",
              "      <td>1</td>\n",
              "      <td>PC 17597</td>\n",
              "      <td>61.3792</td>\n",
              "      <td>NaN</td>\n",
              "      <td>C</td>\n",
              "    </tr>\n",
              "    <tr>\n",
              "      <th>174</th>\n",
              "      <td>175</td>\n",
              "      <td>0</td>\n",
              "      <td>1</td>\n",
              "      <td>Smith, Mr. James Clinch</td>\n",
              "      <td>male</td>\n",
              "      <td>56.0</td>\n",
              "      <td>0</td>\n",
              "      <td>0</td>\n",
              "      <td>17764</td>\n",
              "      <td>30.6958</td>\n",
              "      <td>A7</td>\n",
              "      <td>C</td>\n",
              "    </tr>\n",
              "    <tr>\n",
              "      <th>207</th>\n",
              "      <td>208</td>\n",
              "      <td>1</td>\n",
              "      <td>3</td>\n",
              "      <td>Albimona, Mr. Nassef Cassem</td>\n",
              "      <td>male</td>\n",
              "      <td>26.0</td>\n",
              "      <td>0</td>\n",
              "      <td>0</td>\n",
              "      <td>2699</td>\n",
              "      <td>18.7875</td>\n",
              "      <td>NaN</td>\n",
              "      <td>C</td>\n",
              "    </tr>\n",
              "  </tbody>\n",
              "</table>\n",
              "</div>"
            ],
            "text/plain": [
              "     PassengerId  Survived  Pclass  ...      Fare    Cabin  Embarked\n",
              "30            31         0       1  ...   27.7208      NaN         C\n",
              "34            35         0       1  ...   82.1708      NaN         C\n",
              "97            98         1       1  ...   63.3583  D10 D12         C\n",
              "118          119         0       1  ...  247.5208  B58 B60         C\n",
              "122          123         0       2  ...   30.0708      NaN         C\n",
              "135          136         0       2  ...   15.0458      NaN         C\n",
              "139          140         0       1  ...   79.2000      B86         C\n",
              "155          156         0       1  ...   61.3792      NaN         C\n",
              "174          175         0       1  ...   30.6958       A7         C\n",
              "207          208         1       3  ...   18.7875      NaN         C\n",
              "\n",
              "[10 rows x 12 columns]"
            ]
          },
          "metadata": {
            "tags": []
          },
          "execution_count": 23
        }
      ]
    },
    {
      "cell_type": "code",
      "metadata": {
        "colab": {
          "base_uri": "https://localhost:8080/",
          "height": 365
        },
        "id": "esqrIJW0gpln",
        "outputId": "fb457afc-50fe-4c00-bd36-5f924c9de6c4"
      },
      "source": [
        "print(\"Solution using reduce\")\r\n",
        "from functools import reduce\r\n",
        "\r\n",
        "# creates our criteria usings lambda\r\n",
        "# lambda takes 2 parameters, x and y\r\n",
        "# 'reduce' combines them & for every cr in the (cr1, cr2, cr3, cr4)\r\n",
        "\r\n",
        "criteria = reduce(lambda x, y: x & y, (cr1, cr2, cr3, cr4)); df[criteria].head(10)"
      ],
      "execution_count": 24,
      "outputs": [
        {
          "output_type": "stream",
          "text": [
            "Solution using reduce\n"
          ],
          "name": "stdout"
        },
        {
          "output_type": "execute_result",
          "data": {
            "text/html": [
              "<div>\n",
              "<style scoped>\n",
              "    .dataframe tbody tr th:only-of-type {\n",
              "        vertical-align: middle;\n",
              "    }\n",
              "\n",
              "    .dataframe tbody tr th {\n",
              "        vertical-align: top;\n",
              "    }\n",
              "\n",
              "    .dataframe thead th {\n",
              "        text-align: right;\n",
              "    }\n",
              "</style>\n",
              "<table border=\"1\" class=\"dataframe\">\n",
              "  <thead>\n",
              "    <tr style=\"text-align: right;\">\n",
              "      <th></th>\n",
              "      <th>PassengerId</th>\n",
              "      <th>Survived</th>\n",
              "      <th>Pclass</th>\n",
              "      <th>Name</th>\n",
              "      <th>Sex</th>\n",
              "      <th>Age</th>\n",
              "      <th>SibSp</th>\n",
              "      <th>Parch</th>\n",
              "      <th>Ticket</th>\n",
              "      <th>Fare</th>\n",
              "      <th>Cabin</th>\n",
              "      <th>Embarked</th>\n",
              "    </tr>\n",
              "  </thead>\n",
              "  <tbody>\n",
              "    <tr>\n",
              "      <th>30</th>\n",
              "      <td>31</td>\n",
              "      <td>0</td>\n",
              "      <td>1</td>\n",
              "      <td>Uruchurtu, Don. Manuel E</td>\n",
              "      <td>male</td>\n",
              "      <td>40.0</td>\n",
              "      <td>0</td>\n",
              "      <td>0</td>\n",
              "      <td>PC 17601</td>\n",
              "      <td>27.7208</td>\n",
              "      <td>NaN</td>\n",
              "      <td>C</td>\n",
              "    </tr>\n",
              "    <tr>\n",
              "      <th>34</th>\n",
              "      <td>35</td>\n",
              "      <td>0</td>\n",
              "      <td>1</td>\n",
              "      <td>Meyer, Mr. Edgar Joseph</td>\n",
              "      <td>male</td>\n",
              "      <td>28.0</td>\n",
              "      <td>1</td>\n",
              "      <td>0</td>\n",
              "      <td>PC 17604</td>\n",
              "      <td>82.1708</td>\n",
              "      <td>NaN</td>\n",
              "      <td>C</td>\n",
              "    </tr>\n",
              "    <tr>\n",
              "      <th>97</th>\n",
              "      <td>98</td>\n",
              "      <td>1</td>\n",
              "      <td>1</td>\n",
              "      <td>Greenfield, Mr. William Bertram</td>\n",
              "      <td>male</td>\n",
              "      <td>23.0</td>\n",
              "      <td>0</td>\n",
              "      <td>1</td>\n",
              "      <td>PC 17759</td>\n",
              "      <td>63.3583</td>\n",
              "      <td>D10 D12</td>\n",
              "      <td>C</td>\n",
              "    </tr>\n",
              "    <tr>\n",
              "      <th>118</th>\n",
              "      <td>119</td>\n",
              "      <td>0</td>\n",
              "      <td>1</td>\n",
              "      <td>Baxter, Mr. Quigg Edmond</td>\n",
              "      <td>male</td>\n",
              "      <td>24.0</td>\n",
              "      <td>0</td>\n",
              "      <td>1</td>\n",
              "      <td>PC 17558</td>\n",
              "      <td>247.5208</td>\n",
              "      <td>B58 B60</td>\n",
              "      <td>C</td>\n",
              "    </tr>\n",
              "    <tr>\n",
              "      <th>122</th>\n",
              "      <td>123</td>\n",
              "      <td>0</td>\n",
              "      <td>2</td>\n",
              "      <td>Nasser, Mr. Nicholas</td>\n",
              "      <td>male</td>\n",
              "      <td>32.5</td>\n",
              "      <td>1</td>\n",
              "      <td>0</td>\n",
              "      <td>237736</td>\n",
              "      <td>30.0708</td>\n",
              "      <td>NaN</td>\n",
              "      <td>C</td>\n",
              "    </tr>\n",
              "    <tr>\n",
              "      <th>135</th>\n",
              "      <td>136</td>\n",
              "      <td>0</td>\n",
              "      <td>2</td>\n",
              "      <td>Richard, Mr. Emile</td>\n",
              "      <td>male</td>\n",
              "      <td>23.0</td>\n",
              "      <td>0</td>\n",
              "      <td>0</td>\n",
              "      <td>SC/PARIS 2133</td>\n",
              "      <td>15.0458</td>\n",
              "      <td>NaN</td>\n",
              "      <td>C</td>\n",
              "    </tr>\n",
              "    <tr>\n",
              "      <th>139</th>\n",
              "      <td>140</td>\n",
              "      <td>0</td>\n",
              "      <td>1</td>\n",
              "      <td>Giglio, Mr. Victor</td>\n",
              "      <td>male</td>\n",
              "      <td>24.0</td>\n",
              "      <td>0</td>\n",
              "      <td>0</td>\n",
              "      <td>PC 17593</td>\n",
              "      <td>79.2000</td>\n",
              "      <td>B86</td>\n",
              "      <td>C</td>\n",
              "    </tr>\n",
              "    <tr>\n",
              "      <th>155</th>\n",
              "      <td>156</td>\n",
              "      <td>0</td>\n",
              "      <td>1</td>\n",
              "      <td>Williams, Mr. Charles Duane</td>\n",
              "      <td>male</td>\n",
              "      <td>51.0</td>\n",
              "      <td>0</td>\n",
              "      <td>1</td>\n",
              "      <td>PC 17597</td>\n",
              "      <td>61.3792</td>\n",
              "      <td>NaN</td>\n",
              "      <td>C</td>\n",
              "    </tr>\n",
              "    <tr>\n",
              "      <th>174</th>\n",
              "      <td>175</td>\n",
              "      <td>0</td>\n",
              "      <td>1</td>\n",
              "      <td>Smith, Mr. James Clinch</td>\n",
              "      <td>male</td>\n",
              "      <td>56.0</td>\n",
              "      <td>0</td>\n",
              "      <td>0</td>\n",
              "      <td>17764</td>\n",
              "      <td>30.6958</td>\n",
              "      <td>A7</td>\n",
              "      <td>C</td>\n",
              "    </tr>\n",
              "    <tr>\n",
              "      <th>207</th>\n",
              "      <td>208</td>\n",
              "      <td>1</td>\n",
              "      <td>3</td>\n",
              "      <td>Albimona, Mr. Nassef Cassem</td>\n",
              "      <td>male</td>\n",
              "      <td>26.0</td>\n",
              "      <td>0</td>\n",
              "      <td>0</td>\n",
              "      <td>2699</td>\n",
              "      <td>18.7875</td>\n",
              "      <td>NaN</td>\n",
              "      <td>C</td>\n",
              "    </tr>\n",
              "  </tbody>\n",
              "</table>\n",
              "</div>"
            ],
            "text/plain": [
              "     PassengerId  Survived  Pclass  ...      Fare    Cabin  Embarked\n",
              "30            31         0       1  ...   27.7208      NaN         C\n",
              "34            35         0       1  ...   82.1708      NaN         C\n",
              "97            98         1       1  ...   63.3583  D10 D12         C\n",
              "118          119         0       1  ...  247.5208  B58 B60         C\n",
              "122          123         0       2  ...   30.0708      NaN         C\n",
              "135          136         0       2  ...   15.0458      NaN         C\n",
              "139          140         0       1  ...   79.2000      B86         C\n",
              "155          156         0       1  ...   61.3792      NaN         C\n",
              "174          175         0       1  ...   30.6958       A7         C\n",
              "207          208         1       3  ...   18.7875      NaN         C\n",
              "\n",
              "[10 rows x 12 columns]"
            ]
          },
          "metadata": {
            "tags": []
          },
          "execution_count": 24
        }
      ]
    },
    {
      "cell_type": "code",
      "metadata": {
        "colab": {
          "base_uri": "https://localhost:8080/"
        },
        "id": "v_ypW0oAkFkm",
        "outputId": "3868e115-d22b-4fa7-bb66-9e2afacf23ba"
      },
      "source": [
        "criteria"
      ],
      "execution_count": 12,
      "outputs": [
        {
          "output_type": "execute_result",
          "data": {
            "text/plain": [
              "0      False\n",
              "1      False\n",
              "2      False\n",
              "3      False\n",
              "4      False\n",
              "       ...  \n",
              "886    False\n",
              "887    False\n",
              "888    False\n",
              "889     True\n",
              "890    False\n",
              "Length: 891, dtype: bool"
            ]
          },
          "metadata": {
            "tags": []
          },
          "execution_count": 12
        }
      ]
    },
    {
      "cell_type": "code",
      "metadata": {
        "colab": {
          "base_uri": "https://localhost:8080/"
        },
        "id": "VwI42QDWkGdv",
        "outputId": "aa9f78d9-0328-449b-adc5-6d58810d5d01"
      },
      "source": [
        "crit = ['male']\r\n",
        "\r\n",
        "%timeit df.loc[np.in1d(df['Sex'], crit),]"
      ],
      "execution_count": 28,
      "outputs": [
        {
          "output_type": "stream",
          "text": [
            "1000 loops, best of 3: 432 µs per loop\n"
          ],
          "name": "stdout"
        }
      ]
    },
    {
      "cell_type": "code",
      "metadata": {
        "colab": {
          "base_uri": "https://localhost:8080/"
        },
        "id": "QjCJRRYklvMo",
        "outputId": "94ec7951-9b20-4280-9eba-246a0494a80c"
      },
      "source": [
        "%timeit df.loc[df['Sex'].isin(crit),]"
      ],
      "execution_count": 27,
      "outputs": [
        {
          "output_type": "stream",
          "text": [
            "1000 loops, best of 3: 549 µs per loop\n"
          ],
          "name": "stdout"
        }
      ]
    },
    {
      "cell_type": "markdown",
      "metadata": {
        "id": "T5KtsG_-m9cN"
      },
      "source": [
        "## Trick 54 : Calculate the difference between each row and the previous (diff())"
      ]
    },
    {
      "cell_type": "code",
      "metadata": {
        "colab": {
          "base_uri": "https://localhost:8080/",
          "height": 252
        },
        "id": "lWzIZMIqnw_L",
        "outputId": "df6cc5f7-f4dd-4c83-e63a-22715fc289a0"
      },
      "source": [
        "df = generate_sample_data()\r\n",
        "\r\n",
        "df.head()"
      ],
      "execution_count": 29,
      "outputs": [
        {
          "output_type": "stream",
          "text": [
            "/usr/local/lib/python3.6/dist-packages/pandas/util/__init__.py:23: FutureWarning: pandas.util.testing is deprecated. Use the functions in the public API at pandas.testing instead.\n",
            "  import pandas.util.testing\n"
          ],
          "name": "stderr"
        },
        {
          "output_type": "execute_result",
          "data": {
            "text/html": [
              "<div>\n",
              "<style scoped>\n",
              "    .dataframe tbody tr th:only-of-type {\n",
              "        vertical-align: middle;\n",
              "    }\n",
              "\n",
              "    .dataframe tbody tr th {\n",
              "        vertical-align: top;\n",
              "    }\n",
              "\n",
              "    .dataframe thead th {\n",
              "        text-align: right;\n",
              "    }\n",
              "</style>\n",
              "<table border=\"1\" class=\"dataframe\">\n",
              "  <thead>\n",
              "    <tr style=\"text-align: right;\">\n",
              "      <th></th>\n",
              "      <th>A</th>\n",
              "      <th>B</th>\n",
              "      <th>C</th>\n",
              "      <th>D</th>\n",
              "      <th>E</th>\n",
              "      <th>F</th>\n",
              "      <th>G</th>\n",
              "    </tr>\n",
              "  </thead>\n",
              "  <tbody>\n",
              "    <tr>\n",
              "      <th>0</th>\n",
              "      <td>13</td>\n",
              "      <td>12</td>\n",
              "      <td>10</td>\n",
              "      <td>4</td>\n",
              "      <td>18</td>\n",
              "      <td>17</td>\n",
              "      <td>13</td>\n",
              "    </tr>\n",
              "    <tr>\n",
              "      <th>1</th>\n",
              "      <td>18</td>\n",
              "      <td>19</td>\n",
              "      <td>6</td>\n",
              "      <td>13</td>\n",
              "      <td>15</td>\n",
              "      <td>15</td>\n",
              "      <td>3</td>\n",
              "    </tr>\n",
              "    <tr>\n",
              "      <th>2</th>\n",
              "      <td>10</td>\n",
              "      <td>13</td>\n",
              "      <td>2</td>\n",
              "      <td>11</td>\n",
              "      <td>7</td>\n",
              "      <td>1</td>\n",
              "      <td>17</td>\n",
              "    </tr>\n",
              "    <tr>\n",
              "      <th>3</th>\n",
              "      <td>19</td>\n",
              "      <td>8</td>\n",
              "      <td>11</td>\n",
              "      <td>6</td>\n",
              "      <td>6</td>\n",
              "      <td>14</td>\n",
              "      <td>11</td>\n",
              "    </tr>\n",
              "    <tr>\n",
              "      <th>4</th>\n",
              "      <td>6</td>\n",
              "      <td>18</td>\n",
              "      <td>17</td>\n",
              "      <td>6</td>\n",
              "      <td>15</td>\n",
              "      <td>15</td>\n",
              "      <td>2</td>\n",
              "    </tr>\n",
              "  </tbody>\n",
              "</table>\n",
              "</div>"
            ],
            "text/plain": [
              "    A   B   C   D   E   F   G\n",
              "0  13  12  10   4  18  17  13\n",
              "1  18  19   6  13  15  15   3\n",
              "2  10  13   2  11   7   1  17\n",
              "3  19   8  11   6   6  14  11\n",
              "4   6  18  17   6  15  15   2"
            ]
          },
          "metadata": {
            "tags": []
          },
          "execution_count": 29
        }
      ]
    },
    {
      "cell_type": "code",
      "metadata": {
        "colab": {
          "base_uri": "https://localhost:8080/",
          "height": 647
        },
        "id": "fOJQ-iizn71O",
        "outputId": "896fc060-e4ea-4fe1-ee71-4b329b5ff44c"
      },
      "source": [
        "df[\"A_diff\"] = df[\"A\"].diff() # calculate the difference between 2 rows\r\n",
        "df[\"A_diff_pct\"] = df[\"A\"].pct_change()*100 # calculates the percentual variation between 2 rows\r\n",
        "\r\n",
        "df # 첫 줄은 뺄 상대가 없으므로 NaN 반환"
      ],
      "execution_count": 30,
      "outputs": [
        {
          "output_type": "execute_result",
          "data": {
            "text/html": [
              "<div>\n",
              "<style scoped>\n",
              "    .dataframe tbody tr th:only-of-type {\n",
              "        vertical-align: middle;\n",
              "    }\n",
              "\n",
              "    .dataframe tbody tr th {\n",
              "        vertical-align: top;\n",
              "    }\n",
              "\n",
              "    .dataframe thead th {\n",
              "        text-align: right;\n",
              "    }\n",
              "</style>\n",
              "<table border=\"1\" class=\"dataframe\">\n",
              "  <thead>\n",
              "    <tr style=\"text-align: right;\">\n",
              "      <th></th>\n",
              "      <th>A</th>\n",
              "      <th>B</th>\n",
              "      <th>C</th>\n",
              "      <th>D</th>\n",
              "      <th>E</th>\n",
              "      <th>F</th>\n",
              "      <th>G</th>\n",
              "      <th>A_diff</th>\n",
              "      <th>A_diff_pct</th>\n",
              "    </tr>\n",
              "  </thead>\n",
              "  <tbody>\n",
              "    <tr>\n",
              "      <th>0</th>\n",
              "      <td>13</td>\n",
              "      <td>12</td>\n",
              "      <td>10</td>\n",
              "      <td>4</td>\n",
              "      <td>18</td>\n",
              "      <td>17</td>\n",
              "      <td>13</td>\n",
              "      <td>NaN</td>\n",
              "      <td>NaN</td>\n",
              "    </tr>\n",
              "    <tr>\n",
              "      <th>1</th>\n",
              "      <td>18</td>\n",
              "      <td>19</td>\n",
              "      <td>6</td>\n",
              "      <td>13</td>\n",
              "      <td>15</td>\n",
              "      <td>15</td>\n",
              "      <td>3</td>\n",
              "      <td>5.0</td>\n",
              "      <td>38.461538</td>\n",
              "    </tr>\n",
              "    <tr>\n",
              "      <th>2</th>\n",
              "      <td>10</td>\n",
              "      <td>13</td>\n",
              "      <td>2</td>\n",
              "      <td>11</td>\n",
              "      <td>7</td>\n",
              "      <td>1</td>\n",
              "      <td>17</td>\n",
              "      <td>-8.0</td>\n",
              "      <td>-44.444444</td>\n",
              "    </tr>\n",
              "    <tr>\n",
              "      <th>3</th>\n",
              "      <td>19</td>\n",
              "      <td>8</td>\n",
              "      <td>11</td>\n",
              "      <td>6</td>\n",
              "      <td>6</td>\n",
              "      <td>14</td>\n",
              "      <td>11</td>\n",
              "      <td>9.0</td>\n",
              "      <td>90.000000</td>\n",
              "    </tr>\n",
              "    <tr>\n",
              "      <th>4</th>\n",
              "      <td>6</td>\n",
              "      <td>18</td>\n",
              "      <td>17</td>\n",
              "      <td>6</td>\n",
              "      <td>15</td>\n",
              "      <td>15</td>\n",
              "      <td>2</td>\n",
              "      <td>-13.0</td>\n",
              "      <td>-68.421053</td>\n",
              "    </tr>\n",
              "    <tr>\n",
              "      <th>5</th>\n",
              "      <td>15</td>\n",
              "      <td>16</td>\n",
              "      <td>7</td>\n",
              "      <td>13</td>\n",
              "      <td>7</td>\n",
              "      <td>8</td>\n",
              "      <td>11</td>\n",
              "      <td>9.0</td>\n",
              "      <td>150.000000</td>\n",
              "    </tr>\n",
              "    <tr>\n",
              "      <th>6</th>\n",
              "      <td>18</td>\n",
              "      <td>4</td>\n",
              "      <td>1</td>\n",
              "      <td>5</td>\n",
              "      <td>11</td>\n",
              "      <td>3</td>\n",
              "      <td>9</td>\n",
              "      <td>3.0</td>\n",
              "      <td>20.000000</td>\n",
              "    </tr>\n",
              "    <tr>\n",
              "      <th>7</th>\n",
              "      <td>8</td>\n",
              "      <td>16</td>\n",
              "      <td>10</td>\n",
              "      <td>13</td>\n",
              "      <td>1</td>\n",
              "      <td>2</td>\n",
              "      <td>12</td>\n",
              "      <td>-10.0</td>\n",
              "      <td>-55.555556</td>\n",
              "    </tr>\n",
              "    <tr>\n",
              "      <th>8</th>\n",
              "      <td>4</td>\n",
              "      <td>12</td>\n",
              "      <td>1</td>\n",
              "      <td>14</td>\n",
              "      <td>1</td>\n",
              "      <td>7</td>\n",
              "      <td>4</td>\n",
              "      <td>-4.0</td>\n",
              "      <td>-50.000000</td>\n",
              "    </tr>\n",
              "    <tr>\n",
              "      <th>9</th>\n",
              "      <td>12</td>\n",
              "      <td>5</td>\n",
              "      <td>11</td>\n",
              "      <td>8</td>\n",
              "      <td>8</td>\n",
              "      <td>11</td>\n",
              "      <td>2</td>\n",
              "      <td>8.0</td>\n",
              "      <td>200.000000</td>\n",
              "    </tr>\n",
              "    <tr>\n",
              "      <th>10</th>\n",
              "      <td>3</td>\n",
              "      <td>16</td>\n",
              "      <td>10</td>\n",
              "      <td>2</td>\n",
              "      <td>12</td>\n",
              "      <td>10</td>\n",
              "      <td>17</td>\n",
              "      <td>-9.0</td>\n",
              "      <td>-75.000000</td>\n",
              "    </tr>\n",
              "    <tr>\n",
              "      <th>11</th>\n",
              "      <td>2</td>\n",
              "      <td>8</td>\n",
              "      <td>17</td>\n",
              "      <td>5</td>\n",
              "      <td>13</td>\n",
              "      <td>8</td>\n",
              "      <td>18</td>\n",
              "      <td>-1.0</td>\n",
              "      <td>-33.333333</td>\n",
              "    </tr>\n",
              "    <tr>\n",
              "      <th>12</th>\n",
              "      <td>9</td>\n",
              "      <td>9</td>\n",
              "      <td>6</td>\n",
              "      <td>1</td>\n",
              "      <td>4</td>\n",
              "      <td>3</td>\n",
              "      <td>4</td>\n",
              "      <td>7.0</td>\n",
              "      <td>350.000000</td>\n",
              "    </tr>\n",
              "    <tr>\n",
              "      <th>13</th>\n",
              "      <td>19</td>\n",
              "      <td>1</td>\n",
              "      <td>1</td>\n",
              "      <td>6</td>\n",
              "      <td>8</td>\n",
              "      <td>10</td>\n",
              "      <td>13</td>\n",
              "      <td>10.0</td>\n",
              "      <td>111.111111</td>\n",
              "    </tr>\n",
              "    <tr>\n",
              "      <th>14</th>\n",
              "      <td>18</td>\n",
              "      <td>4</td>\n",
              "      <td>18</td>\n",
              "      <td>13</td>\n",
              "      <td>13</td>\n",
              "      <td>6</td>\n",
              "      <td>6</td>\n",
              "      <td>-1.0</td>\n",
              "      <td>-5.263158</td>\n",
              "    </tr>\n",
              "    <tr>\n",
              "      <th>15</th>\n",
              "      <td>12</td>\n",
              "      <td>6</td>\n",
              "      <td>12</td>\n",
              "      <td>17</td>\n",
              "      <td>17</td>\n",
              "      <td>6</td>\n",
              "      <td>6</td>\n",
              "      <td>-6.0</td>\n",
              "      <td>-33.333333</td>\n",
              "    </tr>\n",
              "    <tr>\n",
              "      <th>16</th>\n",
              "      <td>14</td>\n",
              "      <td>2</td>\n",
              "      <td>5</td>\n",
              "      <td>12</td>\n",
              "      <td>9</td>\n",
              "      <td>4</td>\n",
              "      <td>19</td>\n",
              "      <td>2.0</td>\n",
              "      <td>16.666667</td>\n",
              "    </tr>\n",
              "    <tr>\n",
              "      <th>17</th>\n",
              "      <td>2</td>\n",
              "      <td>12</td>\n",
              "      <td>18</td>\n",
              "      <td>15</td>\n",
              "      <td>8</td>\n",
              "      <td>8</td>\n",
              "      <td>14</td>\n",
              "      <td>-12.0</td>\n",
              "      <td>-85.714286</td>\n",
              "    </tr>\n",
              "    <tr>\n",
              "      <th>18</th>\n",
              "      <td>11</td>\n",
              "      <td>19</td>\n",
              "      <td>14</td>\n",
              "      <td>4</td>\n",
              "      <td>16</td>\n",
              "      <td>19</td>\n",
              "      <td>5</td>\n",
              "      <td>9.0</td>\n",
              "      <td>450.000000</td>\n",
              "    </tr>\n",
              "    <tr>\n",
              "      <th>19</th>\n",
              "      <td>7</td>\n",
              "      <td>11</td>\n",
              "      <td>10</td>\n",
              "      <td>7</td>\n",
              "      <td>17</td>\n",
              "      <td>9</td>\n",
              "      <td>10</td>\n",
              "      <td>-4.0</td>\n",
              "      <td>-36.363636</td>\n",
              "    </tr>\n",
              "  </tbody>\n",
              "</table>\n",
              "</div>"
            ],
            "text/plain": [
              "     A   B   C   D   E   F   G  A_diff  A_diff_pct\n",
              "0   13  12  10   4  18  17  13     NaN         NaN\n",
              "1   18  19   6  13  15  15   3     5.0   38.461538\n",
              "2   10  13   2  11   7   1  17    -8.0  -44.444444\n",
              "3   19   8  11   6   6  14  11     9.0   90.000000\n",
              "4    6  18  17   6  15  15   2   -13.0  -68.421053\n",
              "5   15  16   7  13   7   8  11     9.0  150.000000\n",
              "6   18   4   1   5  11   3   9     3.0   20.000000\n",
              "7    8  16  10  13   1   2  12   -10.0  -55.555556\n",
              "8    4  12   1  14   1   7   4    -4.0  -50.000000\n",
              "9   12   5  11   8   8  11   2     8.0  200.000000\n",
              "10   3  16  10   2  12  10  17    -9.0  -75.000000\n",
              "11   2   8  17   5  13   8  18    -1.0  -33.333333\n",
              "12   9   9   6   1   4   3   4     7.0  350.000000\n",
              "13  19   1   1   6   8  10  13    10.0  111.111111\n",
              "14  18   4  18  13  13   6   6    -1.0   -5.263158\n",
              "15  12   6  12  17  17   6   6    -6.0  -33.333333\n",
              "16  14   2   5  12   9   4  19     2.0   16.666667\n",
              "17   2  12  18  15   8   8  14   -12.0  -85.714286\n",
              "18  11  19  14   4  16  19   5     9.0  450.000000\n",
              "19   7  11  10   7  17   9  10    -4.0  -36.363636"
            ]
          },
          "metadata": {
            "tags": []
          },
          "execution_count": 30
        }
      ]
    },
    {
      "cell_type": "code",
      "metadata": {
        "colab": {
          "base_uri": "https://localhost:8080/",
          "height": 438
        },
        "id": "HJ0MORScoALB",
        "outputId": "f8a52e51-3b4d-4800-9f43-93ea4c974836"
      },
      "source": [
        "# add some style\r\n",
        "df.style.format({\"A_diff_pct\":'{:.2f}%'})"
      ],
      "execution_count": 31,
      "outputs": [
        {
          "output_type": "execute_result",
          "data": {
            "text/html": [
              "<style  type=\"text/css\" >\n",
              "</style><table id=\"T_da58f69a_5bb1_11eb_8981_0242ac1c0002\" ><thead>    <tr>        <th class=\"blank level0\" ></th>        <th class=\"col_heading level0 col0\" >A</th>        <th class=\"col_heading level0 col1\" >B</th>        <th class=\"col_heading level0 col2\" >C</th>        <th class=\"col_heading level0 col3\" >D</th>        <th class=\"col_heading level0 col4\" >E</th>        <th class=\"col_heading level0 col5\" >F</th>        <th class=\"col_heading level0 col6\" >G</th>        <th class=\"col_heading level0 col7\" >A_diff</th>        <th class=\"col_heading level0 col8\" >A_diff_pct</th>    </tr></thead><tbody>\n",
              "                <tr>\n",
              "                        <th id=\"T_da58f69a_5bb1_11eb_8981_0242ac1c0002level0_row0\" class=\"row_heading level0 row0\" >0</th>\n",
              "                        <td id=\"T_da58f69a_5bb1_11eb_8981_0242ac1c0002row0_col0\" class=\"data row0 col0\" >13</td>\n",
              "                        <td id=\"T_da58f69a_5bb1_11eb_8981_0242ac1c0002row0_col1\" class=\"data row0 col1\" >12</td>\n",
              "                        <td id=\"T_da58f69a_5bb1_11eb_8981_0242ac1c0002row0_col2\" class=\"data row0 col2\" >10</td>\n",
              "                        <td id=\"T_da58f69a_5bb1_11eb_8981_0242ac1c0002row0_col3\" class=\"data row0 col3\" >4</td>\n",
              "                        <td id=\"T_da58f69a_5bb1_11eb_8981_0242ac1c0002row0_col4\" class=\"data row0 col4\" >18</td>\n",
              "                        <td id=\"T_da58f69a_5bb1_11eb_8981_0242ac1c0002row0_col5\" class=\"data row0 col5\" >17</td>\n",
              "                        <td id=\"T_da58f69a_5bb1_11eb_8981_0242ac1c0002row0_col6\" class=\"data row0 col6\" >13</td>\n",
              "                        <td id=\"T_da58f69a_5bb1_11eb_8981_0242ac1c0002row0_col7\" class=\"data row0 col7\" >nan</td>\n",
              "                        <td id=\"T_da58f69a_5bb1_11eb_8981_0242ac1c0002row0_col8\" class=\"data row0 col8\" >nan%</td>\n",
              "            </tr>\n",
              "            <tr>\n",
              "                        <th id=\"T_da58f69a_5bb1_11eb_8981_0242ac1c0002level0_row1\" class=\"row_heading level0 row1\" >1</th>\n",
              "                        <td id=\"T_da58f69a_5bb1_11eb_8981_0242ac1c0002row1_col0\" class=\"data row1 col0\" >18</td>\n",
              "                        <td id=\"T_da58f69a_5bb1_11eb_8981_0242ac1c0002row1_col1\" class=\"data row1 col1\" >19</td>\n",
              "                        <td id=\"T_da58f69a_5bb1_11eb_8981_0242ac1c0002row1_col2\" class=\"data row1 col2\" >6</td>\n",
              "                        <td id=\"T_da58f69a_5bb1_11eb_8981_0242ac1c0002row1_col3\" class=\"data row1 col3\" >13</td>\n",
              "                        <td id=\"T_da58f69a_5bb1_11eb_8981_0242ac1c0002row1_col4\" class=\"data row1 col4\" >15</td>\n",
              "                        <td id=\"T_da58f69a_5bb1_11eb_8981_0242ac1c0002row1_col5\" class=\"data row1 col5\" >15</td>\n",
              "                        <td id=\"T_da58f69a_5bb1_11eb_8981_0242ac1c0002row1_col6\" class=\"data row1 col6\" >3</td>\n",
              "                        <td id=\"T_da58f69a_5bb1_11eb_8981_0242ac1c0002row1_col7\" class=\"data row1 col7\" >5.000000</td>\n",
              "                        <td id=\"T_da58f69a_5bb1_11eb_8981_0242ac1c0002row1_col8\" class=\"data row1 col8\" >38.46%</td>\n",
              "            </tr>\n",
              "            <tr>\n",
              "                        <th id=\"T_da58f69a_5bb1_11eb_8981_0242ac1c0002level0_row2\" class=\"row_heading level0 row2\" >2</th>\n",
              "                        <td id=\"T_da58f69a_5bb1_11eb_8981_0242ac1c0002row2_col0\" class=\"data row2 col0\" >10</td>\n",
              "                        <td id=\"T_da58f69a_5bb1_11eb_8981_0242ac1c0002row2_col1\" class=\"data row2 col1\" >13</td>\n",
              "                        <td id=\"T_da58f69a_5bb1_11eb_8981_0242ac1c0002row2_col2\" class=\"data row2 col2\" >2</td>\n",
              "                        <td id=\"T_da58f69a_5bb1_11eb_8981_0242ac1c0002row2_col3\" class=\"data row2 col3\" >11</td>\n",
              "                        <td id=\"T_da58f69a_5bb1_11eb_8981_0242ac1c0002row2_col4\" class=\"data row2 col4\" >7</td>\n",
              "                        <td id=\"T_da58f69a_5bb1_11eb_8981_0242ac1c0002row2_col5\" class=\"data row2 col5\" >1</td>\n",
              "                        <td id=\"T_da58f69a_5bb1_11eb_8981_0242ac1c0002row2_col6\" class=\"data row2 col6\" >17</td>\n",
              "                        <td id=\"T_da58f69a_5bb1_11eb_8981_0242ac1c0002row2_col7\" class=\"data row2 col7\" >-8.000000</td>\n",
              "                        <td id=\"T_da58f69a_5bb1_11eb_8981_0242ac1c0002row2_col8\" class=\"data row2 col8\" >-44.44%</td>\n",
              "            </tr>\n",
              "            <tr>\n",
              "                        <th id=\"T_da58f69a_5bb1_11eb_8981_0242ac1c0002level0_row3\" class=\"row_heading level0 row3\" >3</th>\n",
              "                        <td id=\"T_da58f69a_5bb1_11eb_8981_0242ac1c0002row3_col0\" class=\"data row3 col0\" >19</td>\n",
              "                        <td id=\"T_da58f69a_5bb1_11eb_8981_0242ac1c0002row3_col1\" class=\"data row3 col1\" >8</td>\n",
              "                        <td id=\"T_da58f69a_5bb1_11eb_8981_0242ac1c0002row3_col2\" class=\"data row3 col2\" >11</td>\n",
              "                        <td id=\"T_da58f69a_5bb1_11eb_8981_0242ac1c0002row3_col3\" class=\"data row3 col3\" >6</td>\n",
              "                        <td id=\"T_da58f69a_5bb1_11eb_8981_0242ac1c0002row3_col4\" class=\"data row3 col4\" >6</td>\n",
              "                        <td id=\"T_da58f69a_5bb1_11eb_8981_0242ac1c0002row3_col5\" class=\"data row3 col5\" >14</td>\n",
              "                        <td id=\"T_da58f69a_5bb1_11eb_8981_0242ac1c0002row3_col6\" class=\"data row3 col6\" >11</td>\n",
              "                        <td id=\"T_da58f69a_5bb1_11eb_8981_0242ac1c0002row3_col7\" class=\"data row3 col7\" >9.000000</td>\n",
              "                        <td id=\"T_da58f69a_5bb1_11eb_8981_0242ac1c0002row3_col8\" class=\"data row3 col8\" >90.00%</td>\n",
              "            </tr>\n",
              "            <tr>\n",
              "                        <th id=\"T_da58f69a_5bb1_11eb_8981_0242ac1c0002level0_row4\" class=\"row_heading level0 row4\" >4</th>\n",
              "                        <td id=\"T_da58f69a_5bb1_11eb_8981_0242ac1c0002row4_col0\" class=\"data row4 col0\" >6</td>\n",
              "                        <td id=\"T_da58f69a_5bb1_11eb_8981_0242ac1c0002row4_col1\" class=\"data row4 col1\" >18</td>\n",
              "                        <td id=\"T_da58f69a_5bb1_11eb_8981_0242ac1c0002row4_col2\" class=\"data row4 col2\" >17</td>\n",
              "                        <td id=\"T_da58f69a_5bb1_11eb_8981_0242ac1c0002row4_col3\" class=\"data row4 col3\" >6</td>\n",
              "                        <td id=\"T_da58f69a_5bb1_11eb_8981_0242ac1c0002row4_col4\" class=\"data row4 col4\" >15</td>\n",
              "                        <td id=\"T_da58f69a_5bb1_11eb_8981_0242ac1c0002row4_col5\" class=\"data row4 col5\" >15</td>\n",
              "                        <td id=\"T_da58f69a_5bb1_11eb_8981_0242ac1c0002row4_col6\" class=\"data row4 col6\" >2</td>\n",
              "                        <td id=\"T_da58f69a_5bb1_11eb_8981_0242ac1c0002row4_col7\" class=\"data row4 col7\" >-13.000000</td>\n",
              "                        <td id=\"T_da58f69a_5bb1_11eb_8981_0242ac1c0002row4_col8\" class=\"data row4 col8\" >-68.42%</td>\n",
              "            </tr>\n",
              "            <tr>\n",
              "                        <th id=\"T_da58f69a_5bb1_11eb_8981_0242ac1c0002level0_row5\" class=\"row_heading level0 row5\" >5</th>\n",
              "                        <td id=\"T_da58f69a_5bb1_11eb_8981_0242ac1c0002row5_col0\" class=\"data row5 col0\" >15</td>\n",
              "                        <td id=\"T_da58f69a_5bb1_11eb_8981_0242ac1c0002row5_col1\" class=\"data row5 col1\" >16</td>\n",
              "                        <td id=\"T_da58f69a_5bb1_11eb_8981_0242ac1c0002row5_col2\" class=\"data row5 col2\" >7</td>\n",
              "                        <td id=\"T_da58f69a_5bb1_11eb_8981_0242ac1c0002row5_col3\" class=\"data row5 col3\" >13</td>\n",
              "                        <td id=\"T_da58f69a_5bb1_11eb_8981_0242ac1c0002row5_col4\" class=\"data row5 col4\" >7</td>\n",
              "                        <td id=\"T_da58f69a_5bb1_11eb_8981_0242ac1c0002row5_col5\" class=\"data row5 col5\" >8</td>\n",
              "                        <td id=\"T_da58f69a_5bb1_11eb_8981_0242ac1c0002row5_col6\" class=\"data row5 col6\" >11</td>\n",
              "                        <td id=\"T_da58f69a_5bb1_11eb_8981_0242ac1c0002row5_col7\" class=\"data row5 col7\" >9.000000</td>\n",
              "                        <td id=\"T_da58f69a_5bb1_11eb_8981_0242ac1c0002row5_col8\" class=\"data row5 col8\" >150.00%</td>\n",
              "            </tr>\n",
              "            <tr>\n",
              "                        <th id=\"T_da58f69a_5bb1_11eb_8981_0242ac1c0002level0_row6\" class=\"row_heading level0 row6\" >6</th>\n",
              "                        <td id=\"T_da58f69a_5bb1_11eb_8981_0242ac1c0002row6_col0\" class=\"data row6 col0\" >18</td>\n",
              "                        <td id=\"T_da58f69a_5bb1_11eb_8981_0242ac1c0002row6_col1\" class=\"data row6 col1\" >4</td>\n",
              "                        <td id=\"T_da58f69a_5bb1_11eb_8981_0242ac1c0002row6_col2\" class=\"data row6 col2\" >1</td>\n",
              "                        <td id=\"T_da58f69a_5bb1_11eb_8981_0242ac1c0002row6_col3\" class=\"data row6 col3\" >5</td>\n",
              "                        <td id=\"T_da58f69a_5bb1_11eb_8981_0242ac1c0002row6_col4\" class=\"data row6 col4\" >11</td>\n",
              "                        <td id=\"T_da58f69a_5bb1_11eb_8981_0242ac1c0002row6_col5\" class=\"data row6 col5\" >3</td>\n",
              "                        <td id=\"T_da58f69a_5bb1_11eb_8981_0242ac1c0002row6_col6\" class=\"data row6 col6\" >9</td>\n",
              "                        <td id=\"T_da58f69a_5bb1_11eb_8981_0242ac1c0002row6_col7\" class=\"data row6 col7\" >3.000000</td>\n",
              "                        <td id=\"T_da58f69a_5bb1_11eb_8981_0242ac1c0002row6_col8\" class=\"data row6 col8\" >20.00%</td>\n",
              "            </tr>\n",
              "            <tr>\n",
              "                        <th id=\"T_da58f69a_5bb1_11eb_8981_0242ac1c0002level0_row7\" class=\"row_heading level0 row7\" >7</th>\n",
              "                        <td id=\"T_da58f69a_5bb1_11eb_8981_0242ac1c0002row7_col0\" class=\"data row7 col0\" >8</td>\n",
              "                        <td id=\"T_da58f69a_5bb1_11eb_8981_0242ac1c0002row7_col1\" class=\"data row7 col1\" >16</td>\n",
              "                        <td id=\"T_da58f69a_5bb1_11eb_8981_0242ac1c0002row7_col2\" class=\"data row7 col2\" >10</td>\n",
              "                        <td id=\"T_da58f69a_5bb1_11eb_8981_0242ac1c0002row7_col3\" class=\"data row7 col3\" >13</td>\n",
              "                        <td id=\"T_da58f69a_5bb1_11eb_8981_0242ac1c0002row7_col4\" class=\"data row7 col4\" >1</td>\n",
              "                        <td id=\"T_da58f69a_5bb1_11eb_8981_0242ac1c0002row7_col5\" class=\"data row7 col5\" >2</td>\n",
              "                        <td id=\"T_da58f69a_5bb1_11eb_8981_0242ac1c0002row7_col6\" class=\"data row7 col6\" >12</td>\n",
              "                        <td id=\"T_da58f69a_5bb1_11eb_8981_0242ac1c0002row7_col7\" class=\"data row7 col7\" >-10.000000</td>\n",
              "                        <td id=\"T_da58f69a_5bb1_11eb_8981_0242ac1c0002row7_col8\" class=\"data row7 col8\" >-55.56%</td>\n",
              "            </tr>\n",
              "            <tr>\n",
              "                        <th id=\"T_da58f69a_5bb1_11eb_8981_0242ac1c0002level0_row8\" class=\"row_heading level0 row8\" >8</th>\n",
              "                        <td id=\"T_da58f69a_5bb1_11eb_8981_0242ac1c0002row8_col0\" class=\"data row8 col0\" >4</td>\n",
              "                        <td id=\"T_da58f69a_5bb1_11eb_8981_0242ac1c0002row8_col1\" class=\"data row8 col1\" >12</td>\n",
              "                        <td id=\"T_da58f69a_5bb1_11eb_8981_0242ac1c0002row8_col2\" class=\"data row8 col2\" >1</td>\n",
              "                        <td id=\"T_da58f69a_5bb1_11eb_8981_0242ac1c0002row8_col3\" class=\"data row8 col3\" >14</td>\n",
              "                        <td id=\"T_da58f69a_5bb1_11eb_8981_0242ac1c0002row8_col4\" class=\"data row8 col4\" >1</td>\n",
              "                        <td id=\"T_da58f69a_5bb1_11eb_8981_0242ac1c0002row8_col5\" class=\"data row8 col5\" >7</td>\n",
              "                        <td id=\"T_da58f69a_5bb1_11eb_8981_0242ac1c0002row8_col6\" class=\"data row8 col6\" >4</td>\n",
              "                        <td id=\"T_da58f69a_5bb1_11eb_8981_0242ac1c0002row8_col7\" class=\"data row8 col7\" >-4.000000</td>\n",
              "                        <td id=\"T_da58f69a_5bb1_11eb_8981_0242ac1c0002row8_col8\" class=\"data row8 col8\" >-50.00%</td>\n",
              "            </tr>\n",
              "            <tr>\n",
              "                        <th id=\"T_da58f69a_5bb1_11eb_8981_0242ac1c0002level0_row9\" class=\"row_heading level0 row9\" >9</th>\n",
              "                        <td id=\"T_da58f69a_5bb1_11eb_8981_0242ac1c0002row9_col0\" class=\"data row9 col0\" >12</td>\n",
              "                        <td id=\"T_da58f69a_5bb1_11eb_8981_0242ac1c0002row9_col1\" class=\"data row9 col1\" >5</td>\n",
              "                        <td id=\"T_da58f69a_5bb1_11eb_8981_0242ac1c0002row9_col2\" class=\"data row9 col2\" >11</td>\n",
              "                        <td id=\"T_da58f69a_5bb1_11eb_8981_0242ac1c0002row9_col3\" class=\"data row9 col3\" >8</td>\n",
              "                        <td id=\"T_da58f69a_5bb1_11eb_8981_0242ac1c0002row9_col4\" class=\"data row9 col4\" >8</td>\n",
              "                        <td id=\"T_da58f69a_5bb1_11eb_8981_0242ac1c0002row9_col5\" class=\"data row9 col5\" >11</td>\n",
              "                        <td id=\"T_da58f69a_5bb1_11eb_8981_0242ac1c0002row9_col6\" class=\"data row9 col6\" >2</td>\n",
              "                        <td id=\"T_da58f69a_5bb1_11eb_8981_0242ac1c0002row9_col7\" class=\"data row9 col7\" >8.000000</td>\n",
              "                        <td id=\"T_da58f69a_5bb1_11eb_8981_0242ac1c0002row9_col8\" class=\"data row9 col8\" >200.00%</td>\n",
              "            </tr>\n",
              "            <tr>\n",
              "                        <th id=\"T_da58f69a_5bb1_11eb_8981_0242ac1c0002level0_row10\" class=\"row_heading level0 row10\" >10</th>\n",
              "                        <td id=\"T_da58f69a_5bb1_11eb_8981_0242ac1c0002row10_col0\" class=\"data row10 col0\" >3</td>\n",
              "                        <td id=\"T_da58f69a_5bb1_11eb_8981_0242ac1c0002row10_col1\" class=\"data row10 col1\" >16</td>\n",
              "                        <td id=\"T_da58f69a_5bb1_11eb_8981_0242ac1c0002row10_col2\" class=\"data row10 col2\" >10</td>\n",
              "                        <td id=\"T_da58f69a_5bb1_11eb_8981_0242ac1c0002row10_col3\" class=\"data row10 col3\" >2</td>\n",
              "                        <td id=\"T_da58f69a_5bb1_11eb_8981_0242ac1c0002row10_col4\" class=\"data row10 col4\" >12</td>\n",
              "                        <td id=\"T_da58f69a_5bb1_11eb_8981_0242ac1c0002row10_col5\" class=\"data row10 col5\" >10</td>\n",
              "                        <td id=\"T_da58f69a_5bb1_11eb_8981_0242ac1c0002row10_col6\" class=\"data row10 col6\" >17</td>\n",
              "                        <td id=\"T_da58f69a_5bb1_11eb_8981_0242ac1c0002row10_col7\" class=\"data row10 col7\" >-9.000000</td>\n",
              "                        <td id=\"T_da58f69a_5bb1_11eb_8981_0242ac1c0002row10_col8\" class=\"data row10 col8\" >-75.00%</td>\n",
              "            </tr>\n",
              "            <tr>\n",
              "                        <th id=\"T_da58f69a_5bb1_11eb_8981_0242ac1c0002level0_row11\" class=\"row_heading level0 row11\" >11</th>\n",
              "                        <td id=\"T_da58f69a_5bb1_11eb_8981_0242ac1c0002row11_col0\" class=\"data row11 col0\" >2</td>\n",
              "                        <td id=\"T_da58f69a_5bb1_11eb_8981_0242ac1c0002row11_col1\" class=\"data row11 col1\" >8</td>\n",
              "                        <td id=\"T_da58f69a_5bb1_11eb_8981_0242ac1c0002row11_col2\" class=\"data row11 col2\" >17</td>\n",
              "                        <td id=\"T_da58f69a_5bb1_11eb_8981_0242ac1c0002row11_col3\" class=\"data row11 col3\" >5</td>\n",
              "                        <td id=\"T_da58f69a_5bb1_11eb_8981_0242ac1c0002row11_col4\" class=\"data row11 col4\" >13</td>\n",
              "                        <td id=\"T_da58f69a_5bb1_11eb_8981_0242ac1c0002row11_col5\" class=\"data row11 col5\" >8</td>\n",
              "                        <td id=\"T_da58f69a_5bb1_11eb_8981_0242ac1c0002row11_col6\" class=\"data row11 col6\" >18</td>\n",
              "                        <td id=\"T_da58f69a_5bb1_11eb_8981_0242ac1c0002row11_col7\" class=\"data row11 col7\" >-1.000000</td>\n",
              "                        <td id=\"T_da58f69a_5bb1_11eb_8981_0242ac1c0002row11_col8\" class=\"data row11 col8\" >-33.33%</td>\n",
              "            </tr>\n",
              "            <tr>\n",
              "                        <th id=\"T_da58f69a_5bb1_11eb_8981_0242ac1c0002level0_row12\" class=\"row_heading level0 row12\" >12</th>\n",
              "                        <td id=\"T_da58f69a_5bb1_11eb_8981_0242ac1c0002row12_col0\" class=\"data row12 col0\" >9</td>\n",
              "                        <td id=\"T_da58f69a_5bb1_11eb_8981_0242ac1c0002row12_col1\" class=\"data row12 col1\" >9</td>\n",
              "                        <td id=\"T_da58f69a_5bb1_11eb_8981_0242ac1c0002row12_col2\" class=\"data row12 col2\" >6</td>\n",
              "                        <td id=\"T_da58f69a_5bb1_11eb_8981_0242ac1c0002row12_col3\" class=\"data row12 col3\" >1</td>\n",
              "                        <td id=\"T_da58f69a_5bb1_11eb_8981_0242ac1c0002row12_col4\" class=\"data row12 col4\" >4</td>\n",
              "                        <td id=\"T_da58f69a_5bb1_11eb_8981_0242ac1c0002row12_col5\" class=\"data row12 col5\" >3</td>\n",
              "                        <td id=\"T_da58f69a_5bb1_11eb_8981_0242ac1c0002row12_col6\" class=\"data row12 col6\" >4</td>\n",
              "                        <td id=\"T_da58f69a_5bb1_11eb_8981_0242ac1c0002row12_col7\" class=\"data row12 col7\" >7.000000</td>\n",
              "                        <td id=\"T_da58f69a_5bb1_11eb_8981_0242ac1c0002row12_col8\" class=\"data row12 col8\" >350.00%</td>\n",
              "            </tr>\n",
              "            <tr>\n",
              "                        <th id=\"T_da58f69a_5bb1_11eb_8981_0242ac1c0002level0_row13\" class=\"row_heading level0 row13\" >13</th>\n",
              "                        <td id=\"T_da58f69a_5bb1_11eb_8981_0242ac1c0002row13_col0\" class=\"data row13 col0\" >19</td>\n",
              "                        <td id=\"T_da58f69a_5bb1_11eb_8981_0242ac1c0002row13_col1\" class=\"data row13 col1\" >1</td>\n",
              "                        <td id=\"T_da58f69a_5bb1_11eb_8981_0242ac1c0002row13_col2\" class=\"data row13 col2\" >1</td>\n",
              "                        <td id=\"T_da58f69a_5bb1_11eb_8981_0242ac1c0002row13_col3\" class=\"data row13 col3\" >6</td>\n",
              "                        <td id=\"T_da58f69a_5bb1_11eb_8981_0242ac1c0002row13_col4\" class=\"data row13 col4\" >8</td>\n",
              "                        <td id=\"T_da58f69a_5bb1_11eb_8981_0242ac1c0002row13_col5\" class=\"data row13 col5\" >10</td>\n",
              "                        <td id=\"T_da58f69a_5bb1_11eb_8981_0242ac1c0002row13_col6\" class=\"data row13 col6\" >13</td>\n",
              "                        <td id=\"T_da58f69a_5bb1_11eb_8981_0242ac1c0002row13_col7\" class=\"data row13 col7\" >10.000000</td>\n",
              "                        <td id=\"T_da58f69a_5bb1_11eb_8981_0242ac1c0002row13_col8\" class=\"data row13 col8\" >111.11%</td>\n",
              "            </tr>\n",
              "            <tr>\n",
              "                        <th id=\"T_da58f69a_5bb1_11eb_8981_0242ac1c0002level0_row14\" class=\"row_heading level0 row14\" >14</th>\n",
              "                        <td id=\"T_da58f69a_5bb1_11eb_8981_0242ac1c0002row14_col0\" class=\"data row14 col0\" >18</td>\n",
              "                        <td id=\"T_da58f69a_5bb1_11eb_8981_0242ac1c0002row14_col1\" class=\"data row14 col1\" >4</td>\n",
              "                        <td id=\"T_da58f69a_5bb1_11eb_8981_0242ac1c0002row14_col2\" class=\"data row14 col2\" >18</td>\n",
              "                        <td id=\"T_da58f69a_5bb1_11eb_8981_0242ac1c0002row14_col3\" class=\"data row14 col3\" >13</td>\n",
              "                        <td id=\"T_da58f69a_5bb1_11eb_8981_0242ac1c0002row14_col4\" class=\"data row14 col4\" >13</td>\n",
              "                        <td id=\"T_da58f69a_5bb1_11eb_8981_0242ac1c0002row14_col5\" class=\"data row14 col5\" >6</td>\n",
              "                        <td id=\"T_da58f69a_5bb1_11eb_8981_0242ac1c0002row14_col6\" class=\"data row14 col6\" >6</td>\n",
              "                        <td id=\"T_da58f69a_5bb1_11eb_8981_0242ac1c0002row14_col7\" class=\"data row14 col7\" >-1.000000</td>\n",
              "                        <td id=\"T_da58f69a_5bb1_11eb_8981_0242ac1c0002row14_col8\" class=\"data row14 col8\" >-5.26%</td>\n",
              "            </tr>\n",
              "            <tr>\n",
              "                        <th id=\"T_da58f69a_5bb1_11eb_8981_0242ac1c0002level0_row15\" class=\"row_heading level0 row15\" >15</th>\n",
              "                        <td id=\"T_da58f69a_5bb1_11eb_8981_0242ac1c0002row15_col0\" class=\"data row15 col0\" >12</td>\n",
              "                        <td id=\"T_da58f69a_5bb1_11eb_8981_0242ac1c0002row15_col1\" class=\"data row15 col1\" >6</td>\n",
              "                        <td id=\"T_da58f69a_5bb1_11eb_8981_0242ac1c0002row15_col2\" class=\"data row15 col2\" >12</td>\n",
              "                        <td id=\"T_da58f69a_5bb1_11eb_8981_0242ac1c0002row15_col3\" class=\"data row15 col3\" >17</td>\n",
              "                        <td id=\"T_da58f69a_5bb1_11eb_8981_0242ac1c0002row15_col4\" class=\"data row15 col4\" >17</td>\n",
              "                        <td id=\"T_da58f69a_5bb1_11eb_8981_0242ac1c0002row15_col5\" class=\"data row15 col5\" >6</td>\n",
              "                        <td id=\"T_da58f69a_5bb1_11eb_8981_0242ac1c0002row15_col6\" class=\"data row15 col6\" >6</td>\n",
              "                        <td id=\"T_da58f69a_5bb1_11eb_8981_0242ac1c0002row15_col7\" class=\"data row15 col7\" >-6.000000</td>\n",
              "                        <td id=\"T_da58f69a_5bb1_11eb_8981_0242ac1c0002row15_col8\" class=\"data row15 col8\" >-33.33%</td>\n",
              "            </tr>\n",
              "            <tr>\n",
              "                        <th id=\"T_da58f69a_5bb1_11eb_8981_0242ac1c0002level0_row16\" class=\"row_heading level0 row16\" >16</th>\n",
              "                        <td id=\"T_da58f69a_5bb1_11eb_8981_0242ac1c0002row16_col0\" class=\"data row16 col0\" >14</td>\n",
              "                        <td id=\"T_da58f69a_5bb1_11eb_8981_0242ac1c0002row16_col1\" class=\"data row16 col1\" >2</td>\n",
              "                        <td id=\"T_da58f69a_5bb1_11eb_8981_0242ac1c0002row16_col2\" class=\"data row16 col2\" >5</td>\n",
              "                        <td id=\"T_da58f69a_5bb1_11eb_8981_0242ac1c0002row16_col3\" class=\"data row16 col3\" >12</td>\n",
              "                        <td id=\"T_da58f69a_5bb1_11eb_8981_0242ac1c0002row16_col4\" class=\"data row16 col4\" >9</td>\n",
              "                        <td id=\"T_da58f69a_5bb1_11eb_8981_0242ac1c0002row16_col5\" class=\"data row16 col5\" >4</td>\n",
              "                        <td id=\"T_da58f69a_5bb1_11eb_8981_0242ac1c0002row16_col6\" class=\"data row16 col6\" >19</td>\n",
              "                        <td id=\"T_da58f69a_5bb1_11eb_8981_0242ac1c0002row16_col7\" class=\"data row16 col7\" >2.000000</td>\n",
              "                        <td id=\"T_da58f69a_5bb1_11eb_8981_0242ac1c0002row16_col8\" class=\"data row16 col8\" >16.67%</td>\n",
              "            </tr>\n",
              "            <tr>\n",
              "                        <th id=\"T_da58f69a_5bb1_11eb_8981_0242ac1c0002level0_row17\" class=\"row_heading level0 row17\" >17</th>\n",
              "                        <td id=\"T_da58f69a_5bb1_11eb_8981_0242ac1c0002row17_col0\" class=\"data row17 col0\" >2</td>\n",
              "                        <td id=\"T_da58f69a_5bb1_11eb_8981_0242ac1c0002row17_col1\" class=\"data row17 col1\" >12</td>\n",
              "                        <td id=\"T_da58f69a_5bb1_11eb_8981_0242ac1c0002row17_col2\" class=\"data row17 col2\" >18</td>\n",
              "                        <td id=\"T_da58f69a_5bb1_11eb_8981_0242ac1c0002row17_col3\" class=\"data row17 col3\" >15</td>\n",
              "                        <td id=\"T_da58f69a_5bb1_11eb_8981_0242ac1c0002row17_col4\" class=\"data row17 col4\" >8</td>\n",
              "                        <td id=\"T_da58f69a_5bb1_11eb_8981_0242ac1c0002row17_col5\" class=\"data row17 col5\" >8</td>\n",
              "                        <td id=\"T_da58f69a_5bb1_11eb_8981_0242ac1c0002row17_col6\" class=\"data row17 col6\" >14</td>\n",
              "                        <td id=\"T_da58f69a_5bb1_11eb_8981_0242ac1c0002row17_col7\" class=\"data row17 col7\" >-12.000000</td>\n",
              "                        <td id=\"T_da58f69a_5bb1_11eb_8981_0242ac1c0002row17_col8\" class=\"data row17 col8\" >-85.71%</td>\n",
              "            </tr>\n",
              "            <tr>\n",
              "                        <th id=\"T_da58f69a_5bb1_11eb_8981_0242ac1c0002level0_row18\" class=\"row_heading level0 row18\" >18</th>\n",
              "                        <td id=\"T_da58f69a_5bb1_11eb_8981_0242ac1c0002row18_col0\" class=\"data row18 col0\" >11</td>\n",
              "                        <td id=\"T_da58f69a_5bb1_11eb_8981_0242ac1c0002row18_col1\" class=\"data row18 col1\" >19</td>\n",
              "                        <td id=\"T_da58f69a_5bb1_11eb_8981_0242ac1c0002row18_col2\" class=\"data row18 col2\" >14</td>\n",
              "                        <td id=\"T_da58f69a_5bb1_11eb_8981_0242ac1c0002row18_col3\" class=\"data row18 col3\" >4</td>\n",
              "                        <td id=\"T_da58f69a_5bb1_11eb_8981_0242ac1c0002row18_col4\" class=\"data row18 col4\" >16</td>\n",
              "                        <td id=\"T_da58f69a_5bb1_11eb_8981_0242ac1c0002row18_col5\" class=\"data row18 col5\" >19</td>\n",
              "                        <td id=\"T_da58f69a_5bb1_11eb_8981_0242ac1c0002row18_col6\" class=\"data row18 col6\" >5</td>\n",
              "                        <td id=\"T_da58f69a_5bb1_11eb_8981_0242ac1c0002row18_col7\" class=\"data row18 col7\" >9.000000</td>\n",
              "                        <td id=\"T_da58f69a_5bb1_11eb_8981_0242ac1c0002row18_col8\" class=\"data row18 col8\" >450.00%</td>\n",
              "            </tr>\n",
              "            <tr>\n",
              "                        <th id=\"T_da58f69a_5bb1_11eb_8981_0242ac1c0002level0_row19\" class=\"row_heading level0 row19\" >19</th>\n",
              "                        <td id=\"T_da58f69a_5bb1_11eb_8981_0242ac1c0002row19_col0\" class=\"data row19 col0\" >7</td>\n",
              "                        <td id=\"T_da58f69a_5bb1_11eb_8981_0242ac1c0002row19_col1\" class=\"data row19 col1\" >11</td>\n",
              "                        <td id=\"T_da58f69a_5bb1_11eb_8981_0242ac1c0002row19_col2\" class=\"data row19 col2\" >10</td>\n",
              "                        <td id=\"T_da58f69a_5bb1_11eb_8981_0242ac1c0002row19_col3\" class=\"data row19 col3\" >7</td>\n",
              "                        <td id=\"T_da58f69a_5bb1_11eb_8981_0242ac1c0002row19_col4\" class=\"data row19 col4\" >17</td>\n",
              "                        <td id=\"T_da58f69a_5bb1_11eb_8981_0242ac1c0002row19_col5\" class=\"data row19 col5\" >9</td>\n",
              "                        <td id=\"T_da58f69a_5bb1_11eb_8981_0242ac1c0002row19_col6\" class=\"data row19 col6\" >10</td>\n",
              "                        <td id=\"T_da58f69a_5bb1_11eb_8981_0242ac1c0002row19_col7\" class=\"data row19 col7\" >-4.000000</td>\n",
              "                        <td id=\"T_da58f69a_5bb1_11eb_8981_0242ac1c0002row19_col8\" class=\"data row19 col8\" >-36.36%</td>\n",
              "            </tr>\n",
              "    </tbody></table>"
            ],
            "text/plain": [
              "<pandas.io.formats.style.Styler at 0x7f4f69de9f28>"
            ]
          },
          "metadata": {
            "tags": []
          },
          "execution_count": 31
        }
      ]
    },
    {
      "cell_type": "markdown",
      "metadata": {
        "id": "mv8Pd_eioSRf"
      },
      "source": [
        "## Trick 53 : Shuffle rows of a df (df.sample())"
      ]
    },
    {
      "cell_type": "code",
      "metadata": {
        "colab": {
          "base_uri": "https://localhost:8080/",
          "height": 678
        },
        "id": "xoOnV_A5ob54",
        "outputId": "99c92542-5afb-49d4-ea59-0bd3132fbec9"
      },
      "source": [
        "df = generate_sample_data()\r\n",
        "\r\n",
        "df.sample(frac = 0.5, random_state = 2) # random seed\r\n",
        "df.sample(frac = 0.5, random_state = 2).reset_index(drop = True) # reset index after shuffeling"
      ],
      "execution_count": 32,
      "outputs": [
        {
          "output_type": "execute_result",
          "data": {
            "text/html": [
              "<div>\n",
              "<style scoped>\n",
              "    .dataframe tbody tr th:only-of-type {\n",
              "        vertical-align: middle;\n",
              "    }\n",
              "\n",
              "    .dataframe tbody tr th {\n",
              "        vertical-align: top;\n",
              "    }\n",
              "\n",
              "    .dataframe thead th {\n",
              "        text-align: right;\n",
              "    }\n",
              "</style>\n",
              "<table border=\"1\" class=\"dataframe\">\n",
              "  <thead>\n",
              "    <tr style=\"text-align: right;\">\n",
              "      <th></th>\n",
              "      <th>A</th>\n",
              "      <th>B</th>\n",
              "      <th>C</th>\n",
              "      <th>D</th>\n",
              "      <th>E</th>\n",
              "      <th>F</th>\n",
              "      <th>G</th>\n",
              "    </tr>\n",
              "  </thead>\n",
              "  <tbody>\n",
              "    <tr>\n",
              "      <th>12</th>\n",
              "      <td>12</td>\n",
              "      <td>6</td>\n",
              "      <td>11</td>\n",
              "      <td>8</td>\n",
              "      <td>13</td>\n",
              "      <td>2</td>\n",
              "      <td>14</td>\n",
              "    </tr>\n",
              "    <tr>\n",
              "      <th>4</th>\n",
              "      <td>5</td>\n",
              "      <td>17</td>\n",
              "      <td>14</td>\n",
              "      <td>14</td>\n",
              "      <td>12</td>\n",
              "      <td>13</td>\n",
              "      <td>15</td>\n",
              "    </tr>\n",
              "    <tr>\n",
              "      <th>18</th>\n",
              "      <td>10</td>\n",
              "      <td>2</td>\n",
              "      <td>3</td>\n",
              "      <td>10</td>\n",
              "      <td>16</td>\n",
              "      <td>8</td>\n",
              "      <td>6</td>\n",
              "    </tr>\n",
              "    <tr>\n",
              "      <th>0</th>\n",
              "      <td>11</td>\n",
              "      <td>15</td>\n",
              "      <td>13</td>\n",
              "      <td>17</td>\n",
              "      <td>2</td>\n",
              "      <td>3</td>\n",
              "      <td>17</td>\n",
              "    </tr>\n",
              "    <tr>\n",
              "      <th>9</th>\n",
              "      <td>6</td>\n",
              "      <td>1</td>\n",
              "      <td>6</td>\n",
              "      <td>19</td>\n",
              "      <td>3</td>\n",
              "      <td>6</td>\n",
              "      <td>16</td>\n",
              "    </tr>\n",
              "    <tr>\n",
              "      <th>5</th>\n",
              "      <td>10</td>\n",
              "      <td>16</td>\n",
              "      <td>8</td>\n",
              "      <td>11</td>\n",
              "      <td>12</td>\n",
              "      <td>14</td>\n",
              "      <td>5</td>\n",
              "    </tr>\n",
              "    <tr>\n",
              "      <th>3</th>\n",
              "      <td>7</td>\n",
              "      <td>8</td>\n",
              "      <td>9</td>\n",
              "      <td>7</td>\n",
              "      <td>19</td>\n",
              "      <td>18</td>\n",
              "      <td>16</td>\n",
              "    </tr>\n",
              "    <tr>\n",
              "      <th>10</th>\n",
              "      <td>5</td>\n",
              "      <td>7</td>\n",
              "      <td>12</td>\n",
              "      <td>2</td>\n",
              "      <td>5</td>\n",
              "      <td>2</td>\n",
              "      <td>14</td>\n",
              "    </tr>\n",
              "    <tr>\n",
              "      <th>1</th>\n",
              "      <td>4</td>\n",
              "      <td>4</td>\n",
              "      <td>8</td>\n",
              "      <td>3</td>\n",
              "      <td>9</td>\n",
              "      <td>16</td>\n",
              "      <td>15</td>\n",
              "    </tr>\n",
              "    <tr>\n",
              "      <th>17</th>\n",
              "      <td>14</td>\n",
              "      <td>5</td>\n",
              "      <td>10</td>\n",
              "      <td>2</td>\n",
              "      <td>7</td>\n",
              "      <td>7</td>\n",
              "      <td>18</td>\n",
              "    </tr>\n",
              "  </tbody>\n",
              "</table>\n",
              "</div>"
            ],
            "text/plain": [
              "     A   B   C   D   E   F   G\n",
              "12  12   6  11   8  13   2  14\n",
              "4    5  17  14  14  12  13  15\n",
              "18  10   2   3  10  16   8   6\n",
              "0   11  15  13  17   2   3  17\n",
              "9    6   1   6  19   3   6  16\n",
              "5   10  16   8  11  12  14   5\n",
              "3    7   8   9   7  19  18  16\n",
              "10   5   7  12   2   5   2  14\n",
              "1    4   4   8   3   9  16  15\n",
              "17  14   5  10   2   7   7  18"
            ]
          },
          "metadata": {
            "tags": []
          },
          "execution_count": 32
        },
        {
          "output_type": "execute_result",
          "data": {
            "text/html": [
              "<div>\n",
              "<style scoped>\n",
              "    .dataframe tbody tr th:only-of-type {\n",
              "        vertical-align: middle;\n",
              "    }\n",
              "\n",
              "    .dataframe tbody tr th {\n",
              "        vertical-align: top;\n",
              "    }\n",
              "\n",
              "    .dataframe thead th {\n",
              "        text-align: right;\n",
              "    }\n",
              "</style>\n",
              "<table border=\"1\" class=\"dataframe\">\n",
              "  <thead>\n",
              "    <tr style=\"text-align: right;\">\n",
              "      <th></th>\n",
              "      <th>A</th>\n",
              "      <th>B</th>\n",
              "      <th>C</th>\n",
              "      <th>D</th>\n",
              "      <th>E</th>\n",
              "      <th>F</th>\n",
              "      <th>G</th>\n",
              "    </tr>\n",
              "  </thead>\n",
              "  <tbody>\n",
              "    <tr>\n",
              "      <th>0</th>\n",
              "      <td>12</td>\n",
              "      <td>6</td>\n",
              "      <td>11</td>\n",
              "      <td>8</td>\n",
              "      <td>13</td>\n",
              "      <td>2</td>\n",
              "      <td>14</td>\n",
              "    </tr>\n",
              "    <tr>\n",
              "      <th>1</th>\n",
              "      <td>5</td>\n",
              "      <td>17</td>\n",
              "      <td>14</td>\n",
              "      <td>14</td>\n",
              "      <td>12</td>\n",
              "      <td>13</td>\n",
              "      <td>15</td>\n",
              "    </tr>\n",
              "    <tr>\n",
              "      <th>2</th>\n",
              "      <td>10</td>\n",
              "      <td>2</td>\n",
              "      <td>3</td>\n",
              "      <td>10</td>\n",
              "      <td>16</td>\n",
              "      <td>8</td>\n",
              "      <td>6</td>\n",
              "    </tr>\n",
              "    <tr>\n",
              "      <th>3</th>\n",
              "      <td>11</td>\n",
              "      <td>15</td>\n",
              "      <td>13</td>\n",
              "      <td>17</td>\n",
              "      <td>2</td>\n",
              "      <td>3</td>\n",
              "      <td>17</td>\n",
              "    </tr>\n",
              "    <tr>\n",
              "      <th>4</th>\n",
              "      <td>6</td>\n",
              "      <td>1</td>\n",
              "      <td>6</td>\n",
              "      <td>19</td>\n",
              "      <td>3</td>\n",
              "      <td>6</td>\n",
              "      <td>16</td>\n",
              "    </tr>\n",
              "    <tr>\n",
              "      <th>5</th>\n",
              "      <td>10</td>\n",
              "      <td>16</td>\n",
              "      <td>8</td>\n",
              "      <td>11</td>\n",
              "      <td>12</td>\n",
              "      <td>14</td>\n",
              "      <td>5</td>\n",
              "    </tr>\n",
              "    <tr>\n",
              "      <th>6</th>\n",
              "      <td>7</td>\n",
              "      <td>8</td>\n",
              "      <td>9</td>\n",
              "      <td>7</td>\n",
              "      <td>19</td>\n",
              "      <td>18</td>\n",
              "      <td>16</td>\n",
              "    </tr>\n",
              "    <tr>\n",
              "      <th>7</th>\n",
              "      <td>5</td>\n",
              "      <td>7</td>\n",
              "      <td>12</td>\n",
              "      <td>2</td>\n",
              "      <td>5</td>\n",
              "      <td>2</td>\n",
              "      <td>14</td>\n",
              "    </tr>\n",
              "    <tr>\n",
              "      <th>8</th>\n",
              "      <td>4</td>\n",
              "      <td>4</td>\n",
              "      <td>8</td>\n",
              "      <td>3</td>\n",
              "      <td>9</td>\n",
              "      <td>16</td>\n",
              "      <td>15</td>\n",
              "    </tr>\n",
              "    <tr>\n",
              "      <th>9</th>\n",
              "      <td>14</td>\n",
              "      <td>5</td>\n",
              "      <td>10</td>\n",
              "      <td>2</td>\n",
              "      <td>7</td>\n",
              "      <td>7</td>\n",
              "      <td>18</td>\n",
              "    </tr>\n",
              "  </tbody>\n",
              "</table>\n",
              "</div>"
            ],
            "text/plain": [
              "    A   B   C   D   E   F   G\n",
              "0  12   6  11   8  13   2  14\n",
              "1   5  17  14  14  12  13  15\n",
              "2  10   2   3  10  16   8   6\n",
              "3  11  15  13  17   2   3  17\n",
              "4   6   1   6  19   3   6  16\n",
              "5  10  16   8  11  12  14   5\n",
              "6   7   8   9   7  19  18  16\n",
              "7   5   7  12   2   5   2  14\n",
              "8   4   4   8   3   9  16  15\n",
              "9  14   5  10   2   7   7  18"
            ]
          },
          "metadata": {
            "tags": []
          },
          "execution_count": 32
        }
      ]
    },
    {
      "cell_type": "markdown",
      "metadata": {
        "id": "kRa6anJWod0h"
      },
      "source": [
        "## Trick 52 : Making plots with pandas"
      ]
    },
    {
      "cell_type": "code",
      "metadata": {
        "colab": {
          "base_uri": "https://localhost:8080/",
          "height": 1000
        },
        "id": "ADrPSfK8onSV",
        "outputId": "f89151fc-49c9-4cb0-cc76-2d6e155b8ba1"
      },
      "source": [
        "df = generate_sample_data()\r\n",
        "\r\n",
        "df.plot(kind = \"line\")\r\n",
        "df.plot(kind = \"bar\")\r\n",
        "df.plot(kind = \"barh\")\r\n",
        "df.plot(kind = \"hist\")\r\n",
        "df.plot(kind = \"box\")\r\n",
        "df.plot(kind = \"kde\")\r\n",
        "df.plot(kind = \"area\")"
      ],
      "execution_count": 33,
      "outputs": [
        {
          "output_type": "execute_result",
          "data": {
            "text/plain": [
              "<matplotlib.axes._subplots.AxesSubplot at 0x7f4f698d05f8>"
            ]
          },
          "metadata": {
            "tags": []
          },
          "execution_count": 33
        },
        {
          "output_type": "execute_result",
          "data": {
            "text/plain": [
              "<matplotlib.axes._subplots.AxesSubplot at 0x7f4f6980c320>"
            ]
          },
          "metadata": {
            "tags": []
          },
          "execution_count": 33
        },
        {
          "output_type": "execute_result",
          "data": {
            "text/plain": [
              "<matplotlib.axes._subplots.AxesSubplot at 0x7f4f695e3cf8>"
            ]
          },
          "metadata": {
            "tags": []
          },
          "execution_count": 33
        },
        {
          "output_type": "execute_result",
          "data": {
            "text/plain": [
              "<matplotlib.axes._subplots.AxesSubplot at 0x7f4f69445e80>"
            ]
          },
          "metadata": {
            "tags": []
          },
          "execution_count": 33
        },
        {
          "output_type": "execute_result",
          "data": {
            "text/plain": [
              "<matplotlib.axes._subplots.AxesSubplot at 0x7f4f694455c0>"
            ]
          },
          "metadata": {
            "tags": []
          },
          "execution_count": 33
        },
        {
          "output_type": "execute_result",
          "data": {
            "text/plain": [
              "<matplotlib.axes._subplots.AxesSubplot at 0x7f4f69220400>"
            ]
          },
          "metadata": {
            "tags": []
          },
          "execution_count": 33
        },
        {
          "output_type": "execute_result",
          "data": {
            "text/plain": [
              "<matplotlib.axes._subplots.AxesSubplot at 0x7f4f5915ea58>"
            ]
          },
          "metadata": {
            "tags": []
          },
          "execution_count": 33
        },
        {
          "output_type": "display_data",
          "data": {
            "image/png": "[encoded data removed]",
            "text/plain": [
              "<Figure size 432x288 with 1 Axes>"
            ]
          },
          "metadata": {
            "tags": [],
            "needs_background": "light"
          }
        },
        {
          "output_type": "display_data",
          "data": {
            "image/png": "[encoded data removed]",
            "text/plain": [
              "<Figure size 432x288 with 1 Axes>"
            ]
          },
          "metadata": {
            "tags": [],
            "needs_background": "light"
          }
        },
        {
          "output_type": "display_data",
          "data": {
            "image/png": "[encoded data removed]",
            "text/plain": [
              "<Figure size 432x288 with 1 Axes>"
            ]
          },
          "metadata": {
            "tags": [],
            "needs_background": "light"
          }
        },
        {
          "output_type": "display_data",
          "data": {
            "image/png": "[encoded data removed]",
            "text/plain": [
              "<Figure size 432x288 with 1 Axes>"
            ]
          },
          "metadata": {
            "tags": [],
            "needs_background": "light"
          }
        },
        {
          "output_type": "display_data",
          "data": {
            "image/png": "[encoded data removed]",
            "text/plain": [
              "<Figure size 432x288 with 1 Axes>"
            ]
          },
          "metadata": {
            "tags": [],
            "needs_background": "light"
          }
        },
        {
          "output_type": "display_data",
          "data": {
            "image/png": "[encoded data removed]",
            "text/plain": [
              "<Figure size 432x288 with 1 Axes>"
            ]
          },
          "metadata": {
            "tags": [],
            "needs_background": "light"
          }
        },
        {
          "output_type": "display_data",
          "data": {
            "image/png": "[encoded data removed]",
            "text/plain": [
              "<Figure size 432x288 with 1 Axes>"
            ]
          },
          "metadata": {
            "tags": [],
            "needs_background": "light"
          }
        }
      ]
    },
    {
      "cell_type": "code",
      "metadata": {
        "colab": {
          "base_uri": "https://localhost:8080/",
          "height": 877
        },
        "id": "bFSz7BN-ozxC",
        "outputId": "976fe4fc-3eb1-496b-dc24-f8dbf6030005"
      },
      "source": [
        "# the following plots requiere x and y\r\n",
        "df.plot(x = \"A\", y = \"B\", kind = \"scatter\")\r\n",
        "df.plot(x = \"A\", y = \"B\", kind = \"hexbin\")\r\n",
        "df.plot(x = \"A\", y = \"B\", kind = \"pie\") # here you can pass only x but you need to add subplots = True\r\n",
        "\r\n",
        "# other plots are available through pd.plotting\r\n",
        "# more about plotting https://pandas.pydata.org/pandas-docs/stable/user_guide/visualization.html"
      ],
      "execution_count": 34,
      "outputs": [
        {
          "output_type": "execute_result",
          "data": {
            "text/plain": [
              "<matplotlib.axes._subplots.AxesSubplot at 0x7f4f58b15cf8>"
            ]
          },
          "metadata": {
            "tags": []
          },
          "execution_count": 34
        },
        {
          "output_type": "execute_result",
          "data": {
            "text/plain": [
              "<matplotlib.axes._subplots.AxesSubplot at 0x7f4f57272400>"
            ]
          },
          "metadata": {
            "tags": []
          },
          "execution_count": 34
        },
        {
          "output_type": "execute_result",
          "data": {
            "text/plain": [
              "<matplotlib.axes._subplots.AxesSubplot at 0x7f4f571fd860>"
            ]
          },
          "metadata": {
            "tags": []
          },
          "execution_count": 34
        },
        {
          "output_type": "display_data",
          "data": {
            "image/png": "[encoded data removed]",
            "text/plain": [
              "<Figure size 432x288 with 1 Axes>"
            ]
          },
          "metadata": {
            "tags": [],
            "needs_background": "light"
          }
        },
        {
          "output_type": "display_data",
          "data": {
            "image/png": "[encoded data removed]",
            "text/plain": [
              "<Figure size 432x288 with 2 Axes>"
            ]
          },
          "metadata": {
            "tags": [],
            "needs_background": "light"
          }
        },
        {
          "output_type": "display_data",
          "data": {
            "image/png": "[encoded data removed]",
            "text/plain": [
              "<Figure size 432x288 with 1 Axes>"
            ]
          },
          "metadata": {
            "tags": []
          }
        }
      ]
    },
    {
      "cell_type": "markdown",
      "metadata": {
        "id": "yUsAA-O1o3eb"
      },
      "source": [
        "## Trick 51 : Concatenate 2 column strings"
      ]
    },
    {
      "cell_type": "code",
      "metadata": {
        "colab": {
          "base_uri": "https://localhost:8080/"
        },
        "id": "h3wxKVElpJbI",
        "outputId": "90293d40-35f1-47fb-a5b1-a3e1c658928f"
      },
      "source": [
        "print_files()"
      ],
      "execution_count": 35,
      "outputs": [
        {
          "output_type": "stream",
          "text": [
            "/content/MyDrive/MyDrive/train.csv\n",
            "/content/MyDrive/MyDrive/test.csv\n",
            "/content/MyDrive/MyDrive/머신러닝 도감(제이펍).gdoc\n",
            "/content/MyDrive/MyDrive/srr-mave-gqc - 2020년 10월 11일.gjam\n",
            "/content/MyDrive/MyDrive/trick99data.csv\n",
            "/content/MyDrive/MyDrive/trick83data.csv\n",
            "/content/MyDrive/MyDrive/trick78data1.csv\n",
            "/content/MyDrive/MyDrive/trick78data3.csv\n",
            "/content/MyDrive/MyDrive/trick78data2.csv\n",
            "/content/MyDrive/MyDrive/trick58data.csv\n",
            "/content/MyDrive/MyDrive/coding_test/group_call_HMS.csv\n",
            "/content/MyDrive/MyDrive/coding_test/first.pickle\n",
            "/content/MyDrive/MyDrive/coding_test/first2.pickle\n",
            "/content/MyDrive/MyDrive/coding_test/first3.pickle\n",
            "/content/MyDrive/MyDrive/coding_test/first4.pickle\n",
            "/content/MyDrive/MyDrive/coding_test/first5.pickle\n",
            "/content/MyDrive/MyDrive/coding_test/p_data.pickle\n",
            "/content/MyDrive/MyDrive/coding_test/final_dat.pickle\n",
            "/content/MyDrive/MyDrive/Colab Notebooks/jaekwankoo.ipynb\n",
            "/content/MyDrive/MyDrive/Colab Notebooks/chap1.ipynb\n",
            "/content/MyDrive/MyDrive/Colab Notebooks/chap2 기본 자료구조와 배열.ipynb\n",
            "/content/MyDrive/MyDrive/Colab Notebooks/recursive_function.ipynb\n",
            "/content/MyDrive/MyDrive/Colab Notebooks/pandas_exercise1.ipynb\n",
            "/content/MyDrive/MyDrive/Colab Notebooks/pandas_exercise2.ipynb\n",
            "/content/MyDrive/MyDrive/Colab Notebooks/pandas_exercise3.ipynb\n",
            "/content/MyDrive/MyDrive/Colab Notebooks/pandas_exercise4.ipynb\n"
          ],
          "name": "stdout"
        }
      ]
    },
    {
      "cell_type": "code",
      "metadata": {
        "colab": {
          "base_uri": "https://localhost:8080/"
        },
        "id": "Au1y2ldZpM1i",
        "outputId": "ee2dad3e-6f5b-4c6c-96b6-128c800a3571"
      },
      "source": [
        "df = pd.read_csv('train.csv')\r\n",
        "\r\n",
        "# Solution 1 : using str.cat\r\n",
        "df['Name'].str.cat(df['Sex'], sep = \", \").head()"
      ],
      "execution_count": 36,
      "outputs": [
        {
          "output_type": "execute_result",
          "data": {
            "text/plain": [
              "0                        Braund, Mr. Owen Harris, male\n",
              "1    Cumings, Mrs. John Bradley (Florence Briggs Th...\n",
              "2                       Heikkinen, Miss. Laina, female\n",
              "3    Futrelle, Mrs. Jacques Heath (Lily May Peel), ...\n",
              "4                       Allen, Mr. William Henry, male\n",
              "Name: Name, dtype: object"
            ]
          },
          "metadata": {
            "tags": []
          },
          "execution_count": 36
        }
      ]
    },
    {
      "cell_type": "code",
      "metadata": {
        "colab": {
          "base_uri": "https://localhost:8080/"
        },
        "id": "z8jVshpepZDs",
        "outputId": "1ff27247-2d66-4c9b-f520-6a5e603b17a2"
      },
      "source": [
        "# using + sign\r\n",
        "(df[\"Name\"] + \", \" + df[\"Sex\"]).head()"
      ],
      "execution_count": 39,
      "outputs": [
        {
          "output_type": "execute_result",
          "data": {
            "text/plain": [
              "0                        Braund, Mr. Owen Harris, male\n",
              "1    Cumings, Mrs. John Bradley (Florence Briggs Th...\n",
              "2                       Heikkinen, Miss. Laina, female\n",
              "3    Futrelle, Mrs. Jacques Heath (Lily May Peel), ...\n",
              "4                       Allen, Mr. William Henry, male\n",
              "dtype: object"
            ]
          },
          "metadata": {
            "tags": []
          },
          "execution_count": 39
        }
      ]
    },
    {
      "cell_type": "markdown",
      "metadata": {
        "id": "ClXp9GRhphLR"
      },
      "source": [
        "## Trick 50 : Named aggregation with multiple columns passing tupples (new in pandas 0.25)"
      ]
    },
    {
      "cell_type": "code",
      "metadata": {
        "id": "zZKpqFwvp6XC"
      },
      "source": [
        "df = pd.read_csv('train.csv')"
      ],
      "execution_count": 40,
      "outputs": []
    },
    {
      "cell_type": "code",
      "metadata": {
        "colab": {
          "base_uri": "https://localhost:8080/",
          "height": 215
        },
        "id": "3UCnpCW-tL-j",
        "outputId": "06112a9f-244e-410f-c222-1eef99d69eac"
      },
      "source": [
        "# Typical groupby\r\n",
        "print(\"Problem : MultiIndex\")\r\n",
        "df.groupby(\"Pclass\").agg({\"Age\":[\"mean\", \"max\"], \"Survived\": \"mean\"})"
      ],
      "execution_count": 41,
      "outputs": [
        {
          "output_type": "stream",
          "text": [
            "Problem : MultiIndex\n"
          ],
          "name": "stdout"
        },
        {
          "output_type": "execute_result",
          "data": {
            "text/html": [
              "<div>\n",
              "<style scoped>\n",
              "    .dataframe tbody tr th:only-of-type {\n",
              "        vertical-align: middle;\n",
              "    }\n",
              "\n",
              "    .dataframe tbody tr th {\n",
              "        vertical-align: top;\n",
              "    }\n",
              "\n",
              "    .dataframe thead tr th {\n",
              "        text-align: left;\n",
              "    }\n",
              "\n",
              "    .dataframe thead tr:last-of-type th {\n",
              "        text-align: right;\n",
              "    }\n",
              "</style>\n",
              "<table border=\"1\" class=\"dataframe\">\n",
              "  <thead>\n",
              "    <tr>\n",
              "      <th></th>\n",
              "      <th colspan=\"2\" halign=\"left\">Age</th>\n",
              "      <th>Survived</th>\n",
              "    </tr>\n",
              "    <tr>\n",
              "      <th></th>\n",
              "      <th>mean</th>\n",
              "      <th>max</th>\n",
              "      <th>mean</th>\n",
              "    </tr>\n",
              "    <tr>\n",
              "      <th>Pclass</th>\n",
              "      <th></th>\n",
              "      <th></th>\n",
              "      <th></th>\n",
              "    </tr>\n",
              "  </thead>\n",
              "  <tbody>\n",
              "    <tr>\n",
              "      <th>1</th>\n",
              "      <td>38.233441</td>\n",
              "      <td>80.0</td>\n",
              "      <td>0.629630</td>\n",
              "    </tr>\n",
              "    <tr>\n",
              "      <th>2</th>\n",
              "      <td>29.877630</td>\n",
              "      <td>70.0</td>\n",
              "      <td>0.472826</td>\n",
              "    </tr>\n",
              "    <tr>\n",
              "      <th>3</th>\n",
              "      <td>25.140620</td>\n",
              "      <td>74.0</td>\n",
              "      <td>0.242363</td>\n",
              "    </tr>\n",
              "  </tbody>\n",
              "</table>\n",
              "</div>"
            ],
            "text/plain": [
              "              Age        Survived\n",
              "             mean   max      mean\n",
              "Pclass                           \n",
              "1       38.233441  80.0  0.629630\n",
              "2       29.877630  70.0  0.472826\n",
              "3       25.140620  74.0  0.242363"
            ]
          },
          "metadata": {
            "tags": []
          },
          "execution_count": 41
        }
      ]
    },
    {
      "cell_type": "code",
      "metadata": {
        "colab": {
          "base_uri": "https://localhost:8080/",
          "height": 185
        },
        "id": "gARY9JtR4aZM",
        "outputId": "a57ddbb5-9f76-41b9-9d33-c2016046d2b3"
      },
      "source": [
        "# Please note that this has been covered in 86 and 86 bis.\r\n",
        "# This is just one more way to do it.\r\n",
        "print(\"Named aggregation\")\r\n",
        "df.groupby(\"Pclass\").agg(avg_age = (\"Age\", \"mean\"),\r\n",
        "                        max_age = (\"Age\", \"max\"), \r\n",
        "                        survival_rate = (\"Survived\", \"mean\"))"
      ],
      "execution_count": 42,
      "outputs": [
        {
          "output_type": "stream",
          "text": [
            "Named aggregation\n"
          ],
          "name": "stdout"
        },
        {
          "output_type": "execute_result",
          "data": {
            "text/html": [
              "<div>\n",
              "<style scoped>\n",
              "    .dataframe tbody tr th:only-of-type {\n",
              "        vertical-align: middle;\n",
              "    }\n",
              "\n",
              "    .dataframe tbody tr th {\n",
              "        vertical-align: top;\n",
              "    }\n",
              "\n",
              "    .dataframe thead th {\n",
              "        text-align: right;\n",
              "    }\n",
              "</style>\n",
              "<table border=\"1\" class=\"dataframe\">\n",
              "  <thead>\n",
              "    <tr style=\"text-align: right;\">\n",
              "      <th></th>\n",
              "      <th>avg_age</th>\n",
              "      <th>max_age</th>\n",
              "      <th>survival_rate</th>\n",
              "    </tr>\n",
              "    <tr>\n",
              "      <th>Pclass</th>\n",
              "      <th></th>\n",
              "      <th></th>\n",
              "      <th></th>\n",
              "    </tr>\n",
              "  </thead>\n",
              "  <tbody>\n",
              "    <tr>\n",
              "      <th>1</th>\n",
              "      <td>38.233441</td>\n",
              "      <td>80.0</td>\n",
              "      <td>0.629630</td>\n",
              "    </tr>\n",
              "    <tr>\n",
              "      <th>2</th>\n",
              "      <td>29.877630</td>\n",
              "      <td>70.0</td>\n",
              "      <td>0.472826</td>\n",
              "    </tr>\n",
              "    <tr>\n",
              "      <th>3</th>\n",
              "      <td>25.140620</td>\n",
              "      <td>74.0</td>\n",
              "      <td>0.242363</td>\n",
              "    </tr>\n",
              "  </tbody>\n",
              "</table>\n",
              "</div>"
            ],
            "text/plain": [
              "          avg_age  max_age  survival_rate\n",
              "Pclass                                   \n",
              "1       38.233441     80.0       0.629630\n",
              "2       29.877630     70.0       0.472826\n",
              "3       25.140620     74.0       0.242363"
            ]
          },
          "metadata": {
            "tags": []
          },
          "execution_count": 42
        }
      ]
    },
    {
      "cell_type": "markdown",
      "metadata": {
        "id": "0b7f59hs52pf"
      },
      "source": [
        "## Trick 49 : Sampling with pandas (with replacement and weights)"
      ]
    },
    {
      "cell_type": "code",
      "metadata": {
        "colab": {
          "base_uri": "https://localhost:8080/",
          "height": 197
        },
        "id": "SLFDjGZG6Oht",
        "outputId": "d3f8b736-765f-484d-dab6-996d78fa9c17"
      },
      "source": [
        "d = {\"A\": [100, 200, 300, 400, 100], \"W\":[10, 5, 0, 3, 8]}\r\n",
        "df = pd.DataFrame(d)\r\n",
        "\r\n",
        "df"
      ],
      "execution_count": 43,
      "outputs": [
        {
          "output_type": "execute_result",
          "data": {
            "text/html": [
              "<div>\n",
              "<style scoped>\n",
              "    .dataframe tbody tr th:only-of-type {\n",
              "        vertical-align: middle;\n",
              "    }\n",
              "\n",
              "    .dataframe tbody tr th {\n",
              "        vertical-align: top;\n",
              "    }\n",
              "\n",
              "    .dataframe thead th {\n",
              "        text-align: right;\n",
              "    }\n",
              "</style>\n",
              "<table border=\"1\" class=\"dataframe\">\n",
              "  <thead>\n",
              "    <tr style=\"text-align: right;\">\n",
              "      <th></th>\n",
              "      <th>A</th>\n",
              "      <th>W</th>\n",
              "    </tr>\n",
              "  </thead>\n",
              "  <tbody>\n",
              "    <tr>\n",
              "      <th>0</th>\n",
              "      <td>100</td>\n",
              "      <td>10</td>\n",
              "    </tr>\n",
              "    <tr>\n",
              "      <th>1</th>\n",
              "      <td>200</td>\n",
              "      <td>5</td>\n",
              "    </tr>\n",
              "    <tr>\n",
              "      <th>2</th>\n",
              "      <td>300</td>\n",
              "      <td>0</td>\n",
              "    </tr>\n",
              "    <tr>\n",
              "      <th>3</th>\n",
              "      <td>400</td>\n",
              "      <td>3</td>\n",
              "    </tr>\n",
              "    <tr>\n",
              "      <th>4</th>\n",
              "      <td>100</td>\n",
              "      <td>8</td>\n",
              "    </tr>\n",
              "  </tbody>\n",
              "</table>\n",
              "</div>"
            ],
            "text/plain": [
              "     A   W\n",
              "0  100  10\n",
              "1  200   5\n",
              "2  300   0\n",
              "3  400   3\n",
              "4  100   8"
            ]
          },
          "metadata": {
            "tags": []
          },
          "execution_count": 43
        }
      ]
    },
    {
      "cell_type": "code",
      "metadata": {
        "colab": {
          "base_uri": "https://localhost:8080/",
          "height": 197
        },
        "id": "CrwQlQlf6jcx",
        "outputId": "afb64546-da5d-49cd-c77c-e14899c91509"
      },
      "source": [
        "# with replacement\r\n",
        "df.sample(n = 5, replace = True, random_state = 2)"
      ],
      "execution_count": 44,
      "outputs": [
        {
          "output_type": "execute_result",
          "data": {
            "text/html": [
              "<div>\n",
              "<style scoped>\n",
              "    .dataframe tbody tr th:only-of-type {\n",
              "        vertical-align: middle;\n",
              "    }\n",
              "\n",
              "    .dataframe tbody tr th {\n",
              "        vertical-align: top;\n",
              "    }\n",
              "\n",
              "    .dataframe thead th {\n",
              "        text-align: right;\n",
              "    }\n",
              "</style>\n",
              "<table border=\"1\" class=\"dataframe\">\n",
              "  <thead>\n",
              "    <tr style=\"text-align: right;\">\n",
              "      <th></th>\n",
              "      <th>A</th>\n",
              "      <th>W</th>\n",
              "    </tr>\n",
              "  </thead>\n",
              "  <tbody>\n",
              "    <tr>\n",
              "      <th>0</th>\n",
              "      <td>100</td>\n",
              "      <td>10</td>\n",
              "    </tr>\n",
              "    <tr>\n",
              "      <th>0</th>\n",
              "      <td>100</td>\n",
              "      <td>10</td>\n",
              "    </tr>\n",
              "    <tr>\n",
              "      <th>3</th>\n",
              "      <td>400</td>\n",
              "      <td>3</td>\n",
              "    </tr>\n",
              "    <tr>\n",
              "      <th>2</th>\n",
              "      <td>300</td>\n",
              "      <td>0</td>\n",
              "    </tr>\n",
              "    <tr>\n",
              "      <th>3</th>\n",
              "      <td>400</td>\n",
              "      <td>3</td>\n",
              "    </tr>\n",
              "  </tbody>\n",
              "</table>\n",
              "</div>"
            ],
            "text/plain": [
              "     A   W\n",
              "0  100  10\n",
              "0  100  10\n",
              "3  400   3\n",
              "2  300   0\n",
              "3  400   3"
            ]
          },
          "metadata": {
            "tags": []
          },
          "execution_count": 44
        }
      ]
    },
    {
      "cell_type": "code",
      "metadata": {
        "colab": {
          "base_uri": "https://localhost:8080/",
          "height": 197
        },
        "id": "XgRoJd266lYN",
        "outputId": "08213435-b7ae-4d31-cee0-e9bb48c46c8f"
      },
      "source": [
        "# adding weights\r\n",
        "df.sample(n = 5, replace = True, random_state = 2, weights = \"W\")"
      ],
      "execution_count": 51,
      "outputs": [
        {
          "output_type": "execute_result",
          "data": {
            "text/html": [
              "<div>\n",
              "<style scoped>\n",
              "    .dataframe tbody tr th:only-of-type {\n",
              "        vertical-align: middle;\n",
              "    }\n",
              "\n",
              "    .dataframe tbody tr th {\n",
              "        vertical-align: top;\n",
              "    }\n",
              "\n",
              "    .dataframe thead th {\n",
              "        text-align: right;\n",
              "    }\n",
              "</style>\n",
              "<table border=\"1\" class=\"dataframe\">\n",
              "  <thead>\n",
              "    <tr style=\"text-align: right;\">\n",
              "      <th></th>\n",
              "      <th>A</th>\n",
              "      <th>W</th>\n",
              "    </tr>\n",
              "  </thead>\n",
              "  <tbody>\n",
              "    <tr>\n",
              "      <th>1</th>\n",
              "      <td>200</td>\n",
              "      <td>5</td>\n",
              "    </tr>\n",
              "    <tr>\n",
              "      <th>0</th>\n",
              "      <td>100</td>\n",
              "      <td>10</td>\n",
              "    </tr>\n",
              "    <tr>\n",
              "      <th>1</th>\n",
              "      <td>200</td>\n",
              "      <td>5</td>\n",
              "    </tr>\n",
              "    <tr>\n",
              "      <th>1</th>\n",
              "      <td>200</td>\n",
              "      <td>5</td>\n",
              "    </tr>\n",
              "    <tr>\n",
              "      <th>1</th>\n",
              "      <td>200</td>\n",
              "      <td>5</td>\n",
              "    </tr>\n",
              "  </tbody>\n",
              "</table>\n",
              "</div>"
            ],
            "text/plain": [
              "     A   W\n",
              "1  200   5\n",
              "0  100  10\n",
              "1  200   5\n",
              "1  200   5\n",
              "1  200   5"
            ]
          },
          "metadata": {
            "tags": []
          },
          "execution_count": 51
        }
      ]
    },
    {
      "cell_type": "markdown",
      "metadata": {
        "id": "4h7Yw7pK6oqO"
      },
      "source": [
        "## Trick 48 : Useful parameters when using pd.read_csv()"
      ]
    },
    {
      "cell_type": "code",
      "metadata": {
        "colab": {
          "base_uri": "https://localhost:8080/",
          "height": 458
        },
        "id": "fSNk_mic7It6",
        "outputId": "433f93b2-1761-4c05-b6bd-6b49453627f8"
      },
      "source": [
        "df = pd.read_csv(\"train.csv\")\r\n",
        "\r\n",
        "df.head()\r\n",
        "df.dtypes"
      ],
      "execution_count": 52,
      "outputs": [
        {
          "output_type": "execute_result",
          "data": {
            "text/html": [
              "<div>\n",
              "<style scoped>\n",
              "    .dataframe tbody tr th:only-of-type {\n",
              "        vertical-align: middle;\n",
              "    }\n",
              "\n",
              "    .dataframe tbody tr th {\n",
              "        vertical-align: top;\n",
              "    }\n",
              "\n",
              "    .dataframe thead th {\n",
              "        text-align: right;\n",
              "    }\n",
              "</style>\n",
              "<table border=\"1\" class=\"dataframe\">\n",
              "  <thead>\n",
              "    <tr style=\"text-align: right;\">\n",
              "      <th></th>\n",
              "      <th>PassengerId</th>\n",
              "      <th>Survived</th>\n",
              "      <th>Pclass</th>\n",
              "      <th>Name</th>\n",
              "      <th>Sex</th>\n",
              "      <th>Age</th>\n",
              "      <th>SibSp</th>\n",
              "      <th>Parch</th>\n",
              "      <th>Ticket</th>\n",
              "      <th>Fare</th>\n",
              "      <th>Cabin</th>\n",
              "      <th>Embarked</th>\n",
              "    </tr>\n",
              "  </thead>\n",
              "  <tbody>\n",
              "    <tr>\n",
              "      <th>0</th>\n",
              "      <td>1</td>\n",
              "      <td>0</td>\n",
              "      <td>3</td>\n",
              "      <td>Braund, Mr. Owen Harris</td>\n",
              "      <td>male</td>\n",
              "      <td>22.0</td>\n",
              "      <td>1</td>\n",
              "      <td>0</td>\n",
              "      <td>A/5 21171</td>\n",
              "      <td>7.2500</td>\n",
              "      <td>NaN</td>\n",
              "      <td>S</td>\n",
              "    </tr>\n",
              "    <tr>\n",
              "      <th>1</th>\n",
              "      <td>2</td>\n",
              "      <td>1</td>\n",
              "      <td>1</td>\n",
              "      <td>Cumings, Mrs. John Bradley (Florence Briggs Th...</td>\n",
              "      <td>female</td>\n",
              "      <td>38.0</td>\n",
              "      <td>1</td>\n",
              "      <td>0</td>\n",
              "      <td>PC 17599</td>\n",
              "      <td>71.2833</td>\n",
              "      <td>C85</td>\n",
              "      <td>C</td>\n",
              "    </tr>\n",
              "    <tr>\n",
              "      <th>2</th>\n",
              "      <td>3</td>\n",
              "      <td>1</td>\n",
              "      <td>3</td>\n",
              "      <td>Heikkinen, Miss. Laina</td>\n",
              "      <td>female</td>\n",
              "      <td>26.0</td>\n",
              "      <td>0</td>\n",
              "      <td>0</td>\n",
              "      <td>STON/O2. 3101282</td>\n",
              "      <td>7.9250</td>\n",
              "      <td>NaN</td>\n",
              "      <td>S</td>\n",
              "    </tr>\n",
              "    <tr>\n",
              "      <th>3</th>\n",
              "      <td>4</td>\n",
              "      <td>1</td>\n",
              "      <td>1</td>\n",
              "      <td>Futrelle, Mrs. Jacques Heath (Lily May Peel)</td>\n",
              "      <td>female</td>\n",
              "      <td>35.0</td>\n",
              "      <td>1</td>\n",
              "      <td>0</td>\n",
              "      <td>113803</td>\n",
              "      <td>53.1000</td>\n",
              "      <td>C123</td>\n",
              "      <td>S</td>\n",
              "    </tr>\n",
              "    <tr>\n",
              "      <th>4</th>\n",
              "      <td>5</td>\n",
              "      <td>0</td>\n",
              "      <td>3</td>\n",
              "      <td>Allen, Mr. William Henry</td>\n",
              "      <td>male</td>\n",
              "      <td>35.0</td>\n",
              "      <td>0</td>\n",
              "      <td>0</td>\n",
              "      <td>373450</td>\n",
              "      <td>8.0500</td>\n",
              "      <td>NaN</td>\n",
              "      <td>S</td>\n",
              "    </tr>\n",
              "  </tbody>\n",
              "</table>\n",
              "</div>"
            ],
            "text/plain": [
              "   PassengerId  Survived  Pclass  ...     Fare Cabin  Embarked\n",
              "0            1         0       3  ...   7.2500   NaN         S\n",
              "1            2         1       1  ...  71.2833   C85         C\n",
              "2            3         1       3  ...   7.9250   NaN         S\n",
              "3            4         1       1  ...  53.1000  C123         S\n",
              "4            5         0       3  ...   8.0500   NaN         S\n",
              "\n",
              "[5 rows x 12 columns]"
            ]
          },
          "metadata": {
            "tags": []
          },
          "execution_count": 52
        },
        {
          "output_type": "execute_result",
          "data": {
            "text/plain": [
              "PassengerId      int64\n",
              "Survived         int64\n",
              "Pclass           int64\n",
              "Name            object\n",
              "Sex             object\n",
              "Age            float64\n",
              "SibSp            int64\n",
              "Parch            int64\n",
              "Ticket          object\n",
              "Fare           float64\n",
              "Cabin           object\n",
              "Embarked        object\n",
              "dtype: object"
            ]
          },
          "metadata": {
            "tags": []
          },
          "execution_count": 52
        }
      ]
    },
    {
      "cell_type": "code",
      "metadata": {
        "colab": {
          "base_uri": "https://localhost:8080/",
          "height": 250
        },
        "id": "pj89ReL3EnJq",
        "outputId": "e47b1e4f-3795-46db-e92b-488fc0461bbd"
      },
      "source": [
        "# Let's import the country and beer_servings columns, convert them to string and float64 respectevly\r\n",
        "# Import only the first 5 rows and thread 0 as nans\r\n",
        "df = pd.read_csv(\"train.csv\",\r\n",
        "                    usecols=[\"Sex\", \"Age\"],\r\n",
        "                    dtype={\"Sex\":\"category\", \"Age\":\"int64\"},\r\n",
        "                    nrows = 5,\r\n",
        "                    na_values = 0.0)\r\n",
        "df\r\n",
        "df.dtypes\r\n",
        "\r\n",
        "# more about read_csv on https://pandas.pydata.org/pandas-docs/stable/reference/api/pandas.read_csv.html"
      ],
      "execution_count": 54,
      "outputs": [
        {
          "output_type": "execute_result",
          "data": {
            "text/html": [
              "<div>\n",
              "<style scoped>\n",
              "    .dataframe tbody tr th:only-of-type {\n",
              "        vertical-align: middle;\n",
              "    }\n",
              "\n",
              "    .dataframe tbody tr th {\n",
              "        vertical-align: top;\n",
              "    }\n",
              "\n",
              "    .dataframe thead th {\n",
              "        text-align: right;\n",
              "    }\n",
              "</style>\n",
              "<table border=\"1\" class=\"dataframe\">\n",
              "  <thead>\n",
              "    <tr style=\"text-align: right;\">\n",
              "      <th></th>\n",
              "      <th>Sex</th>\n",
              "      <th>Age</th>\n",
              "    </tr>\n",
              "  </thead>\n",
              "  <tbody>\n",
              "    <tr>\n",
              "      <th>0</th>\n",
              "      <td>male</td>\n",
              "      <td>22</td>\n",
              "    </tr>\n",
              "    <tr>\n",
              "      <th>1</th>\n",
              "      <td>female</td>\n",
              "      <td>38</td>\n",
              "    </tr>\n",
              "    <tr>\n",
              "      <th>2</th>\n",
              "      <td>female</td>\n",
              "      <td>26</td>\n",
              "    </tr>\n",
              "    <tr>\n",
              "      <th>3</th>\n",
              "      <td>female</td>\n",
              "      <td>35</td>\n",
              "    </tr>\n",
              "    <tr>\n",
              "      <th>4</th>\n",
              "      <td>male</td>\n",
              "      <td>35</td>\n",
              "    </tr>\n",
              "  </tbody>\n",
              "</table>\n",
              "</div>"
            ],
            "text/plain": [
              "      Sex  Age\n",
              "0    male   22\n",
              "1  female   38\n",
              "2  female   26\n",
              "3  female   35\n",
              "4    male   35"
            ]
          },
          "metadata": {
            "tags": []
          },
          "execution_count": 54
        },
        {
          "output_type": "execute_result",
          "data": {
            "text/plain": [
              "Sex    category\n",
              "Age       int64\n",
              "dtype: object"
            ]
          },
          "metadata": {
            "tags": []
          },
          "execution_count": 54
        }
      ]
    },
    {
      "cell_type": "markdown",
      "metadata": {
        "id": "BPvtMVreFBHS"
      },
      "source": [
        "## Trick 47 : Create one row for each item in a list (explode)"
      ]
    },
    {
      "cell_type": "code",
      "metadata": {
        "colab": {
          "base_uri": "https://localhost:8080/",
          "height": 125
        },
        "id": "6WynLVhnFOK4",
        "outputId": "3a2a407c-bed6-4686-b8d1-f7fa22bf1289"
      },
      "source": [
        "d = {\"Team\":[\"FC Barcelona\", \"FC Real Madrid\"], \r\n",
        "    \"Players\":[[\"Ter Stegen\", \"Semedo\", \"Piqué\", \"Lenglet\", \"Alba\", \"Rakitic\", \"De Jong\", \"Sergi Roberto\", \"Messi\", \"Suárez\", \"Griezmann\"], \\\r\n",
        "               [\"Courtois\", \"Carvajal\", \"Varane\", \"Sergio Ramos\", \"Mendy\", \"Kroos\", \"Valverde\", \"Casemiro\", \"Isco\", \"Benzema\", \"Bale\"]]}\r\n",
        "\r\n",
        "print(\"Notice that we have a list of players for each team. Let's generate a row for each player.\")\r\n",
        "df = pd.DataFrame(d)\r\n",
        "df"
      ],
      "execution_count": 56,
      "outputs": [
        {
          "output_type": "stream",
          "text": [
            "Notice that we have a list of players for each team. Let's generate a row for each player.\n"
          ],
          "name": "stdout"
        },
        {
          "output_type": "execute_result",
          "data": {
            "text/html": [
              "<div>\n",
              "<style scoped>\n",
              "    .dataframe tbody tr th:only-of-type {\n",
              "        vertical-align: middle;\n",
              "    }\n",
              "\n",
              "    .dataframe tbody tr th {\n",
              "        vertical-align: top;\n",
              "    }\n",
              "\n",
              "    .dataframe thead th {\n",
              "        text-align: right;\n",
              "    }\n",
              "</style>\n",
              "<table border=\"1\" class=\"dataframe\">\n",
              "  <thead>\n",
              "    <tr style=\"text-align: right;\">\n",
              "      <th></th>\n",
              "      <th>Team</th>\n",
              "      <th>Players</th>\n",
              "    </tr>\n",
              "  </thead>\n",
              "  <tbody>\n",
              "    <tr>\n",
              "      <th>0</th>\n",
              "      <td>FC Barcelona</td>\n",
              "      <td>[Ter Stegen, Semedo, Piqué, Lenglet, Alba, Rak...</td>\n",
              "    </tr>\n",
              "    <tr>\n",
              "      <th>1</th>\n",
              "      <td>FC Real Madrid</td>\n",
              "      <td>[Courtois, Carvajal, Varane, Sergio Ramos, Men...</td>\n",
              "    </tr>\n",
              "  </tbody>\n",
              "</table>\n",
              "</div>"
            ],
            "text/plain": [
              "             Team                                            Players\n",
              "0    FC Barcelona  [Ter Stegen, Semedo, Piqué, Lenglet, Alba, Rak...\n",
              "1  FC Real Madrid  [Courtois, Carvajal, Varane, Sergio Ramos, Men..."
            ]
          },
          "metadata": {
            "tags": []
          },
          "execution_count": 56
        }
      ]
    },
    {
      "cell_type": "code",
      "metadata": {
        "colab": {
          "base_uri": "https://localhost:8080/",
          "height": 725
        },
        "id": "7Y3e-WjoFQAC",
        "outputId": "c7bdce7f-ba28-4403-fbd3-26ac6e51d6c7"
      },
      "source": [
        "print(\"Using explode to generate new rows for each player.\")\r\n",
        "df1 = df.explode(\"Players\")\r\n",
        "df1"
      ],
      "execution_count": 57,
      "outputs": [
        {
          "output_type": "stream",
          "text": [
            "Using explode to generate new rows for each player.\n"
          ],
          "name": "stdout"
        },
        {
          "output_type": "execute_result",
          "data": {
            "text/html": [
              "<div>\n",
              "<style scoped>\n",
              "    .dataframe tbody tr th:only-of-type {\n",
              "        vertical-align: middle;\n",
              "    }\n",
              "\n",
              "    .dataframe tbody tr th {\n",
              "        vertical-align: top;\n",
              "    }\n",
              "\n",
              "    .dataframe thead th {\n",
              "        text-align: right;\n",
              "    }\n",
              "</style>\n",
              "<table border=\"1\" class=\"dataframe\">\n",
              "  <thead>\n",
              "    <tr style=\"text-align: right;\">\n",
              "      <th></th>\n",
              "      <th>Team</th>\n",
              "      <th>Players</th>\n",
              "    </tr>\n",
              "  </thead>\n",
              "  <tbody>\n",
              "    <tr>\n",
              "      <th>0</th>\n",
              "      <td>FC Barcelona</td>\n",
              "      <td>Ter Stegen</td>\n",
              "    </tr>\n",
              "    <tr>\n",
              "      <th>0</th>\n",
              "      <td>FC Barcelona</td>\n",
              "      <td>Semedo</td>\n",
              "    </tr>\n",
              "    <tr>\n",
              "      <th>0</th>\n",
              "      <td>FC Barcelona</td>\n",
              "      <td>Piqué</td>\n",
              "    </tr>\n",
              "    <tr>\n",
              "      <th>0</th>\n",
              "      <td>FC Barcelona</td>\n",
              "      <td>Lenglet</td>\n",
              "    </tr>\n",
              "    <tr>\n",
              "      <th>0</th>\n",
              "      <td>FC Barcelona</td>\n",
              "      <td>Alba</td>\n",
              "    </tr>\n",
              "    <tr>\n",
              "      <th>0</th>\n",
              "      <td>FC Barcelona</td>\n",
              "      <td>Rakitic</td>\n",
              "    </tr>\n",
              "    <tr>\n",
              "      <th>0</th>\n",
              "      <td>FC Barcelona</td>\n",
              "      <td>De Jong</td>\n",
              "    </tr>\n",
              "    <tr>\n",
              "      <th>0</th>\n",
              "      <td>FC Barcelona</td>\n",
              "      <td>Sergi Roberto</td>\n",
              "    </tr>\n",
              "    <tr>\n",
              "      <th>0</th>\n",
              "      <td>FC Barcelona</td>\n",
              "      <td>Messi</td>\n",
              "    </tr>\n",
              "    <tr>\n",
              "      <th>0</th>\n",
              "      <td>FC Barcelona</td>\n",
              "      <td>Suárez</td>\n",
              "    </tr>\n",
              "    <tr>\n",
              "      <th>0</th>\n",
              "      <td>FC Barcelona</td>\n",
              "      <td>Griezmann</td>\n",
              "    </tr>\n",
              "    <tr>\n",
              "      <th>1</th>\n",
              "      <td>FC Real Madrid</td>\n",
              "      <td>Courtois</td>\n",
              "    </tr>\n",
              "    <tr>\n",
              "      <th>1</th>\n",
              "      <td>FC Real Madrid</td>\n",
              "      <td>Carvajal</td>\n",
              "    </tr>\n",
              "    <tr>\n",
              "      <th>1</th>\n",
              "      <td>FC Real Madrid</td>\n",
              "      <td>Varane</td>\n",
              "    </tr>\n",
              "    <tr>\n",
              "      <th>1</th>\n",
              "      <td>FC Real Madrid</td>\n",
              "      <td>Sergio Ramos</td>\n",
              "    </tr>\n",
              "    <tr>\n",
              "      <th>1</th>\n",
              "      <td>FC Real Madrid</td>\n",
              "      <td>Mendy</td>\n",
              "    </tr>\n",
              "    <tr>\n",
              "      <th>1</th>\n",
              "      <td>FC Real Madrid</td>\n",
              "      <td>Kroos</td>\n",
              "    </tr>\n",
              "    <tr>\n",
              "      <th>1</th>\n",
              "      <td>FC Real Madrid</td>\n",
              "      <td>Valverde</td>\n",
              "    </tr>\n",
              "    <tr>\n",
              "      <th>1</th>\n",
              "      <td>FC Real Madrid</td>\n",
              "      <td>Casemiro</td>\n",
              "    </tr>\n",
              "    <tr>\n",
              "      <th>1</th>\n",
              "      <td>FC Real Madrid</td>\n",
              "      <td>Isco</td>\n",
              "    </tr>\n",
              "    <tr>\n",
              "      <th>1</th>\n",
              "      <td>FC Real Madrid</td>\n",
              "      <td>Benzema</td>\n",
              "    </tr>\n",
              "    <tr>\n",
              "      <th>1</th>\n",
              "      <td>FC Real Madrid</td>\n",
              "      <td>Bale</td>\n",
              "    </tr>\n",
              "  </tbody>\n",
              "</table>\n",
              "</div>"
            ],
            "text/plain": [
              "             Team        Players\n",
              "0    FC Barcelona     Ter Stegen\n",
              "0    FC Barcelona         Semedo\n",
              "0    FC Barcelona          Piqué\n",
              "0    FC Barcelona        Lenglet\n",
              "0    FC Barcelona           Alba\n",
              "0    FC Barcelona        Rakitic\n",
              "0    FC Barcelona        De Jong\n",
              "0    FC Barcelona  Sergi Roberto\n",
              "0    FC Barcelona          Messi\n",
              "0    FC Barcelona         Suárez\n",
              "0    FC Barcelona      Griezmann\n",
              "1  FC Real Madrid       Courtois\n",
              "1  FC Real Madrid       Carvajal\n",
              "1  FC Real Madrid         Varane\n",
              "1  FC Real Madrid   Sergio Ramos\n",
              "1  FC Real Madrid          Mendy\n",
              "1  FC Real Madrid          Kroos\n",
              "1  FC Real Madrid       Valverde\n",
              "1  FC Real Madrid       Casemiro\n",
              "1  FC Real Madrid           Isco\n",
              "1  FC Real Madrid        Benzema\n",
              "1  FC Real Madrid           Bale"
            ]
          },
          "metadata": {
            "tags": []
          },
          "execution_count": 57
        }
      ]
    },
    {
      "cell_type": "code",
      "metadata": {
        "colab": {
          "base_uri": "https://localhost:8080/",
          "height": 125
        },
        "id": "LuVoBLwNFWOv",
        "outputId": "7a64f128-009a-4820-e19e-c99b8e23ba06"
      },
      "source": [
        "print(\"Reverse this operation with groupby and agg\")\r\n",
        "df[\"Imploded\"] = df1.groupby(df1.index)[\"Players\"].agg(list)\r\n",
        "df"
      ],
      "execution_count": 58,
      "outputs": [
        {
          "output_type": "stream",
          "text": [
            "Reverse this operation with groupby and agg\n"
          ],
          "name": "stdout"
        },
        {
          "output_type": "execute_result",
          "data": {
            "text/html": [
              "<div>\n",
              "<style scoped>\n",
              "    .dataframe tbody tr th:only-of-type {\n",
              "        vertical-align: middle;\n",
              "    }\n",
              "\n",
              "    .dataframe tbody tr th {\n",
              "        vertical-align: top;\n",
              "    }\n",
              "\n",
              "    .dataframe thead th {\n",
              "        text-align: right;\n",
              "    }\n",
              "</style>\n",
              "<table border=\"1\" class=\"dataframe\">\n",
              "  <thead>\n",
              "    <tr style=\"text-align: right;\">\n",
              "      <th></th>\n",
              "      <th>Team</th>\n",
              "      <th>Players</th>\n",
              "      <th>Imploded</th>\n",
              "    </tr>\n",
              "  </thead>\n",
              "  <tbody>\n",
              "    <tr>\n",
              "      <th>0</th>\n",
              "      <td>FC Barcelona</td>\n",
              "      <td>[Ter Stegen, Semedo, Piqué, Lenglet, Alba, Rak...</td>\n",
              "      <td>[Ter Stegen, Semedo, Piqué, Lenglet, Alba, Rak...</td>\n",
              "    </tr>\n",
              "    <tr>\n",
              "      <th>1</th>\n",
              "      <td>FC Real Madrid</td>\n",
              "      <td>[Courtois, Carvajal, Varane, Sergio Ramos, Men...</td>\n",
              "      <td>[Courtois, Carvajal, Varane, Sergio Ramos, Men...</td>\n",
              "    </tr>\n",
              "  </tbody>\n",
              "</table>\n",
              "</div>"
            ],
            "text/plain": [
              "             Team  ...                                           Imploded\n",
              "0    FC Barcelona  ...  [Ter Stegen, Semedo, Piqué, Lenglet, Alba, Rak...\n",
              "1  FC Real Madrid  ...  [Courtois, Carvajal, Varane, Sergio Ramos, Men...\n",
              "\n",
              "[2 rows x 3 columns]"
            ]
          },
          "metadata": {
            "tags": []
          },
          "execution_count": 58
        }
      ]
    },
    {
      "cell_type": "markdown",
      "metadata": {
        "id": "Q6WJRP3hFZnl"
      },
      "source": [
        "## Trick 46 : Store NaN in an integer type with Int64 (not int64)"
      ]
    },
    {
      "cell_type": "code",
      "metadata": {
        "colab": {
          "base_uri": "https://localhost:8080/"
        },
        "id": "IT-9FByFGc9_",
        "outputId": "21312369-bc30-416a-c13b-e67f97bc2658"
      },
      "source": [
        "print(\"Default series\")\r\n",
        "\r\n",
        "ser1 = pd.Series([10, 20])\r\n",
        "ser1"
      ],
      "execution_count": 59,
      "outputs": [
        {
          "output_type": "stream",
          "text": [
            "Default series\n"
          ],
          "name": "stdout"
        },
        {
          "output_type": "execute_result",
          "data": {
            "text/plain": [
              "0    10\n",
              "1    20\n",
              "dtype: int64"
            ]
          },
          "metadata": {
            "tags": []
          },
          "execution_count": 59
        }
      ]
    },
    {
      "cell_type": "code",
      "metadata": {
        "colab": {
          "base_uri": "https://localhost:8080/"
        },
        "id": "BgJSgJThGeSS",
        "outputId": "d50ec7c8-baf7-4385-86d9-6a34f997e5ab"
      },
      "source": [
        "print(\"Let's add a NaN to an int64 series\")\r\n",
        "\r\n",
        "ser1 = pd.Series([10, 20, np.nan])  # Notice it has been converted to float64\r\n",
        "ser1 "
      ],
      "execution_count": 60,
      "outputs": [
        {
          "output_type": "stream",
          "text": [
            "Let's add a NaN to an int64 series\n"
          ],
          "name": "stdout"
        },
        {
          "output_type": "execute_result",
          "data": {
            "text/plain": [
              "0    10.0\n",
              "1    20.0\n",
              "2     NaN\n",
              "dtype: float64"
            ]
          },
          "metadata": {
            "tags": []
          },
          "execution_count": 60
        }
      ]
    },
    {
      "cell_type": "code",
      "metadata": {
        "colab": {
          "base_uri": "https://localhost:8080/"
        },
        "id": "AHVwCxzVGgBz",
        "outputId": "6fd6c609-6bfe-4379-82f0-36597c250342"
      },
      "source": [
        "print(\"But if we use Int64 than everything will work\")\r\n",
        "\r\n",
        "ser1 = pd.Series([10, 20, np.nan], dtype = \"Int64\") # dtype is Int64\r\n",
        "ser1"
      ],
      "execution_count": 61,
      "outputs": [
        {
          "output_type": "stream",
          "text": [
            "But if we use Int64 than everything will work\n"
          ],
          "name": "stdout"
        },
        {
          "output_type": "execute_result",
          "data": {
            "text/plain": [
              "0      10\n",
              "1      20\n",
              "2    <NA>\n",
              "dtype: Int64"
            ]
          },
          "metadata": {
            "tags": []
          },
          "execution_count": 61
        }
      ]
    },
    {
      "cell_type": "markdown",
      "metadata": {
        "id": "9puGzrRVGiUi"
      },
      "source": [
        "## Trick 45 : Create rows for values separated by commas in a cell (assing and explode)"
      ]
    },
    {
      "cell_type": "code",
      "metadata": {
        "colab": {
          "base_uri": "https://localhost:8080/",
          "height": 125
        },
        "id": "FPHtb4WDG_-i",
        "outputId": "7ea9e9b2-79ed-4388-c434-1a53295ac35c"
      },
      "source": [
        "d = {\"Team\":[\"FC Barcelona\", \"FC Real Madrid\"], \r\n",
        "    \"Players\":[\"Ter Stegen, Semedo, Piqué, Lenglet, Alba, Rakitic, De Jong, Sergi Roberto, Messi, Suárez, Griezmann\",\r\n",
        "               \"Courtois, Carvajal, Varane, Sergio Ramos, Mendy, Kroos, Valverde, Casemiro, Isco, Benzema, Bale\"]}\r\n",
        "\r\n",
        "\r\n",
        "print(\"Notice that we have a list of players for each team separated by commas. Let's generate a row for each player.\")\r\n",
        "\r\n",
        "df = pd.DataFrame(d)\r\n",
        "df"
      ],
      "execution_count": 62,
      "outputs": [
        {
          "output_type": "stream",
          "text": [
            "Notice that we have a list of players for each team separated by commas. Let's generate a row for each player.\n"
          ],
          "name": "stdout"
        },
        {
          "output_type": "execute_result",
          "data": {
            "text/html": [
              "<div>\n",
              "<style scoped>\n",
              "    .dataframe tbody tr th:only-of-type {\n",
              "        vertical-align: middle;\n",
              "    }\n",
              "\n",
              "    .dataframe tbody tr th {\n",
              "        vertical-align: top;\n",
              "    }\n",
              "\n",
              "    .dataframe thead th {\n",
              "        text-align: right;\n",
              "    }\n",
              "</style>\n",
              "<table border=\"1\" class=\"dataframe\">\n",
              "  <thead>\n",
              "    <tr style=\"text-align: right;\">\n",
              "      <th></th>\n",
              "      <th>Team</th>\n",
              "      <th>Players</th>\n",
              "    </tr>\n",
              "  </thead>\n",
              "  <tbody>\n",
              "    <tr>\n",
              "      <th>0</th>\n",
              "      <td>FC Barcelona</td>\n",
              "      <td>Ter Stegen, Semedo, Piqué, Lenglet, Alba, Raki...</td>\n",
              "    </tr>\n",
              "    <tr>\n",
              "      <th>1</th>\n",
              "      <td>FC Real Madrid</td>\n",
              "      <td>Courtois, Carvajal, Varane, Sergio Ramos, Mend...</td>\n",
              "    </tr>\n",
              "  </tbody>\n",
              "</table>\n",
              "</div>"
            ],
            "text/plain": [
              "             Team                                            Players\n",
              "0    FC Barcelona  Ter Stegen, Semedo, Piqué, Lenglet, Alba, Raki...\n",
              "1  FC Real Madrid  Courtois, Carvajal, Varane, Sergio Ramos, Mend..."
            ]
          },
          "metadata": {
            "tags": []
          },
          "execution_count": 62
        }
      ]
    },
    {
      "cell_type": "code",
      "metadata": {
        "colab": {
          "base_uri": "https://localhost:8080/",
          "height": 125
        },
        "id": "ufhVEBWrH41l",
        "outputId": "28556291-9a9e-4082-fb7e-646010fbfa62"
      },
      "source": [
        "print(\"Notice that we have converted to something similar seen in example 47.\")\r\n",
        "\r\n",
        "df.assign(Players = df[\"Players\"].str.split(\",\"))"
      ],
      "execution_count": 63,
      "outputs": [
        {
          "output_type": "stream",
          "text": [
            "Notice that we have converted to something similar seen in example 47.\n"
          ],
          "name": "stdout"
        },
        {
          "output_type": "execute_result",
          "data": {
            "text/html": [
              "<div>\n",
              "<style scoped>\n",
              "    .dataframe tbody tr th:only-of-type {\n",
              "        vertical-align: middle;\n",
              "    }\n",
              "\n",
              "    .dataframe tbody tr th {\n",
              "        vertical-align: top;\n",
              "    }\n",
              "\n",
              "    .dataframe thead th {\n",
              "        text-align: right;\n",
              "    }\n",
              "</style>\n",
              "<table border=\"1\" class=\"dataframe\">\n",
              "  <thead>\n",
              "    <tr style=\"text-align: right;\">\n",
              "      <th></th>\n",
              "      <th>Team</th>\n",
              "      <th>Players</th>\n",
              "    </tr>\n",
              "  </thead>\n",
              "  <tbody>\n",
              "    <tr>\n",
              "      <th>0</th>\n",
              "      <td>FC Barcelona</td>\n",
              "      <td>[Ter Stegen,  Semedo,  Piqué,  Lenglet,  Alba,...</td>\n",
              "    </tr>\n",
              "    <tr>\n",
              "      <th>1</th>\n",
              "      <td>FC Real Madrid</td>\n",
              "      <td>[Courtois,  Carvajal,  Varane,  Sergio Ramos, ...</td>\n",
              "    </tr>\n",
              "  </tbody>\n",
              "</table>\n",
              "</div>"
            ],
            "text/plain": [
              "             Team                                            Players\n",
              "0    FC Barcelona  [Ter Stegen,  Semedo,  Piqué,  Lenglet,  Alba,...\n",
              "1  FC Real Madrid  [Courtois,  Carvajal,  Varane,  Sergio Ramos, ..."
            ]
          },
          "metadata": {
            "tags": []
          },
          "execution_count": 63
        }
      ]
    },
    {
      "cell_type": "code",
      "metadata": {
        "colab": {
          "base_uri": "https://localhost:8080/",
          "height": 725
        },
        "id": "ACmJuL2NH9ra",
        "outputId": "b998433b-03ea-49eb-a1ab-98213b273edb"
      },
      "source": [
        "print(\"Now add explode and done.\")\r\n",
        "\r\n",
        "df.assign(Players = df[\"Players\"].str.split(\",\")).explode(\"Players\")"
      ],
      "execution_count": 64,
      "outputs": [
        {
          "output_type": "stream",
          "text": [
            "Now add explode and done.\n"
          ],
          "name": "stdout"
        },
        {
          "output_type": "execute_result",
          "data": {
            "text/html": [
              "<div>\n",
              "<style scoped>\n",
              "    .dataframe tbody tr th:only-of-type {\n",
              "        vertical-align: middle;\n",
              "    }\n",
              "\n",
              "    .dataframe tbody tr th {\n",
              "        vertical-align: top;\n",
              "    }\n",
              "\n",
              "    .dataframe thead th {\n",
              "        text-align: right;\n",
              "    }\n",
              "</style>\n",
              "<table border=\"1\" class=\"dataframe\">\n",
              "  <thead>\n",
              "    <tr style=\"text-align: right;\">\n",
              "      <th></th>\n",
              "      <th>Team</th>\n",
              "      <th>Players</th>\n",
              "    </tr>\n",
              "  </thead>\n",
              "  <tbody>\n",
              "    <tr>\n",
              "      <th>0</th>\n",
              "      <td>FC Barcelona</td>\n",
              "      <td>Ter Stegen</td>\n",
              "    </tr>\n",
              "    <tr>\n",
              "      <th>0</th>\n",
              "      <td>FC Barcelona</td>\n",
              "      <td>Semedo</td>\n",
              "    </tr>\n",
              "    <tr>\n",
              "      <th>0</th>\n",
              "      <td>FC Barcelona</td>\n",
              "      <td>Piqué</td>\n",
              "    </tr>\n",
              "    <tr>\n",
              "      <th>0</th>\n",
              "      <td>FC Barcelona</td>\n",
              "      <td>Lenglet</td>\n",
              "    </tr>\n",
              "    <tr>\n",
              "      <th>0</th>\n",
              "      <td>FC Barcelona</td>\n",
              "      <td>Alba</td>\n",
              "    </tr>\n",
              "    <tr>\n",
              "      <th>0</th>\n",
              "      <td>FC Barcelona</td>\n",
              "      <td>Rakitic</td>\n",
              "    </tr>\n",
              "    <tr>\n",
              "      <th>0</th>\n",
              "      <td>FC Barcelona</td>\n",
              "      <td>De Jong</td>\n",
              "    </tr>\n",
              "    <tr>\n",
              "      <th>0</th>\n",
              "      <td>FC Barcelona</td>\n",
              "      <td>Sergi Roberto</td>\n",
              "    </tr>\n",
              "    <tr>\n",
              "      <th>0</th>\n",
              "      <td>FC Barcelona</td>\n",
              "      <td>Messi</td>\n",
              "    </tr>\n",
              "    <tr>\n",
              "      <th>0</th>\n",
              "      <td>FC Barcelona</td>\n",
              "      <td>Suárez</td>\n",
              "    </tr>\n",
              "    <tr>\n",
              "      <th>0</th>\n",
              "      <td>FC Barcelona</td>\n",
              "      <td>Griezmann</td>\n",
              "    </tr>\n",
              "    <tr>\n",
              "      <th>1</th>\n",
              "      <td>FC Real Madrid</td>\n",
              "      <td>Courtois</td>\n",
              "    </tr>\n",
              "    <tr>\n",
              "      <th>1</th>\n",
              "      <td>FC Real Madrid</td>\n",
              "      <td>Carvajal</td>\n",
              "    </tr>\n",
              "    <tr>\n",
              "      <th>1</th>\n",
              "      <td>FC Real Madrid</td>\n",
              "      <td>Varane</td>\n",
              "    </tr>\n",
              "    <tr>\n",
              "      <th>1</th>\n",
              "      <td>FC Real Madrid</td>\n",
              "      <td>Sergio Ramos</td>\n",
              "    </tr>\n",
              "    <tr>\n",
              "      <th>1</th>\n",
              "      <td>FC Real Madrid</td>\n",
              "      <td>Mendy</td>\n",
              "    </tr>\n",
              "    <tr>\n",
              "      <th>1</th>\n",
              "      <td>FC Real Madrid</td>\n",
              "      <td>Kroos</td>\n",
              "    </tr>\n",
              "    <tr>\n",
              "      <th>1</th>\n",
              "      <td>FC Real Madrid</td>\n",
              "      <td>Valverde</td>\n",
              "    </tr>\n",
              "    <tr>\n",
              "      <th>1</th>\n",
              "      <td>FC Real Madrid</td>\n",
              "      <td>Casemiro</td>\n",
              "    </tr>\n",
              "    <tr>\n",
              "      <th>1</th>\n",
              "      <td>FC Real Madrid</td>\n",
              "      <td>Isco</td>\n",
              "    </tr>\n",
              "    <tr>\n",
              "      <th>1</th>\n",
              "      <td>FC Real Madrid</td>\n",
              "      <td>Benzema</td>\n",
              "    </tr>\n",
              "    <tr>\n",
              "      <th>1</th>\n",
              "      <td>FC Real Madrid</td>\n",
              "      <td>Bale</td>\n",
              "    </tr>\n",
              "  </tbody>\n",
              "</table>\n",
              "</div>"
            ],
            "text/plain": [
              "             Team         Players\n",
              "0    FC Barcelona      Ter Stegen\n",
              "0    FC Barcelona          Semedo\n",
              "0    FC Barcelona           Piqué\n",
              "0    FC Barcelona         Lenglet\n",
              "0    FC Barcelona            Alba\n",
              "0    FC Barcelona         Rakitic\n",
              "0    FC Barcelona         De Jong\n",
              "0    FC Barcelona   Sergi Roberto\n",
              "0    FC Barcelona           Messi\n",
              "0    FC Barcelona          Suárez\n",
              "0    FC Barcelona       Griezmann\n",
              "1  FC Real Madrid        Courtois\n",
              "1  FC Real Madrid        Carvajal\n",
              "1  FC Real Madrid          Varane\n",
              "1  FC Real Madrid    Sergio Ramos\n",
              "1  FC Real Madrid           Mendy\n",
              "1  FC Real Madrid           Kroos\n",
              "1  FC Real Madrid        Valverde\n",
              "1  FC Real Madrid        Casemiro\n",
              "1  FC Real Madrid            Isco\n",
              "1  FC Real Madrid         Benzema\n",
              "1  FC Real Madrid            Bale"
            ]
          },
          "metadata": {
            "tags": []
          },
          "execution_count": 64
        }
      ]
    },
    {
      "cell_type": "markdown",
      "metadata": {
        "id": "geieT9f8IDpH"
      },
      "source": [
        "## Trick 44 : Use a local variable within a  query in pandas (using @)"
      ]
    },
    {
      "cell_type": "code",
      "metadata": {
        "colab": {
          "base_uri": "https://localhost:8080/",
          "height": 647
        },
        "id": "xVuUJnnsJHNW",
        "outputId": "b22ea096-9607-49e2-e8a4-e8f96884bda2"
      },
      "source": [
        "df = generate_sample_data()\r\n",
        "\r\n",
        "df"
      ],
      "execution_count": 65,
      "outputs": [
        {
          "output_type": "execute_result",
          "data": {
            "text/html": [
              "<div>\n",
              "<style scoped>\n",
              "    .dataframe tbody tr th:only-of-type {\n",
              "        vertical-align: middle;\n",
              "    }\n",
              "\n",
              "    .dataframe tbody tr th {\n",
              "        vertical-align: top;\n",
              "    }\n",
              "\n",
              "    .dataframe thead th {\n",
              "        text-align: right;\n",
              "    }\n",
              "</style>\n",
              "<table border=\"1\" class=\"dataframe\">\n",
              "  <thead>\n",
              "    <tr style=\"text-align: right;\">\n",
              "      <th></th>\n",
              "      <th>A</th>\n",
              "      <th>B</th>\n",
              "      <th>C</th>\n",
              "      <th>D</th>\n",
              "      <th>E</th>\n",
              "      <th>F</th>\n",
              "      <th>G</th>\n",
              "    </tr>\n",
              "  </thead>\n",
              "  <tbody>\n",
              "    <tr>\n",
              "      <th>0</th>\n",
              "      <td>9</td>\n",
              "      <td>14</td>\n",
              "      <td>19</td>\n",
              "      <td>6</td>\n",
              "      <td>11</td>\n",
              "      <td>18</td>\n",
              "      <td>7</td>\n",
              "    </tr>\n",
              "    <tr>\n",
              "      <th>1</th>\n",
              "      <td>4</td>\n",
              "      <td>2</td>\n",
              "      <td>9</td>\n",
              "      <td>3</td>\n",
              "      <td>13</td>\n",
              "      <td>7</td>\n",
              "      <td>12</td>\n",
              "    </tr>\n",
              "    <tr>\n",
              "      <th>2</th>\n",
              "      <td>7</td>\n",
              "      <td>6</td>\n",
              "      <td>3</td>\n",
              "      <td>4</td>\n",
              "      <td>7</td>\n",
              "      <td>10</td>\n",
              "      <td>3</td>\n",
              "    </tr>\n",
              "    <tr>\n",
              "      <th>3</th>\n",
              "      <td>2</td>\n",
              "      <td>17</td>\n",
              "      <td>19</td>\n",
              "      <td>13</td>\n",
              "      <td>14</td>\n",
              "      <td>10</td>\n",
              "      <td>7</td>\n",
              "    </tr>\n",
              "    <tr>\n",
              "      <th>4</th>\n",
              "      <td>18</td>\n",
              "      <td>5</td>\n",
              "      <td>11</td>\n",
              "      <td>12</td>\n",
              "      <td>3</td>\n",
              "      <td>18</td>\n",
              "      <td>10</td>\n",
              "    </tr>\n",
              "    <tr>\n",
              "      <th>5</th>\n",
              "      <td>13</td>\n",
              "      <td>5</td>\n",
              "      <td>16</td>\n",
              "      <td>19</td>\n",
              "      <td>7</td>\n",
              "      <td>11</td>\n",
              "      <td>5</td>\n",
              "    </tr>\n",
              "    <tr>\n",
              "      <th>6</th>\n",
              "      <td>8</td>\n",
              "      <td>4</td>\n",
              "      <td>16</td>\n",
              "      <td>14</td>\n",
              "      <td>13</td>\n",
              "      <td>10</td>\n",
              "      <td>10</td>\n",
              "    </tr>\n",
              "    <tr>\n",
              "      <th>7</th>\n",
              "      <td>14</td>\n",
              "      <td>15</td>\n",
              "      <td>18</td>\n",
              "      <td>7</td>\n",
              "      <td>17</td>\n",
              "      <td>9</td>\n",
              "      <td>14</td>\n",
              "    </tr>\n",
              "    <tr>\n",
              "      <th>8</th>\n",
              "      <td>16</td>\n",
              "      <td>15</td>\n",
              "      <td>7</td>\n",
              "      <td>18</td>\n",
              "      <td>3</td>\n",
              "      <td>11</td>\n",
              "      <td>18</td>\n",
              "    </tr>\n",
              "    <tr>\n",
              "      <th>9</th>\n",
              "      <td>11</td>\n",
              "      <td>14</td>\n",
              "      <td>5</td>\n",
              "      <td>12</td>\n",
              "      <td>18</td>\n",
              "      <td>19</td>\n",
              "      <td>19</td>\n",
              "    </tr>\n",
              "    <tr>\n",
              "      <th>10</th>\n",
              "      <td>15</td>\n",
              "      <td>14</td>\n",
              "      <td>13</td>\n",
              "      <td>10</td>\n",
              "      <td>7</td>\n",
              "      <td>14</td>\n",
              "      <td>16</td>\n",
              "    </tr>\n",
              "    <tr>\n",
              "      <th>11</th>\n",
              "      <td>12</td>\n",
              "      <td>9</td>\n",
              "      <td>12</td>\n",
              "      <td>5</td>\n",
              "      <td>2</td>\n",
              "      <td>17</td>\n",
              "      <td>11</td>\n",
              "    </tr>\n",
              "    <tr>\n",
              "      <th>12</th>\n",
              "      <td>16</td>\n",
              "      <td>12</td>\n",
              "      <td>12</td>\n",
              "      <td>5</td>\n",
              "      <td>17</td>\n",
              "      <td>6</td>\n",
              "      <td>3</td>\n",
              "    </tr>\n",
              "    <tr>\n",
              "      <th>13</th>\n",
              "      <td>19</td>\n",
              "      <td>11</td>\n",
              "      <td>6</td>\n",
              "      <td>9</td>\n",
              "      <td>3</td>\n",
              "      <td>13</td>\n",
              "      <td>19</td>\n",
              "    </tr>\n",
              "    <tr>\n",
              "      <th>14</th>\n",
              "      <td>14</td>\n",
              "      <td>7</td>\n",
              "      <td>15</td>\n",
              "      <td>8</td>\n",
              "      <td>13</td>\n",
              "      <td>12</td>\n",
              "      <td>4</td>\n",
              "    </tr>\n",
              "    <tr>\n",
              "      <th>15</th>\n",
              "      <td>17</td>\n",
              "      <td>2</td>\n",
              "      <td>1</td>\n",
              "      <td>7</td>\n",
              "      <td>9</td>\n",
              "      <td>14</td>\n",
              "      <td>6</td>\n",
              "    </tr>\n",
              "    <tr>\n",
              "      <th>16</th>\n",
              "      <td>5</td>\n",
              "      <td>3</td>\n",
              "      <td>4</td>\n",
              "      <td>11</td>\n",
              "      <td>11</td>\n",
              "      <td>19</td>\n",
              "      <td>8</td>\n",
              "    </tr>\n",
              "    <tr>\n",
              "      <th>17</th>\n",
              "      <td>11</td>\n",
              "      <td>6</td>\n",
              "      <td>15</td>\n",
              "      <td>13</td>\n",
              "      <td>6</td>\n",
              "      <td>6</td>\n",
              "      <td>19</td>\n",
              "    </tr>\n",
              "    <tr>\n",
              "      <th>18</th>\n",
              "      <td>3</td>\n",
              "      <td>15</td>\n",
              "      <td>14</td>\n",
              "      <td>17</td>\n",
              "      <td>17</td>\n",
              "      <td>19</td>\n",
              "      <td>8</td>\n",
              "    </tr>\n",
              "    <tr>\n",
              "      <th>19</th>\n",
              "      <td>5</td>\n",
              "      <td>3</td>\n",
              "      <td>16</td>\n",
              "      <td>11</td>\n",
              "      <td>11</td>\n",
              "      <td>15</td>\n",
              "      <td>18</td>\n",
              "    </tr>\n",
              "  </tbody>\n",
              "</table>\n",
              "</div>"
            ],
            "text/plain": [
              "     A   B   C   D   E   F   G\n",
              "0    9  14  19   6  11  18   7\n",
              "1    4   2   9   3  13   7  12\n",
              "2    7   6   3   4   7  10   3\n",
              "3    2  17  19  13  14  10   7\n",
              "4   18   5  11  12   3  18  10\n",
              "5   13   5  16  19   7  11   5\n",
              "6    8   4  16  14  13  10  10\n",
              "7   14  15  18   7  17   9  14\n",
              "8   16  15   7  18   3  11  18\n",
              "9   11  14   5  12  18  19  19\n",
              "10  15  14  13  10   7  14  16\n",
              "11  12   9  12   5   2  17  11\n",
              "12  16  12  12   5  17   6   3\n",
              "13  19  11   6   9   3  13  19\n",
              "14  14   7  15   8  13  12   4\n",
              "15  17   2   1   7   9  14   6\n",
              "16   5   3   4  11  11  19   8\n",
              "17  11   6  15  13   6   6  19\n",
              "18   3  15  14  17  17  19   8\n",
              "19   5   3  16  11  11  15  18"
            ]
          },
          "metadata": {
            "tags": []
          },
          "execution_count": 65
        }
      ]
    },
    {
      "cell_type": "code",
      "metadata": {
        "colab": {
          "base_uri": "https://localhost:8080/"
        },
        "id": "9W62dQLFJKfb",
        "outputId": "27f1e896-2f27-4bd3-9007-09b8e8d1c380"
      },
      "source": [
        "# create a local variable mean\r\n",
        "mean = df[\"A\"].mean()\r\n",
        "\r\n",
        "mean"
      ],
      "execution_count": 66,
      "outputs": [
        {
          "output_type": "execute_result",
          "data": {
            "text/plain": [
              "10.95"
            ]
          },
          "metadata": {
            "tags": []
          },
          "execution_count": 66
        }
      ]
    },
    {
      "cell_type": "code",
      "metadata": {
        "colab": {
          "base_uri": "https://localhost:8080/",
          "height": 402
        },
        "id": "TnIyVAIYJNXw",
        "outputId": "315decdb-835e-4b80-c50c-d389b8e27c7a"
      },
      "source": [
        "# now let's use in inside a query of pandas using @\r\n",
        "df.query(\"A > @mean\") # mean is local variable"
      ],
      "execution_count": 68,
      "outputs": [
        {
          "output_type": "execute_result",
          "data": {
            "text/html": [
              "<div>\n",
              "<style scoped>\n",
              "    .dataframe tbody tr th:only-of-type {\n",
              "        vertical-align: middle;\n",
              "    }\n",
              "\n",
              "    .dataframe tbody tr th {\n",
              "        vertical-align: top;\n",
              "    }\n",
              "\n",
              "    .dataframe thead th {\n",
              "        text-align: right;\n",
              "    }\n",
              "</style>\n",
              "<table border=\"1\" class=\"dataframe\">\n",
              "  <thead>\n",
              "    <tr style=\"text-align: right;\">\n",
              "      <th></th>\n",
              "      <th>A</th>\n",
              "      <th>B</th>\n",
              "      <th>C</th>\n",
              "      <th>D</th>\n",
              "      <th>E</th>\n",
              "      <th>F</th>\n",
              "      <th>G</th>\n",
              "    </tr>\n",
              "  </thead>\n",
              "  <tbody>\n",
              "    <tr>\n",
              "      <th>4</th>\n",
              "      <td>18</td>\n",
              "      <td>5</td>\n",
              "      <td>11</td>\n",
              "      <td>12</td>\n",
              "      <td>3</td>\n",
              "      <td>18</td>\n",
              "      <td>10</td>\n",
              "    </tr>\n",
              "    <tr>\n",
              "      <th>5</th>\n",
              "      <td>13</td>\n",
              "      <td>5</td>\n",
              "      <td>16</td>\n",
              "      <td>19</td>\n",
              "      <td>7</td>\n",
              "      <td>11</td>\n",
              "      <td>5</td>\n",
              "    </tr>\n",
              "    <tr>\n",
              "      <th>7</th>\n",
              "      <td>14</td>\n",
              "      <td>15</td>\n",
              "      <td>18</td>\n",
              "      <td>7</td>\n",
              "      <td>17</td>\n",
              "      <td>9</td>\n",
              "      <td>14</td>\n",
              "    </tr>\n",
              "    <tr>\n",
              "      <th>8</th>\n",
              "      <td>16</td>\n",
              "      <td>15</td>\n",
              "      <td>7</td>\n",
              "      <td>18</td>\n",
              "      <td>3</td>\n",
              "      <td>11</td>\n",
              "      <td>18</td>\n",
              "    </tr>\n",
              "    <tr>\n",
              "      <th>9</th>\n",
              "      <td>11</td>\n",
              "      <td>14</td>\n",
              "      <td>5</td>\n",
              "      <td>12</td>\n",
              "      <td>18</td>\n",
              "      <td>19</td>\n",
              "      <td>19</td>\n",
              "    </tr>\n",
              "    <tr>\n",
              "      <th>10</th>\n",
              "      <td>15</td>\n",
              "      <td>14</td>\n",
              "      <td>13</td>\n",
              "      <td>10</td>\n",
              "      <td>7</td>\n",
              "      <td>14</td>\n",
              "      <td>16</td>\n",
              "    </tr>\n",
              "    <tr>\n",
              "      <th>11</th>\n",
              "      <td>12</td>\n",
              "      <td>9</td>\n",
              "      <td>12</td>\n",
              "      <td>5</td>\n",
              "      <td>2</td>\n",
              "      <td>17</td>\n",
              "      <td>11</td>\n",
              "    </tr>\n",
              "    <tr>\n",
              "      <th>12</th>\n",
              "      <td>16</td>\n",
              "      <td>12</td>\n",
              "      <td>12</td>\n",
              "      <td>5</td>\n",
              "      <td>17</td>\n",
              "      <td>6</td>\n",
              "      <td>3</td>\n",
              "    </tr>\n",
              "    <tr>\n",
              "      <th>13</th>\n",
              "      <td>19</td>\n",
              "      <td>11</td>\n",
              "      <td>6</td>\n",
              "      <td>9</td>\n",
              "      <td>3</td>\n",
              "      <td>13</td>\n",
              "      <td>19</td>\n",
              "    </tr>\n",
              "    <tr>\n",
              "      <th>14</th>\n",
              "      <td>14</td>\n",
              "      <td>7</td>\n",
              "      <td>15</td>\n",
              "      <td>8</td>\n",
              "      <td>13</td>\n",
              "      <td>12</td>\n",
              "      <td>4</td>\n",
              "    </tr>\n",
              "    <tr>\n",
              "      <th>15</th>\n",
              "      <td>17</td>\n",
              "      <td>2</td>\n",
              "      <td>1</td>\n",
              "      <td>7</td>\n",
              "      <td>9</td>\n",
              "      <td>14</td>\n",
              "      <td>6</td>\n",
              "    </tr>\n",
              "    <tr>\n",
              "      <th>17</th>\n",
              "      <td>11</td>\n",
              "      <td>6</td>\n",
              "      <td>15</td>\n",
              "      <td>13</td>\n",
              "      <td>6</td>\n",
              "      <td>6</td>\n",
              "      <td>19</td>\n",
              "    </tr>\n",
              "  </tbody>\n",
              "</table>\n",
              "</div>"
            ],
            "text/plain": [
              "     A   B   C   D   E   F   G\n",
              "4   18   5  11  12   3  18  10\n",
              "5   13   5  16  19   7  11   5\n",
              "7   14  15  18   7  17   9  14\n",
              "8   16  15   7  18   3  11  18\n",
              "9   11  14   5  12  18  19  19\n",
              "10  15  14  13  10   7  14  16\n",
              "11  12   9  12   5   2  17  11\n",
              "12  16  12  12   5  17   6   3\n",
              "13  19  11   6   9   3  13  19\n",
              "14  14   7  15   8  13  12   4\n",
              "15  17   2   1   7   9  14   6\n",
              "17  11   6  15  13   6   6  19"
            ]
          },
          "metadata": {
            "tags": []
          },
          "execution_count": 68
        }
      ]
    },
    {
      "cell_type": "markdown",
      "metadata": {
        "id": "uz_yoIBNJOph"
      },
      "source": [
        "## Trick 43 : Create one row for each item in a list (explode) !!!duplicated Trick 47!!!"
      ]
    },
    {
      "cell_type": "code",
      "metadata": {
        "colab": {
          "base_uri": "https://localhost:8080/",
          "height": 124
        },
        "id": "_pIcvyffJfkV",
        "outputId": "80191ca7-4c53-4499-e364-5b5446bd379c"
      },
      "source": [
        "# It seems that this trick is duplicated, skip to the next one\r\n",
        "# I decided to keep in, so in the future there will be no confusion if you consult the original material\r\n",
        "# and this kernel\r\n",
        "\r\n",
        "d = {\"Team\":[\"FC Barcelona\", \"FC Real Madrid\"], \r\n",
        "    \"Players\":[[\"Ter Stegen\", \"Semedo\", \"Piqué\", \"Lenglet\", \"Alba\", \"Rakitic\", \"De Jong\", \"Sergi Roberto\", \"Messi\", \"Suárez\", \"Griezmann\"], \\\r\n",
        "               [\"Courtois\", \"Carvajal\", \"Varane\", \"Sergio Ramos\", \"Mendy\", \"Kroos\", \"Valverde\", \"Casemiro\", \"Isco\", \"Benzema\", \"Bale\"]]}\r\n",
        "\r\n",
        "print(\"Notice that we have a list of players for each team. Let's generate a row for each player.\")\r\n",
        "df = pd.DataFrame(d)\r\n",
        "df"
      ],
      "execution_count": 69,
      "outputs": [
        {
          "output_type": "stream",
          "text": [
            "Notice that we have a list of players for each team. Let's generate a row for each player.\n"
          ],
          "name": "stdout"
        },
        {
          "output_type": "execute_result",
          "data": {
            "text/html": [
              "<div>\n",
              "<style scoped>\n",
              "    .dataframe tbody tr th:only-of-type {\n",
              "        vertical-align: middle;\n",
              "    }\n",
              "\n",
              "    .dataframe tbody tr th {\n",
              "        vertical-align: top;\n",
              "    }\n",
              "\n",
              "    .dataframe thead th {\n",
              "        text-align: right;\n",
              "    }\n",
              "</style>\n",
              "<table border=\"1\" class=\"dataframe\">\n",
              "  <thead>\n",
              "    <tr style=\"text-align: right;\">\n",
              "      <th></th>\n",
              "      <th>Team</th>\n",
              "      <th>Players</th>\n",
              "    </tr>\n",
              "  </thead>\n",
              "  <tbody>\n",
              "    <tr>\n",
              "      <th>0</th>\n",
              "      <td>FC Barcelona</td>\n",
              "      <td>[Ter Stegen, Semedo, Piqué, Lenglet, Alba, Rak...</td>\n",
              "    </tr>\n",
              "    <tr>\n",
              "      <th>1</th>\n",
              "      <td>FC Real Madrid</td>\n",
              "      <td>[Courtois, Carvajal, Varane, Sergio Ramos, Men...</td>\n",
              "    </tr>\n",
              "  </tbody>\n",
              "</table>\n",
              "</div>"
            ],
            "text/plain": [
              "             Team                                            Players\n",
              "0    FC Barcelona  [Ter Stegen, Semedo, Piqué, Lenglet, Alba, Rak...\n",
              "1  FC Real Madrid  [Courtois, Carvajal, Varane, Sergio Ramos, Men..."
            ]
          },
          "metadata": {
            "tags": []
          },
          "execution_count": 69
        }
      ]
    },
    {
      "cell_type": "code",
      "metadata": {
        "colab": {
          "base_uri": "https://localhost:8080/",
          "height": 716
        },
        "id": "koyGhMiHRrPv",
        "outputId": "95ddae42-4fea-4e4e-d4e7-d12f7678b22a"
      },
      "source": [
        "print(\"Using explode to generate new rows for each player.\")\r\n",
        "df1 = df.explode(\"Players\")\r\n",
        "df1"
      ],
      "execution_count": 70,
      "outputs": [
        {
          "output_type": "stream",
          "text": [
            "Using explode to generate new rows for each player.\n"
          ],
          "name": "stdout"
        },
        {
          "output_type": "execute_result",
          "data": {
            "text/html": [
              "<div>\n",
              "<style scoped>\n",
              "    .dataframe tbody tr th:only-of-type {\n",
              "        vertical-align: middle;\n",
              "    }\n",
              "\n",
              "    .dataframe tbody tr th {\n",
              "        vertical-align: top;\n",
              "    }\n",
              "\n",
              "    .dataframe thead th {\n",
              "        text-align: right;\n",
              "    }\n",
              "</style>\n",
              "<table border=\"1\" class=\"dataframe\">\n",
              "  <thead>\n",
              "    <tr style=\"text-align: right;\">\n",
              "      <th></th>\n",
              "      <th>Team</th>\n",
              "      <th>Players</th>\n",
              "    </tr>\n",
              "  </thead>\n",
              "  <tbody>\n",
              "    <tr>\n",
              "      <th>0</th>\n",
              "      <td>FC Barcelona</td>\n",
              "      <td>Ter Stegen</td>\n",
              "    </tr>\n",
              "    <tr>\n",
              "      <th>0</th>\n",
              "      <td>FC Barcelona</td>\n",
              "      <td>Semedo</td>\n",
              "    </tr>\n",
              "    <tr>\n",
              "      <th>0</th>\n",
              "      <td>FC Barcelona</td>\n",
              "      <td>Piqué</td>\n",
              "    </tr>\n",
              "    <tr>\n",
              "      <th>0</th>\n",
              "      <td>FC Barcelona</td>\n",
              "      <td>Lenglet</td>\n",
              "    </tr>\n",
              "    <tr>\n",
              "      <th>0</th>\n",
              "      <td>FC Barcelona</td>\n",
              "      <td>Alba</td>\n",
              "    </tr>\n",
              "    <tr>\n",
              "      <th>0</th>\n",
              "      <td>FC Barcelona</td>\n",
              "      <td>Rakitic</td>\n",
              "    </tr>\n",
              "    <tr>\n",
              "      <th>0</th>\n",
              "      <td>FC Barcelona</td>\n",
              "      <td>De Jong</td>\n",
              "    </tr>\n",
              "    <tr>\n",
              "      <th>0</th>\n",
              "      <td>FC Barcelona</td>\n",
              "      <td>Sergi Roberto</td>\n",
              "    </tr>\n",
              "    <tr>\n",
              "      <th>0</th>\n",
              "      <td>FC Barcelona</td>\n",
              "      <td>Messi</td>\n",
              "    </tr>\n",
              "    <tr>\n",
              "      <th>0</th>\n",
              "      <td>FC Barcelona</td>\n",
              "      <td>Suárez</td>\n",
              "    </tr>\n",
              "    <tr>\n",
              "      <th>0</th>\n",
              "      <td>FC Barcelona</td>\n",
              "      <td>Griezmann</td>\n",
              "    </tr>\n",
              "    <tr>\n",
              "      <th>1</th>\n",
              "      <td>FC Real Madrid</td>\n",
              "      <td>Courtois</td>\n",
              "    </tr>\n",
              "    <tr>\n",
              "      <th>1</th>\n",
              "      <td>FC Real Madrid</td>\n",
              "      <td>Carvajal</td>\n",
              "    </tr>\n",
              "    <tr>\n",
              "      <th>1</th>\n",
              "      <td>FC Real Madrid</td>\n",
              "      <td>Varane</td>\n",
              "    </tr>\n",
              "    <tr>\n",
              "      <th>1</th>\n",
              "      <td>FC Real Madrid</td>\n",
              "      <td>Sergio Ramos</td>\n",
              "    </tr>\n",
              "    <tr>\n",
              "      <th>1</th>\n",
              "      <td>FC Real Madrid</td>\n",
              "      <td>Mendy</td>\n",
              "    </tr>\n",
              "    <tr>\n",
              "      <th>1</th>\n",
              "      <td>FC Real Madrid</td>\n",
              "      <td>Kroos</td>\n",
              "    </tr>\n",
              "    <tr>\n",
              "      <th>1</th>\n",
              "      <td>FC Real Madrid</td>\n",
              "      <td>Valverde</td>\n",
              "    </tr>\n",
              "    <tr>\n",
              "      <th>1</th>\n",
              "      <td>FC Real Madrid</td>\n",
              "      <td>Casemiro</td>\n",
              "    </tr>\n",
              "    <tr>\n",
              "      <th>1</th>\n",
              "      <td>FC Real Madrid</td>\n",
              "      <td>Isco</td>\n",
              "    </tr>\n",
              "    <tr>\n",
              "      <th>1</th>\n",
              "      <td>FC Real Madrid</td>\n",
              "      <td>Benzema</td>\n",
              "    </tr>\n",
              "    <tr>\n",
              "      <th>1</th>\n",
              "      <td>FC Real Madrid</td>\n",
              "      <td>Bale</td>\n",
              "    </tr>\n",
              "  </tbody>\n",
              "</table>\n",
              "</div>"
            ],
            "text/plain": [
              "             Team        Players\n",
              "0    FC Barcelona     Ter Stegen\n",
              "0    FC Barcelona         Semedo\n",
              "0    FC Barcelona          Piqué\n",
              "0    FC Barcelona        Lenglet\n",
              "0    FC Barcelona           Alba\n",
              "0    FC Barcelona        Rakitic\n",
              "0    FC Barcelona        De Jong\n",
              "0    FC Barcelona  Sergi Roberto\n",
              "0    FC Barcelona          Messi\n",
              "0    FC Barcelona         Suárez\n",
              "0    FC Barcelona      Griezmann\n",
              "1  FC Real Madrid       Courtois\n",
              "1  FC Real Madrid       Carvajal\n",
              "1  FC Real Madrid         Varane\n",
              "1  FC Real Madrid   Sergio Ramos\n",
              "1  FC Real Madrid          Mendy\n",
              "1  FC Real Madrid          Kroos\n",
              "1  FC Real Madrid       Valverde\n",
              "1  FC Real Madrid       Casemiro\n",
              "1  FC Real Madrid           Isco\n",
              "1  FC Real Madrid        Benzema\n",
              "1  FC Real Madrid           Bale"
            ]
          },
          "metadata": {
            "tags": []
          },
          "execution_count": 70
        }
      ]
    },
    {
      "cell_type": "code",
      "metadata": {
        "colab": {
          "base_uri": "https://localhost:8080/",
          "height": 124
        },
        "id": "QbxB4NrJRt3Q",
        "outputId": "4faf32c6-b20c-40d1-80b0-9ad9b67078a2"
      },
      "source": [
        "print(\"Reverse this operation with groupby and agg\")\r\n",
        "df[\"Imploded\"] = df1.groupby(df1.index)[\"Players\"].agg(list)\r\n",
        "df"
      ],
      "execution_count": 71,
      "outputs": [
        {
          "output_type": "stream",
          "text": [
            "Reverse this operation with groupby and agg\n"
          ],
          "name": "stdout"
        },
        {
          "output_type": "execute_result",
          "data": {
            "text/html": [
              "<div>\n",
              "<style scoped>\n",
              "    .dataframe tbody tr th:only-of-type {\n",
              "        vertical-align: middle;\n",
              "    }\n",
              "\n",
              "    .dataframe tbody tr th {\n",
              "        vertical-align: top;\n",
              "    }\n",
              "\n",
              "    .dataframe thead th {\n",
              "        text-align: right;\n",
              "    }\n",
              "</style>\n",
              "<table border=\"1\" class=\"dataframe\">\n",
              "  <thead>\n",
              "    <tr style=\"text-align: right;\">\n",
              "      <th></th>\n",
              "      <th>Team</th>\n",
              "      <th>Players</th>\n",
              "      <th>Imploded</th>\n",
              "    </tr>\n",
              "  </thead>\n",
              "  <tbody>\n",
              "    <tr>\n",
              "      <th>0</th>\n",
              "      <td>FC Barcelona</td>\n",
              "      <td>[Ter Stegen, Semedo, Piqué, Lenglet, Alba, Rak...</td>\n",
              "      <td>[Ter Stegen, Semedo, Piqué, Lenglet, Alba, Rak...</td>\n",
              "    </tr>\n",
              "    <tr>\n",
              "      <th>1</th>\n",
              "      <td>FC Real Madrid</td>\n",
              "      <td>[Courtois, Carvajal, Varane, Sergio Ramos, Men...</td>\n",
              "      <td>[Courtois, Carvajal, Varane, Sergio Ramos, Men...</td>\n",
              "    </tr>\n",
              "  </tbody>\n",
              "</table>\n",
              "</div>"
            ],
            "text/plain": [
              "             Team  ...                                           Imploded\n",
              "0    FC Barcelona  ...  [Ter Stegen, Semedo, Piqué, Lenglet, Alba, Rak...\n",
              "1  FC Real Madrid  ...  [Courtois, Carvajal, Varane, Sergio Ramos, Men...\n",
              "\n",
              "[2 rows x 3 columns]"
            ]
          },
          "metadata": {
            "tags": []
          },
          "execution_count": 71
        }
      ]
    },
    {
      "cell_type": "markdown",
      "metadata": {
        "id": "wd-N-CsFRw6W"
      },
      "source": [
        "## Trick 42 : New aggregation function -> last()"
      ]
    },
    {
      "cell_type": "code",
      "metadata": {
        "colab": {
          "base_uri": "https://localhost:8080/",
          "height": 225
        },
        "id": "UdIatVLqR4Nv",
        "outputId": "5f2fec73-9765-41ec-f469-5d167bad25a1"
      },
      "source": [
        "d = {\"patient\":[1, 2, 3, 1, 1, 2], \"visit\":[2015, 2016, 2014, 2016, 2017, 2020]}\r\n",
        "df = pd.DataFrame(d)\r\n",
        "df.sort_values(\"visit\")"
      ],
      "execution_count": 72,
      "outputs": [
        {
          "output_type": "execute_result",
          "data": {
            "text/html": [
              "<div>\n",
              "<style scoped>\n",
              "    .dataframe tbody tr th:only-of-type {\n",
              "        vertical-align: middle;\n",
              "    }\n",
              "\n",
              "    .dataframe tbody tr th {\n",
              "        vertical-align: top;\n",
              "    }\n",
              "\n",
              "    .dataframe thead th {\n",
              "        text-align: right;\n",
              "    }\n",
              "</style>\n",
              "<table border=\"1\" class=\"dataframe\">\n",
              "  <thead>\n",
              "    <tr style=\"text-align: right;\">\n",
              "      <th></th>\n",
              "      <th>patient</th>\n",
              "      <th>visit</th>\n",
              "    </tr>\n",
              "  </thead>\n",
              "  <tbody>\n",
              "    <tr>\n",
              "      <th>2</th>\n",
              "      <td>3</td>\n",
              "      <td>2014</td>\n",
              "    </tr>\n",
              "    <tr>\n",
              "      <th>0</th>\n",
              "      <td>1</td>\n",
              "      <td>2015</td>\n",
              "    </tr>\n",
              "    <tr>\n",
              "      <th>1</th>\n",
              "      <td>2</td>\n",
              "      <td>2016</td>\n",
              "    </tr>\n",
              "    <tr>\n",
              "      <th>3</th>\n",
              "      <td>1</td>\n",
              "      <td>2016</td>\n",
              "    </tr>\n",
              "    <tr>\n",
              "      <th>4</th>\n",
              "      <td>1</td>\n",
              "      <td>2017</td>\n",
              "    </tr>\n",
              "    <tr>\n",
              "      <th>5</th>\n",
              "      <td>2</td>\n",
              "      <td>2020</td>\n",
              "    </tr>\n",
              "  </tbody>\n",
              "</table>\n",
              "</div>"
            ],
            "text/plain": [
              "   patient  visit\n",
              "2        3   2014\n",
              "0        1   2015\n",
              "1        2   2016\n",
              "3        1   2016\n",
              "4        1   2017\n",
              "5        2   2020"
            ]
          },
          "metadata": {
            "tags": []
          },
          "execution_count": 72
        }
      ]
    },
    {
      "cell_type": "code",
      "metadata": {
        "colab": {
          "base_uri": "https://localhost:8080/"
        },
        "id": "ulWS5LsRR-Of",
        "outputId": "e0fa9714-dd84-460b-8ac7-585398bbb61c"
      },
      "source": [
        "df.groupby(\"patient\")[\"visit\"].last()"
      ],
      "execution_count": 75,
      "outputs": [
        {
          "output_type": "execute_result",
          "data": {
            "text/plain": [
              "patient\n",
              "1    2017\n",
              "2    2020\n",
              "3    2014\n",
              "Name: visit, dtype: int64"
            ]
          },
          "metadata": {
            "tags": []
          },
          "execution_count": 75
        }
      ]
    },
    {
      "cell_type": "code",
      "metadata": {
        "colab": {
          "base_uri": "https://localhost:8080/",
          "height": 183
        },
        "id": "hjL-69YnR6Iw",
        "outputId": "f7d3d06d-a2a0-4933-a1b9-3a9d7499bded"
      },
      "source": [
        "print(\"Let's get the last visit for each patient\")\r\n",
        "\r\n",
        "df.groupby(\"patient\")[\"visit\"].last().to_frame() # 사람별 마지막으로 방문한 년도"
      ],
      "execution_count": 74,
      "outputs": [
        {
          "output_type": "stream",
          "text": [
            "Let's get the last visit for each patient\n"
          ],
          "name": "stdout"
        },
        {
          "output_type": "execute_result",
          "data": {
            "text/html": [
              "<div>\n",
              "<style scoped>\n",
              "    .dataframe tbody tr th:only-of-type {\n",
              "        vertical-align: middle;\n",
              "    }\n",
              "\n",
              "    .dataframe tbody tr th {\n",
              "        vertical-align: top;\n",
              "    }\n",
              "\n",
              "    .dataframe thead th {\n",
              "        text-align: right;\n",
              "    }\n",
              "</style>\n",
              "<table border=\"1\" class=\"dataframe\">\n",
              "  <thead>\n",
              "    <tr style=\"text-align: right;\">\n",
              "      <th></th>\n",
              "      <th>visit</th>\n",
              "    </tr>\n",
              "    <tr>\n",
              "      <th>patient</th>\n",
              "      <th></th>\n",
              "    </tr>\n",
              "  </thead>\n",
              "  <tbody>\n",
              "    <tr>\n",
              "      <th>1</th>\n",
              "      <td>2017</td>\n",
              "    </tr>\n",
              "    <tr>\n",
              "      <th>2</th>\n",
              "      <td>2020</td>\n",
              "    </tr>\n",
              "    <tr>\n",
              "      <th>3</th>\n",
              "      <td>2014</td>\n",
              "    </tr>\n",
              "  </tbody>\n",
              "</table>\n",
              "</div>"
            ],
            "text/plain": [
              "         visit\n",
              "patient       \n",
              "1         2017\n",
              "2         2020\n",
              "3         2014"
            ]
          },
          "metadata": {
            "tags": []
          },
          "execution_count": 74
        }
      ]
    },
    {
      "cell_type": "markdown",
      "metadata": {
        "id": "mXu8Vq8xSJLp"
      },
      "source": [
        "## Trick 41 : Ordered categories (from pandas.api.types import CategoricalDtype)  \r\n",
        "\r\n",
        "범주에 순서를 부여"
      ]
    },
    {
      "cell_type": "code",
      "metadata": {
        "colab": {
          "base_uri": "https://localhost:8080/",
          "height": 166
        },
        "id": "ohVALmCcSSRK",
        "outputId": "ac725fef-7751-4462-b22d-248ec8b06cfd"
      },
      "source": [
        "import pandas as pd\r\n",
        "from pandas.api.types import CategoricalDtype\r\n",
        "\r\n",
        "d = {\"ID\":[100, 101, 102, 103], \"quality\":[\"bad\", \"very good\", \"good\", \"excellent\"]}\r\n",
        "df = pd.DataFrame(d)\r\n",
        "df"
      ],
      "execution_count": 76,
      "outputs": [
        {
          "output_type": "execute_result",
          "data": {
            "text/html": [
              "<div>\n",
              "<style scoped>\n",
              "    .dataframe tbody tr th:only-of-type {\n",
              "        vertical-align: middle;\n",
              "    }\n",
              "\n",
              "    .dataframe tbody tr th {\n",
              "        vertical-align: top;\n",
              "    }\n",
              "\n",
              "    .dataframe thead th {\n",
              "        text-align: right;\n",
              "    }\n",
              "</style>\n",
              "<table border=\"1\" class=\"dataframe\">\n",
              "  <thead>\n",
              "    <tr style=\"text-align: right;\">\n",
              "      <th></th>\n",
              "      <th>ID</th>\n",
              "      <th>quality</th>\n",
              "    </tr>\n",
              "  </thead>\n",
              "  <tbody>\n",
              "    <tr>\n",
              "      <th>0</th>\n",
              "      <td>100</td>\n",
              "      <td>bad</td>\n",
              "    </tr>\n",
              "    <tr>\n",
              "      <th>1</th>\n",
              "      <td>101</td>\n",
              "      <td>very good</td>\n",
              "    </tr>\n",
              "    <tr>\n",
              "      <th>2</th>\n",
              "      <td>102</td>\n",
              "      <td>good</td>\n",
              "    </tr>\n",
              "    <tr>\n",
              "      <th>3</th>\n",
              "      <td>103</td>\n",
              "      <td>excellent</td>\n",
              "    </tr>\n",
              "  </tbody>\n",
              "</table>\n",
              "</div>"
            ],
            "text/plain": [
              "    ID    quality\n",
              "0  100        bad\n",
              "1  101  very good\n",
              "2  102       good\n",
              "3  103  excellent"
            ]
          },
          "metadata": {
            "tags": []
          },
          "execution_count": 76
        }
      ]
    },
    {
      "cell_type": "code",
      "metadata": {
        "colab": {
          "base_uri": "https://localhost:8080/",
          "height": 201
        },
        "id": "_Sa78d05SVqi",
        "outputId": "a04061e3-477b-4c88-e030-5c8c2721dc06"
      },
      "source": [
        "print(\"Let's create our own categorical order.\")\r\n",
        "\r\n",
        "cat_type = CategoricalDtype([\"bad\", \"good\", \"very good\", \"excellent\"], ordered = True)\r\n",
        "df[\"quality\"] = df[\"quality\"].astype(cat_type)\r\n",
        "\r\n",
        "cat_type\r\n",
        "df"
      ],
      "execution_count": 79,
      "outputs": [
        {
          "output_type": "stream",
          "text": [
            "Let's create our own categorical order.\n"
          ],
          "name": "stdout"
        },
        {
          "output_type": "execute_result",
          "data": {
            "text/plain": [
              "CategoricalDtype(categories=['bad', 'good', 'very good', 'excellent'], ordered=True)"
            ]
          },
          "metadata": {
            "tags": []
          },
          "execution_count": 79
        },
        {
          "output_type": "execute_result",
          "data": {
            "text/html": [
              "<div>\n",
              "<style scoped>\n",
              "    .dataframe tbody tr th:only-of-type {\n",
              "        vertical-align: middle;\n",
              "    }\n",
              "\n",
              "    .dataframe tbody tr th {\n",
              "        vertical-align: top;\n",
              "    }\n",
              "\n",
              "    .dataframe thead th {\n",
              "        text-align: right;\n",
              "    }\n",
              "</style>\n",
              "<table border=\"1\" class=\"dataframe\">\n",
              "  <thead>\n",
              "    <tr style=\"text-align: right;\">\n",
              "      <th></th>\n",
              "      <th>ID</th>\n",
              "      <th>quality</th>\n",
              "    </tr>\n",
              "  </thead>\n",
              "  <tbody>\n",
              "    <tr>\n",
              "      <th>0</th>\n",
              "      <td>100</td>\n",
              "      <td>bad</td>\n",
              "    </tr>\n",
              "    <tr>\n",
              "      <th>1</th>\n",
              "      <td>101</td>\n",
              "      <td>very good</td>\n",
              "    </tr>\n",
              "    <tr>\n",
              "      <th>2</th>\n",
              "      <td>102</td>\n",
              "      <td>good</td>\n",
              "    </tr>\n",
              "    <tr>\n",
              "      <th>3</th>\n",
              "      <td>103</td>\n",
              "      <td>excellent</td>\n",
              "    </tr>\n",
              "  </tbody>\n",
              "</table>\n",
              "</div>"
            ],
            "text/plain": [
              "    ID    quality\n",
              "0  100        bad\n",
              "1  101  very good\n",
              "2  102       good\n",
              "3  103  excellent"
            ]
          },
          "metadata": {
            "tags": []
          },
          "execution_count": 79
        }
      ]
    },
    {
      "cell_type": "code",
      "metadata": {
        "colab": {
          "base_uri": "https://localhost:8080/",
          "height": 183
        },
        "id": "JfM1FCbcSeei",
        "outputId": "afa20f38-c7f9-4381-d86f-c7d692aa1521"
      },
      "source": [
        "print(\"Now we can use logical sorting.\")\r\n",
        "df = df.sort_values(\"quality\", ascending = True)\r\n",
        "df"
      ],
      "execution_count": 80,
      "outputs": [
        {
          "output_type": "stream",
          "text": [
            "Now we can use logical sorting.\n"
          ],
          "name": "stdout"
        },
        {
          "output_type": "execute_result",
          "data": {
            "text/html": [
              "<div>\n",
              "<style scoped>\n",
              "    .dataframe tbody tr th:only-of-type {\n",
              "        vertical-align: middle;\n",
              "    }\n",
              "\n",
              "    .dataframe tbody tr th {\n",
              "        vertical-align: top;\n",
              "    }\n",
              "\n",
              "    .dataframe thead th {\n",
              "        text-align: right;\n",
              "    }\n",
              "</style>\n",
              "<table border=\"1\" class=\"dataframe\">\n",
              "  <thead>\n",
              "    <tr style=\"text-align: right;\">\n",
              "      <th></th>\n",
              "      <th>ID</th>\n",
              "      <th>quality</th>\n",
              "    </tr>\n",
              "  </thead>\n",
              "  <tbody>\n",
              "    <tr>\n",
              "      <th>0</th>\n",
              "      <td>100</td>\n",
              "      <td>bad</td>\n",
              "    </tr>\n",
              "    <tr>\n",
              "      <th>2</th>\n",
              "      <td>102</td>\n",
              "      <td>good</td>\n",
              "    </tr>\n",
              "    <tr>\n",
              "      <th>1</th>\n",
              "      <td>101</td>\n",
              "      <td>very good</td>\n",
              "    </tr>\n",
              "    <tr>\n",
              "      <th>3</th>\n",
              "      <td>103</td>\n",
              "      <td>excellent</td>\n",
              "    </tr>\n",
              "  </tbody>\n",
              "</table>\n",
              "</div>"
            ],
            "text/plain": [
              "    ID    quality\n",
              "0  100        bad\n",
              "2  102       good\n",
              "1  101  very good\n",
              "3  103  excellent"
            ]
          },
          "metadata": {
            "tags": []
          },
          "execution_count": 80
        }
      ]
    },
    {
      "cell_type": "code",
      "metadata": {
        "colab": {
          "base_uri": "https://localhost:8080/",
          "height": 154
        },
        "id": "wp8MReOaSm-_",
        "outputId": "d89f7b60-17bd-4451-e877-40be0a6f6d45"
      },
      "source": [
        "print(\"We can also filter this as if they are numbers. AMAZING.\")\r\n",
        "df[df[\"quality\"] > \"bad\"]"
      ],
      "execution_count": 81,
      "outputs": [
        {
          "output_type": "stream",
          "text": [
            "We can also filter this as if they are numbers. AMAZING.\n"
          ],
          "name": "stdout"
        },
        {
          "output_type": "execute_result",
          "data": {
            "text/html": [
              "<div>\n",
              "<style scoped>\n",
              "    .dataframe tbody tr th:only-of-type {\n",
              "        vertical-align: middle;\n",
              "    }\n",
              "\n",
              "    .dataframe tbody tr th {\n",
              "        vertical-align: top;\n",
              "    }\n",
              "\n",
              "    .dataframe thead th {\n",
              "        text-align: right;\n",
              "    }\n",
              "</style>\n",
              "<table border=\"1\" class=\"dataframe\">\n",
              "  <thead>\n",
              "    <tr style=\"text-align: right;\">\n",
              "      <th></th>\n",
              "      <th>ID</th>\n",
              "      <th>quality</th>\n",
              "    </tr>\n",
              "  </thead>\n",
              "  <tbody>\n",
              "    <tr>\n",
              "      <th>2</th>\n",
              "      <td>102</td>\n",
              "      <td>good</td>\n",
              "    </tr>\n",
              "    <tr>\n",
              "      <th>1</th>\n",
              "      <td>101</td>\n",
              "      <td>very good</td>\n",
              "    </tr>\n",
              "    <tr>\n",
              "      <th>3</th>\n",
              "      <td>103</td>\n",
              "      <td>excellent</td>\n",
              "    </tr>\n",
              "  </tbody>\n",
              "</table>\n",
              "</div>"
            ],
            "text/plain": [
              "    ID    quality\n",
              "2  102       good\n",
              "1  101  very good\n",
              "3  103  excellent"
            ]
          },
          "metadata": {
            "tags": []
          },
          "execution_count": 81
        }
      ]
    },
    {
      "cell_type": "code",
      "metadata": {
        "id": "Oy4lOeBGSpaT"
      },
      "source": [
        ""
      ],
      "execution_count": null,
      "outputs": []
    }
  ]
}